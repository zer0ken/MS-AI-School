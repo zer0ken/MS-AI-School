{
 "cells": [
  {
   "cell_type": "markdown",
   "metadata": {},
   "source": [
    "<h1><img width=\"30\" src=\"../resources/gradio-icon.png\"> Iris Gradio</h1>"
   ]
  },
  {
   "cell_type": "markdown",
   "metadata": {},
   "source": [
    "### 📥 Importing"
   ]
  },
  {
   "cell_type": "code",
   "execution_count": 49,
   "metadata": {},
   "outputs": [
    {
     "name": "stdout",
     "output_type": "stream",
     "text": [
      "Requirement already satisfied: gradio in g:\\zer0ken\\ms-ai-school\\.venv\\lib\\site-packages (5.15.0)\n",
      "Requirement already satisfied: aiofiles<24.0,>=22.0 in g:\\zer0ken\\ms-ai-school\\.venv\\lib\\site-packages (from gradio) (23.2.1)\n",
      "Requirement already satisfied: anyio<5.0,>=3.0 in g:\\zer0ken\\ms-ai-school\\.venv\\lib\\site-packages (from gradio) (4.8.0)\n",
      "Requirement already satisfied: fastapi<1.0,>=0.115.2 in g:\\zer0ken\\ms-ai-school\\.venv\\lib\\site-packages (from gradio) (0.115.8)\n",
      "Requirement already satisfied: ffmpy in g:\\zer0ken\\ms-ai-school\\.venv\\lib\\site-packages (from gradio) (0.5.0)\n",
      "Requirement already satisfied: gradio-client==1.7.0 in g:\\zer0ken\\ms-ai-school\\.venv\\lib\\site-packages (from gradio) (1.7.0)\n",
      "Requirement already satisfied: httpx>=0.24.1 in g:\\zer0ken\\ms-ai-school\\.venv\\lib\\site-packages (from gradio) (0.28.1)\n",
      "Requirement already satisfied: huggingface-hub>=0.28.1 in g:\\zer0ken\\ms-ai-school\\.venv\\lib\\site-packages (from gradio) (0.28.1)\n",
      "Requirement already satisfied: jinja2<4.0 in g:\\zer0ken\\ms-ai-school\\.venv\\lib\\site-packages (from gradio) (3.1.5)\n",
      "Requirement already satisfied: markupsafe~=2.0 in g:\\zer0ken\\ms-ai-school\\.venv\\lib\\site-packages (from gradio) (2.1.5)\n",
      "Requirement already satisfied: numpy<3.0,>=1.0 in g:\\zer0ken\\ms-ai-school\\.venv\\lib\\site-packages (from gradio) (2.2.2)\n",
      "Requirement already satisfied: orjson~=3.0 in g:\\zer0ken\\ms-ai-school\\.venv\\lib\\site-packages (from gradio) (3.10.15)\n",
      "Requirement already satisfied: packaging in g:\\zer0ken\\ms-ai-school\\.venv\\lib\\site-packages (from gradio) (24.2)\n",
      "Requirement already satisfied: pandas<3.0,>=1.0 in g:\\zer0ken\\ms-ai-school\\.venv\\lib\\site-packages (from gradio) (2.2.3)\n",
      "Requirement already satisfied: pillow<12.0,>=8.0 in g:\\zer0ken\\ms-ai-school\\.venv\\lib\\site-packages (from gradio) (11.1.0)\n",
      "Requirement already satisfied: pydantic>=2.0 in g:\\zer0ken\\ms-ai-school\\.venv\\lib\\site-packages (from gradio) (2.10.6)\n",
      "Requirement already satisfied: pydub in g:\\zer0ken\\ms-ai-school\\.venv\\lib\\site-packages (from gradio) (0.25.1)\n",
      "Requirement already satisfied: python-multipart>=0.0.18 in g:\\zer0ken\\ms-ai-school\\.venv\\lib\\site-packages (from gradio) (0.0.20)\n",
      "Requirement already satisfied: pyyaml<7.0,>=5.0 in g:\\zer0ken\\ms-ai-school\\.venv\\lib\\site-packages (from gradio) (6.0.2)\n",
      "Requirement already satisfied: ruff>=0.9.3 in g:\\zer0ken\\ms-ai-school\\.venv\\lib\\site-packages (from gradio) (0.9.6)\n",
      "Requirement already satisfied: safehttpx<0.2.0,>=0.1.6 in g:\\zer0ken\\ms-ai-school\\.venv\\lib\\site-packages (from gradio) (0.1.6)\n",
      "Requirement already satisfied: semantic-version~=2.0 in g:\\zer0ken\\ms-ai-school\\.venv\\lib\\site-packages (from gradio) (2.10.0)\n",
      "Requirement already satisfied: starlette<1.0,>=0.40.0 in g:\\zer0ken\\ms-ai-school\\.venv\\lib\\site-packages (from gradio) (0.45.3)\n",
      "Requirement already satisfied: tomlkit<0.14.0,>=0.12.0 in g:\\zer0ken\\ms-ai-school\\.venv\\lib\\site-packages (from gradio) (0.13.2)\n",
      "Requirement already satisfied: typer<1.0,>=0.12 in g:\\zer0ken\\ms-ai-school\\.venv\\lib\\site-packages (from gradio) (0.15.1)\n",
      "Requirement already satisfied: typing-extensions~=4.0 in g:\\zer0ken\\ms-ai-school\\.venv\\lib\\site-packages (from gradio) (4.12.2)\n",
      "Requirement already satisfied: uvicorn>=0.14.0 in g:\\zer0ken\\ms-ai-school\\.venv\\lib\\site-packages (from gradio) (0.34.0)\n",
      "Requirement already satisfied: fsspec in g:\\zer0ken\\ms-ai-school\\.venv\\lib\\site-packages (from gradio-client==1.7.0->gradio) (2025.2.0)\n",
      "Requirement already satisfied: websockets<15.0,>=10.0 in g:\\zer0ken\\ms-ai-school\\.venv\\lib\\site-packages (from gradio-client==1.7.0->gradio) (14.2)\n",
      "Requirement already satisfied: idna>=2.8 in g:\\zer0ken\\ms-ai-school\\.venv\\lib\\site-packages (from anyio<5.0,>=3.0->gradio) (3.10)\n",
      "Requirement already satisfied: sniffio>=1.1 in g:\\zer0ken\\ms-ai-school\\.venv\\lib\\site-packages (from anyio<5.0,>=3.0->gradio) (1.3.1)\n",
      "Requirement already satisfied: certifi in g:\\zer0ken\\ms-ai-school\\.venv\\lib\\site-packages (from httpx>=0.24.1->gradio) (2025.1.31)\n",
      "Requirement already satisfied: httpcore==1.* in g:\\zer0ken\\ms-ai-school\\.venv\\lib\\site-packages (from httpx>=0.24.1->gradio) (1.0.7)\n",
      "Requirement already satisfied: h11<0.15,>=0.13 in g:\\zer0ken\\ms-ai-school\\.venv\\lib\\site-packages (from httpcore==1.*->httpx>=0.24.1->gradio) (0.14.0)\n",
      "Requirement already satisfied: filelock in g:\\zer0ken\\ms-ai-school\\.venv\\lib\\site-packages (from huggingface-hub>=0.28.1->gradio) (3.17.0)\n",
      "Requirement already satisfied: requests in g:\\zer0ken\\ms-ai-school\\.venv\\lib\\site-packages (from huggingface-hub>=0.28.1->gradio) (2.32.3)\n",
      "Requirement already satisfied: tqdm>=4.42.1 in g:\\zer0ken\\ms-ai-school\\.venv\\lib\\site-packages (from huggingface-hub>=0.28.1->gradio) (4.67.1)\n",
      "Requirement already satisfied: python-dateutil>=2.8.2 in g:\\zer0ken\\ms-ai-school\\.venv\\lib\\site-packages (from pandas<3.0,>=1.0->gradio) (2.9.0.post0)\n",
      "Requirement already satisfied: pytz>=2020.1 in g:\\zer0ken\\ms-ai-school\\.venv\\lib\\site-packages (from pandas<3.0,>=1.0->gradio) (2025.1)\n",
      "Requirement already satisfied: tzdata>=2022.7 in g:\\zer0ken\\ms-ai-school\\.venv\\lib\\site-packages (from pandas<3.0,>=1.0->gradio) (2025.1)\n",
      "Requirement already satisfied: annotated-types>=0.6.0 in g:\\zer0ken\\ms-ai-school\\.venv\\lib\\site-packages (from pydantic>=2.0->gradio) (0.7.0)\n",
      "Requirement already satisfied: pydantic-core==2.27.2 in g:\\zer0ken\\ms-ai-school\\.venv\\lib\\site-packages (from pydantic>=2.0->gradio) (2.27.2)\n",
      "Requirement already satisfied: click>=8.0.0 in g:\\zer0ken\\ms-ai-school\\.venv\\lib\\site-packages (from typer<1.0,>=0.12->gradio) (8.1.8)\n",
      "Requirement already satisfied: shellingham>=1.3.0 in g:\\zer0ken\\ms-ai-school\\.venv\\lib\\site-packages (from typer<1.0,>=0.12->gradio) (1.5.4)\n",
      "Requirement already satisfied: rich>=10.11.0 in g:\\zer0ken\\ms-ai-school\\.venv\\lib\\site-packages (from typer<1.0,>=0.12->gradio) (13.9.4)\n",
      "Requirement already satisfied: colorama in g:\\zer0ken\\ms-ai-school\\.venv\\lib\\site-packages (from click>=8.0.0->typer<1.0,>=0.12->gradio) (0.4.6)\n",
      "Requirement already satisfied: six>=1.5 in g:\\zer0ken\\ms-ai-school\\.venv\\lib\\site-packages (from python-dateutil>=2.8.2->pandas<3.0,>=1.0->gradio) (1.17.0)\n",
      "Requirement already satisfied: markdown-it-py>=2.2.0 in g:\\zer0ken\\ms-ai-school\\.venv\\lib\\site-packages (from rich>=10.11.0->typer<1.0,>=0.12->gradio) (3.0.0)\n",
      "Requirement already satisfied: pygments<3.0.0,>=2.13.0 in g:\\zer0ken\\ms-ai-school\\.venv\\lib\\site-packages (from rich>=10.11.0->typer<1.0,>=0.12->gradio) (2.19.1)\n",
      "Requirement already satisfied: charset-normalizer<4,>=2 in g:\\zer0ken\\ms-ai-school\\.venv\\lib\\site-packages (from requests->huggingface-hub>=0.28.1->gradio) (3.4.1)\n",
      "Requirement already satisfied: urllib3<3,>=1.21.1 in g:\\zer0ken\\ms-ai-school\\.venv\\lib\\site-packages (from requests->huggingface-hub>=0.28.1->gradio) (2.3.0)\n",
      "Requirement already satisfied: mdurl~=0.1 in g:\\zer0ken\\ms-ai-school\\.venv\\lib\\site-packages (from markdown-it-py>=2.2.0->rich>=10.11.0->typer<1.0,>=0.12->gradio) (0.1.2)\n"
     ]
    }
   ],
   "source": [
    "! pip install gradio"
   ]
  },
  {
   "cell_type": "code",
   "execution_count": 50,
   "metadata": {},
   "outputs": [],
   "source": [
    "import gradio as gr\n",
    "\n",
    "theme = gr.themes.Base(\n",
    "    primary_hue=\"violet\",\n",
    "    secondary_hue=\"teal\",\n",
    "    neutral_hue=\"slate\",\n",
    "    font_mono=[gr.themes.GoogleFont('JetBrains Mono'), 'ui-monospace', 'Consolas', 'monospace'],\n",
    ")\n",
    "\n",
    "set_darkmode = \"\"\"\n",
    "function refresh() {\n",
    "    const url = new URL(window.location);\n",
    "\n",
    "    if (url.searchParams.get('__theme') !== 'dark') {\n",
    "        url.searchParams.set('__theme', 'dark');\n",
    "        window.location.href = url.href;\n",
    "    }\n",
    "}\n",
    "\"\"\""
   ]
  },
  {
   "cell_type": "markdown",
   "metadata": {},
   "source": [
    "### 🖐️ 안녕, 세상아!"
   ]
  },
  {
   "cell_type": "code",
   "execution_count": 55,
   "metadata": {},
   "outputs": [],
   "source": [
    "def greet(name):\n",
    "    return f'환영합니다, {name}님!' if name else '👀'"
   ]
  },
  {
   "cell_type": "code",
   "execution_count": 56,
   "metadata": {},
   "outputs": [
    {
     "name": "stdout",
     "output_type": "stream",
     "text": [
      "* Running on local URL:  http://127.0.0.1:7896\n",
      "\n",
      "To create a public link, set `share=True` in `launch()`.\n"
     ]
    },
    {
     "data": {
      "text/html": [
       "<div><iframe src=\"http://127.0.0.1:7896/\" width=\"100%\" height=\"500\" allow=\"autoplay; camera; microphone; clipboard-read; clipboard-write;\" frameborder=\"0\" allowfullscreen></iframe></div>"
      ],
      "text/plain": [
       "<IPython.core.display.HTML object>"
      ]
     },
     "metadata": {},
     "output_type": "display_data"
    },
    {
     "data": {
      "text/plain": []
     },
     "execution_count": 56,
     "metadata": {},
     "output_type": "execute_result"
    }
   ],
   "source": [
    "demo = gr.Interface(fn=greet, inputs='text', outputs='text', theme=theme, js=set_darkmode)\n",
    "demo.launch()"
   ]
  },
  {
   "cell_type": "code",
   "execution_count": 58,
   "metadata": {},
   "outputs": [
    {
     "name": "stdout",
     "output_type": "stream",
     "text": [
      "* Running on local URL:  http://127.0.0.1:7898\n",
      "\n",
      "To create a public link, set `share=True` in `launch()`.\n"
     ]
    },
    {
     "data": {
      "text/html": [
       "<div><iframe src=\"http://127.0.0.1:7898/\" width=\"100%\" height=\"500\" allow=\"autoplay; camera; microphone; clipboard-read; clipboard-write;\" frameborder=\"0\" allowfullscreen></iframe></div>"
      ],
      "text/plain": [
       "<IPython.core.display.HTML object>"
      ]
     },
     "metadata": {},
     "output_type": "display_data"
    },
    {
     "data": {
      "text/plain": []
     },
     "execution_count": 58,
     "metadata": {},
     "output_type": "execute_result"
    }
   ],
   "source": [
    "with gr.Blocks(theme=theme, js=set_darkmode) as demo:\n",
    "    gr.Markdown('# 🖐️ Hello, World!')\n",
    "    \n",
    "    gr.Markdown('## 이름을 입력하고 버튼을 누르면...?')\n",
    "    with gr.Row():\n",
    "        input_textbox = gr.Textbox(label='📛 이름을 입력하세요.')\n",
    "        output_textbox = gr.Textbox(label='🖐️ 어서오세요!', interactive=False)\n",
    "    send_button = gr.Button('전송', variant='primary')\n",
    "    send_button.click(fn=greet, inputs=input_textbox, outputs=output_textbox)\n",
    "    \n",
    "    gr.Markdown('## 이번엔 이름을 입력하기만 해도?')\n",
    "    with gr.Row():\n",
    "        input_textbox = gr.Textbox(label='📛 이름을 입력하세요.')\n",
    "        output_textbox = gr.Textbox(label='🖐️ 어서오세요!', interactive=False)\n",
    "    input_textbox.change(fn=greet, inputs=input_textbox, outputs=output_textbox)\n",
    "    \n",
    "demo.launch()"
   ]
  }
 ],
 "metadata": {
  "kernelspec": {
   "display_name": ".venv",
   "language": "python",
   "name": "python3"
  },
  "language_info": {
   "codemirror_mode": {
    "name": "ipython",
    "version": 3
   },
   "file_extension": ".py",
   "mimetype": "text/x-python",
   "name": "python",
   "nbconvert_exporter": "python",
   "pygments_lexer": "ipython3",
   "version": "3.12.7"
  }
 },
 "nbformat": 4,
 "nbformat_minor": 2
}

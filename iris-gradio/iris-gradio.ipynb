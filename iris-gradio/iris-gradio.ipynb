{
 "cells": [
  {
   "cell_type": "markdown",
   "metadata": {},
   "source": [
    "<h1><img width='30' src='../resources/gradio-icon.png'> Iris Gradio</h1>"
   ]
  },
  {
   "cell_type": "markdown",
   "metadata": {},
   "source": [
    "## 📥 Importing"
   ]
  },
  {
   "cell_type": "code",
   "execution_count": 151,
   "metadata": {},
   "outputs": [
    {
     "name": "stdout",
     "output_type": "stream",
     "text": [
      "Requirement already satisfied: gradio in g:\\zer0ken\\ms-ai-school\\.venv\\lib\\site-packages (5.15.0)\n",
      "Requirement already satisfied: aiofiles<24.0,>=22.0 in g:\\zer0ken\\ms-ai-school\\.venv\\lib\\site-packages (from gradio) (23.2.1)\n",
      "Requirement already satisfied: anyio<5.0,>=3.0 in g:\\zer0ken\\ms-ai-school\\.venv\\lib\\site-packages (from gradio) (4.8.0)\n",
      "Requirement already satisfied: fastapi<1.0,>=0.115.2 in g:\\zer0ken\\ms-ai-school\\.venv\\lib\\site-packages (from gradio) (0.115.8)\n",
      "Requirement already satisfied: ffmpy in g:\\zer0ken\\ms-ai-school\\.venv\\lib\\site-packages (from gradio) (0.5.0)\n",
      "Requirement already satisfied: gradio-client==1.7.0 in g:\\zer0ken\\ms-ai-school\\.venv\\lib\\site-packages (from gradio) (1.7.0)\n",
      "Requirement already satisfied: httpx>=0.24.1 in g:\\zer0ken\\ms-ai-school\\.venv\\lib\\site-packages (from gradio) (0.28.1)\n",
      "Requirement already satisfied: huggingface-hub>=0.28.1 in g:\\zer0ken\\ms-ai-school\\.venv\\lib\\site-packages (from gradio) (0.28.1)\n",
      "Requirement already satisfied: jinja2<4.0 in g:\\zer0ken\\ms-ai-school\\.venv\\lib\\site-packages (from gradio) (3.1.5)\n",
      "Requirement already satisfied: markupsafe~=2.0 in g:\\zer0ken\\ms-ai-school\\.venv\\lib\\site-packages (from gradio) (2.1.5)\n",
      "Requirement already satisfied: numpy<3.0,>=1.0 in g:\\zer0ken\\ms-ai-school\\.venv\\lib\\site-packages (from gradio) (2.2.2)\n",
      "Requirement already satisfied: orjson~=3.0 in g:\\zer0ken\\ms-ai-school\\.venv\\lib\\site-packages (from gradio) (3.10.15)\n",
      "Requirement already satisfied: packaging in g:\\zer0ken\\ms-ai-school\\.venv\\lib\\site-packages (from gradio) (24.2)\n",
      "Requirement already satisfied: pandas<3.0,>=1.0 in g:\\zer0ken\\ms-ai-school\\.venv\\lib\\site-packages (from gradio) (2.2.3)\n",
      "Requirement already satisfied: pillow<12.0,>=8.0 in g:\\zer0ken\\ms-ai-school\\.venv\\lib\\site-packages (from gradio) (11.1.0)\n",
      "Requirement already satisfied: pydantic>=2.0 in g:\\zer0ken\\ms-ai-school\\.venv\\lib\\site-packages (from gradio) (2.10.6)\n",
      "Requirement already satisfied: pydub in g:\\zer0ken\\ms-ai-school\\.venv\\lib\\site-packages (from gradio) (0.25.1)\n",
      "Requirement already satisfied: python-multipart>=0.0.18 in g:\\zer0ken\\ms-ai-school\\.venv\\lib\\site-packages (from gradio) (0.0.20)\n",
      "Requirement already satisfied: pyyaml<7.0,>=5.0 in g:\\zer0ken\\ms-ai-school\\.venv\\lib\\site-packages (from gradio) (6.0.2)\n",
      "Requirement already satisfied: ruff>=0.9.3 in g:\\zer0ken\\ms-ai-school\\.venv\\lib\\site-packages (from gradio) (0.9.6)\n",
      "Requirement already satisfied: safehttpx<0.2.0,>=0.1.6 in g:\\zer0ken\\ms-ai-school\\.venv\\lib\\site-packages (from gradio) (0.1.6)\n",
      "Requirement already satisfied: semantic-version~=2.0 in g:\\zer0ken\\ms-ai-school\\.venv\\lib\\site-packages (from gradio) (2.10.0)\n",
      "Requirement already satisfied: starlette<1.0,>=0.40.0 in g:\\zer0ken\\ms-ai-school\\.venv\\lib\\site-packages (from gradio) (0.45.3)\n",
      "Requirement already satisfied: tomlkit<0.14.0,>=0.12.0 in g:\\zer0ken\\ms-ai-school\\.venv\\lib\\site-packages (from gradio) (0.13.2)\n",
      "Requirement already satisfied: typer<1.0,>=0.12 in g:\\zer0ken\\ms-ai-school\\.venv\\lib\\site-packages (from gradio) (0.15.1)\n",
      "Requirement already satisfied: typing-extensions~=4.0 in g:\\zer0ken\\ms-ai-school\\.venv\\lib\\site-packages (from gradio) (4.12.2)\n",
      "Requirement already satisfied: uvicorn>=0.14.0 in g:\\zer0ken\\ms-ai-school\\.venv\\lib\\site-packages (from gradio) (0.34.0)\n",
      "Requirement already satisfied: fsspec in g:\\zer0ken\\ms-ai-school\\.venv\\lib\\site-packages (from gradio-client==1.7.0->gradio) (2025.2.0)\n",
      "Requirement already satisfied: websockets<15.0,>=10.0 in g:\\zer0ken\\ms-ai-school\\.venv\\lib\\site-packages (from gradio-client==1.7.0->gradio) (14.2)\n",
      "Requirement already satisfied: idna>=2.8 in g:\\zer0ken\\ms-ai-school\\.venv\\lib\\site-packages (from anyio<5.0,>=3.0->gradio) (3.10)\n",
      "Requirement already satisfied: sniffio>=1.1 in g:\\zer0ken\\ms-ai-school\\.venv\\lib\\site-packages (from anyio<5.0,>=3.0->gradio) (1.3.1)\n",
      "Requirement already satisfied: certifi in g:\\zer0ken\\ms-ai-school\\.venv\\lib\\site-packages (from httpx>=0.24.1->gradio) (2025.1.31)\n",
      "Requirement already satisfied: httpcore==1.* in g:\\zer0ken\\ms-ai-school\\.venv\\lib\\site-packages (from httpx>=0.24.1->gradio) (1.0.7)\n",
      "Requirement already satisfied: h11<0.15,>=0.13 in g:\\zer0ken\\ms-ai-school\\.venv\\lib\\site-packages (from httpcore==1.*->httpx>=0.24.1->gradio) (0.14.0)\n",
      "Requirement already satisfied: filelock in g:\\zer0ken\\ms-ai-school\\.venv\\lib\\site-packages (from huggingface-hub>=0.28.1->gradio) (3.17.0)\n",
      "Requirement already satisfied: requests in g:\\zer0ken\\ms-ai-school\\.venv\\lib\\site-packages (from huggingface-hub>=0.28.1->gradio) (2.32.3)\n",
      "Requirement already satisfied: tqdm>=4.42.1 in g:\\zer0ken\\ms-ai-school\\.venv\\lib\\site-packages (from huggingface-hub>=0.28.1->gradio) (4.67.1)\n",
      "Requirement already satisfied: python-dateutil>=2.8.2 in g:\\zer0ken\\ms-ai-school\\.venv\\lib\\site-packages (from pandas<3.0,>=1.0->gradio) (2.9.0.post0)\n",
      "Requirement already satisfied: pytz>=2020.1 in g:\\zer0ken\\ms-ai-school\\.venv\\lib\\site-packages (from pandas<3.0,>=1.0->gradio) (2025.1)\n",
      "Requirement already satisfied: tzdata>=2022.7 in g:\\zer0ken\\ms-ai-school\\.venv\\lib\\site-packages (from pandas<3.0,>=1.0->gradio) (2025.1)\n",
      "Requirement already satisfied: annotated-types>=0.6.0 in g:\\zer0ken\\ms-ai-school\\.venv\\lib\\site-packages (from pydantic>=2.0->gradio) (0.7.0)\n",
      "Requirement already satisfied: pydantic-core==2.27.2 in g:\\zer0ken\\ms-ai-school\\.venv\\lib\\site-packages (from pydantic>=2.0->gradio) (2.27.2)\n",
      "Requirement already satisfied: click>=8.0.0 in g:\\zer0ken\\ms-ai-school\\.venv\\lib\\site-packages (from typer<1.0,>=0.12->gradio) (8.1.8)\n",
      "Requirement already satisfied: shellingham>=1.3.0 in g:\\zer0ken\\ms-ai-school\\.venv\\lib\\site-packages (from typer<1.0,>=0.12->gradio) (1.5.4)\n",
      "Requirement already satisfied: rich>=10.11.0 in g:\\zer0ken\\ms-ai-school\\.venv\\lib\\site-packages (from typer<1.0,>=0.12->gradio) (13.9.4)\n",
      "Requirement already satisfied: colorama in g:\\zer0ken\\ms-ai-school\\.venv\\lib\\site-packages (from click>=8.0.0->typer<1.0,>=0.12->gradio) (0.4.6)\n",
      "Requirement already satisfied: six>=1.5 in g:\\zer0ken\\ms-ai-school\\.venv\\lib\\site-packages (from python-dateutil>=2.8.2->pandas<3.0,>=1.0->gradio) (1.17.0)\n",
      "Requirement already satisfied: markdown-it-py>=2.2.0 in g:\\zer0ken\\ms-ai-school\\.venv\\lib\\site-packages (from rich>=10.11.0->typer<1.0,>=0.12->gradio) (3.0.0)\n",
      "Requirement already satisfied: pygments<3.0.0,>=2.13.0 in g:\\zer0ken\\ms-ai-school\\.venv\\lib\\site-packages (from rich>=10.11.0->typer<1.0,>=0.12->gradio) (2.19.1)\n",
      "Requirement already satisfied: charset-normalizer<4,>=2 in g:\\zer0ken\\ms-ai-school\\.venv\\lib\\site-packages (from requests->huggingface-hub>=0.28.1->gradio) (3.4.1)\n",
      "Requirement already satisfied: urllib3<3,>=1.21.1 in g:\\zer0ken\\ms-ai-school\\.venv\\lib\\site-packages (from requests->huggingface-hub>=0.28.1->gradio) (2.3.0)\n",
      "Requirement already satisfied: mdurl~=0.1 in g:\\zer0ken\\ms-ai-school\\.venv\\lib\\site-packages (from markdown-it-py>=2.2.0->rich>=10.11.0->typer<1.0,>=0.12->gradio) (0.1.2)\n"
     ]
    }
   ],
   "source": [
    "! pip install gradio"
   ]
  },
  {
   "cell_type": "code",
   "execution_count": 23,
   "metadata": {},
   "outputs": [],
   "source": [
    "import json\n",
    "import gradio as gr\n",
    "import matplotlib.pyplot as plt\n",
    "\n",
    "# Thanks to **dhaitz**!\n",
    "plt.style.use('https://github.com/dhaitz/matplotlib-stylesheets/raw/master/pitayasmoothie-dark.mplstyle')\n",
    "\n",
    "# 한글폰트 설정\n",
    "import matplotlib as mpl\n",
    "mpl.rc('font', family='D2Coding')\n",
    "mpl.rcParams['axes.unicode_minus'] = False\n",
    "\n",
    "# Gradio 테마 설정\n",
    "theme = gr.themes.Base(\n",
    "    primary_hue='violet',\n",
    "    secondary_hue='teal',\n",
    "    neutral_hue='slate',\n",
    "    font_mono=[gr.themes.GoogleFont('JetBrains Mono'), 'ui-monospace', 'Consolas', 'monospace'],\n",
    ")\n",
    "set_darkmode = '''\n",
    "function refresh() {\n",
    "    const url = new URL(window.location);\n",
    "\n",
    "    if (url.searchParams.get('__theme') !== 'dark') {\n",
    "        url.searchParams.set('__theme', 'dark');\n",
    "        window.location.href = url.href;\n",
    "    }\n",
    "}\n",
    "'''"
   ]
  },
  {
   "cell_type": "markdown",
   "metadata": {},
   "source": [
    "## 🖐️ Gradio 살펴보기"
   ]
  },
  {
   "cell_type": "code",
   "execution_count": 2,
   "metadata": {},
   "outputs": [],
   "source": [
    "def greet(name):\n",
    "    return f'환영합니다, {name}님!' if name else '👀'"
   ]
  },
  {
   "cell_type": "code",
   "execution_count": 3,
   "metadata": {},
   "outputs": [
    {
     "name": "stdout",
     "output_type": "stream",
     "text": [
      "* Running on local URL:  http://127.0.0.1:7860\n",
      "\n",
      "To create a public link, set `share=True` in `launch()`.\n"
     ]
    },
    {
     "data": {
      "text/html": [
       "<div><iframe src=\"http://127.0.0.1:7860/\" width=\"100%\" height=\"500\" allow=\"autoplay; camera; microphone; clipboard-read; clipboard-write;\" frameborder=\"0\" allowfullscreen></iframe></div>"
      ],
      "text/plain": [
       "<IPython.core.display.HTML object>"
      ]
     },
     "metadata": {},
     "output_type": "display_data"
    },
    {
     "data": {
      "text/plain": []
     },
     "execution_count": 3,
     "metadata": {},
     "output_type": "execute_result"
    }
   ],
   "source": [
    "demo = gr.Interface(fn=greet, inputs='text', outputs='text', theme=theme, js=set_darkmode)\n",
    "demo.launch()"
   ]
  },
  {
   "cell_type": "code",
   "execution_count": 4,
   "metadata": {},
   "outputs": [
    {
     "name": "stdout",
     "output_type": "stream",
     "text": [
      "* Running on local URL:  http://127.0.0.1:7861\n",
      "\n",
      "To create a public link, set `share=True` in `launch()`.\n"
     ]
    },
    {
     "data": {
      "text/html": [
       "<div><iframe src=\"http://127.0.0.1:7861/\" width=\"100%\" height=\"500\" allow=\"autoplay; camera; microphone; clipboard-read; clipboard-write;\" frameborder=\"0\" allowfullscreen></iframe></div>"
      ],
      "text/plain": [
       "<IPython.core.display.HTML object>"
      ]
     },
     "metadata": {},
     "output_type": "display_data"
    },
    {
     "data": {
      "text/plain": []
     },
     "execution_count": 4,
     "metadata": {},
     "output_type": "execute_result"
    }
   ],
   "source": [
    "with gr.Blocks(theme=theme, js=set_darkmode) as demo:\n",
    "    gr.Markdown('# 🖐️ Hello, World!')\n",
    "    \n",
    "    gr.Markdown('## 이름을 입력하고 버튼을 누르면...?')\n",
    "    with gr.Row():\n",
    "        input_textbox = gr.Textbox(label='📛 이름을 입력하세요.')\n",
    "        output_textbox = gr.Textbox(label='🖐️ 어서오세요!', interactive=False)\n",
    "    send_button = gr.Button('전송', variant='primary')\n",
    "    send_button.click(fn=greet, inputs=input_textbox, outputs=output_textbox)\n",
    "    \n",
    "    gr.Markdown('## 이번엔 이름을 입력하기만 해도?')\n",
    "    with gr.Row():\n",
    "        input_textbox = gr.Textbox(label='📛 이름을 입력하세요.')\n",
    "        output_textbox = gr.Textbox(label='🖐️ 어서오세요!', interactive=False)\n",
    "    input_textbox.change(fn=greet, inputs=input_textbox, outputs=output_textbox)\n",
    "    \n",
    "demo.launch()"
   ]
  },
  {
   "cell_type": "markdown",
   "metadata": {},
   "source": [
    "## ⚜️ 붓꽃 품종 예측"
   ]
  },
  {
   "cell_type": "markdown",
   "metadata": {},
   "source": [
    "### 📡 Azure 엔드포인트와 통신"
   ]
  },
  {
   "cell_type": "code",
   "execution_count": null,
   "metadata": {},
   "outputs": [],
   "source": [
    "import requests\n",
    "\n",
    "endpoint = 'http://c8036432-a374-4b6f-b89d-067ef0d15b8a.koreacentral.azurecontainer.io/score'\n",
    "headers = {\n",
    "    'Content-Type': 'application/json',\n",
    "    'Authorization': '!!! THIS IS SECRET KEY !!!'\n",
    "}\n",
    "\n",
    "def predict(data):\n",
    "    response = requests.post(endpoint, headers=headers, json={'Inputs': {'input1': data}})\n",
    "    if response.status_code == 200:\n",
    "        return response.json()[\"Results\"][\"WebServiceOutput0\"]\n",
    "    return '문제가 발생했습니다.'"
   ]
  },
  {
   "cell_type": "markdown",
   "metadata": {},
   "source": [
    "### 📈 Plot 이미지 출력"
   ]
  },
  {
   "cell_type": "code",
   "execution_count": 38,
   "metadata": {},
   "outputs": [],
   "source": [
    "def save_plot(data_points):\n",
    "    # 센터로이드의 평균 위치를 계산하기 위한 변수 초기화\n",
    "    centroid_positions = {0: [0, 0], 1: [0, 0], 2: [0, 0]}\n",
    "    centroid_colors = {0: 'b', 1: 'r', 2: 'g'}  # 클러스터 색상\n",
    "    \n",
    "    # 데이터 포인트를 기반으로 센터로이드 위치 계산\n",
    "    for point in data_points:\n",
    "        assignment = point[\"Assignments\"]\n",
    "    \n",
    "        # 각 클러스터별로 거리 데이터 가져오기\n",
    "        for i in range(3):\n",
    "            dist_key = f\"DistancesToClusterCenter no.{i}\"\n",
    "            if dist_key in point:\n",
    "                # 위치의 평균 계산\n",
    "                centroid_positions[i][0] += (point[\"sepal_length_cm\"] + point[dist_key]) / 2\n",
    "                centroid_positions[i][1] += (point[\"sepal_width_cm\"] + point[dist_key]) / 2\n",
    "    \n",
    "    # 평균값으로 센터로이드 위치 계산\n",
    "    for i in range(3):\n",
    "        centroid_positions[i][0] /= len(data_points)\n",
    "        centroid_positions[i][1] /= len(data_points)\n",
    "    \n",
    "    plt.figure(figsize=(8, 6))\n",
    "    \n",
    "    point_index = 0\n",
    "    # 데이터 포인트 그리기\n",
    "    for point in data_points:\n",
    "        point_index += 1\n",
    "        plt.scatter(point[\"sepal_length_cm\"], point[\"sepal_width_cm\"],\n",
    "                    c='b' if point[\"Assignments\"] == 0 else 'r' if point[\"Assignments\"] == 1 else 'g')\n",
    "        plt.text(point[\"sepal_length_cm\"], point[\"sepal_width_cm\"], f\"{point_index}\")\n",
    "\n",
    "    # 클러스터 센터로이드 그리기\n",
    "    for cluster, (x, y) in centroid_positions.items():\n",
    "        plt.scatter(x, y, c=centroid_colors[cluster], marker='X', s=200)\n",
    "\n",
    "    plt.title('Data Points and Cluster Centroids')\n",
    "    plt.xlabel('Sepal Length (cm)')\n",
    "    plt.ylabel('Sepal Width (cm)')\n",
    "    plt.savefig('output/iris_clusters.png')\n",
    "    plt.tight_layout()\n",
    "    plt.close()  # plt.show() 대신 plt.close()를 사용\n",
    "    return 'output/iris_clusters.png'  # 현재 figure 반환"
   ]
  },
  {
   "cell_type": "markdown",
   "metadata": {},
   "source": [
    "### 👆 사용자 인터페이스 동작"
   ]
  },
  {
   "cell_type": "code",
   "execution_count": 39,
   "metadata": {},
   "outputs": [],
   "source": [
    "data = [{\n",
    "    'sepal_length_cm': 0.0,\n",
    "    'sepal_width_cm': 0.0,\n",
    "    'petal_length_cm': 0.0,\n",
    "    'petal_width_cm': 0.0,\n",
    "    'class': 'Iris-setosa'\n",
    "}]\n",
    "\n",
    "\n",
    "def click_add():\n",
    "    print(f'@click_add()')\n",
    "    data.append({\n",
    "        'sepal_length_cm': 0.0,\n",
    "        'sepal_width_cm': 0.0,\n",
    "        'petal_length_cm': 0.0,\n",
    "        'petal_width_cm': 0.0,\n",
    "        'class': 'Iris-setosa'\n",
    "    })\n",
    "    return len(data)\n",
    "\n",
    "def click_delete(index):\n",
    "    print(f'@click_delete({index=})')\n",
    "    if len(data) > 1:\n",
    "        data.pop(index)\n",
    "    return len(data)\n",
    "\n",
    "def click_copy(index):\n",
    "    print(f'@click_copy({index=})')\n",
    "    data.append(dict(data[index]))\n",
    "    return len(data)\n",
    "\n",
    "def change_data(index, sepal_length, sepal_width, petal_length, petal_width):\n",
    "    print(f'@click_copy({index=}, {sepal_length=}, {sepal_width=}, {petal_length=}, {petal_width=})')\n",
    "    data[index]['sepal_length_cm'] = float(sepal_length)\n",
    "    data[index]['sepal_width_cm'] = float(sepal_width)\n",
    "    data[index]['petal_length_cm'] = float(petal_length)\n",
    "    data[index]['petal_width_cm'] = float(petal_width)\n",
    "\n",
    "def click_predict():\n",
    "    result = predict(data)\n",
    "    if type(result) is str:\n",
    "        return result, None\n",
    "    return json.dumps(result, ensure_ascii=False, indent=4), save_plot(result)"
   ]
  },
  {
   "cell_type": "markdown",
   "metadata": {},
   "source": [
    "<h3><img width='22' src='../resources/gradio-icon.png'> Gradio 뷰 및 이벤트 리스터 정의</h1>"
   ]
  },
  {
   "cell_type": "code",
   "execution_count": 40,
   "metadata": {},
   "outputs": [
    {
     "name": "stdout",
     "output_type": "stream",
     "text": [
      "* Running on local URL:  http://127.0.0.1:7870\n",
      "\n",
      "To create a public link, set `share=True` in `launch()`.\n"
     ]
    },
    {
     "data": {
      "text/html": [
       "<div><iframe src=\"http://127.0.0.1:7870/\" width=\"100%\" height=\"500\" allow=\"autoplay; camera; microphone; clipboard-read; clipboard-write;\" frameborder=\"0\" allowfullscreen></iframe></div>"
      ],
      "text/plain": [
       "<IPython.core.display.HTML object>"
      ]
     },
     "metadata": {},
     "output_type": "display_data"
    },
    {
     "data": {
      "text/plain": []
     },
     "execution_count": 40,
     "metadata": {},
     "output_type": "execute_result"
    },
    {
     "name": "stdout",
     "output_type": "stream",
     "text": [
      "@click_copy(index=0, sepal_length='1', sepal_width='0.0', petal_length='0.0', petal_width='0.0')\n",
      "@click_copy(index=0, sepal_length='1', sepal_width='1', petal_length='0.0', petal_width='0.0')\n",
      "@click_copy(index=0, sepal_length='1', sepal_width='1', petal_length='1', petal_width='0.0')\n",
      "@click_copy(index=0, sepal_length='1', sepal_width='1', petal_length='1', petal_width='1')\n",
      "@click_copy(index=0)\n",
      "@click_copy(index=1, sepal_length='1.0', sepal_width='2', petal_length='1.0', petal_width='1.0')\n",
      "@click_copy(index=1, sepal_length='1.0', sepal_width='2', petal_length='1.0', petal_width='2')\n",
      "@click_copy(index=1, sepal_length='1.0', sepal_width='2', petal_length='2', petal_width='2')\n",
      "@click_copy(index=1, sepal_length='2', sepal_width='2', petal_length='2', petal_width='2')\n",
      "@click_copy(index=1)\n",
      "@click_copy(index=2, sepal_length='3', sepal_width='2.0', petal_length='2.0', petal_width='2.0')\n",
      "@click_copy(index=2, sepal_length='3', sepal_width='2.0', petal_length='3', petal_width='2.0')\n",
      "@click_copy(index=2)\n",
      "@click_copy(index=3, sepal_length='3.0', sepal_width='4', petal_length='3.0', petal_width='2.0')\n",
      "@click_copy(index=3, sepal_length='3.0', sepal_width='4', petal_length='3.0', petal_width='4')\n",
      "@click_copy(index=3)\n",
      "@click_copy(index=4, sepal_length='3.0', sepal_width='4.0', petal_length='5', petal_width='4.0')\n",
      "@click_copy(index=4, sepal_length='3.0', sepal_width='5', petal_length='5', petal_width='4.0')\n",
      "@click_copy(index=4, sepal_length='4', sepal_width='5', petal_length='5', petal_width='4.0')\n",
      "@click_copy(index=4, sepal_length='4', sepal_width='5', petal_length='5', petal_width='1')\n",
      "@click_copy(index=4, sepal_length='4', sepal_width='5', petal_length='5', petal_width='2')\n"
     ]
    }
   ],
   "source": [
    "with gr.Blocks(theme=theme, js=set_darkmode) as demo:\n",
    "    gr.Markdown('# ⚜️ 붓꽃 품종 예측')\n",
    "    \n",
    "    data_count = gr.State(0)\n",
    "    @gr.render(inputs=data_count)\n",
    "    def data_input_view(_):\n",
    "        for i, datum in enumerate(data):\n",
    "            row_idx = gr.State(i)\n",
    "            with gr.Row():\n",
    "                sepal_lenght_textbox = gr.Textbox(label='꽃받침 길이', value=datum['sepal_length_cm'], key=f'sl-{i}', interactive=True)\n",
    "                sepal_width_textbox = gr.Textbox(label='꽃받침 넓이', value=datum['sepal_width_cm'], key=f'sw-{i}', interactive=True)\n",
    "                petal_length_textbox = gr.Textbox(label='꽃잎 길이', value=datum['petal_length_cm'], key=f'pl-{i}', interactive=True)\n",
    "                petal_width_textbox = gr.Textbox(label='꽃잎 넓이', value=datum['petal_width_cm'], key=f'pw-{i}', interactive=True)\n",
    "                \n",
    "                with gr.Column():\n",
    "                    delete_button = gr.Button('🗑️ 이 데이터 삭제하기', size='md')\n",
    "                    copy_button = gr.Button('📋 이 데이터 복제하기', size='md')\n",
    "                \n",
    "            \"\"\" 이벤트 처리 \"\"\"\n",
    "            change_inputs = [row_idx, sepal_lenght_textbox, sepal_width_textbox, petal_length_textbox, petal_width_textbox ]\n",
    "            sepal_lenght_textbox.change(change_data, inputs=change_inputs)\n",
    "            sepal_width_textbox.change(change_data, inputs=change_inputs)\n",
    "            petal_length_textbox.change(change_data, inputs=change_inputs)\n",
    "            petal_width_textbox.change(change_data, inputs=change_inputs)\n",
    "            \n",
    "            delete_button.click(click_delete, inputs=row_idx, outputs=data_count)\n",
    "            copy_button.click(click_copy, inputs=row_idx, outputs=data_count)\n",
    "    \n",
    "    plus_button = gr.Button('➕ 새 데이터 추가하기', variant='secondary')\n",
    "    send_button = gr.Button('🧠 품종 예측하기', variant='primary')\n",
    "    \n",
    "    gr.Markdown('## 🖨️ 예측 결과')\n",
    "    plot_image = gr.Image(label=\"Plot\", interactive=False)\n",
    "    species_textbox = gr.TextArea(label='Json', interactive=False)\n",
    "    \n",
    "    \"\"\" 이벤트 처리 \"\"\"\n",
    "    plus_button.click(click_add, outputs=data_count)\n",
    "    send_button.click(click_predict, outputs=[species_textbox, plot_image])\n",
    "\n",
    "demo.launch()"
   ]
  }
 ],
 "metadata": {
  "kernelspec": {
   "display_name": ".venv",
   "language": "python",
   "name": "python3"
  },
  "language_info": {
   "codemirror_mode": {
    "name": "ipython",
    "version": 3
   },
   "file_extension": ".py",
   "mimetype": "text/x-python",
   "name": "python",
   "nbconvert_exporter": "python",
   "pygments_lexer": "ipython3",
   "version": "3.12.7"
  }
 },
 "nbformat": 4,
 "nbformat_minor": 2
}

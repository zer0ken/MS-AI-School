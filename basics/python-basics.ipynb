{
 "cells": [
  {
   "cell_type": "markdown",
   "metadata": {},
   "source": [
    "# 2024-12-19"
   ]
  },
  {
   "cell_type": "markdown",
   "metadata": {},
   "source": [
    "### 파이썬 기본 문법"
   ]
  },
  {
   "cell_type": "code",
   "execution_count": 1,
   "metadata": {},
   "outputs": [
    {
     "name": "stdout",
     "output_type": "stream",
     "text": [
      "hello python\n"
     ]
    }
   ],
   "source": [
    "print('hello python')"
   ]
  },
  {
   "cell_type": "code",
   "execution_count": 2,
   "metadata": {},
   "outputs": [
    {
     "name": "stdout",
     "output_type": "stream",
     "text": [
      "Hello\n",
      "Python\n",
      "홍길동 나이 = 20 세\n"
     ]
    }
   ],
   "source": [
    "print('Hello')\n",
    "print('Python')\n",
    "print('홍길동 나이 = 20 세')"
   ]
  },
  {
   "cell_type": "code",
   "execution_count": 3,
   "metadata": {},
   "outputs": [
    {
     "name": "stdout",
     "output_type": "stream",
     "text": [
      "6\n",
      "0\n",
      "9\n",
      "1.0\n",
      "1\n",
      "0\n"
     ]
    }
   ],
   "source": [
    "## 미션1\n",
    "\n",
    "a = 3\n",
    "b = 3\n",
    "\n",
    "print(a + b)\n",
    "print(a - b)\n",
    "print(a * b)\n",
    "print(a / b)\n",
    "print(a // b)\n",
    "print(a % b)"
   ]
  },
  {
   "cell_type": "code",
   "execution_count": 4,
   "metadata": {},
   "outputs": [
    {
     "name": "stdout",
     "output_type": "stream",
     "text": [
      "1 2 3 4\n"
     ]
    }
   ],
   "source": [
    "n = 1234\n",
    "\n",
    "e3 = (n % 10**4) // 10**3 \n",
    "e2 = (n % 10**3) // 10**2\n",
    "e1 = (n % 10**2) // 10**1\n",
    "e0 = (n % 10**1) // 10**0\n",
    "\n",
    "print(e3, e2, e1, e0)"
   ]
  },
  {
   "cell_type": "code",
   "execution_count": 5,
   "metadata": {},
   "outputs": [
    {
     "name": "stdout",
     "output_type": "stream",
     "text": [
      "12345600\n"
     ]
    }
   ],
   "source": [
    "n = 12345678\n",
    "\n",
    "under_hundred = n % 100\n",
    "n -= under_hundred\n",
    "\n",
    "print(n)"
   ]
  },
  {
   "cell_type": "code",
   "execution_count": 6,
   "metadata": {},
   "outputs": [
    {
     "name": "stdout",
     "output_type": "stream",
     "text": [
      "4\n"
     ]
    }
   ],
   "source": [
    "a = 1234\n",
    "b = 1\n",
    "\n",
    "num = (a % 10**b) // 10 ** (b-1)\n",
    "\n",
    "print(num)"
   ]
  },
  {
   "cell_type": "code",
   "execution_count": 8,
   "metadata": {},
   "outputs": [
    {
     "name": "stdout",
     "output_type": "stream",
     "text": [
      "a + b = 3\n"
     ]
    }
   ],
   "source": [
    "a = int(input('a:'))\n",
    "b = int(input('b:'))\n",
    "print('a + b =', a + b)"
   ]
  },
  {
   "cell_type": "code",
   "execution_count": 9,
   "metadata": {},
   "outputs": [
    {
     "name": "stdout",
     "output_type": "stream",
     "text": [
      "area = 8.0\n"
     ]
    }
   ],
   "source": [
    "base = int(input('base:'))\n",
    "height = int(input('height:'))\n",
    "print('area =', base * height / 2.0)"
   ]
  },
  {
   "cell_type": "code",
   "execution_count": 11,
   "metadata": {},
   "outputs": [
    {
     "name": "stdout",
     "output_type": "stream",
     "text": [
      "가격: 18000원\n"
     ]
    }
   ],
   "source": [
    "print('가격: ' + str(3000*int(input('::메뉴판:: 김밥: 3,000원 / 떡볶이: 3,500원 / 라면: 2,500원 ::김밥 주문량을 입력하세요: ')) + 3500*int(input('::메뉴판:: 김밥: 3,000원 / 떡볶이: 3,500원 / 라면: 2,500원 :: 떡볶이 주문량을 입력하세요: ')) + 2500*int(input('::메뉴판:: 김밥: 3,000원 / 떡볶이: 3,500원 / 라면: 2,500원 :: 라면 주문량을 입력하세요: '))) + '원')"
   ]
  },
  {
   "cell_type": "code",
   "execution_count": null,
   "metadata": {},
   "outputs": [],
   "source": [
    "a = float(input('a: '))\n",
    "b = float(input('b: '))\n",
    "print(f'{a:.2f} * {b:.3f} = {a*b:,.2f}')"
   ]
  },
  {
   "cell_type": "code",
   "execution_count": null,
   "metadata": {},
   "outputs": [],
   "source": [
    "print(f'area: {float(input('r(㎝): ')) ** 2 * 3.14 :,.1f} ㎠')"
   ]
  },
  {
   "cell_type": "code",
   "execution_count": null,
   "metadata": {},
   "outputs": [],
   "source": [
    "r = float(input('r(㎝): '))\n",
    "print(f'area: {r ** 2 * 3.14 :,.1f} ㎠')\n",
    "print(f'diameter: {r * 2 * 3.14:,.1f} ㎝')"
   ]
  },
  {
   "cell_type": "code",
   "execution_count": null,
   "metadata": {},
   "outputs": [],
   "source": [
    "num = int(input('숫자를 입력하세요: '))\n",
    "if num % 2 == 0:\n",
    "    print('짝수입니다.')\n",
    "else:\n",
    "    print('홀수입니다.')"
   ]
  },
  {
   "cell_type": "code",
   "execution_count": null,
   "metadata": {},
   "outputs": [],
   "source": [
    "score = int(input('score: '))\n",
    "if score < 60:\n",
    "    print('F')\n",
    "elif score < 70:\n",
    "    print('D')\n",
    "elif score < 80:\n",
    "    print('C')\n",
    "elif score < 90:\n",
    "    print('B')\n",
    "else:\n",
    "    print('A')"
   ]
  },
  {
   "cell_type": "code",
   "execution_count": null,
   "metadata": {},
   "outputs": [],
   "source": [
    "weight = float(input('weight(kg): '))\n",
    "height = float(input('height(m): '))\n",
    "bmi = weight / height**2\n",
    "\n",
    "print(f'BMI 지수는 \"{bmi:.2f}\"로 ', end='')\n",
    "if bmi < 18.5:\n",
    "    print('\"저체중\"', end='')\n",
    "elif bmi < 23.0:\n",
    "    print('\"정상체중\"', end='')\n",
    "elif bmi < 25.0:\n",
    "    print('\"과체중\"', end='')\n",
    "else:\n",
    "    print('\"비만\"', end='')\n",
    "print(' 입니다.')\n"
   ]
  },
  {
   "cell_type": "code",
   "execution_count": null,
   "metadata": {},
   "outputs": [],
   "source": [
    "day = int(input('오늘은 몇 일? (1~31): '))\n",
    "\n",
    "if day < 1 or day > 31:\n",
    "    print('일 입력 오류입니다.')\n",
    "else:\n",
    "    number = int(input('차량 번호 숫자 4자리? (예: 1234): '))\n",
    "\n",
    "    if number < 1000 or number > 9999:\n",
    "        print('차량번호 입력 오류입니다.')\n",
    "\n",
    "    is_even_valid = day % 2 == 0\n",
    "\n",
    "    if is_even_valid:\n",
    "        print('짝수 차량 운행일입니다.')\n",
    "    else:\n",
    "        print('홀수 차량 운행일입니다.')\n",
    "    \n",
    "    if day % 2 == number % 2:\n",
    "        print('운행 가능합니다.')\n",
    "    else:\n",
    "        print('운행 불가능합니다.')\n",
    "\n"
   ]
  },
  {
   "cell_type": "code",
   "execution_count": null,
   "metadata": {},
   "outputs": [],
   "source": [
    "year = input('출생연도: ')\n",
    "age = 2024 - int(year)\n",
    "\n",
    "y = year[-1]\n",
    "\n",
    "if age >= 65:\n",
    "    print('항상 구매 가능')\n",
    "elif y == '1' or y == '6':\n",
    "    print('월요일에 구매 가능')\n",
    "elif y == '2' or y == '7':\n",
    "    print('화요일에 구매 가능')\n",
    "elif y == '3' or y == '8':\n",
    "    print('수요일에 구매 가능')\n",
    "elif y == '4' or y == '9':\n",
    "    print('목요일에 구매 가능')\n",
    "else:\n",
    "    print('금요일에 구매 가능')"
   ]
  },
  {
   "cell_type": "code",
   "execution_count": null,
   "metadata": {},
   "outputs": [],
   "source": [
    "user_id = 'admin'\n",
    "user_pw = '1234'\n",
    "\n",
    "id_input = input('id: ')\n",
    "\n",
    "if user_id != id_input:\n",
    "    print('등록되지 않은 아이디입니다.')\n",
    "else:\n",
    "    pw_input = input('pw: ')\n",
    "    if user_pw != pw_input:\n",
    "        print('비밀번호가 잘못되었습니다.')\n",
    "    else:\n",
    "        print('로그인 성공.')"
   ]
  },
  {
   "cell_type": "code",
   "execution_count": null,
   "metadata": {},
   "outputs": [],
   "source": [
    "num = int(input(\"n: \"))\n",
    "\n",
    "acc = num\n",
    "while num > 1:\n",
    "    num -= 1\n",
    "    acc += num\n",
    "\n",
    "print(f'sum: {acc}')"
   ]
  },
  {
   "cell_type": "code",
   "execution_count": null,
   "metadata": {},
   "outputs": [],
   "source": [
    "num = int(input(\"n: \"))\n",
    "\n",
    "acc = num\n",
    "while num > 1:\n",
    "    num -= 1\n",
    "    acc *= num\n",
    "\n",
    "print(f'mul: {acc}')"
   ]
  },
  {
   "cell_type": "code",
   "execution_count": null,
   "metadata": {},
   "outputs": [],
   "source": [
    "num = int(input(\"n: \"))\n",
    "\n",
    "if num % 2 == 1:\n",
    "    num -= 1\n",
    "\n",
    "acc = num\n",
    "while num > 1:\n",
    "    num -= 2\n",
    "    acc += num\n",
    "\n",
    "print(f'sum: {acc}')"
   ]
  },
  {
   "cell_type": "code",
   "execution_count": null,
   "metadata": {},
   "outputs": [],
   "source": [
    "dan = 2\n",
    "\n",
    "print(f'{dan} 단')\n",
    "for i in range(1, 10):\n",
    "    print(f'{dan} * {i} = {dan * i}')"
   ]
  },
  {
   "cell_type": "code",
   "execution_count": null,
   "metadata": {},
   "outputs": [],
   "source": [
    "dan = 2\n",
    "\n",
    "print(f'{dan} 단')\n",
    "\n",
    "i = 1\n",
    "while i < 10:\n",
    "    print(f'{dan} * {i} = {dan * i}')\n",
    "    i += 1"
   ]
  },
  {
   "cell_type": "code",
   "execution_count": null,
   "metadata": {},
   "outputs": [],
   "source": [
    "dan = int(input('단: '))\n",
    "\n",
    "print(f'{dan} 단')\n",
    "for i in range(1, 10):\n",
    "    print(f'{dan} * {i} = {dan * i}')"
   ]
  },
  {
   "cell_type": "code",
   "execution_count": null,
   "metadata": {},
   "outputs": [],
   "source": [
    "l, r = 2, 1\n",
    "\n",
    "for r in range(1, 10):\n",
    "    for l in range(2, 10):\n",
    "        print(f'{l}*{r}={l*r:<3}', end='\\t')\n",
    "    print()"
   ]
  },
  {
   "cell_type": "code",
   "execution_count": null,
   "metadata": {},
   "outputs": [],
   "source": [
    "import random\n",
    "\n",
    "answer = random.randint(1, 100)\n",
    "\n",
    "max_trial = input('횟수 제한: ')\n",
    "if max_trial:\n",
    "    max_trial = int(max_trial)\n",
    "\n",
    "trial = 0\n",
    "\n",
    "while True:\n",
    "    trial += 1\n",
    "    guess = int(input('1~100: '))\n",
    "\n",
    "    if guess == answer:\n",
    "        print(f'맞았습니다.')\n",
    "        print(f'{trial}회 만에 맞췄습니다.')\n",
    "        print(f'정답: {answer}')\n",
    "        break\n",
    "    \n",
    "    if guess < answer:\n",
    "        print('정답보다 작습니다.')\n",
    "    else:\n",
    "        print('정답보다 큽니다.')\n",
    "\n",
    "    if max_trial and trial >= max_trial:\n",
    "        print(f'{max_trial}회 안에 맞추지 못했습니다.')\n",
    "        print(f'정답: {answer}')\n",
    "        break\n",
    "    \n",
    "    # input이 직전의 print를 막는 문제를 예방하기 위해 의미 없는 input 함수를 하나 더 추가함\n",
    "    # input('계속할까요?')"
   ]
  },
  {
   "cell_type": "code",
   "execution_count": null,
   "metadata": {},
   "outputs": [],
   "source": [
    "n = 0\n",
    "while True:\n",
    "    n += 1\n",
    "    if n >= 20:\n",
    "        break\n",
    "    if n % 3 == 0 or n % 5 == 0:\n",
    "        continue\n",
    "    print(n, end=' ')\n"
   ]
  },
  {
   "cell_type": "code",
   "execution_count": 15,
   "metadata": {},
   "outputs": [
    {
     "name": "stdout",
     "output_type": "stream",
     "text": [
      "*\n",
      "***\n",
      "*****\n",
      "*******\n",
      "*********\n",
      "***********\n",
      "*************\n",
      "***************\n",
      "*****************\n",
      "*******************\n"
     ]
    }
   ],
   "source": [
    "for i in range(1, 20, 2):\n",
    "    for j in range(i):\n",
    "        print('*', end='')\n",
    "    print()"
   ]
  },
  {
   "cell_type": "code",
   "execution_count": 14,
   "metadata": {},
   "outputs": [
    {
     "name": "stdout",
     "output_type": "stream",
     "text": [
      "*******************\n",
      "*****************\n",
      "***************\n",
      "*************\n",
      "***********\n",
      "*********\n",
      "*******\n",
      "*****\n",
      "***\n",
      "*\n"
     ]
    }
   ],
   "source": [
    "for i in range(19, 0, -2):\n",
    "    for j in range(i):\n",
    "        print('*', end='')\n",
    "    print()"
   ]
  },
  {
   "cell_type": "code",
   "execution_count": 13,
   "metadata": {},
   "outputs": [
    {
     "name": "stdout",
     "output_type": "stream",
     "text": [
      "         *\n",
      "        **\n",
      "       ***\n",
      "      ****\n",
      "     *****\n",
      "    ******\n",
      "   *******\n",
      "  ********\n",
      " *********\n",
      "**********\n"
     ]
    }
   ],
   "source": [
    "for i in range(1, 11):\n",
    "    for j in range(10 - i):\n",
    "        print(' ', end='')\n",
    "    for j in range(i):\n",
    "        print('*', end='')\n",
    "    print()"
   ]
  },
  {
   "cell_type": "code",
   "execution_count": 12,
   "metadata": {},
   "outputs": [
    {
     "name": "stdout",
     "output_type": "stream",
     "text": [
      "         *\n",
      "        ***\n",
      "       *****\n",
      "      *******\n",
      "     *********\n",
      "    ***********\n",
      "   *************\n",
      "  ***************\n",
      " *****************\n",
      "*******************\n"
     ]
    }
   ],
   "source": [
    "for i in range(1, 11):\n",
    "    for j in range(10 - i):\n",
    "        print(' ', end='')\n",
    "    for j in range(i * 2 - 1):\n",
    "        print('*', end='')\n",
    "    print()"
   ]
  },
  {
   "cell_type": "code",
   "execution_count": null,
   "metadata": {},
   "outputs": [],
   "source": [
    "edge = 5\n",
    "\n",
    "for i in range(1, edge):\n",
    "    for j in range(edge * 2 - i):\n",
    "        print(' ', end='')\n",
    "    for j in range(i * 2 - 1):\n",
    "        print('*', end='')\n",
    "    print()\n",
    "\n",
    "for i in range(1, edge):\n",
    "    for j in range(i):\n",
    "        print(' ', end='')\n",
    "    for j in range(edge * 4 - i * 2 - 1):\n",
    "        print('*',  end='')\n",
    "    print()\n",
    "\n",
    "for i in range(1, edge + 1):\n",
    "    left_cut = (edge - i) + (i - 1) // 2\n",
    "    leg = 2 * edge - left_cut - i\n",
    "    hollow = (i - edge // 3) * 2\n",
    "    if hollow < 0:\n",
    "        hollow = 0\n",
    "    for j in range(left_cut):\n",
    "        print('.', end='')\n",
    "    for j in range(leg):\n",
    "        print('*', end='')\n",
    "    for j in range(hollow):\n",
    "        print('.', end='')\n",
    "    for j in range(leg):\n",
    "        print('*', end='')\n",
    "    print()"
   ]
  },
  {
   "cell_type": "code",
   "execution_count": null,
   "metadata": {},
   "outputs": [],
   "source": [
    "a = [90, 25, 67, 45, 80]\n",
    "\n",
    "for i in range(len(a)):\n",
    "    if a[i] >= 60:\n",
    "        print(f'{i+1}번 학생은 합격입니다.')\n",
    "    else:\n",
    "        print(f'{i+1}번 학생은 불합격입니다.')"
   ]
  },
  {
   "cell_type": "code",
   "execution_count": null,
   "metadata": {},
   "outputs": [],
   "source": [
    "items = ['사과', '바나나', '오렌지', '포도', '수박']\n",
    "stocks = [3, 3, 3, 3, 3]\n",
    "\n",
    "print('과일가게. 방문. 환영.')\n",
    "\n",
    "while True:\n",
    "    print('\\n재고:')\n",
    "    for i in range(len(items)):\n",
    "        print(f'- {items[i]}: {stocks[i]}')\n",
    "\n",
    "    if sum(stocks) <= 0:\n",
    "        print('\\n재고 소진. 마감.')\n",
    "        break\n",
    "    \n",
    "    choice = input('구매 희망 과일(종료 희망시 \\'그만\\' 입력)')\n",
    "    print(f'\\n구매 희망 과일(종료 희망시 \\'그만\\' 입력)\\n>>> {choice}')\n",
    "    if choice == '그만':\n",
    "        print('종료.')\n",
    "        break\n",
    "    \n",
    "    idx = -1\n",
    "    for i in range(len(items)):\n",
    "        if items[i] == choice:\n",
    "            idx = i\n",
    "            break\n",
    "\n",
    "    if idx == -1:\n",
    "        print(f'품목 없음: {choice}')\n",
    "        continue\n",
    "    \n",
    "    if stocks[idx] <= 0:\n",
    "        print(f'재고 없음: {choice}')\n",
    "        continue\n",
    "\n",
    "    stocks[idx] -= 1\n",
    "    print(f'구매: {choice} ... 잔여: {stocks[idx]}')"
   ]
  },
  {
   "cell_type": "code",
   "execution_count": null,
   "metadata": {},
   "outputs": [],
   "source": [
    "print('끝말잇기')\n",
    "print('시작')\n",
    "last_word = '가나다'\n",
    "\n",
    "while True:\n",
    "    print(f'>>> {last_word}')\n",
    "    word = input('>>> ')\n",
    "    if word[0] != last_word[-1]:\n",
    "        print(f'땡: {word}')\n",
    "        break\n",
    "    last_word = word"
   ]
  },
  {
   "cell_type": "code",
   "execution_count": null,
   "metadata": {},
   "outputs": [],
   "source": [
    "stock = 10\n",
    "price = 300\n",
    "\n",
    "print('Need some coffee?')\n",
    "\n",
    "while stock:\n",
    "    print(f'Left coffee: {stock}')\n",
    "    paid = int(input('pay: '))\n",
    "    print(f'paid: {paid}')\n",
    "\n",
    "    if paid >= price:\n",
    "        change = paid - price\n",
    "        stock -= 1\n",
    "        print('Here is your coffee~')\n",
    "        \n",
    "        if change:\n",
    "            print(f'And your change: {change}')\n",
    "    else:\n",
    "        print(f'Coffee is {price}. Take your money back: {paid}')\n",
    "    print('='*50)\n",
    "\n",
    "print('We\\'re sold out!')"
   ]
  },
  {
   "cell_type": "code",
   "execution_count": null,
   "metadata": {},
   "outputs": [],
   "source": [
    "stock = 10\n",
    "price = 300\n",
    "\n",
    "print('Need some coffee?\\n')\n",
    "\n",
    "while stock:\n",
    "    print(f'Left coffee: {stock}')\n",
    "    paid = int(input('pay: '))\n",
    "    print(f'paid: {paid}\\n')\n",
    "\n",
    "    if paid >= price:\n",
    "        serve = paid // price\n",
    "        if serve > stock:\n",
    "            serve = stock\n",
    "            \n",
    "        change = paid - serve * price\n",
    "        stock -= serve\n",
    "        print(f'Here is your coffee: {serve} coffee served')\n",
    "        \n",
    "        if change:\n",
    "            print(f'And your change: {change}')\n",
    "    else:\n",
    "        print(f'Coffee is {price}. Take your money back: {paid}')\n",
    "    print('='*50)\n",
    "\n",
    "print('We\\'re sold out!')"
   ]
  },
  {
   "cell_type": "code",
   "execution_count": null,
   "metadata": {},
   "outputs": [],
   "source": [
    "todos = []\n",
    "MENU =(\n",
    "    '# TODO LIST 메뉴:\\n'\n",
    "    '   1. 작업 추가\\n'\n",
    "    '   2. 작업 완료\\n'\n",
    "    '   0. 종료\\n'\n",
    "    '>>> '\n",
    ")\n",
    "\n",
    "\n",
    "while True:\n",
    "    print(MENU, end='')\n",
    "    choice = input('메뉴 >>> ')\n",
    "    print(f'{choice}\\n')\n",
    "\n",
    "    if choice == '1':\n",
    "        print('추가할 작업 >>> ', end='')\n",
    "        todo = input('추가할 작업 >>> ')\n",
    "        print(todo)\n",
    "\n",
    "        todos.append(todo)\n",
    "\n",
    "        print(f'작업을 추가했습니다: {todo}')\n",
    "\n",
    "    elif choice == '2':\n",
    "        print('완료한 작업 >>> ', end='')\n",
    "        todo = input('완료한 작업 >>> ')\n",
    "        print(todo)\n",
    "\n",
    "        todos.remove(todo)\n",
    "        \n",
    "        print(f'작업을 완료했습니다: {todo}')\n",
    "        \n",
    "    elif choice == '0':\n",
    "        print('종료합니다.')\n",
    "        break\n",
    "        \n",
    "    print('='*50)\n",
    "\n",
    "    print('# 작업 목록')\n",
    "    for i in range(len(todos)):\n",
    "        print(f'{i:4}. {todos[i]}')\n",
    "\n",
    "    print('='*50)"
   ]
  },
  {
   "cell_type": "code",
   "execution_count": null,
   "metadata": {},
   "outputs": [],
   "source": [
    "friends = {}\n",
    "MENU =(\n",
    "    '# 전화번호 검색 메뉴:\\n'\n",
    "    '   1. 친구 등록\\n'\n",
    "    '   2. 친구 검색\\n'\n",
    "    '   3. 친삭 ㄱㄱㄱ\\n'\n",
    "    '   0. 종료\\n'\n",
    "    '>>> '\n",
    ")\n",
    "\n",
    "\n",
    "while True:\n",
    "    print(MENU, end='')\n",
    "    choice = input('메뉴 >>> ')\n",
    "    print(f'{choice}\\n')\n",
    "\n",
    "    if choice == '1':\n",
    "        print('친구 이름 >>> ', end='')\n",
    "        name = input('친구 이름 >>> ')\n",
    "        print(name)\n",
    "        \n",
    "        print('친구 연락처 >>> ', end='')\n",
    "        contact = input('친구 연락처 >>> ')\n",
    "        print(contact)\n",
    "\n",
    "        friends[name] = contact\n",
    "\n",
    "        print(f'친구를 등록했습니다: 이름={name}, 연락처={contact}')\n",
    "\n",
    "    elif choice == '2':\n",
    "        print('친구 이름 >>> ', end='')\n",
    "        name = input('친구 이름 >>> ')\n",
    "        print(name)\n",
    "\n",
    "        contact = friends[name]        \n",
    "\n",
    "        print(f'친구를 검색했습니다: 이름={name}, 연락처={contact}')\n",
    "\n",
    "    elif choice == '3':\n",
    "        print('친구 이름 >>> ', end='')\n",
    "        name = input('친구 이름 >>> ')\n",
    "        print(name)\n",
    "\n",
    "        contact = friends.pop(name)       \n",
    "\n",
    "        print(f'친구를 삭제했습니다: 이름={name}, 연락처={contact}')\n",
    "        \n",
    "    elif choice == '0':\n",
    "        print('종료합니다.')\n",
    "        break\n",
    "        \n",
    "    print('='*50)\n",
    "\n",
    "    print(f'친구 목록: {list(friends.keys())}')\n",
    "\n",
    "    print('='*50)"
   ]
  },
  {
   "cell_type": "code",
   "execution_count": null,
   "metadata": {},
   "outputs": [],
   "source": [
    "dictionary = {\n",
    "    'python': 'a high-level programming language',\n",
    "    'loop': 'a sequence of instructions that are continually repeated'\n",
    "}\n",
    "\n",
    "# input() + while문을 사용하도록 고쳐도 좋을 것 같습니다.\n",
    "for word in ['python', 'apple', 'loop']:\n",
    "    meaning = dictionary.get(word)\n",
    "\n",
    "    if meaning:\n",
    "        print(f'{word} \\t-> {meaning}')\n",
    "    else:   # meaning == None인 경우\n",
    "        print(f'{word} \\t-> (not found)')"
   ]
  },
  {
   "cell_type": "code",
   "execution_count": null,
   "metadata": {},
   "outputs": [],
   "source": [
    "students = {\n",
    "    'Alice': [90, 85, 92],\n",
    "    'Bob': [78, 80, 88],\n",
    "    'Charlie': [95, 92, 89]\n",
    "}\n",
    "\n",
    "total_sum = 0\n",
    "total_len = 0\n",
    "\n",
    "best_students = []\n",
    "\n",
    "for name, scores in students.items():\n",
    "    sum_ = sum(scores)\n",
    "    len_ = len(scores)\n",
    "    total_sum += sum_\n",
    "    total_len += len_\n",
    "\n",
    "    avg = sum_ / len(scores)\n",
    "\n",
    "    print(f'{name} 평균: {avg}')\n",
    "\n",
    "    if any(score >= 90 for score in scores):\n",
    "        best_students.append(name)\n",
    "\n",
    "\n",
    "print(f'\\n전체 평균: {total_sum / total_len}')\n",
    "\n",
    "print(f'\\n90점 이상인 점수가 하나라도 있는 학생: {best_students}')"
   ]
  },
  {
   "cell_type": "code",
   "execution_count": null,
   "metadata": {},
   "outputs": [],
   "source": [
    "fruits = ['사과', '포도', '홍시']\n",
    "guess = input('과일을 입력: ')\n",
    "\n",
    "# for문으로 찾기\n",
    "\n",
    "found = False\n",
    "for fruit in fruits:\n",
    "    if fruit == guess:\n",
    "        found = True\n",
    "        break\n",
    "\n",
    "if found:\n",
    "    print('과일을 찾았습니다.')\n",
    "else:\n",
    "    print('과일이 없습니다.')\n",
    "\n",
    "# in 연산자로 찾기\n",
    "\n",
    "found = guess in fruits\n",
    "\n",
    "if found:\n",
    "    print('과일을 찾았습니다.')\n",
    "else:\n",
    "    print('과일이 없습니다.')\n"
   ]
  },
  {
   "cell_type": "code",
   "execution_count": null,
   "metadata": {},
   "outputs": [],
   "source": [
    "def num_max(a, b, c):\n",
    "    if a > b:\n",
    "        if a > c:\n",
    "            return a\n",
    "        return c\n",
    "    if b > c:\n",
    "        return b\n",
    "    return c\n",
    "\n",
    "print(num_max(-1, -3, -5))"
   ]
  },
  {
   "cell_type": "code",
   "execution_count": null,
   "metadata": {},
   "outputs": [],
   "source": [
    "def num_min(nums):\n",
    "    min_ = nums[0]\n",
    "    for num in nums[1:]:\n",
    "        if num < min_:\n",
    "            min_ = num\n",
    "    return min_\n",
    "\n",
    "test_arr = [52, 273, 32, 103, 275, 24, 57]\n",
    "print(num_min(test_arr))"
   ]
  },
  {
   "cell_type": "code",
   "execution_count": null,
   "metadata": {},
   "outputs": [],
   "source": [
    "def print_even(nums):\n",
    "    for num in nums:\n",
    "        if num % 2 == 0:\n",
    "            print(num, end=' ')\n",
    "\n",
    "test_arr = [1, 3, 2, 10, 12, 11, 15] \n",
    "print_even(test_arr)"
   ]
  },
  {
   "cell_type": "code",
   "execution_count": null,
   "metadata": {},
   "outputs": [],
   "source": [
    "def is_leaf_year(year):\n",
    "    if year % 4:\n",
    "        return False\n",
    "    if year % 100:\n",
    "        return True\n",
    "    if year % 400:\n",
    "        return False\n",
    "    return True\n",
    "\n",
    "print(is_leaf_year(2022))\n",
    "print(is_leaf_year(2010))\n",
    "print(is_leaf_year(2000))\n",
    "print(is_leaf_year(1900))\n",
    "print(is_leaf_year(2024))"
   ]
  },
  {
   "cell_type": "code",
   "execution_count": null,
   "metadata": {},
   "outputs": [],
   "source": [
    "def func(a, b):\n",
    "    return a + b,  a - b, a * b, a / b\n",
    "\n",
    "print(func(10, 3))"
   ]
  },
  {
   "cell_type": "code",
   "execution_count": null,
   "metadata": {},
   "outputs": [],
   "source": [
    "d = {\n",
    "    'a': 34_000,\n",
    "    'b': 12_000,\n",
    "    'c': 1_200,\n",
    "    'd': 0,\n",
    "    'e': 3_420\n",
    "}\n",
    "\n",
    "d.items()\n",
    "print(sum(d.values()))\n",
    "\n"
   ]
  },
  {
   "cell_type": "code",
   "execution_count": null,
   "metadata": {},
   "outputs": [],
   "source": [
    "def make_list(string):\n",
    "    return list(string)\n",
    "\n",
    "print(make_list('abcd'))"
   ]
  },
  {
   "cell_type": "code",
   "execution_count": null,
   "metadata": {},
   "outputs": [],
   "source": [
    "def vartest(a):\n",
    "    a = a + 1\n",
    "\n",
    "vartest(3)\n",
    "print(a)"
   ]
  },
  {
   "cell_type": "code",
   "execution_count": null,
   "metadata": {},
   "outputs": [],
   "source": [
    "my_list = [1, 2, 3, 4, 5]\n",
    "\n",
    "\n",
    "def add_one(n):\n",
    "    return n + 1\n",
    "\n",
    "\n",
    "mapped = map(add_one, my_list)\n",
    "print(mapped)\n",
    "\n",
    "for value in mapped:\n",
    "    print(value)"
   ]
  },
  {
   "cell_type": "code",
   "execution_count": null,
   "metadata": {},
   "outputs": [],
   "source": [
    "f = (3.14, -5.625, 100.4, 25.8)\n",
    "\n",
    "mapped1 = map(round, f)\n"
   ]
  },
  {
   "cell_type": "code",
   "execution_count": null,
   "metadata": {},
   "outputs": [],
   "source": [
    "f = (3.14, -5.625, 100.4, 25.8)\n",
    "\n",
    "mapped1 = map(round, f)\n"
   ]
  },
  {
   "cell_type": "code",
   "execution_count": null,
   "metadata": {},
   "outputs": [],
   "source": [
    "names = ['홍길동', '이현령', '철수', '영희']\n",
    "scores = [80, 90, 0, 100]\n",
    "\n",
    "ages = [1202, 24, 15, 16]\n",
    "\n",
    "zipped = zip(names, scores, ages)\n",
    "print(zipped)\n",
    "print(list(zipped))"
   ]
  },
  {
   "cell_type": "code",
   "execution_count": null,
   "metadata": {},
   "outputs": [],
   "source": [
    "# 프셰므님 연습 코드. 저라면 이렇게 짤 것 같아요.\n",
    "\n",
    "def make_image(r, g, b, width, height):\n",
    "    pixels = list(zip(r, g, b))\n",
    "    image = []\n",
    "    for row_idx in range(0, width * height, width):\n",
    "        row = pixels[row_idx:row_idx+width]\n",
    "        image.append(row)\n",
    "    return image\n",
    "\n",
    "r = (1, 2, 3, 4, 5, 6, 7, 8, 9)\n",
    "g = (11, 22, 33, 44, 55, 66, 77, 88, 99)\n",
    "b = (1, 2, 3, 4, 5, 6, 7, 8, 9)\n",
    "\n",
    "image = make_image(r, g, b, 3, 3)\n",
    "print(image)"
   ]
  },
  {
   "cell_type": "code",
   "execution_count": null,
   "metadata": {},
   "outputs": [],
   "source": [
    "def is_even(x):\n",
    "    return x % 2 == 0\n",
    "\n",
    "my_list = [8, 3, 2, 10, 15, 7, 1, 9, 0, 11]\n",
    "\n",
    "# 짝수인 것만 남기고 나머지는 제외\n",
    "filtered = list(filter(is_even, my_list))\n",
    "print(filtered)\n",
    "\n",
    "# 위와 유사합니다.\n",
    "filtered = []\n",
    "for value in my_list:\n",
    "    if is_even(value):\n",
    "        filtered.append(value)"
   ]
  },
  {
   "cell_type": "code",
   "execution_count": null,
   "metadata": {},
   "outputs": [],
   "source": [
    "def filter(func, iter):\n",
    "    result = []\n",
    "    for value in iter:\n",
    "        if func(value):\n",
    "            result.append(value)\n",
    "    return result\n",
    "\n",
    "def is_even(x):\n",
    "    return x % 2 == 0\n",
    "\n",
    "my_list = [8, 3, 2, 10, 15, 7, 1, 9, 0, 11]\n",
    "print(filter(is_even, my_list))"
   ]
  },
  {
   "cell_type": "code",
   "execution_count": null,
   "metadata": {},
   "outputs": [],
   "source": [
    "data = {1: 'a', 2: 'b', 3: 'c'}\n",
    "\n",
    "d = sorted(data.items(), key=lambda item: item[0])\n",
    "print(d)"
   ]
  },
  {
   "cell_type": "code",
   "execution_count": null,
   "metadata": {},
   "outputs": [],
   "source": [
    "for k, v in data.items():\n",
    "    print(k, v)"
   ]
  },
  {
   "cell_type": "code",
   "execution_count": null,
   "metadata": {},
   "outputs": [],
   "source": [
    "import random\n",
    "\n",
    "lotto = []\n",
    "\n",
    "while len(lotto) < 6:\n",
    "    picked = random.randint(6, 45)\n",
    "    if picked not in lotto:\n",
    "        lotto.append(picked)\n",
    "\n",
    "print(lotto)"
   ]
  },
  {
   "cell_type": "code",
   "execution_count": null,
   "metadata": {},
   "outputs": [],
   "source": [
    "import random\n",
    "\n",
    "hands = ('가위', '바위', '보')\n",
    "\n",
    "\n",
    "def check_win(com, user):\n",
    "    if user not in hands:\n",
    "        return '잘못된 입력'\n",
    "    if com == user:\n",
    "        return '비김'\n",
    "    if (com, user) in (('가위', '보'), ('바위', '가위'), ('보', '바위')):\n",
    "        return '컴퓨터가 이김'\n",
    "    return '사용자가 이김'\n",
    "\n",
    "\n",
    "def is_confirmed_to_continue():\n",
    "    user = input('계속 하겠습니까? 계속하려면 아무 글자나 입력하세요: ')\n",
    "    return bool(user)\n",
    "\n",
    "\n",
    "while True:\n",
    "    com = hands[random.randint(0, 2)]\n",
    "    user = input('가위, 바위, 보: ')\n",
    "    \n",
    "    print(f'컴퓨터: {com}')\n",
    "    print(f'사용자: {user}')\n",
    "    print(check_win(com, user))\n",
    "\n",
    "    if not is_confirmed_to_continue():\n",
    "        break\n",
    "\n",
    "    print('='*20)\n"
   ]
  },
  {
   "cell_type": "code",
   "execution_count": 1,
   "metadata": {},
   "outputs": [],
   "source": [
    "class Animal:\n",
    "    def __init__(self, name, age) -> None:\n",
    "        self.name = name\n",
    "        self.age = age"
   ]
  },
  {
   "cell_type": "code",
   "execution_count": 4,
   "metadata": {},
   "outputs": [
    {
     "name": "stdout",
     "output_type": "stream",
     "text": [
      "3\n"
     ]
    }
   ],
   "source": [
    "class FourBasicOperator:\n",
    "    def __init__(self, a, b):\n",
    "        self.a = a\n",
    "        self.b = b\n",
    "\n",
    "    def add(self):\n",
    "        return self.a + self.b\n",
    "\n",
    "    def sub(self):\n",
    "        return self.a - self.b\n",
    "\n",
    "    def mul(self):\n",
    "        return self.a * self.b\n",
    "\n",
    "    def div(self):\n",
    "        return self.a / self.b\n",
    "\n",
    "\n",
    "a = FourBasicOperator(1, 2)\n",
    "print(a.add())"
   ]
  }
 ],
 "metadata": {
  "kernelspec": {
   "display_name": ".venv",
   "language": "python",
   "name": "python3"
  },
  "language_info": {
   "codemirror_mode": {
    "name": "ipython",
    "version": 3
   },
   "file_extension": ".py",
   "mimetype": "text/x-python",
   "name": "python",
   "nbconvert_exporter": "python",
   "pygments_lexer": "ipython3",
   "version": "3.12.7"
  }
 },
 "nbformat": 4,
 "nbformat_minor": 2
}

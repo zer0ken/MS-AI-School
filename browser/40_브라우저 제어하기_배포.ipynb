{
 "cells": [
  {
   "cell_type": "markdown",
   "metadata": {},
   "source": [
    "# 🕸️ Browser"
   ]
  },
  {
   "cell_type": "markdown",
   "metadata": {},
   "source": [
    "### 📥 라이브러리 준비\n",
    "\n",
    "> 적절한 커널을 선택한 뒤에 실행하세요. "
   ]
  },
  {
   "cell_type": "code",
   "execution_count": 1,
   "metadata": {},
   "outputs": [
    {
     "name": "stdout",
     "output_type": "stream",
     "text": [
      "Requirement already satisfied: pip in g:\\zer0ken\\ms-ai-school\\.venv\\lib\\site-packages (25.0)\n",
      "Requirement already satisfied: selenium==4.17.0 in g:\\zer0ken\\ms-ai-school\\.venv\\lib\\site-packages (4.17.0)\n",
      "Requirement already satisfied: typing-extensions in g:\\zer0ken\\ms-ai-school\\.venv\\lib\\site-packages (4.12.2)\n",
      "Requirement already satisfied: urllib3<3,>=1.26 in g:\\zer0ken\\ms-ai-school\\.venv\\lib\\site-packages (from urllib3[socks]<3,>=1.26->selenium==4.17.0) (2.3.0)\n",
      "Requirement already satisfied: trio~=0.17 in g:\\zer0ken\\ms-ai-school\\.venv\\lib\\site-packages (from selenium==4.17.0) (0.28.0)\n",
      "Requirement already satisfied: trio-websocket~=0.9 in g:\\zer0ken\\ms-ai-school\\.venv\\lib\\site-packages (from selenium==4.17.0) (0.11.1)\n",
      "Requirement already satisfied: certifi>=2021.10.8 in g:\\zer0ken\\ms-ai-school\\.venv\\lib\\site-packages (from selenium==4.17.0) (2024.12.14)\n",
      "Requirement already satisfied: attrs>=23.2.0 in g:\\zer0ken\\ms-ai-school\\.venv\\lib\\site-packages (from trio~=0.17->selenium==4.17.0) (25.1.0)\n",
      "Requirement already satisfied: sortedcontainers in g:\\zer0ken\\ms-ai-school\\.venv\\lib\\site-packages (from trio~=0.17->selenium==4.17.0) (2.4.0)\n",
      "Requirement already satisfied: idna in g:\\zer0ken\\ms-ai-school\\.venv\\lib\\site-packages (from trio~=0.17->selenium==4.17.0) (3.10)\n",
      "Requirement already satisfied: outcome in g:\\zer0ken\\ms-ai-school\\.venv\\lib\\site-packages (from trio~=0.17->selenium==4.17.0) (1.3.0.post0)\n",
      "Requirement already satisfied: sniffio>=1.3.0 in g:\\zer0ken\\ms-ai-school\\.venv\\lib\\site-packages (from trio~=0.17->selenium==4.17.0) (1.3.1)\n",
      "Requirement already satisfied: cffi>=1.14 in g:\\zer0ken\\ms-ai-school\\.venv\\lib\\site-packages (from trio~=0.17->selenium==4.17.0) (1.17.1)\n",
      "Requirement already satisfied: wsproto>=0.14 in g:\\zer0ken\\ms-ai-school\\.venv\\lib\\site-packages (from trio-websocket~=0.9->selenium==4.17.0) (1.2.0)\n",
      "Requirement already satisfied: pysocks!=1.5.7,<2.0,>=1.5.6 in g:\\zer0ken\\ms-ai-school\\.venv\\lib\\site-packages (from urllib3[socks]<3,>=1.26->selenium==4.17.0) (1.7.1)\n",
      "Requirement already satisfied: pycparser in g:\\zer0ken\\ms-ai-school\\.venv\\lib\\site-packages (from cffi>=1.14->trio~=0.17->selenium==4.17.0) (2.22)\n",
      "Requirement already satisfied: h11<1,>=0.9.0 in g:\\zer0ken\\ms-ai-school\\.venv\\lib\\site-packages (from wsproto>=0.14->trio-websocket~=0.9->selenium==4.17.0) (0.14.0)\n"
     ]
    }
   ],
   "source": [
    "!python.exe -m pip install --upgrade pip\n",
    "!pip install selenium==4.17.0, typing-extensions"
   ]
  },
  {
   "cell_type": "code",
   "execution_count": 2,
   "metadata": {},
   "outputs": [
    {
     "name": "stdout",
     "output_type": "stream",
     "text": [
      "Name: selenium\n",
      "Version: 4.17.0\n",
      "Summary: \n",
      "Home-page: https://www.selenium.dev\n",
      "Author: \n",
      "Author-email: \n",
      "License: Apache 2.0\n",
      "Location: g:\\zer0ken\\ms-ai-school\\.venv\\Lib\\site-packages\n",
      "Requires: certifi, trio, trio-websocket, urllib3\n",
      "Required-by: \n"
     ]
    }
   ],
   "source": [
    "!pip show selenium"
   ]
  },
  {
   "cell_type": "markdown",
   "metadata": {},
   "source": [
    "### 📟 웹 드라이버 객체 생성\n",
    "- 웹 드라이버 : 브라우저 조작을 위한 도구\n",
    "- selenium의 webdriver 모듈에서 Chrome 브라우저를 제어하기 위한 클래스 제공"
   ]
  },
  {
   "cell_type": "code",
   "execution_count": 3,
   "metadata": {},
   "outputs": [],
   "source": [
    "# 크롬, 엣지 웹 드라이버 클래스 import\n",
    "from selenium.webdriver import Chrome, Edge\n",
    "\n",
    "# 웹 드라이버 객체 생성\n",
    "chrome_driver = Chrome()\n",
    "edge_driver = Edge()\n",
    "drivers = [chrome_driver, edge_driver]"
   ]
  },
  {
   "cell_type": "markdown",
   "metadata": {},
   "source": [
    "### ⌨️ 브라우저 제어\n",
    "- `get(URL)` : 페이지로 이동하기\n",
    "- `back()` : 뒤로가기\n",
    "- `forward()` : 앞으로가기\n",
    "- `refresh()` : 새로고침\n",
    "- `maximize_window()` : 브라우저크기 최대화\n",
    "- `minimize_window()` : 브라우저크기 최소화\n",
    "- `close()` : 웹드라이버로 생성한 현재 창 종료\n",
    "- `quit()` : 웹드라이버로 생성한 모든 창 종료"
   ]
  },
  {
   "cell_type": "code",
   "execution_count": 4,
   "metadata": {},
   "outputs": [],
   "source": [
    "# 페이지 이동1\n",
    "for d in drivers:\n",
    "    d.get('https://google.com')\n",
    "    d.get('https://naver.com')\n",
    "\n",
    "# 새로고침\n",
    "for d in drivers:\n",
    "    d.refresh()\n",
    "\n",
    "# 이전으로 가기\n",
    "for d in drivers:\n",
    "    d.back()\n",
    "    \n",
    "# 웹드라이버로 생성한 모든 창 종료\n",
    "# for d in drivers:\n",
    "    # d.close()"
   ]
  },
  {
   "cell_type": "markdown",
   "metadata": {},
   "source": [
    "### 🔍 요소 가져오기\n",
    "    - `find_element(요소선택방법, 선택자)` : 첫번째 요소 한개만만 가져오기\n",
    "    - `find_elements(요소선택방법, 선택자)` : 요소 모두 가져오기 (리스트)"
   ]
  },
  {
   "cell_type": "code",
   "execution_count": 5,
   "metadata": {},
   "outputs": [
    {
     "data": {
      "text/plain": [
       "[<selenium.webdriver.remote.webelement.WebElement (session=\"e3bf8fdad18e399a34264ec5eb6b9c69\", element=\"f.A53E7D525CA85F8FC583A24501160B8F.d.0FAB1C7C3E9FA14FAACE017CEB63E743.e.98\")>,\n",
       " <selenium.webdriver.remote.webelement.WebElement (session=\"36c90cf42eee87807c7b41ab403f96c8\", element=\"f.E132AFD8BF51BD3173B76B9B26EB81FF.d.0A67D6B60CE23826CA941F0AEF94F2E5.e.3\")>]"
      ]
     },
     "execution_count": 5,
     "metadata": {},
     "output_type": "execute_result"
    }
   ],
   "source": [
    "from selenium.webdriver.common.by import By\n",
    "\n",
    "# 이동하기 (http://www.naver.com)\n",
    "for d in drivers:\n",
    "    d.get('https://www.naver.com')\n",
    "\n",
    "# 검색창 선택하기\n",
    "search = []\n",
    "for d in drivers:\n",
    "    s = d.find_element(By.CSS_SELECTOR, '#query')\n",
    "    # 아래 코드와 동일합니다.\n",
    "    # search = d.find_element(By.ID, 'query')\n",
    "    \n",
    "    search.append(s)\n",
    "\n",
    "search"
   ]
  },
  {
   "cell_type": "markdown",
   "metadata": {},
   "source": [
    "### 🕹️ 요소 제어하기\n",
    "    - `click()` : 요소 클릭\n",
    "    - `send_keys()` : 키 입력"
   ]
  },
  {
   "cell_type": "code",
   "execution_count": 6,
   "metadata": {},
   "outputs": [],
   "source": [
    "# 검색창 클릭\n"
   ]
  },
  {
   "cell_type": "code",
   "execution_count": 7,
   "metadata": {},
   "outputs": [],
   "source": [
    "# 검색어 입력\n"
   ]
  },
  {
   "cell_type": "code",
   "execution_count": 8,
   "metadata": {},
   "outputs": [],
   "source": [
    "# 엔터키 입력\n"
   ]
  },
  {
   "cell_type": "code",
   "execution_count": 9,
   "metadata": {},
   "outputs": [],
   "source": [
    "# 브라우저 닫기"
   ]
  }
 ],
 "metadata": {
  "kernelspec": {
   "display_name": ".venv",
   "language": "python",
   "name": "python3"
  },
  "language_info": {
   "codemirror_mode": {
    "name": "ipython",
    "version": 3
   },
   "file_extension": ".py",
   "mimetype": "text/x-python",
   "name": "python",
   "nbconvert_exporter": "python",
   "pygments_lexer": "ipython3",
   "version": "3.12.7"
  }
 },
 "nbformat": 4,
 "nbformat_minor": 2
}

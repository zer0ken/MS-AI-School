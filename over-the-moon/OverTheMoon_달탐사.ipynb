{
  "cells": [
    {
      "cell_type": "markdown",
      "metadata": {},
      "source": [
        "## 데이터 톺아보기"
      ]
    },
    {
      "cell_type": "code",
      "execution_count": 3,
      "metadata": {
        "gather": {
          "logged": 1718683920330
        }
      },
      "outputs": [],
      "source": [
        "# pandas 라이브러리를 Import하기\n",
        "import pandas as pd "
      ]
    },
    {
      "cell_type": "code",
      "execution_count": 4,
      "metadata": {
        "gather": {
          "logged": 1718683920480
        }
      },
      "outputs": [
        {
          "data": {
            "text/html": [
              "<div>\n",
              "<style scoped>\n",
              "    .dataframe tbody tr th:only-of-type {\n",
              "        vertical-align: middle;\n",
              "    }\n",
              "\n",
              "    .dataframe tbody tr th {\n",
              "        vertical-align: top;\n",
              "    }\n",
              "\n",
              "    .dataframe thead th {\n",
              "        text-align: right;\n",
              "    }\n",
              "</style>\n",
              "<table border=\"1\" class=\"dataframe\">\n",
              "  <thead>\n",
              "    <tr style=\"text-align: right;\">\n",
              "      <th></th>\n",
              "      <th>ID</th>\n",
              "      <th>Mission</th>\n",
              "      <th>Type</th>\n",
              "      <th>Subtype</th>\n",
              "      <th>Weight (g)</th>\n",
              "      <th>Pristine (%)</th>\n",
              "    </tr>\n",
              "  </thead>\n",
              "  <tbody>\n",
              "    <tr>\n",
              "      <th>0</th>\n",
              "      <td>10001</td>\n",
              "      <td>Apollo11</td>\n",
              "      <td>Soil</td>\n",
              "      <td>Unsieved</td>\n",
              "      <td>125.80</td>\n",
              "      <td>88.36</td>\n",
              "    </tr>\n",
              "    <tr>\n",
              "      <th>1</th>\n",
              "      <td>10002</td>\n",
              "      <td>Apollo11</td>\n",
              "      <td>Soil</td>\n",
              "      <td>Unsieved</td>\n",
              "      <td>5629.00</td>\n",
              "      <td>93.73</td>\n",
              "    </tr>\n",
              "    <tr>\n",
              "      <th>2</th>\n",
              "      <td>10003</td>\n",
              "      <td>Apollo11</td>\n",
              "      <td>Basalt</td>\n",
              "      <td>Ilmenite</td>\n",
              "      <td>213.00</td>\n",
              "      <td>65.56</td>\n",
              "    </tr>\n",
              "    <tr>\n",
              "      <th>3</th>\n",
              "      <td>10004</td>\n",
              "      <td>Apollo11</td>\n",
              "      <td>Core</td>\n",
              "      <td>Unsieved</td>\n",
              "      <td>44.80</td>\n",
              "      <td>71.76</td>\n",
              "    </tr>\n",
              "    <tr>\n",
              "      <th>4</th>\n",
              "      <td>10005</td>\n",
              "      <td>Apollo11</td>\n",
              "      <td>Core</td>\n",
              "      <td>Unsieved</td>\n",
              "      <td>53.40</td>\n",
              "      <td>40.31</td>\n",
              "    </tr>\n",
              "    <tr>\n",
              "      <th>...</th>\n",
              "      <td>...</td>\n",
              "      <td>...</td>\n",
              "      <td>...</td>\n",
              "      <td>...</td>\n",
              "      <td>...</td>\n",
              "      <td>...</td>\n",
              "    </tr>\n",
              "    <tr>\n",
              "      <th>2224</th>\n",
              "      <td>79528</td>\n",
              "      <td>Apollo17</td>\n",
              "      <td>Breccia</td>\n",
              "      <td>Regolith</td>\n",
              "      <td>2.38</td>\n",
              "      <td>100.00</td>\n",
              "    </tr>\n",
              "    <tr>\n",
              "      <th>2225</th>\n",
              "      <td>79529</td>\n",
              "      <td>Apollo17</td>\n",
              "      <td>Breccia</td>\n",
              "      <td>Regolith</td>\n",
              "      <td>1.84</td>\n",
              "      <td>100.00</td>\n",
              "    </tr>\n",
              "    <tr>\n",
              "      <th>2226</th>\n",
              "      <td>79535</td>\n",
              "      <td>Apollo17</td>\n",
              "      <td>Breccia</td>\n",
              "      <td>Regolith</td>\n",
              "      <td>1.69</td>\n",
              "      <td>100.00</td>\n",
              "    </tr>\n",
              "    <tr>\n",
              "      <th>2227</th>\n",
              "      <td>79536</td>\n",
              "      <td>Apollo17</td>\n",
              "      <td>Breccia</td>\n",
              "      <td>Regolith</td>\n",
              "      <td>1.66</td>\n",
              "      <td>100.00</td>\n",
              "    </tr>\n",
              "    <tr>\n",
              "      <th>2228</th>\n",
              "      <td>79537</td>\n",
              "      <td>Apollo17</td>\n",
              "      <td>Breccia</td>\n",
              "      <td>Regolith</td>\n",
              "      <td>1.05</td>\n",
              "      <td>100.00</td>\n",
              "    </tr>\n",
              "  </tbody>\n",
              "</table>\n",
              "<p>2229 rows × 6 columns</p>\n",
              "</div>"
            ],
            "text/plain": [
              "         ID   Mission     Type   Subtype  Weight (g)  Pristine (%)\n",
              "0     10001  Apollo11     Soil  Unsieved      125.80         88.36\n",
              "1     10002  Apollo11     Soil  Unsieved     5629.00         93.73\n",
              "2     10003  Apollo11   Basalt  Ilmenite      213.00         65.56\n",
              "3     10004  Apollo11     Core  Unsieved       44.80         71.76\n",
              "4     10005  Apollo11     Core  Unsieved       53.40         40.31\n",
              "...     ...       ...      ...       ...         ...           ...\n",
              "2224  79528  Apollo17  Breccia  Regolith        2.38        100.00\n",
              "2225  79529  Apollo17  Breccia  Regolith        1.84        100.00\n",
              "2226  79535  Apollo17  Breccia  Regolith        1.69        100.00\n",
              "2227  79536  Apollo17  Breccia  Regolith        1.66        100.00\n",
              "2228  79537  Apollo17  Breccia  Regolith        1.05        100.00\n",
              "\n",
              "[2229 rows x 6 columns]"
            ]
          },
          "execution_count": 4,
          "metadata": {},
          "output_type": "execute_result"
        }
      ],
      "source": [
        "# 데이터 파일을 읽어오기\n",
        "\n",
        "rock_samples = pd.read_csv('rocksamples.csv')\n",
        "rock_samples"
      ]
    },
    {
      "cell_type": "code",
      "execution_count": 5,
      "metadata": {
        "gather": {
          "logged": 1718683920653
        }
      },
      "outputs": [
        {
          "data": {
            "text/html": [
              "<div>\n",
              "<style scoped>\n",
              "    .dataframe tbody tr th:only-of-type {\n",
              "        vertical-align: middle;\n",
              "    }\n",
              "\n",
              "    .dataframe tbody tr th {\n",
              "        vertical-align: top;\n",
              "    }\n",
              "\n",
              "    .dataframe thead th {\n",
              "        text-align: right;\n",
              "    }\n",
              "</style>\n",
              "<table border=\"1\" class=\"dataframe\">\n",
              "  <thead>\n",
              "    <tr style=\"text-align: right;\">\n",
              "      <th></th>\n",
              "      <th>ID</th>\n",
              "      <th>Mission</th>\n",
              "      <th>Type</th>\n",
              "      <th>Subtype</th>\n",
              "      <th>Weight (g)</th>\n",
              "      <th>Pristine (%)</th>\n",
              "    </tr>\n",
              "  </thead>\n",
              "  <tbody>\n",
              "    <tr>\n",
              "      <th>0</th>\n",
              "      <td>10001</td>\n",
              "      <td>Apollo11</td>\n",
              "      <td>Soil</td>\n",
              "      <td>Unsieved</td>\n",
              "      <td>125.8</td>\n",
              "      <td>88.36</td>\n",
              "    </tr>\n",
              "    <tr>\n",
              "      <th>1</th>\n",
              "      <td>10002</td>\n",
              "      <td>Apollo11</td>\n",
              "      <td>Soil</td>\n",
              "      <td>Unsieved</td>\n",
              "      <td>5629.0</td>\n",
              "      <td>93.73</td>\n",
              "    </tr>\n",
              "    <tr>\n",
              "      <th>2</th>\n",
              "      <td>10003</td>\n",
              "      <td>Apollo11</td>\n",
              "      <td>Basalt</td>\n",
              "      <td>Ilmenite</td>\n",
              "      <td>213.0</td>\n",
              "      <td>65.56</td>\n",
              "    </tr>\n",
              "    <tr>\n",
              "      <th>3</th>\n",
              "      <td>10004</td>\n",
              "      <td>Apollo11</td>\n",
              "      <td>Core</td>\n",
              "      <td>Unsieved</td>\n",
              "      <td>44.8</td>\n",
              "      <td>71.76</td>\n",
              "    </tr>\n",
              "    <tr>\n",
              "      <th>4</th>\n",
              "      <td>10005</td>\n",
              "      <td>Apollo11</td>\n",
              "      <td>Core</td>\n",
              "      <td>Unsieved</td>\n",
              "      <td>53.4</td>\n",
              "      <td>40.31</td>\n",
              "    </tr>\n",
              "  </tbody>\n",
              "</table>\n",
              "</div>"
            ],
            "text/plain": [
              "      ID   Mission    Type   Subtype  Weight (g)  Pristine (%)\n",
              "0  10001  Apollo11    Soil  Unsieved       125.8         88.36\n",
              "1  10002  Apollo11    Soil  Unsieved      5629.0         93.73\n",
              "2  10003  Apollo11  Basalt  Ilmenite       213.0         65.56\n",
              "3  10004  Apollo11    Core  Unsieved        44.8         71.76\n",
              "4  10005  Apollo11    Core  Unsieved        53.4         40.31"
            ]
          },
          "metadata": {},
          "output_type": "display_data"
        },
        {
          "data": {
            "text/html": [
              "<div>\n",
              "<style scoped>\n",
              "    .dataframe tbody tr th:only-of-type {\n",
              "        vertical-align: middle;\n",
              "    }\n",
              "\n",
              "    .dataframe tbody tr th {\n",
              "        vertical-align: top;\n",
              "    }\n",
              "\n",
              "    .dataframe thead th {\n",
              "        text-align: right;\n",
              "    }\n",
              "</style>\n",
              "<table border=\"1\" class=\"dataframe\">\n",
              "  <thead>\n",
              "    <tr style=\"text-align: right;\">\n",
              "      <th></th>\n",
              "      <th>ID</th>\n",
              "      <th>Mission</th>\n",
              "      <th>Type</th>\n",
              "      <th>Subtype</th>\n",
              "      <th>Weight (g)</th>\n",
              "      <th>Pristine (%)</th>\n",
              "    </tr>\n",
              "  </thead>\n",
              "  <tbody>\n",
              "    <tr>\n",
              "      <th>2224</th>\n",
              "      <td>79528</td>\n",
              "      <td>Apollo17</td>\n",
              "      <td>Breccia</td>\n",
              "      <td>Regolith</td>\n",
              "      <td>2.38</td>\n",
              "      <td>100.0</td>\n",
              "    </tr>\n",
              "    <tr>\n",
              "      <th>2225</th>\n",
              "      <td>79529</td>\n",
              "      <td>Apollo17</td>\n",
              "      <td>Breccia</td>\n",
              "      <td>Regolith</td>\n",
              "      <td>1.84</td>\n",
              "      <td>100.0</td>\n",
              "    </tr>\n",
              "    <tr>\n",
              "      <th>2226</th>\n",
              "      <td>79535</td>\n",
              "      <td>Apollo17</td>\n",
              "      <td>Breccia</td>\n",
              "      <td>Regolith</td>\n",
              "      <td>1.69</td>\n",
              "      <td>100.0</td>\n",
              "    </tr>\n",
              "    <tr>\n",
              "      <th>2227</th>\n",
              "      <td>79536</td>\n",
              "      <td>Apollo17</td>\n",
              "      <td>Breccia</td>\n",
              "      <td>Regolith</td>\n",
              "      <td>1.66</td>\n",
              "      <td>100.0</td>\n",
              "    </tr>\n",
              "    <tr>\n",
              "      <th>2228</th>\n",
              "      <td>79537</td>\n",
              "      <td>Apollo17</td>\n",
              "      <td>Breccia</td>\n",
              "      <td>Regolith</td>\n",
              "      <td>1.05</td>\n",
              "      <td>100.0</td>\n",
              "    </tr>\n",
              "  </tbody>\n",
              "</table>\n",
              "</div>"
            ],
            "text/plain": [
              "         ID   Mission     Type   Subtype  Weight (g)  Pristine (%)\n",
              "2224  79528  Apollo17  Breccia  Regolith        2.38         100.0\n",
              "2225  79529  Apollo17  Breccia  Regolith        1.84         100.0\n",
              "2226  79535  Apollo17  Breccia  Regolith        1.69         100.0\n",
              "2227  79536  Apollo17  Breccia  Regolith        1.66         100.0\n",
              "2228  79537  Apollo17  Breccia  Regolith        1.05         100.0"
            ]
          },
          "metadata": {},
          "output_type": "display_data"
        }
      ],
      "source": [
        "# 데이터프레임 처음과 마지막 5개행 확인하기\n",
        "display(rock_samples.head())\n",
        "display(rock_samples.tail())"
      ]
    },
    {
      "cell_type": "code",
      "execution_count": 6,
      "metadata": {
        "gather": {
          "logged": 1718683920791
        }
      },
      "outputs": [
        {
          "name": "stdout",
          "output_type": "stream",
          "text": [
            "<class 'pandas.core.frame.DataFrame'>\n",
            "RangeIndex: 2229 entries, 0 to 2228\n",
            "Data columns (total 6 columns):\n",
            " #   Column        Non-Null Count  Dtype  \n",
            "---  ------        --------------  -----  \n",
            " 0   ID            2229 non-null   int64  \n",
            " 1   Mission       2229 non-null   object \n",
            " 2   Type          2229 non-null   object \n",
            " 3   Subtype       2226 non-null   object \n",
            " 4   Weight (g)    2229 non-null   float64\n",
            " 5   Pristine (%)  2229 non-null   float64\n",
            "dtypes: float64(2), int64(1), object(3)\n",
            "memory usage: 104.6+ KB\n"
          ]
        }
      ],
      "source": [
        "#rock_samples 데이터프레임 정보 확인하기\n",
        "\n",
        "rock_samples.info()"
      ]
    },
    {
      "cell_type": "code",
      "execution_count": 7,
      "metadata": {
        "gather": {
          "logged": 1718683920927
        }
      },
      "outputs": [
        {
          "data": {
            "text/plain": [
              "2229"
            ]
          },
          "execution_count": 7,
          "metadata": {},
          "output_type": "execute_result"
        }
      ],
      "source": [
        "#rock_samples 데이터프레임 행수 확인\n",
        "\n",
        "rock_samples.shape[0]"
      ]
    },
    {
      "cell_type": "code",
      "execution_count": 8,
      "metadata": {
        "gather": {
          "logged": 1718683921069
        }
      },
      "outputs": [
        {
          "data": {
            "text/plain": [
              "RangeIndex(start=0, stop=2229, step=1)"
            ]
          },
          "execution_count": 8,
          "metadata": {},
          "output_type": "execute_result"
        }
      ],
      "source": [
        "#rock_samples 데이터 프레임의 인덱스 확인\n",
        "\n",
        "rock_samples.index"
      ]
    },
    {
      "cell_type": "code",
      "execution_count": 9,
      "metadata": {
        "gather": {
          "logged": 1718683921221
        }
      },
      "outputs": [
        {
          "data": {
            "text/plain": [
              "6"
            ]
          },
          "execution_count": 9,
          "metadata": {},
          "output_type": "execute_result"
        }
      ],
      "source": [
        "#rock_samples 데이터프레임 열수 확인\n",
        "\n",
        "rock_samples.shape[1]"
      ]
    },
    {
      "cell_type": "code",
      "execution_count": 10,
      "metadata": {
        "gather": {
          "logged": 1718683921363
        }
      },
      "outputs": [
        {
          "data": {
            "text/plain": [
              "(2229, 6)"
            ]
          },
          "execution_count": 10,
          "metadata": {},
          "output_type": "execute_result"
        }
      ],
      "source": [
        "#rock_samples 데이터프레임의 모양 확인\n",
        "\n",
        "rock_samples.shape"
      ]
    },
    {
      "cell_type": "code",
      "execution_count": 11,
      "metadata": {
        "gather": {
          "logged": 1718683921516
        }
      },
      "outputs": [
        {
          "data": {
            "text/plain": [
              "Index(['ID', 'Mission', 'Type', 'Subtype', 'Weight (g)', 'Pristine (%)'], dtype='object')"
            ]
          },
          "execution_count": 11,
          "metadata": {},
          "output_type": "execute_result"
        }
      ],
      "source": [
        "#rock_samples 데이터프레임의 컬럼명 확인\n",
        "\n",
        "rock_samples.columns"
      ]
    },
    {
      "cell_type": "code",
      "execution_count": 12,
      "metadata": {
        "gather": {
          "logged": 1718683921666
        }
      },
      "outputs": [
        {
          "data": {
            "text/plain": [
              "ID                int64\n",
              "Mission          object\n",
              "Type             object\n",
              "Subtype          object\n",
              "Weight (g)      float64\n",
              "Pristine (%)    float64\n",
              "dtype: object"
            ]
          },
          "execution_count": 12,
          "metadata": {},
          "output_type": "execute_result"
        }
      ],
      "source": [
        "#rock_samples 데이터프레임 컬럼들의 데이터타입 확인\n",
        "\n",
        "rock_samples.dtypes"
      ]
    },
    {
      "cell_type": "code",
      "execution_count": 13,
      "metadata": {
        "gather": {
          "logged": 1718683921813
        }
      },
      "outputs": [
        {
          "data": {
            "text/html": [
              "<div>\n",
              "<style scoped>\n",
              "    .dataframe tbody tr th:only-of-type {\n",
              "        vertical-align: middle;\n",
              "    }\n",
              "\n",
              "    .dataframe tbody tr th {\n",
              "        vertical-align: top;\n",
              "    }\n",
              "\n",
              "    .dataframe thead th {\n",
              "        text-align: right;\n",
              "    }\n",
              "</style>\n",
              "<table border=\"1\" class=\"dataframe\">\n",
              "  <thead>\n",
              "    <tr style=\"text-align: right;\">\n",
              "      <th></th>\n",
              "      <th>ID</th>\n",
              "      <th>Weight (g)</th>\n",
              "      <th>Pristine (%)</th>\n",
              "    </tr>\n",
              "  </thead>\n",
              "  <tbody>\n",
              "    <tr>\n",
              "      <th>count</th>\n",
              "      <td>2229.000000</td>\n",
              "      <td>2229.000000</td>\n",
              "      <td>2229.000000</td>\n",
              "    </tr>\n",
              "    <tr>\n",
              "      <th>mean</th>\n",
              "      <td>52058.432032</td>\n",
              "      <td>168.253024</td>\n",
              "      <td>84.512764</td>\n",
              "    </tr>\n",
              "    <tr>\n",
              "      <th>std</th>\n",
              "      <td>26207.651471</td>\n",
              "      <td>637.286458</td>\n",
              "      <td>22.057299</td>\n",
              "    </tr>\n",
              "    <tr>\n",
              "      <th>min</th>\n",
              "      <td>10001.000000</td>\n",
              "      <td>0.000000</td>\n",
              "      <td>0.000000</td>\n",
              "    </tr>\n",
              "    <tr>\n",
              "      <th>25%</th>\n",
              "      <td>15437.000000</td>\n",
              "      <td>3.000000</td>\n",
              "      <td>80.010000</td>\n",
              "    </tr>\n",
              "    <tr>\n",
              "      <th>50%</th>\n",
              "      <td>65527.000000</td>\n",
              "      <td>10.200000</td>\n",
              "      <td>92.300000</td>\n",
              "    </tr>\n",
              "    <tr>\n",
              "      <th>75%</th>\n",
              "      <td>72142.000000</td>\n",
              "      <td>93.490000</td>\n",
              "      <td>98.140000</td>\n",
              "    </tr>\n",
              "    <tr>\n",
              "      <th>max</th>\n",
              "      <td>79537.000000</td>\n",
              "      <td>11729.000000</td>\n",
              "      <td>180.000000</td>\n",
              "    </tr>\n",
              "  </tbody>\n",
              "</table>\n",
              "</div>"
            ],
            "text/plain": [
              "                 ID    Weight (g)  Pristine (%)\n",
              "count   2229.000000   2229.000000   2229.000000\n",
              "mean   52058.432032    168.253024     84.512764\n",
              "std    26207.651471    637.286458     22.057299\n",
              "min    10001.000000      0.000000      0.000000\n",
              "25%    15437.000000      3.000000     80.010000\n",
              "50%    65527.000000     10.200000     92.300000\n",
              "75%    72142.000000     93.490000     98.140000\n",
              "max    79537.000000  11729.000000    180.000000"
            ]
          },
          "metadata": {},
          "output_type": "display_data"
        },
        {
          "data": {
            "text/html": [
              "<div>\n",
              "<style scoped>\n",
              "    .dataframe tbody tr th:only-of-type {\n",
              "        vertical-align: middle;\n",
              "    }\n",
              "\n",
              "    .dataframe tbody tr th {\n",
              "        vertical-align: top;\n",
              "    }\n",
              "\n",
              "    .dataframe thead th {\n",
              "        text-align: right;\n",
              "    }\n",
              "</style>\n",
              "<table border=\"1\" class=\"dataframe\">\n",
              "  <thead>\n",
              "    <tr style=\"text-align: right;\">\n",
              "      <th></th>\n",
              "      <th>ID</th>\n",
              "      <th>Mission</th>\n",
              "      <th>Type</th>\n",
              "      <th>Subtype</th>\n",
              "      <th>Weight (g)</th>\n",
              "      <th>Pristine (%)</th>\n",
              "    </tr>\n",
              "  </thead>\n",
              "  <tbody>\n",
              "    <tr>\n",
              "      <th>50</th>\n",
              "      <td>10070</td>\n",
              "      <td>Apollo11</td>\n",
              "      <td>Breccia</td>\n",
              "      <td>Regolith</td>\n",
              "      <td>60.16</td>\n",
              "      <td>112.50</td>\n",
              "    </tr>\n",
              "    <tr>\n",
              "      <th>82</th>\n",
              "      <td>12016</td>\n",
              "      <td>Apollo12</td>\n",
              "      <td>Basalt</td>\n",
              "      <td>Ilmenite</td>\n",
              "      <td>2028.00</td>\n",
              "      <td>100.08</td>\n",
              "    </tr>\n",
              "    <tr>\n",
              "      <th>91</th>\n",
              "      <td>12025</td>\n",
              "      <td>Apollo12</td>\n",
              "      <td>Core</td>\n",
              "      <td>Unsieved</td>\n",
              "      <td>56.10</td>\n",
              "      <td>163.41</td>\n",
              "    </tr>\n",
              "    <tr>\n",
              "      <th>123</th>\n",
              "      <td>12060</td>\n",
              "      <td>Apollo12</td>\n",
              "      <td>Soil</td>\n",
              "      <td>Unsieved</td>\n",
              "      <td>20.70</td>\n",
              "      <td>107.11</td>\n",
              "    </tr>\n",
              "    <tr>\n",
              "      <th>279</th>\n",
              "      <td>14288</td>\n",
              "      <td>Apollo14</td>\n",
              "      <td>Breccia</td>\n",
              "      <td>ImpactMelt</td>\n",
              "      <td>3.44</td>\n",
              "      <td>100.58</td>\n",
              "    </tr>\n",
              "    <tr>\n",
              "      <th>294</th>\n",
              "      <td>14306</td>\n",
              "      <td>Apollo14</td>\n",
              "      <td>Breccia</td>\n",
              "      <td>Fragmental</td>\n",
              "      <td>584.50</td>\n",
              "      <td>129.14</td>\n",
              "    </tr>\n",
              "    <tr>\n",
              "      <th>365</th>\n",
              "      <td>15024</td>\n",
              "      <td>Apollo15</td>\n",
              "      <td>Soil</td>\n",
              "      <td>4-10mm</td>\n",
              "      <td>3.60</td>\n",
              "      <td>106.11</td>\n",
              "    </tr>\n",
              "    <tr>\n",
              "      <th>424</th>\n",
              "      <td>15203</td>\n",
              "      <td>Apollo15</td>\n",
              "      <td>Soil</td>\n",
              "      <td>2-4mm</td>\n",
              "      <td>0.20</td>\n",
              "      <td>180.00</td>\n",
              "    </tr>\n",
              "    <tr>\n",
              "      <th>438</th>\n",
              "      <td>15230</td>\n",
              "      <td>Apollo15</td>\n",
              "      <td>Soil</td>\n",
              "      <td>Unsieved</td>\n",
              "      <td>99.10</td>\n",
              "      <td>100.24</td>\n",
              "    </tr>\n",
              "    <tr>\n",
              "      <th>465</th>\n",
              "      <td>15267</td>\n",
              "      <td>Apollo15</td>\n",
              "      <td>Breccia</td>\n",
              "      <td>Regolith</td>\n",
              "      <td>1.80</td>\n",
              "      <td>106.50</td>\n",
              "    </tr>\n",
              "    <tr>\n",
              "      <th>581</th>\n",
              "      <td>15504</td>\n",
              "      <td>Apollo15</td>\n",
              "      <td>Soil</td>\n",
              "      <td>4-10mm</td>\n",
              "      <td>4.10</td>\n",
              "      <td>100.73</td>\n",
              "    </tr>\n",
              "    <tr>\n",
              "      <th>697</th>\n",
              "      <td>15685</td>\n",
              "      <td>Apollo15</td>\n",
              "      <td>Breccia</td>\n",
              "      <td>Regolith</td>\n",
              "      <td>0.80</td>\n",
              "      <td>116.25</td>\n",
              "    </tr>\n",
              "    <tr>\n",
              "      <th>698</th>\n",
              "      <td>15686</td>\n",
              "      <td>Apollo15</td>\n",
              "      <td>Breccia</td>\n",
              "      <td>Regolith</td>\n",
              "      <td>0.90</td>\n",
              "      <td>117.22</td>\n",
              "    </tr>\n",
              "    <tr>\n",
              "      <th>699</th>\n",
              "      <td>15687</td>\n",
              "      <td>Apollo15</td>\n",
              "      <td>Breccia</td>\n",
              "      <td>Agglomerate</td>\n",
              "      <td>1.40</td>\n",
              "      <td>100.43</td>\n",
              "    </tr>\n",
              "    <tr>\n",
              "      <th>847</th>\n",
              "      <td>61284</td>\n",
              "      <td>Apollo16</td>\n",
              "      <td>Soil</td>\n",
              "      <td>4-10mm</td>\n",
              "      <td>0.00</td>\n",
              "      <td>102.10</td>\n",
              "    </tr>\n",
              "    <tr>\n",
              "      <th>1440</th>\n",
              "      <td>68824</td>\n",
              "      <td>Apollo16</td>\n",
              "      <td>Soil</td>\n",
              "      <td>4-10mm</td>\n",
              "      <td>1.50</td>\n",
              "      <td>103.60</td>\n",
              "    </tr>\n",
              "    <tr>\n",
              "      <th>1529</th>\n",
              "      <td>70184</td>\n",
              "      <td>Apollo17</td>\n",
              "      <td>Soil</td>\n",
              "      <td>4-10mm</td>\n",
              "      <td>1.68</td>\n",
              "      <td>101.73</td>\n",
              "    </tr>\n",
              "    <tr>\n",
              "      <th>1853</th>\n",
              "      <td>74120</td>\n",
              "      <td>Apollo17</td>\n",
              "      <td>Soil</td>\n",
              "      <td>Unsieved</td>\n",
              "      <td>124.10</td>\n",
              "      <td>100.20</td>\n",
              "    </tr>\n",
              "  </tbody>\n",
              "</table>\n",
              "</div>"
            ],
            "text/plain": [
              "         ID   Mission     Type      Subtype  Weight (g)  Pristine (%)\n",
              "50    10070  Apollo11  Breccia     Regolith       60.16        112.50\n",
              "82    12016  Apollo12   Basalt     Ilmenite     2028.00        100.08\n",
              "91    12025  Apollo12     Core     Unsieved       56.10        163.41\n",
              "123   12060  Apollo12     Soil     Unsieved       20.70        107.11\n",
              "279   14288  Apollo14  Breccia   ImpactMelt        3.44        100.58\n",
              "294   14306  Apollo14  Breccia   Fragmental      584.50        129.14\n",
              "365   15024  Apollo15     Soil       4-10mm        3.60        106.11\n",
              "424   15203  Apollo15     Soil        2-4mm        0.20        180.00\n",
              "438   15230  Apollo15     Soil     Unsieved       99.10        100.24\n",
              "465   15267  Apollo15  Breccia     Regolith        1.80        106.50\n",
              "581   15504  Apollo15     Soil       4-10mm        4.10        100.73\n",
              "697   15685  Apollo15  Breccia     Regolith        0.80        116.25\n",
              "698   15686  Apollo15  Breccia     Regolith        0.90        117.22\n",
              "699   15687  Apollo15  Breccia  Agglomerate        1.40        100.43\n",
              "847   61284  Apollo16     Soil       4-10mm        0.00        102.10\n",
              "1440  68824  Apollo16     Soil       4-10mm        1.50        103.60\n",
              "1529  70184  Apollo17     Soil       4-10mm        1.68        101.73\n",
              "1853  74120  Apollo17     Soil     Unsieved      124.10        100.20"
            ]
          },
          "metadata": {},
          "output_type": "display_data"
        },
        {
          "name": "stdout",
          "output_type": "stream",
          "text": [
            "18\n"
          ]
        }
      ],
      "source": [
        "# rock_samples 데이터프레임 수치 데이터의 요약 통계 확인\n",
        "\n",
        "display(rock_samples.describe())\n",
        "\n",
        "over_hundred_pristine = rock_samples[rock_samples['Pristine (%)'] > 100.0]\n",
        "display(over_hundred_pristine)\n",
        "print(len(over_hundred_pristine))"
      ]
    },
    {
      "cell_type": "markdown",
      "metadata": {},
      "source": [
        "## 각 컬럼별 누락값 검사"
      ]
    },
    {
      "cell_type": "code",
      "execution_count": 14,
      "metadata": {
        "gather": {
          "logged": 1718683922187
        }
      },
      "outputs": [
        {
          "data": {
            "text/html": [
              "<div>\n",
              "<style scoped>\n",
              "    .dataframe tbody tr th:only-of-type {\n",
              "        vertical-align: middle;\n",
              "    }\n",
              "\n",
              "    .dataframe tbody tr th {\n",
              "        vertical-align: top;\n",
              "    }\n",
              "\n",
              "    .dataframe thead th {\n",
              "        text-align: right;\n",
              "    }\n",
              "</style>\n",
              "<table border=\"1\" class=\"dataframe\">\n",
              "  <thead>\n",
              "    <tr style=\"text-align: right;\">\n",
              "      <th></th>\n",
              "      <th>ID</th>\n",
              "      <th>Mission</th>\n",
              "      <th>Type</th>\n",
              "      <th>Subtype</th>\n",
              "      <th>Weight (g)</th>\n",
              "      <th>Pristine (%)</th>\n",
              "    </tr>\n",
              "  </thead>\n",
              "  <tbody>\n",
              "    <tr>\n",
              "      <th>0</th>\n",
              "      <td>False</td>\n",
              "      <td>False</td>\n",
              "      <td>False</td>\n",
              "      <td>False</td>\n",
              "      <td>False</td>\n",
              "      <td>False</td>\n",
              "    </tr>\n",
              "    <tr>\n",
              "      <th>1</th>\n",
              "      <td>False</td>\n",
              "      <td>False</td>\n",
              "      <td>False</td>\n",
              "      <td>False</td>\n",
              "      <td>False</td>\n",
              "      <td>False</td>\n",
              "    </tr>\n",
              "    <tr>\n",
              "      <th>2</th>\n",
              "      <td>False</td>\n",
              "      <td>False</td>\n",
              "      <td>False</td>\n",
              "      <td>False</td>\n",
              "      <td>False</td>\n",
              "      <td>False</td>\n",
              "    </tr>\n",
              "    <tr>\n",
              "      <th>3</th>\n",
              "      <td>False</td>\n",
              "      <td>False</td>\n",
              "      <td>False</td>\n",
              "      <td>False</td>\n",
              "      <td>False</td>\n",
              "      <td>False</td>\n",
              "    </tr>\n",
              "    <tr>\n",
              "      <th>4</th>\n",
              "      <td>False</td>\n",
              "      <td>False</td>\n",
              "      <td>False</td>\n",
              "      <td>False</td>\n",
              "      <td>False</td>\n",
              "      <td>False</td>\n",
              "    </tr>\n",
              "    <tr>\n",
              "      <th>...</th>\n",
              "      <td>...</td>\n",
              "      <td>...</td>\n",
              "      <td>...</td>\n",
              "      <td>...</td>\n",
              "      <td>...</td>\n",
              "      <td>...</td>\n",
              "    </tr>\n",
              "    <tr>\n",
              "      <th>2224</th>\n",
              "      <td>False</td>\n",
              "      <td>False</td>\n",
              "      <td>False</td>\n",
              "      <td>False</td>\n",
              "      <td>False</td>\n",
              "      <td>False</td>\n",
              "    </tr>\n",
              "    <tr>\n",
              "      <th>2225</th>\n",
              "      <td>False</td>\n",
              "      <td>False</td>\n",
              "      <td>False</td>\n",
              "      <td>False</td>\n",
              "      <td>False</td>\n",
              "      <td>False</td>\n",
              "    </tr>\n",
              "    <tr>\n",
              "      <th>2226</th>\n",
              "      <td>False</td>\n",
              "      <td>False</td>\n",
              "      <td>False</td>\n",
              "      <td>False</td>\n",
              "      <td>False</td>\n",
              "      <td>False</td>\n",
              "    </tr>\n",
              "    <tr>\n",
              "      <th>2227</th>\n",
              "      <td>False</td>\n",
              "      <td>False</td>\n",
              "      <td>False</td>\n",
              "      <td>False</td>\n",
              "      <td>False</td>\n",
              "      <td>False</td>\n",
              "    </tr>\n",
              "    <tr>\n",
              "      <th>2228</th>\n",
              "      <td>False</td>\n",
              "      <td>False</td>\n",
              "      <td>False</td>\n",
              "      <td>False</td>\n",
              "      <td>False</td>\n",
              "      <td>False</td>\n",
              "    </tr>\n",
              "  </tbody>\n",
              "</table>\n",
              "<p>2229 rows × 6 columns</p>\n",
              "</div>"
            ],
            "text/plain": [
              "         ID  Mission   Type  Subtype  Weight (g)  Pristine (%)\n",
              "0     False    False  False    False       False         False\n",
              "1     False    False  False    False       False         False\n",
              "2     False    False  False    False       False         False\n",
              "3     False    False  False    False       False         False\n",
              "4     False    False  False    False       False         False\n",
              "...     ...      ...    ...      ...         ...           ...\n",
              "2224  False    False  False    False       False         False\n",
              "2225  False    False  False    False       False         False\n",
              "2226  False    False  False    False       False         False\n",
              "2227  False    False  False    False       False         False\n",
              "2228  False    False  False    False       False         False\n",
              "\n",
              "[2229 rows x 6 columns]"
            ]
          },
          "execution_count": 14,
          "metadata": {},
          "output_type": "execute_result"
        }
      ],
      "source": [
        "# 1단계 -> rock_samples 데이터프레임에 null값이 있는지 확인\n",
        "\n",
        "rock_samples.isnull()"
      ]
    },
    {
      "cell_type": "code",
      "execution_count": 15,
      "metadata": {
        "gather": {
          "logged": 1718683922531
        }
      },
      "outputs": [
        {
          "data": {
            "text/plain": [
              "ID              0\n",
              "Mission         0\n",
              "Type            0\n",
              "Subtype         3\n",
              "Weight (g)      0\n",
              "Pristine (%)    0\n",
              "dtype: int64"
            ]
          },
          "execution_count": 15,
          "metadata": {},
          "output_type": "execute_result"
        }
      ],
      "source": [
        "#결측치 갯수 확인인. false:0, True:1\n",
        "rock_samples.isnull().sum()"
      ]
    },
    {
      "cell_type": "markdown",
      "metadata": {},
      "source": [
        "## 컬럼값 변환 : weight(g) -> weight(kg)\n",
        "    "
      ]
    },
    {
      "cell_type": "code",
      "execution_count": 16,
      "metadata": {
        "gather": {
          "logged": 1718683922744
        }
      },
      "outputs": [
        {
          "data": {
            "text/html": [
              "<div>\n",
              "<style scoped>\n",
              "    .dataframe tbody tr th:only-of-type {\n",
              "        vertical-align: middle;\n",
              "    }\n",
              "\n",
              "    .dataframe tbody tr th {\n",
              "        vertical-align: top;\n",
              "    }\n",
              "\n",
              "    .dataframe thead th {\n",
              "        text-align: right;\n",
              "    }\n",
              "</style>\n",
              "<table border=\"1\" class=\"dataframe\">\n",
              "  <thead>\n",
              "    <tr style=\"text-align: right;\">\n",
              "      <th></th>\n",
              "      <th>ID</th>\n",
              "      <th>Mission</th>\n",
              "      <th>Type</th>\n",
              "      <th>Subtype</th>\n",
              "      <th>Weight (g)</th>\n",
              "      <th>Pristine (%)</th>\n",
              "    </tr>\n",
              "  </thead>\n",
              "  <tbody>\n",
              "    <tr>\n",
              "      <th>0</th>\n",
              "      <td>10001</td>\n",
              "      <td>Apollo11</td>\n",
              "      <td>Soil</td>\n",
              "      <td>Unsieved</td>\n",
              "      <td>125.8</td>\n",
              "      <td>88.36</td>\n",
              "    </tr>\n",
              "    <tr>\n",
              "      <th>1</th>\n",
              "      <td>10002</td>\n",
              "      <td>Apollo11</td>\n",
              "      <td>Soil</td>\n",
              "      <td>Unsieved</td>\n",
              "      <td>5629.0</td>\n",
              "      <td>93.73</td>\n",
              "    </tr>\n",
              "  </tbody>\n",
              "</table>\n",
              "</div>"
            ],
            "text/plain": [
              "      ID   Mission  Type   Subtype  Weight (g)  Pristine (%)\n",
              "0  10001  Apollo11  Soil  Unsieved       125.8         88.36\n",
              "1  10002  Apollo11  Soil  Unsieved      5629.0         93.73"
            ]
          },
          "execution_count": 16,
          "metadata": {},
          "output_type": "execute_result"
        }
      ],
      "source": [
        "rock_samples.head(2)"
      ]
    },
    {
      "cell_type": "code",
      "execution_count": 17,
      "metadata": {
        "gather": {
          "logged": 1718683922899
        }
      },
      "outputs": [
        {
          "data": {
            "text/plain": [
              "0        125.80\n",
              "1       5629.00\n",
              "2        213.00\n",
              "3         44.80\n",
              "4         53.40\n",
              "         ...   \n",
              "2224       2.38\n",
              "2225       1.84\n",
              "2226       1.69\n",
              "2227       1.66\n",
              "2228       1.05\n",
              "Name: Weight (g), Length: 2229, dtype: float64"
            ]
          },
          "execution_count": 17,
          "metadata": {},
          "output_type": "execute_result"
        }
      ],
      "source": [
        "rock_samples['Weight (g)']"
      ]
    },
    {
      "cell_type": "code",
      "execution_count": 18,
      "metadata": {
        "gather": {
          "logged": 1718683923109
        }
      },
      "outputs": [],
      "source": [
        "# 1단계 -> 컬럼값변환 : rock_samples['Weight (g)'] -> rock_samples['Weight (kg)]\n",
        "\n",
        "rock_samples['Weight (kg)'] = rock_samples['Weight (g)'] / 1000\n",
        "\n",
        "# 위 코드와 동일\n",
        "# rock_samples['Weight (kg)'] = rock_samples['Weight (g)'].apply(lambda x: x / 1000)"
      ]
    },
    {
      "cell_type": "code",
      "execution_count": 19,
      "metadata": {
        "gather": {
          "logged": 1718683923395
        }
      },
      "outputs": [
        {
          "data": {
            "text/html": [
              "<div>\n",
              "<style scoped>\n",
              "    .dataframe tbody tr th:only-of-type {\n",
              "        vertical-align: middle;\n",
              "    }\n",
              "\n",
              "    .dataframe tbody tr th {\n",
              "        vertical-align: top;\n",
              "    }\n",
              "\n",
              "    .dataframe thead th {\n",
              "        text-align: right;\n",
              "    }\n",
              "</style>\n",
              "<table border=\"1\" class=\"dataframe\">\n",
              "  <thead>\n",
              "    <tr style=\"text-align: right;\">\n",
              "      <th></th>\n",
              "      <th>ID</th>\n",
              "      <th>Mission</th>\n",
              "      <th>Type</th>\n",
              "      <th>Subtype</th>\n",
              "      <th>Weight (g)</th>\n",
              "      <th>Pristine (%)</th>\n",
              "      <th>Weight (kg)</th>\n",
              "    </tr>\n",
              "  </thead>\n",
              "  <tbody>\n",
              "    <tr>\n",
              "      <th>0</th>\n",
              "      <td>10001</td>\n",
              "      <td>Apollo11</td>\n",
              "      <td>Soil</td>\n",
              "      <td>Unsieved</td>\n",
              "      <td>125.8</td>\n",
              "      <td>88.36</td>\n",
              "      <td>0.1258</td>\n",
              "    </tr>\n",
              "    <tr>\n",
              "      <th>1</th>\n",
              "      <td>10002</td>\n",
              "      <td>Apollo11</td>\n",
              "      <td>Soil</td>\n",
              "      <td>Unsieved</td>\n",
              "      <td>5629.0</td>\n",
              "      <td>93.73</td>\n",
              "      <td>5.6290</td>\n",
              "    </tr>\n",
              "    <tr>\n",
              "      <th>2</th>\n",
              "      <td>10003</td>\n",
              "      <td>Apollo11</td>\n",
              "      <td>Basalt</td>\n",
              "      <td>Ilmenite</td>\n",
              "      <td>213.0</td>\n",
              "      <td>65.56</td>\n",
              "      <td>0.2130</td>\n",
              "    </tr>\n",
              "    <tr>\n",
              "      <th>3</th>\n",
              "      <td>10004</td>\n",
              "      <td>Apollo11</td>\n",
              "      <td>Core</td>\n",
              "      <td>Unsieved</td>\n",
              "      <td>44.8</td>\n",
              "      <td>71.76</td>\n",
              "      <td>0.0448</td>\n",
              "    </tr>\n",
              "    <tr>\n",
              "      <th>4</th>\n",
              "      <td>10005</td>\n",
              "      <td>Apollo11</td>\n",
              "      <td>Core</td>\n",
              "      <td>Unsieved</td>\n",
              "      <td>53.4</td>\n",
              "      <td>40.31</td>\n",
              "      <td>0.0534</td>\n",
              "    </tr>\n",
              "  </tbody>\n",
              "</table>\n",
              "</div>"
            ],
            "text/plain": [
              "      ID   Mission    Type   Subtype  Weight (g)  Pristine (%)  Weight (kg)\n",
              "0  10001  Apollo11    Soil  Unsieved       125.8         88.36       0.1258\n",
              "1  10002  Apollo11    Soil  Unsieved      5629.0         93.73       5.6290\n",
              "2  10003  Apollo11  Basalt  Ilmenite       213.0         65.56       0.2130\n",
              "3  10004  Apollo11    Core  Unsieved        44.8         71.76       0.0448\n",
              "4  10005  Apollo11    Core  Unsieved        53.4         40.31       0.0534"
            ]
          },
          "execution_count": 19,
          "metadata": {},
          "output_type": "execute_result"
        }
      ],
      "source": [
        "rock_samples.head()"
      ]
    },
    {
      "cell_type": "code",
      "execution_count": 20,
      "metadata": {
        "gather": {
          "logged": 1718683923601
        }
      },
      "outputs": [
        {
          "data": {
            "text/html": [
              "<div>\n",
              "<style scoped>\n",
              "    .dataframe tbody tr th:only-of-type {\n",
              "        vertical-align: middle;\n",
              "    }\n",
              "\n",
              "    .dataframe tbody tr th {\n",
              "        vertical-align: top;\n",
              "    }\n",
              "\n",
              "    .dataframe thead th {\n",
              "        text-align: right;\n",
              "    }\n",
              "</style>\n",
              "<table border=\"1\" class=\"dataframe\">\n",
              "  <thead>\n",
              "    <tr style=\"text-align: right;\">\n",
              "      <th></th>\n",
              "      <th>ID</th>\n",
              "      <th>Mission</th>\n",
              "      <th>Type</th>\n",
              "      <th>Subtype</th>\n",
              "      <th>Pristine (%)</th>\n",
              "      <th>Weight (kg)</th>\n",
              "    </tr>\n",
              "  </thead>\n",
              "  <tbody>\n",
              "    <tr>\n",
              "      <th>0</th>\n",
              "      <td>10001</td>\n",
              "      <td>Apollo11</td>\n",
              "      <td>Soil</td>\n",
              "      <td>Unsieved</td>\n",
              "      <td>88.36</td>\n",
              "      <td>0.1258</td>\n",
              "    </tr>\n",
              "    <tr>\n",
              "      <th>1</th>\n",
              "      <td>10002</td>\n",
              "      <td>Apollo11</td>\n",
              "      <td>Soil</td>\n",
              "      <td>Unsieved</td>\n",
              "      <td>93.73</td>\n",
              "      <td>5.6290</td>\n",
              "    </tr>\n",
              "    <tr>\n",
              "      <th>2</th>\n",
              "      <td>10003</td>\n",
              "      <td>Apollo11</td>\n",
              "      <td>Basalt</td>\n",
              "      <td>Ilmenite</td>\n",
              "      <td>65.56</td>\n",
              "      <td>0.2130</td>\n",
              "    </tr>\n",
              "    <tr>\n",
              "      <th>3</th>\n",
              "      <td>10004</td>\n",
              "      <td>Apollo11</td>\n",
              "      <td>Core</td>\n",
              "      <td>Unsieved</td>\n",
              "      <td>71.76</td>\n",
              "      <td>0.0448</td>\n",
              "    </tr>\n",
              "    <tr>\n",
              "      <th>4</th>\n",
              "      <td>10005</td>\n",
              "      <td>Apollo11</td>\n",
              "      <td>Core</td>\n",
              "      <td>Unsieved</td>\n",
              "      <td>40.31</td>\n",
              "      <td>0.0534</td>\n",
              "    </tr>\n",
              "  </tbody>\n",
              "</table>\n",
              "</div>"
            ],
            "text/plain": [
              "      ID   Mission    Type   Subtype  Pristine (%)  Weight (kg)\n",
              "0  10001  Apollo11    Soil  Unsieved         88.36       0.1258\n",
              "1  10002  Apollo11    Soil  Unsieved         93.73       5.6290\n",
              "2  10003  Apollo11  Basalt  Ilmenite         65.56       0.2130\n",
              "3  10004  Apollo11    Core  Unsieved         71.76       0.0448\n",
              "4  10005  Apollo11    Core  Unsieved         40.31       0.0534"
            ]
          },
          "execution_count": 20,
          "metadata": {},
          "output_type": "execute_result"
        }
      ],
      "source": [
        "#2단계 -> 컬럼명 변환 : 'Weight(g)' -> 'Weight(kg)\n",
        "\n",
        "# 그냥 드랍\n",
        "rock_samples.drop('Weight (g)', axis=1, inplace=True)\n",
        "rock_samples.head()"
      ]
    },
    {
      "cell_type": "markdown",
      "metadata": {},
      "source": [
        "## 아폴로 임무별 데이터 프레임 만들기 : missions"
      ]
    },
    {
      "cell_type": "code",
      "execution_count": 82,
      "metadata": {
        "gather": {
          "logged": 1718683923800
        }
      },
      "outputs": [
        {
          "data": {
            "text/html": [
              "<div>\n",
              "<style scoped>\n",
              "    .dataframe tbody tr th:only-of-type {\n",
              "        vertical-align: middle;\n",
              "    }\n",
              "\n",
              "    .dataframe tbody tr th {\n",
              "        vertical-align: top;\n",
              "    }\n",
              "\n",
              "    .dataframe thead th {\n",
              "        text-align: right;\n",
              "    }\n",
              "</style>\n",
              "<table border=\"1\" class=\"dataframe\">\n",
              "  <thead>\n",
              "    <tr style=\"text-align: right;\">\n",
              "      <th></th>\n",
              "    </tr>\n",
              "  </thead>\n",
              "  <tbody>\n",
              "  </tbody>\n",
              "</table>\n",
              "</div>"
            ],
            "text/plain": [
              "Empty DataFrame\n",
              "Columns: []\n",
              "Index: []"
            ]
          },
          "execution_count": 82,
          "metadata": {},
          "output_type": "execute_result"
        }
      ],
      "source": [
        "# 빈 데이터 프레임을 만들고 변수 missions에 할당한다.\n",
        "missions = pd.DataFrame()\n",
        "missions"
      ]
    },
    {
      "cell_type": "code",
      "execution_count": 83,
      "metadata": {
        "gather": {
          "logged": 1718683924006
        }
      },
      "outputs": [
        {
          "data": {
            "text/plain": [
              "pandas.core.frame.DataFrame"
            ]
          },
          "execution_count": 83,
          "metadata": {},
          "output_type": "execute_result"
        }
      ],
      "source": [
        "type(missions)"
      ]
    },
    {
      "cell_type": "code",
      "execution_count": 84,
      "metadata": {
        "gather": {
          "logged": 1718683924154
        }
      },
      "outputs": [
        {
          "data": {
            "text/plain": [
              "array(['Apollo11', 'Apollo12', 'Apollo14', 'Apollo15', 'Apollo16',\n",
              "       'Apollo17'], dtype=object)"
            ]
          },
          "execution_count": 84,
          "metadata": {},
          "output_type": "execute_result"
        }
      ],
      "source": [
        "#rock_samples['Mission']의 중복되지 않은 고유값들을 알아본다.\n",
        "\n",
        "rock_samples['Mission'].unique()"
      ]
    },
    {
      "cell_type": "code",
      "execution_count": 85,
      "metadata": {
        "gather": {
          "logged": 1718683924367
        }
      },
      "outputs": [
        {
          "data": {
            "text/html": [
              "<div>\n",
              "<style scoped>\n",
              "    .dataframe tbody tr th:only-of-type {\n",
              "        vertical-align: middle;\n",
              "    }\n",
              "\n",
              "    .dataframe tbody tr th {\n",
              "        vertical-align: top;\n",
              "    }\n",
              "\n",
              "    .dataframe thead th {\n",
              "        text-align: right;\n",
              "    }\n",
              "</style>\n",
              "<table border=\"1\" class=\"dataframe\">\n",
              "  <thead>\n",
              "    <tr style=\"text-align: right;\">\n",
              "      <th></th>\n",
              "      <th>Mission name</th>\n",
              "    </tr>\n",
              "  </thead>\n",
              "  <tbody>\n",
              "    <tr>\n",
              "      <th>0</th>\n",
              "      <td>Apollo11</td>\n",
              "    </tr>\n",
              "    <tr>\n",
              "      <th>1</th>\n",
              "      <td>Apollo12</td>\n",
              "    </tr>\n",
              "    <tr>\n",
              "      <th>2</th>\n",
              "      <td>Apollo14</td>\n",
              "    </tr>\n",
              "    <tr>\n",
              "      <th>3</th>\n",
              "      <td>Apollo15</td>\n",
              "    </tr>\n",
              "    <tr>\n",
              "      <th>4</th>\n",
              "      <td>Apollo16</td>\n",
              "    </tr>\n",
              "    <tr>\n",
              "      <th>5</th>\n",
              "      <td>Apollo17</td>\n",
              "    </tr>\n",
              "  </tbody>\n",
              "</table>\n",
              "</div>"
            ],
            "text/plain": [
              "  Mission name\n",
              "0     Apollo11\n",
              "1     Apollo12\n",
              "2     Apollo14\n",
              "3     Apollo15\n",
              "4     Apollo16\n",
              "5     Apollo17"
            ]
          },
          "execution_count": 85,
          "metadata": {},
          "output_type": "execute_result"
        }
      ],
      "source": [
        "#위의 값들을 mission 데이터프레임의 새로운 컬럼인 mission['Mission']에 할당한다.\n",
        "\n",
        "missions['Mission name'] = rock_samples['Mission'].unique()\n",
        "\n",
        "missions"
      ]
    },
    {
      "cell_type": "markdown",
      "metadata": {},
      "source": [
        "#### 아폴로 임무별 샘플 중량 총합"
      ]
    },
    {
      "cell_type": "code",
      "execution_count": 86,
      "metadata": {
        "gather": {
          "logged": 1718683924585
        }
      },
      "outputs": [
        {
          "data": {
            "text/plain": [
              "Mission\n",
              "Apollo11     21.55424\n",
              "Apollo12     34.34238\n",
              "Apollo14     41.83363\n",
              "Apollo15     75.39910\n",
              "Apollo16     92.46262\n",
              "Apollo17    109.44402\n",
              "Name: Weight (kg), dtype: float64"
            ]
          },
          "execution_count": 86,
          "metadata": {},
          "output_type": "execute_result"
        }
      ],
      "source": [
        "# rock_samples 데이터프레임의 'Mission' 컬럼을 기준으로 그룹으로 나눈다 -> groupby()\n",
        "# 나누어진 그룹에서 'weight (kg)' 컬럼의 총합을 구한다 -> groupby('Mission')['weight (kg)].sum()\n",
        "# 결국 아폴로 달탐사 임무별로 수집해온 암석 샘플 총중량을 구해서 새로운 변수에 할당한다. -> 이 변수는 시리즈이다.\n",
        "\n",
        "rock_samples.groupby('Mission')['Weight (kg)'].sum()"
      ]
    },
    {
      "cell_type": "code",
      "execution_count": 87,
      "metadata": {
        "gather": {
          "logged": 1718683924918
        }
      },
      "outputs": [
        {
          "data": {
            "text/html": [
              "<div>\n",
              "<style scoped>\n",
              "    .dataframe tbody tr th:only-of-type {\n",
              "        vertical-align: middle;\n",
              "    }\n",
              "\n",
              "    .dataframe tbody tr th {\n",
              "        vertical-align: top;\n",
              "    }\n",
              "\n",
              "    .dataframe thead th {\n",
              "        text-align: right;\n",
              "    }\n",
              "</style>\n",
              "<table border=\"1\" class=\"dataframe\">\n",
              "  <thead>\n",
              "    <tr style=\"text-align: right;\">\n",
              "      <th></th>\n",
              "      <th>Mission name</th>\n",
              "      <th>Weight (kg)</th>\n",
              "    </tr>\n",
              "  </thead>\n",
              "  <tbody>\n",
              "    <tr>\n",
              "      <th>0</th>\n",
              "      <td>Apollo11</td>\n",
              "      <td>21.55424</td>\n",
              "    </tr>\n",
              "    <tr>\n",
              "      <th>1</th>\n",
              "      <td>Apollo12</td>\n",
              "      <td>34.34238</td>\n",
              "    </tr>\n",
              "    <tr>\n",
              "      <th>2</th>\n",
              "      <td>Apollo14</td>\n",
              "      <td>41.83363</td>\n",
              "    </tr>\n",
              "    <tr>\n",
              "      <th>3</th>\n",
              "      <td>Apollo15</td>\n",
              "      <td>75.39910</td>\n",
              "    </tr>\n",
              "    <tr>\n",
              "      <th>4</th>\n",
              "      <td>Apollo16</td>\n",
              "      <td>92.46262</td>\n",
              "    </tr>\n",
              "    <tr>\n",
              "      <th>5</th>\n",
              "      <td>Apollo17</td>\n",
              "      <td>109.44402</td>\n",
              "    </tr>\n",
              "  </tbody>\n",
              "</table>\n",
              "</div>"
            ],
            "text/plain": [
              "  Mission name  Weight (kg)\n",
              "0     Apollo11     21.55424\n",
              "1     Apollo12     34.34238\n",
              "2     Apollo14     41.83363\n",
              "3     Apollo15     75.39910\n",
              "4     Apollo16     92.46262\n",
              "5     Apollo17    109.44402"
            ]
          },
          "execution_count": 87,
          "metadata": {},
          "output_type": "execute_result"
        }
      ],
      "source": [
        "# missions 데이터프레임과 sample_total_weight 시리즈를 병합한다.\n",
        "\n",
        "# merged = missions.merge(rock_samples.groupby('Mission')['Weight (kg)'].sum(), left_on='Mission Name', right_on='Mission')\n",
        "# 위 코드는 아래와 동일합니다.\n",
        "\n",
        "merged = pd.merge(missions, rock_samples.groupby('Mission')['Weight (kg)'].sum(), left_on='Mission name', right_on='Mission')\n",
        "#      ^ 변수로 대입하지 않으면 병합 결과가 그냥 사라집니다.\n",
        "\n",
        "missions = merged\n",
        "\n",
        "missions"
      ]
    },
    {
      "cell_type": "code",
      "execution_count": 88,
      "metadata": {},
      "outputs": [
        {
          "data": {
            "text/html": [
              "<div>\n",
              "<style scoped>\n",
              "    .dataframe tbody tr th:only-of-type {\n",
              "        vertical-align: middle;\n",
              "    }\n",
              "\n",
              "    .dataframe tbody tr th {\n",
              "        vertical-align: top;\n",
              "    }\n",
              "\n",
              "    .dataframe thead th {\n",
              "        text-align: right;\n",
              "    }\n",
              "</style>\n",
              "<table border=\"1\" class=\"dataframe\">\n",
              "  <thead>\n",
              "    <tr style=\"text-align: right;\">\n",
              "      <th></th>\n",
              "      <th>Mission name</th>\n",
              "      <th>Weight (kg)_x</th>\n",
              "      <th>Weight (kg)_y</th>\n",
              "    </tr>\n",
              "  </thead>\n",
              "  <tbody>\n",
              "    <tr>\n",
              "      <th>0</th>\n",
              "      <td>Apollo11</td>\n",
              "      <td>21.55424</td>\n",
              "      <td>21.55424</td>\n",
              "    </tr>\n",
              "    <tr>\n",
              "      <th>1</th>\n",
              "      <td>Apollo12</td>\n",
              "      <td>34.34238</td>\n",
              "      <td>34.34238</td>\n",
              "    </tr>\n",
              "    <tr>\n",
              "      <th>2</th>\n",
              "      <td>Apollo14</td>\n",
              "      <td>41.83363</td>\n",
              "      <td>41.83363</td>\n",
              "    </tr>\n",
              "    <tr>\n",
              "      <th>3</th>\n",
              "      <td>Apollo15</td>\n",
              "      <td>75.39910</td>\n",
              "      <td>75.39910</td>\n",
              "    </tr>\n",
              "    <tr>\n",
              "      <th>4</th>\n",
              "      <td>Apollo16</td>\n",
              "      <td>92.46262</td>\n",
              "      <td>92.46262</td>\n",
              "    </tr>\n",
              "    <tr>\n",
              "      <th>5</th>\n",
              "      <td>Apollo17</td>\n",
              "      <td>109.44402</td>\n",
              "      <td>109.44402</td>\n",
              "    </tr>\n",
              "  </tbody>\n",
              "</table>\n",
              "</div>"
            ],
            "text/plain": [
              "  Mission name  Weight (kg)_x  Weight (kg)_y\n",
              "0     Apollo11       21.55424       21.55424\n",
              "1     Apollo12       34.34238       34.34238\n",
              "2     Apollo14       41.83363       41.83363\n",
              "3     Apollo15       75.39910       75.39910\n",
              "4     Apollo16       92.46262       92.46262\n",
              "5     Apollo17      109.44402      109.44402"
            ]
          },
          "execution_count": 88,
          "metadata": {},
          "output_type": "execute_result"
        }
      ],
      "source": [
        "# 병합이 끝난 데이터프레임 mission에는 이미 'Weight (kg)' 컬럼이 존재합니다.\n",
        "# 여기에서 다시 병합을 시도해봅니다.\n",
        "re_merged = pd.merge(missions, rock_samples.groupby('Mission')['Weight (kg)'].sum(), left_on='Mission name', right_on='Mission')\n",
        "re_merged\n",
        "\n",
        "# 병합의 좌측 데이터프레임, 우측 데이터프레임 모두 'Weight (kg)' 컬럼을 가지는데, \n",
        "# 병합하는 기준이 되는 컬럼은 'Mission Name'과 'Mission'입니다.\n",
        "\n",
        "# 'Weight (kg)' 컬럼은 병합되는 컬럼이 아닌데도 이름이 중복되기 때문에 \n",
        "# 좌측 데이터프레임의 컬럼에는 '_x', 우측 데이터프레임의 컬럼에는 '_y'가 추가되고,\n",
        "# 두 컬럼 데이터가 모두 병합된 데이터프레임이 포함됩니다."
      ]
    },
    {
      "cell_type": "code",
      "execution_count": 89,
      "metadata": {
        "gather": {
          "logged": 1718683925125
        }
      },
      "outputs": [
        {
          "data": {
            "text/html": [
              "<div>\n",
              "<style scoped>\n",
              "    .dataframe tbody tr th:only-of-type {\n",
              "        vertical-align: middle;\n",
              "    }\n",
              "\n",
              "    .dataframe tbody tr th {\n",
              "        vertical-align: top;\n",
              "    }\n",
              "\n",
              "    .dataframe thead th {\n",
              "        text-align: right;\n",
              "    }\n",
              "</style>\n",
              "<table border=\"1\" class=\"dataframe\">\n",
              "  <thead>\n",
              "    <tr style=\"text-align: right;\">\n",
              "      <th></th>\n",
              "      <th>Mission name</th>\n",
              "      <th>Sample weight (kg)</th>\n",
              "    </tr>\n",
              "  </thead>\n",
              "  <tbody>\n",
              "    <tr>\n",
              "      <th>0</th>\n",
              "      <td>Apollo11</td>\n",
              "      <td>21.55424</td>\n",
              "    </tr>\n",
              "    <tr>\n",
              "      <th>1</th>\n",
              "      <td>Apollo12</td>\n",
              "      <td>34.34238</td>\n",
              "    </tr>\n",
              "    <tr>\n",
              "      <th>2</th>\n",
              "      <td>Apollo14</td>\n",
              "      <td>41.83363</td>\n",
              "    </tr>\n",
              "    <tr>\n",
              "      <th>3</th>\n",
              "      <td>Apollo15</td>\n",
              "      <td>75.39910</td>\n",
              "    </tr>\n",
              "    <tr>\n",
              "      <th>4</th>\n",
              "      <td>Apollo16</td>\n",
              "      <td>92.46262</td>\n",
              "    </tr>\n",
              "    <tr>\n",
              "      <th>5</th>\n",
              "      <td>Apollo17</td>\n",
              "      <td>109.44402</td>\n",
              "    </tr>\n",
              "  </tbody>\n",
              "</table>\n",
              "</div>"
            ],
            "text/plain": [
              "  Mission name  Sample weight (kg)\n",
              "0     Apollo11            21.55424\n",
              "1     Apollo12            34.34238\n",
              "2     Apollo14            41.83363\n",
              "3     Apollo15            75.39910\n",
              "4     Apollo16            92.46262\n",
              "5     Apollo17           109.44402"
            ]
          },
          "execution_count": 89,
          "metadata": {},
          "output_type": "execute_result"
        }
      ],
      "source": [
        "# 컬럼명을 'Weight (kg)' 을 'Sample weight (kg)'으로 변경한다.\n",
        "\n",
        "missions = missions.rename(columns={'Weight (kg)': 'Sample weight (kg)'})\n",
        "missions"
      ]
    },
    {
      "cell_type": "code",
      "execution_count": 90,
      "metadata": {},
      "outputs": [
        {
          "data": {
            "text/plain": [
              "0         NaN\n",
              "1    12.78814\n",
              "2     7.49125\n",
              "3    33.56547\n",
              "4    17.06352\n",
              "5    16.98140\n",
              "Name: Sample weight (kg), dtype: float64"
            ]
          },
          "execution_count": 90,
          "metadata": {},
          "output_type": "execute_result"
        }
      ],
      "source": [
        "# 임무간 중량 차이 구하기\n",
        "missions['Sample weight (kg)'].diff()"
      ]
    },
    {
      "cell_type": "code",
      "execution_count": 91,
      "metadata": {
        "gather": {
          "logged": 1718683925270
        }
      },
      "outputs": [
        {
          "data": {
            "text/html": [
              "<div>\n",
              "<style scoped>\n",
              "    .dataframe tbody tr th:only-of-type {\n",
              "        vertical-align: middle;\n",
              "    }\n",
              "\n",
              "    .dataframe tbody tr th {\n",
              "        vertical-align: top;\n",
              "    }\n",
              "\n",
              "    .dataframe thead th {\n",
              "        text-align: right;\n",
              "    }\n",
              "</style>\n",
              "<table border=\"1\" class=\"dataframe\">\n",
              "  <thead>\n",
              "    <tr style=\"text-align: right;\">\n",
              "      <th></th>\n",
              "      <th>Mission name</th>\n",
              "      <th>Sample weight (kg)</th>\n",
              "      <th>Weight diff (kg)</th>\n",
              "    </tr>\n",
              "  </thead>\n",
              "  <tbody>\n",
              "    <tr>\n",
              "      <th>0</th>\n",
              "      <td>Apollo11</td>\n",
              "      <td>21.55424</td>\n",
              "      <td>NaN</td>\n",
              "    </tr>\n",
              "    <tr>\n",
              "      <th>1</th>\n",
              "      <td>Apollo12</td>\n",
              "      <td>34.34238</td>\n",
              "      <td>12.78814</td>\n",
              "    </tr>\n",
              "    <tr>\n",
              "      <th>2</th>\n",
              "      <td>Apollo14</td>\n",
              "      <td>41.83363</td>\n",
              "      <td>7.49125</td>\n",
              "    </tr>\n",
              "    <tr>\n",
              "      <th>3</th>\n",
              "      <td>Apollo15</td>\n",
              "      <td>75.39910</td>\n",
              "      <td>33.56547</td>\n",
              "    </tr>\n",
              "    <tr>\n",
              "      <th>4</th>\n",
              "      <td>Apollo16</td>\n",
              "      <td>92.46262</td>\n",
              "      <td>17.06352</td>\n",
              "    </tr>\n",
              "    <tr>\n",
              "      <th>5</th>\n",
              "      <td>Apollo17</td>\n",
              "      <td>109.44402</td>\n",
              "      <td>16.98140</td>\n",
              "    </tr>\n",
              "  </tbody>\n",
              "</table>\n",
              "</div>"
            ],
            "text/plain": [
              "  Mission name  Sample weight (kg)  Weight diff (kg)\n",
              "0     Apollo11            21.55424               NaN\n",
              "1     Apollo12            34.34238          12.78814\n",
              "2     Apollo14            41.83363           7.49125\n",
              "3     Apollo15            75.39910          33.56547\n",
              "4     Apollo16            92.46262          17.06352\n",
              "5     Apollo17           109.44402          16.98140"
            ]
          },
          "execution_count": 91,
          "metadata": {},
          "output_type": "execute_result"
        }
      ],
      "source": [
        "# 아폴로 임무간의 수집해온 암석 샘플 총중량 차이를 나타내는 컬럼 'Weight diff'를 missions 데이터프레임에 추가\n",
        "\n",
        "missions['Weight diff (kg)'] = missions['Sample weight (kg)'].diff()\n",
        "missions"
      ]
    },
    {
      "cell_type": "code",
      "execution_count": 66,
      "metadata": {
        "gather": {
          "logged": 1718683925470
        }
      },
      "outputs": [
        {
          "data": {
            "text/html": [
              "<div>\n",
              "<style scoped>\n",
              "    .dataframe tbody tr th:only-of-type {\n",
              "        vertical-align: middle;\n",
              "    }\n",
              "\n",
              "    .dataframe tbody tr th {\n",
              "        vertical-align: top;\n",
              "    }\n",
              "\n",
              "    .dataframe thead th {\n",
              "        text-align: right;\n",
              "    }\n",
              "</style>\n",
              "<table border=\"1\" class=\"dataframe\">\n",
              "  <thead>\n",
              "    <tr style=\"text-align: right;\">\n",
              "      <th></th>\n",
              "      <th>Mission name</th>\n",
              "      <th>Sample weight (kg)</th>\n",
              "      <th>Weight diff (kg)</th>\n",
              "    </tr>\n",
              "  </thead>\n",
              "  <tbody>\n",
              "    <tr>\n",
              "      <th>0</th>\n",
              "      <td>Apollo11</td>\n",
              "      <td>21.55424</td>\n",
              "      <td>0.00000</td>\n",
              "    </tr>\n",
              "    <tr>\n",
              "      <th>1</th>\n",
              "      <td>Apollo12</td>\n",
              "      <td>34.34238</td>\n",
              "      <td>12.78814</td>\n",
              "    </tr>\n",
              "    <tr>\n",
              "      <th>2</th>\n",
              "      <td>Apollo14</td>\n",
              "      <td>41.83363</td>\n",
              "      <td>7.49125</td>\n",
              "    </tr>\n",
              "    <tr>\n",
              "      <th>3</th>\n",
              "      <td>Apollo15</td>\n",
              "      <td>75.39910</td>\n",
              "      <td>33.56547</td>\n",
              "    </tr>\n",
              "    <tr>\n",
              "      <th>4</th>\n",
              "      <td>Apollo16</td>\n",
              "      <td>92.46262</td>\n",
              "      <td>17.06352</td>\n",
              "    </tr>\n",
              "    <tr>\n",
              "      <th>5</th>\n",
              "      <td>Apollo17</td>\n",
              "      <td>109.44402</td>\n",
              "      <td>16.98140</td>\n",
              "    </tr>\n",
              "  </tbody>\n",
              "</table>\n",
              "</div>"
            ],
            "text/plain": [
              "  Mission name  Sample weight (kg)  Weight diff (kg)\n",
              "0     Apollo11            21.55424           0.00000\n",
              "1     Apollo12            34.34238          12.78814\n",
              "2     Apollo14            41.83363           7.49125\n",
              "3     Apollo15            75.39910          33.56547\n",
              "4     Apollo16            92.46262          17.06352\n",
              "5     Apollo17           109.44402          16.98140"
            ]
          },
          "execution_count": 66,
          "metadata": {},
          "output_type": "execute_result"
        }
      ],
      "source": [
        "# 아폴로 11은 그 전 달탐사가 없어 NaN 값을 가지므로 결측치 0으로 채우기\n",
        "missions = missions.fillna(value=0)\n",
        "missions"
      ]
    },
    {
      "cell_type": "code",
      "execution_count": 92,
      "metadata": {
        "gather": {
          "logged": 1718683925665
        }
      },
      "outputs": [
        {
          "data": {
            "text/html": [
              "<div>\n",
              "<style scoped>\n",
              "    .dataframe tbody tr th:only-of-type {\n",
              "        vertical-align: middle;\n",
              "    }\n",
              "\n",
              "    .dataframe tbody tr th {\n",
              "        vertical-align: top;\n",
              "    }\n",
              "\n",
              "    .dataframe thead th {\n",
              "        text-align: right;\n",
              "    }\n",
              "</style>\n",
              "<table border=\"1\" class=\"dataframe\">\n",
              "  <thead>\n",
              "    <tr style=\"text-align: right;\">\n",
              "      <th></th>\n",
              "      <th>Mission name</th>\n",
              "      <th>Sample weight (kg)</th>\n",
              "      <th>Weight diff (kg)</th>\n",
              "      <th>Lunar module (LM)</th>\n",
              "      <th>LM mass (kg)</th>\n",
              "    </tr>\n",
              "  </thead>\n",
              "  <tbody>\n",
              "    <tr>\n",
              "      <th>0</th>\n",
              "      <td>Apollo11</td>\n",
              "      <td>21.55424</td>\n",
              "      <td>NaN</td>\n",
              "      <td>Eagle (LM-5)</td>\n",
              "      <td>15103</td>\n",
              "    </tr>\n",
              "    <tr>\n",
              "      <th>1</th>\n",
              "      <td>Apollo12</td>\n",
              "      <td>34.34238</td>\n",
              "      <td>12.78814</td>\n",
              "      <td>Intrepid (LM-6)</td>\n",
              "      <td>15235</td>\n",
              "    </tr>\n",
              "    <tr>\n",
              "      <th>2</th>\n",
              "      <td>Apollo14</td>\n",
              "      <td>41.83363</td>\n",
              "      <td>7.49125</td>\n",
              "      <td>Antares (LM-8)</td>\n",
              "      <td>15264</td>\n",
              "    </tr>\n",
              "    <tr>\n",
              "      <th>3</th>\n",
              "      <td>Apollo15</td>\n",
              "      <td>75.39910</td>\n",
              "      <td>33.56547</td>\n",
              "      <td>Falcon (LM-10)</td>\n",
              "      <td>16430</td>\n",
              "    </tr>\n",
              "    <tr>\n",
              "      <th>4</th>\n",
              "      <td>Apollo16</td>\n",
              "      <td>92.46262</td>\n",
              "      <td>17.06352</td>\n",
              "      <td>Orion (LM-11)</td>\n",
              "      <td>16445</td>\n",
              "    </tr>\n",
              "    <tr>\n",
              "      <th>5</th>\n",
              "      <td>Apollo17</td>\n",
              "      <td>109.44402</td>\n",
              "      <td>16.98140</td>\n",
              "      <td>Challenger (LM-12)</td>\n",
              "      <td>16456</td>\n",
              "    </tr>\n",
              "  </tbody>\n",
              "</table>\n",
              "</div>"
            ],
            "text/plain": [
              "  Mission name  Sample weight (kg)  Weight diff (kg)   Lunar module (LM)  \\\n",
              "0     Apollo11            21.55424               NaN        Eagle (LM-5)   \n",
              "1     Apollo12            34.34238          12.78814     Intrepid (LM-6)   \n",
              "2     Apollo14            41.83363           7.49125      Antares (LM-8)   \n",
              "3     Apollo15            75.39910          33.56547      Falcon (LM-10)   \n",
              "4     Apollo16            92.46262          17.06352       Orion (LM-11)   \n",
              "5     Apollo17           109.44402          16.98140  Challenger (LM-12)   \n",
              "\n",
              "   LM mass (kg)  \n",
              "0         15103  \n",
              "1         15235  \n",
              "2         15264  \n",
              "3         16430  \n",
              "4         16445  \n",
              "5         16456  "
            ]
          },
          "execution_count": 92,
          "metadata": {},
          "output_type": "execute_result"
        }
      ],
      "source": [
        "# 달탐사선 = 달모듈 + 명령모듈 --> 이 둘을 합쳐서 승무원 모듈\n",
        "# 달 모듈의 이름, 중량 컬럼을 missions 데이터프레임에 추가\n",
        "달모듈이름 = ['Eagle (LM-5)', 'Intrepid (LM-6)', 'Antares (LM-8)', 'Falcon (LM-10)', 'Orion (LM-11)', 'Challenger (LM-12)']\n",
        "달모듈중량 = [15103, 15235, 15264, 16430, 16445, 16456]\n",
        "\n",
        "missions['Lunar module (LM)'] = 달모듈이름\n",
        "missions['LM mass (kg)'] = 달모듈중량\n",
        "\n",
        "missions"
      ]
    },
    {
      "cell_type": "code",
      "execution_count": 93,
      "metadata": {
        "gather": {
          "logged": 1718683925862
        }
      },
      "outputs": [
        {
          "data": {
            "text/html": [
              "<div>\n",
              "<style scoped>\n",
              "    .dataframe tbody tr th:only-of-type {\n",
              "        vertical-align: middle;\n",
              "    }\n",
              "\n",
              "    .dataframe tbody tr th {\n",
              "        vertical-align: top;\n",
              "    }\n",
              "\n",
              "    .dataframe thead th {\n",
              "        text-align: right;\n",
              "    }\n",
              "</style>\n",
              "<table border=\"1\" class=\"dataframe\">\n",
              "  <thead>\n",
              "    <tr style=\"text-align: right;\">\n",
              "      <th></th>\n",
              "      <th>Mission name</th>\n",
              "      <th>Sample weight (kg)</th>\n",
              "      <th>Weight diff (kg)</th>\n",
              "      <th>Lunar module (LM)</th>\n",
              "      <th>LM mass (kg)</th>\n",
              "      <th>LM mass diff (kg)</th>\n",
              "    </tr>\n",
              "  </thead>\n",
              "  <tbody>\n",
              "    <tr>\n",
              "      <th>0</th>\n",
              "      <td>Apollo11</td>\n",
              "      <td>21.55424</td>\n",
              "      <td>NaN</td>\n",
              "      <td>Eagle (LM-5)</td>\n",
              "      <td>15103</td>\n",
              "      <td>NaN</td>\n",
              "    </tr>\n",
              "    <tr>\n",
              "      <th>1</th>\n",
              "      <td>Apollo12</td>\n",
              "      <td>34.34238</td>\n",
              "      <td>12.78814</td>\n",
              "      <td>Intrepid (LM-6)</td>\n",
              "      <td>15235</td>\n",
              "      <td>132.0</td>\n",
              "    </tr>\n",
              "    <tr>\n",
              "      <th>2</th>\n",
              "      <td>Apollo14</td>\n",
              "      <td>41.83363</td>\n",
              "      <td>7.49125</td>\n",
              "      <td>Antares (LM-8)</td>\n",
              "      <td>15264</td>\n",
              "      <td>29.0</td>\n",
              "    </tr>\n",
              "    <tr>\n",
              "      <th>3</th>\n",
              "      <td>Apollo15</td>\n",
              "      <td>75.39910</td>\n",
              "      <td>33.56547</td>\n",
              "      <td>Falcon (LM-10)</td>\n",
              "      <td>16430</td>\n",
              "      <td>1166.0</td>\n",
              "    </tr>\n",
              "    <tr>\n",
              "      <th>4</th>\n",
              "      <td>Apollo16</td>\n",
              "      <td>92.46262</td>\n",
              "      <td>17.06352</td>\n",
              "      <td>Orion (LM-11)</td>\n",
              "      <td>16445</td>\n",
              "      <td>15.0</td>\n",
              "    </tr>\n",
              "    <tr>\n",
              "      <th>5</th>\n",
              "      <td>Apollo17</td>\n",
              "      <td>109.44402</td>\n",
              "      <td>16.98140</td>\n",
              "      <td>Challenger (LM-12)</td>\n",
              "      <td>16456</td>\n",
              "      <td>11.0</td>\n",
              "    </tr>\n",
              "  </tbody>\n",
              "</table>\n",
              "</div>"
            ],
            "text/plain": [
              "  Mission name  Sample weight (kg)  Weight diff (kg)   Lunar module (LM)  \\\n",
              "0     Apollo11            21.55424               NaN        Eagle (LM-5)   \n",
              "1     Apollo12            34.34238          12.78814     Intrepid (LM-6)   \n",
              "2     Apollo14            41.83363           7.49125      Antares (LM-8)   \n",
              "3     Apollo15            75.39910          33.56547      Falcon (LM-10)   \n",
              "4     Apollo16            92.46262          17.06352       Orion (LM-11)   \n",
              "5     Apollo17           109.44402          16.98140  Challenger (LM-12)   \n",
              "\n",
              "   LM mass (kg)  LM mass diff (kg)  \n",
              "0         15103                NaN  \n",
              "1         15235              132.0  \n",
              "2         15264               29.0  \n",
              "3         16430             1166.0  \n",
              "4         16445               15.0  \n",
              "5         16456               11.0  "
            ]
          },
          "execution_count": 93,
          "metadata": {},
          "output_type": "execute_result"
        }
      ],
      "source": [
        "# 아폴로 임무별로 달모듈 중량 차이를 구해서 새로운 컬럼 'LM mass diff'를 만들어서  missions 데이터프레임에 추가\n",
        "\n",
        "missions['LM mass diff (kg)'] = missions['LM mass (kg)'].diff()\n",
        "missions"
      ]
    },
    {
      "cell_type": "code",
      "execution_count": 94,
      "metadata": {
        "gather": {
          "logged": 1718683926130
        }
      },
      "outputs": [
        {
          "data": {
            "text/html": [
              "<div>\n",
              "<style scoped>\n",
              "    .dataframe tbody tr th:only-of-type {\n",
              "        vertical-align: middle;\n",
              "    }\n",
              "\n",
              "    .dataframe tbody tr th {\n",
              "        vertical-align: top;\n",
              "    }\n",
              "\n",
              "    .dataframe thead th {\n",
              "        text-align: right;\n",
              "    }\n",
              "</style>\n",
              "<table border=\"1\" class=\"dataframe\">\n",
              "  <thead>\n",
              "    <tr style=\"text-align: right;\">\n",
              "      <th></th>\n",
              "      <th>Mission name</th>\n",
              "      <th>Sample weight (kg)</th>\n",
              "      <th>Weight diff (kg)</th>\n",
              "      <th>Lunar module (LM)</th>\n",
              "      <th>LM mass (kg)</th>\n",
              "      <th>LM mass diff (kg)</th>\n",
              "    </tr>\n",
              "  </thead>\n",
              "  <tbody>\n",
              "    <tr>\n",
              "      <th>0</th>\n",
              "      <td>Apollo11</td>\n",
              "      <td>21.55424</td>\n",
              "      <td>0.00000</td>\n",
              "      <td>Eagle (LM-5)</td>\n",
              "      <td>15103</td>\n",
              "      <td>0.0</td>\n",
              "    </tr>\n",
              "    <tr>\n",
              "      <th>1</th>\n",
              "      <td>Apollo12</td>\n",
              "      <td>34.34238</td>\n",
              "      <td>12.78814</td>\n",
              "      <td>Intrepid (LM-6)</td>\n",
              "      <td>15235</td>\n",
              "      <td>132.0</td>\n",
              "    </tr>\n",
              "    <tr>\n",
              "      <th>2</th>\n",
              "      <td>Apollo14</td>\n",
              "      <td>41.83363</td>\n",
              "      <td>7.49125</td>\n",
              "      <td>Antares (LM-8)</td>\n",
              "      <td>15264</td>\n",
              "      <td>29.0</td>\n",
              "    </tr>\n",
              "    <tr>\n",
              "      <th>3</th>\n",
              "      <td>Apollo15</td>\n",
              "      <td>75.39910</td>\n",
              "      <td>33.56547</td>\n",
              "      <td>Falcon (LM-10)</td>\n",
              "      <td>16430</td>\n",
              "      <td>1166.0</td>\n",
              "    </tr>\n",
              "    <tr>\n",
              "      <th>4</th>\n",
              "      <td>Apollo16</td>\n",
              "      <td>92.46262</td>\n",
              "      <td>17.06352</td>\n",
              "      <td>Orion (LM-11)</td>\n",
              "      <td>16445</td>\n",
              "      <td>15.0</td>\n",
              "    </tr>\n",
              "    <tr>\n",
              "      <th>5</th>\n",
              "      <td>Apollo17</td>\n",
              "      <td>109.44402</td>\n",
              "      <td>16.98140</td>\n",
              "      <td>Challenger (LM-12)</td>\n",
              "      <td>16456</td>\n",
              "      <td>11.0</td>\n",
              "    </tr>\n",
              "  </tbody>\n",
              "</table>\n",
              "</div>"
            ],
            "text/plain": [
              "  Mission name  Sample weight (kg)  Weight diff (kg)   Lunar module (LM)  \\\n",
              "0     Apollo11            21.55424           0.00000        Eagle (LM-5)   \n",
              "1     Apollo12            34.34238          12.78814     Intrepid (LM-6)   \n",
              "2     Apollo14            41.83363           7.49125      Antares (LM-8)   \n",
              "3     Apollo15            75.39910          33.56547      Falcon (LM-10)   \n",
              "4     Apollo16            92.46262          17.06352       Orion (LM-11)   \n",
              "5     Apollo17           109.44402          16.98140  Challenger (LM-12)   \n",
              "\n",
              "   LM mass (kg)  LM mass diff (kg)  \n",
              "0         15103                0.0  \n",
              "1         15235              132.0  \n",
              "2         15264               29.0  \n",
              "3         16430             1166.0  \n",
              "4         16445               15.0  \n",
              "5         16456               11.0  "
            ]
          },
          "execution_count": 94,
          "metadata": {},
          "output_type": "execute_result"
        }
      ],
      "source": [
        "# 결측치가 있다면 0으로 채우기\n",
        "missions = missions.fillna(value=0)\n",
        "missions"
      ]
    },
    {
      "cell_type": "code",
      "execution_count": 95,
      "metadata": {
        "gather": {
          "logged": 1718683926455
        }
      },
      "outputs": [
        {
          "data": {
            "text/html": [
              "<div>\n",
              "<style scoped>\n",
              "    .dataframe tbody tr th:only-of-type {\n",
              "        vertical-align: middle;\n",
              "    }\n",
              "\n",
              "    .dataframe tbody tr th {\n",
              "        vertical-align: top;\n",
              "    }\n",
              "\n",
              "    .dataframe thead th {\n",
              "        text-align: right;\n",
              "    }\n",
              "</style>\n",
              "<table border=\"1\" class=\"dataframe\">\n",
              "  <thead>\n",
              "    <tr style=\"text-align: right;\">\n",
              "      <th></th>\n",
              "      <th>Mission name</th>\n",
              "      <th>Sample weight (kg)</th>\n",
              "      <th>Weight diff (kg)</th>\n",
              "      <th>Lunar module (LM)</th>\n",
              "      <th>LM mass (kg)</th>\n",
              "      <th>LM mass diff (kg)</th>\n",
              "      <th>Command module (CM)</th>\n",
              "      <th>CM mass (kg)</th>\n",
              "    </tr>\n",
              "  </thead>\n",
              "  <tbody>\n",
              "    <tr>\n",
              "      <th>0</th>\n",
              "      <td>Apollo11</td>\n",
              "      <td>21.55424</td>\n",
              "      <td>0.00000</td>\n",
              "      <td>Eagle (LM-5)</td>\n",
              "      <td>15103</td>\n",
              "      <td>0.0</td>\n",
              "      <td>Columbia (CSM-107]</td>\n",
              "      <td>5560</td>\n",
              "    </tr>\n",
              "    <tr>\n",
              "      <th>1</th>\n",
              "      <td>Apollo12</td>\n",
              "      <td>34.34238</td>\n",
              "      <td>12.78814</td>\n",
              "      <td>Intrepid (LM-6)</td>\n",
              "      <td>15235</td>\n",
              "      <td>132.0</td>\n",
              "      <td>Yankee Clipper (CM-100])</td>\n",
              "      <td>5609</td>\n",
              "    </tr>\n",
              "    <tr>\n",
              "      <th>2</th>\n",
              "      <td>Apollo14</td>\n",
              "      <td>41.83363</td>\n",
              "      <td>7.49125</td>\n",
              "      <td>Antares (LM-8)</td>\n",
              "      <td>15264</td>\n",
              "      <td>29.0</td>\n",
              "      <td>Kitty Hawk (CM-110)</td>\n",
              "      <td>5758</td>\n",
              "    </tr>\n",
              "    <tr>\n",
              "      <th>3</th>\n",
              "      <td>Apollo15</td>\n",
              "      <td>75.39910</td>\n",
              "      <td>33.56547</td>\n",
              "      <td>Falcon (LM-10)</td>\n",
              "      <td>16430</td>\n",
              "      <td>1166.0</td>\n",
              "      <td>Endeavor (CM-112)</td>\n",
              "      <td>5875</td>\n",
              "    </tr>\n",
              "    <tr>\n",
              "      <th>4</th>\n",
              "      <td>Apollo16</td>\n",
              "      <td>92.46262</td>\n",
              "      <td>17.06352</td>\n",
              "      <td>Orion (LM-11)</td>\n",
              "      <td>16445</td>\n",
              "      <td>15.0</td>\n",
              "      <td>Casper (CM-113)</td>\n",
              "      <td>5840</td>\n",
              "    </tr>\n",
              "    <tr>\n",
              "      <th>5</th>\n",
              "      <td>Apollo17</td>\n",
              "      <td>109.44402</td>\n",
              "      <td>16.98140</td>\n",
              "      <td>Challenger (LM-12)</td>\n",
              "      <td>16456</td>\n",
              "      <td>11.0</td>\n",
              "      <td>America (CM-114)</td>\n",
              "      <td>5960</td>\n",
              "    </tr>\n",
              "  </tbody>\n",
              "</table>\n",
              "</div>"
            ],
            "text/plain": [
              "  Mission name  Sample weight (kg)  Weight diff (kg)   Lunar module (LM)  \\\n",
              "0     Apollo11            21.55424           0.00000        Eagle (LM-5)   \n",
              "1     Apollo12            34.34238          12.78814     Intrepid (LM-6)   \n",
              "2     Apollo14            41.83363           7.49125      Antares (LM-8)   \n",
              "3     Apollo15            75.39910          33.56547      Falcon (LM-10)   \n",
              "4     Apollo16            92.46262          17.06352       Orion (LM-11)   \n",
              "5     Apollo17           109.44402          16.98140  Challenger (LM-12)   \n",
              "\n",
              "   LM mass (kg)  LM mass diff (kg)       Command module (CM)  CM mass (kg)  \n",
              "0         15103                0.0        Columbia (CSM-107]          5560  \n",
              "1         15235              132.0  Yankee Clipper (CM-100])          5609  \n",
              "2         15264               29.0       Kitty Hawk (CM-110)          5758  \n",
              "3         16430             1166.0         Endeavor (CM-112)          5875  \n",
              "4         16445               15.0           Casper (CM-113)          5840  \n",
              "5         16456               11.0          America (CM-114)          5960  "
            ]
          },
          "execution_count": 95,
          "metadata": {},
          "output_type": "execute_result"
        }
      ],
      "source": [
        "#명령모듈의 이름, 중량 컬럼을 missionms 데이터프레임에 추가\n",
        "명령모듈이름 = ['Columbia (CSM-107]', 'Yankee Clipper (CM-100])', 'Kitty Hawk (CM-110)', 'Endeavor (CM-112)', 'Casper (CM-113)', 'America (CM-114)']\n",
        "명령모듈중량 = [5560, 5609, 5758, 5875, 5840, 5960]\n",
        "\n",
        "missions['Command module (CM)'] = 명령모듈이름\n",
        "missions['CM mass (kg)'] = 명령모듈중량\n",
        "missions"
      ]
    },
    {
      "cell_type": "code",
      "execution_count": 99,
      "metadata": {
        "gather": {
          "logged": 1718683926662
        }
      },
      "outputs": [
        {
          "data": {
            "text/html": [
              "<div>\n",
              "<style scoped>\n",
              "    .dataframe tbody tr th:only-of-type {\n",
              "        vertical-align: middle;\n",
              "    }\n",
              "\n",
              "    .dataframe tbody tr th {\n",
              "        vertical-align: top;\n",
              "    }\n",
              "\n",
              "    .dataframe thead th {\n",
              "        text-align: right;\n",
              "    }\n",
              "</style>\n",
              "<table border=\"1\" class=\"dataframe\">\n",
              "  <thead>\n",
              "    <tr style=\"text-align: right;\">\n",
              "      <th></th>\n",
              "      <th>Mission name</th>\n",
              "      <th>Sample weight (kg)</th>\n",
              "      <th>Weight diff (kg)</th>\n",
              "      <th>Lunar module (LM)</th>\n",
              "      <th>LM mass (kg)</th>\n",
              "      <th>LM mass diff (kg)</th>\n",
              "      <th>Command module (CM)</th>\n",
              "      <th>CM mass (kg)</th>\n",
              "      <th>CM mass diff (kg)</th>\n",
              "    </tr>\n",
              "  </thead>\n",
              "  <tbody>\n",
              "    <tr>\n",
              "      <th>0</th>\n",
              "      <td>Apollo11</td>\n",
              "      <td>21.55424</td>\n",
              "      <td>0.00000</td>\n",
              "      <td>Eagle (LM-5)</td>\n",
              "      <td>15103</td>\n",
              "      <td>0.0</td>\n",
              "      <td>Columbia (CSM-107]</td>\n",
              "      <td>5560</td>\n",
              "      <td>0.0</td>\n",
              "    </tr>\n",
              "    <tr>\n",
              "      <th>1</th>\n",
              "      <td>Apollo12</td>\n",
              "      <td>34.34238</td>\n",
              "      <td>12.78814</td>\n",
              "      <td>Intrepid (LM-6)</td>\n",
              "      <td>15235</td>\n",
              "      <td>132.0</td>\n",
              "      <td>Yankee Clipper (CM-100])</td>\n",
              "      <td>5609</td>\n",
              "      <td>49.0</td>\n",
              "    </tr>\n",
              "    <tr>\n",
              "      <th>2</th>\n",
              "      <td>Apollo14</td>\n",
              "      <td>41.83363</td>\n",
              "      <td>7.49125</td>\n",
              "      <td>Antares (LM-8)</td>\n",
              "      <td>15264</td>\n",
              "      <td>29.0</td>\n",
              "      <td>Kitty Hawk (CM-110)</td>\n",
              "      <td>5758</td>\n",
              "      <td>149.0</td>\n",
              "    </tr>\n",
              "    <tr>\n",
              "      <th>3</th>\n",
              "      <td>Apollo15</td>\n",
              "      <td>75.39910</td>\n",
              "      <td>33.56547</td>\n",
              "      <td>Falcon (LM-10)</td>\n",
              "      <td>16430</td>\n",
              "      <td>1166.0</td>\n",
              "      <td>Endeavor (CM-112)</td>\n",
              "      <td>5875</td>\n",
              "      <td>117.0</td>\n",
              "    </tr>\n",
              "    <tr>\n",
              "      <th>4</th>\n",
              "      <td>Apollo16</td>\n",
              "      <td>92.46262</td>\n",
              "      <td>17.06352</td>\n",
              "      <td>Orion (LM-11)</td>\n",
              "      <td>16445</td>\n",
              "      <td>15.0</td>\n",
              "      <td>Casper (CM-113)</td>\n",
              "      <td>5840</td>\n",
              "      <td>-35.0</td>\n",
              "    </tr>\n",
              "    <tr>\n",
              "      <th>5</th>\n",
              "      <td>Apollo17</td>\n",
              "      <td>109.44402</td>\n",
              "      <td>16.98140</td>\n",
              "      <td>Challenger (LM-12)</td>\n",
              "      <td>16456</td>\n",
              "      <td>11.0</td>\n",
              "      <td>America (CM-114)</td>\n",
              "      <td>5960</td>\n",
              "      <td>120.0</td>\n",
              "    </tr>\n",
              "  </tbody>\n",
              "</table>\n",
              "</div>"
            ],
            "text/plain": [
              "  Mission name  Sample weight (kg)  Weight diff (kg)   Lunar module (LM)  \\\n",
              "0     Apollo11            21.55424           0.00000        Eagle (LM-5)   \n",
              "1     Apollo12            34.34238          12.78814     Intrepid (LM-6)   \n",
              "2     Apollo14            41.83363           7.49125      Antares (LM-8)   \n",
              "3     Apollo15            75.39910          33.56547      Falcon (LM-10)   \n",
              "4     Apollo16            92.46262          17.06352       Orion (LM-11)   \n",
              "5     Apollo17           109.44402          16.98140  Challenger (LM-12)   \n",
              "\n",
              "   LM mass (kg)  LM mass diff (kg)       Command module (CM)  CM mass (kg)  \\\n",
              "0         15103                0.0        Columbia (CSM-107]          5560   \n",
              "1         15235              132.0  Yankee Clipper (CM-100])          5609   \n",
              "2         15264               29.0       Kitty Hawk (CM-110)          5758   \n",
              "3         16430             1166.0         Endeavor (CM-112)          5875   \n",
              "4         16445               15.0           Casper (CM-113)          5840   \n",
              "5         16456               11.0          America (CM-114)          5960   \n",
              "\n",
              "   CM mass diff (kg)  \n",
              "0                0.0  \n",
              "1               49.0  \n",
              "2              149.0  \n",
              "3              117.0  \n",
              "4              -35.0  \n",
              "5              120.0  "
            ]
          },
          "execution_count": 99,
          "metadata": {},
          "output_type": "execute_result"
        }
      ],
      "source": [
        "#임무간 명령 모듈 중량 차이 구하기기\n",
        "#아폴로 임무별로 명령모듈 중량 차이를 구해서 새로운 컬럼 'CM Mass diff'를 만들어 missions 데이터프레임에 추가\n",
        "\n",
        "missions['CM mass diff (kg)'] = missions['CM mass (kg)'].diff().fillna(0)\n",
        "missions"
      ]
    },
    {
      "cell_type": "code",
      "execution_count": 100,
      "metadata": {
        "gather": {
          "logged": 1718683926809
        }
      },
      "outputs": [
        {
          "data": {
            "text/html": [
              "<div>\n",
              "<style scoped>\n",
              "    .dataframe tbody tr th:only-of-type {\n",
              "        vertical-align: middle;\n",
              "    }\n",
              "\n",
              "    .dataframe tbody tr th {\n",
              "        vertical-align: top;\n",
              "    }\n",
              "\n",
              "    .dataframe thead th {\n",
              "        text-align: right;\n",
              "    }\n",
              "</style>\n",
              "<table border=\"1\" class=\"dataframe\">\n",
              "  <thead>\n",
              "    <tr style=\"text-align: right;\">\n",
              "      <th></th>\n",
              "      <th>Mission name</th>\n",
              "      <th>Sample weight (kg)</th>\n",
              "      <th>Weight diff (kg)</th>\n",
              "      <th>Lunar module (LM)</th>\n",
              "      <th>LM mass (kg)</th>\n",
              "      <th>LM mass diff (kg)</th>\n",
              "      <th>Command module (CM)</th>\n",
              "      <th>CM mass (kg)</th>\n",
              "      <th>CM mass diff (kg)</th>\n",
              "      <th>Total weight (kg)</th>\n",
              "    </tr>\n",
              "  </thead>\n",
              "  <tbody>\n",
              "    <tr>\n",
              "      <th>0</th>\n",
              "      <td>Apollo11</td>\n",
              "      <td>21.55424</td>\n",
              "      <td>0.00000</td>\n",
              "      <td>Eagle (LM-5)</td>\n",
              "      <td>15103</td>\n",
              "      <td>0.0</td>\n",
              "      <td>Columbia (CSM-107]</td>\n",
              "      <td>5560</td>\n",
              "      <td>0.0</td>\n",
              "      <td>20663</td>\n",
              "    </tr>\n",
              "    <tr>\n",
              "      <th>1</th>\n",
              "      <td>Apollo12</td>\n",
              "      <td>34.34238</td>\n",
              "      <td>12.78814</td>\n",
              "      <td>Intrepid (LM-6)</td>\n",
              "      <td>15235</td>\n",
              "      <td>132.0</td>\n",
              "      <td>Yankee Clipper (CM-100])</td>\n",
              "      <td>5609</td>\n",
              "      <td>49.0</td>\n",
              "      <td>20844</td>\n",
              "    </tr>\n",
              "    <tr>\n",
              "      <th>2</th>\n",
              "      <td>Apollo14</td>\n",
              "      <td>41.83363</td>\n",
              "      <td>7.49125</td>\n",
              "      <td>Antares (LM-8)</td>\n",
              "      <td>15264</td>\n",
              "      <td>29.0</td>\n",
              "      <td>Kitty Hawk (CM-110)</td>\n",
              "      <td>5758</td>\n",
              "      <td>149.0</td>\n",
              "      <td>21022</td>\n",
              "    </tr>\n",
              "    <tr>\n",
              "      <th>3</th>\n",
              "      <td>Apollo15</td>\n",
              "      <td>75.39910</td>\n",
              "      <td>33.56547</td>\n",
              "      <td>Falcon (LM-10)</td>\n",
              "      <td>16430</td>\n",
              "      <td>1166.0</td>\n",
              "      <td>Endeavor (CM-112)</td>\n",
              "      <td>5875</td>\n",
              "      <td>117.0</td>\n",
              "      <td>22305</td>\n",
              "    </tr>\n",
              "    <tr>\n",
              "      <th>4</th>\n",
              "      <td>Apollo16</td>\n",
              "      <td>92.46262</td>\n",
              "      <td>17.06352</td>\n",
              "      <td>Orion (LM-11)</td>\n",
              "      <td>16445</td>\n",
              "      <td>15.0</td>\n",
              "      <td>Casper (CM-113)</td>\n",
              "      <td>5840</td>\n",
              "      <td>-35.0</td>\n",
              "      <td>22285</td>\n",
              "    </tr>\n",
              "    <tr>\n",
              "      <th>5</th>\n",
              "      <td>Apollo17</td>\n",
              "      <td>109.44402</td>\n",
              "      <td>16.98140</td>\n",
              "      <td>Challenger (LM-12)</td>\n",
              "      <td>16456</td>\n",
              "      <td>11.0</td>\n",
              "      <td>America (CM-114)</td>\n",
              "      <td>5960</td>\n",
              "      <td>120.0</td>\n",
              "      <td>22416</td>\n",
              "    </tr>\n",
              "  </tbody>\n",
              "</table>\n",
              "</div>"
            ],
            "text/plain": [
              "  Mission name  Sample weight (kg)  Weight diff (kg)   Lunar module (LM)  \\\n",
              "0     Apollo11            21.55424           0.00000        Eagle (LM-5)   \n",
              "1     Apollo12            34.34238          12.78814     Intrepid (LM-6)   \n",
              "2     Apollo14            41.83363           7.49125      Antares (LM-8)   \n",
              "3     Apollo15            75.39910          33.56547      Falcon (LM-10)   \n",
              "4     Apollo16            92.46262          17.06352       Orion (LM-11)   \n",
              "5     Apollo17           109.44402          16.98140  Challenger (LM-12)   \n",
              "\n",
              "   LM mass (kg)  LM mass diff (kg)       Command module (CM)  CM mass (kg)  \\\n",
              "0         15103                0.0        Columbia (CSM-107]          5560   \n",
              "1         15235              132.0  Yankee Clipper (CM-100])          5609   \n",
              "2         15264               29.0       Kitty Hawk (CM-110)          5758   \n",
              "3         16430             1166.0         Endeavor (CM-112)          5875   \n",
              "4         16445               15.0           Casper (CM-113)          5840   \n",
              "5         16456               11.0          America (CM-114)          5960   \n",
              "\n",
              "   CM mass diff (kg)  Total weight (kg)  \n",
              "0                0.0              20663  \n",
              "1               49.0              20844  \n",
              "2              149.0              21022  \n",
              "3              117.0              22305  \n",
              "4              -35.0              22285  \n",
              "5              120.0              22416  "
            ]
          },
          "execution_count": 100,
          "metadata": {},
          "output_type": "execute_result"
        }
      ],
      "source": [
        "# 승무원영역 = 달모듈 + 명령모듈\n",
        "# 달 모듈과 명령모듈 중량을 합한 값을 'Total weight (kg)'라는 새로운 컬럼을 만들어 missions 데이터프레임에 추가\n",
        "\n",
        "missions['Total weight (kg)'] = missions['LM mass (kg)'] + missions['CM mass (kg)']\n",
        "missions"
      ]
    },
    {
      "cell_type": "code",
      "execution_count": 101,
      "metadata": {
        "gather": {
          "logged": 1718683926958
        }
      },
      "outputs": [
        {
          "data": {
            "text/html": [
              "<div>\n",
              "<style scoped>\n",
              "    .dataframe tbody tr th:only-of-type {\n",
              "        vertical-align: middle;\n",
              "    }\n",
              "\n",
              "    .dataframe tbody tr th {\n",
              "        vertical-align: top;\n",
              "    }\n",
              "\n",
              "    .dataframe thead th {\n",
              "        text-align: right;\n",
              "    }\n",
              "</style>\n",
              "<table border=\"1\" class=\"dataframe\">\n",
              "  <thead>\n",
              "    <tr style=\"text-align: right;\">\n",
              "      <th></th>\n",
              "      <th>Mission name</th>\n",
              "      <th>Sample weight (kg)</th>\n",
              "      <th>Weight diff (kg)</th>\n",
              "      <th>Lunar module (LM)</th>\n",
              "      <th>LM mass (kg)</th>\n",
              "      <th>LM mass diff (kg)</th>\n",
              "      <th>Command module (CM)</th>\n",
              "      <th>CM mass (kg)</th>\n",
              "      <th>CM mass diff (kg)</th>\n",
              "      <th>Total weight (kg)</th>\n",
              "      <th>Total weight diff (kg)</th>\n",
              "    </tr>\n",
              "  </thead>\n",
              "  <tbody>\n",
              "    <tr>\n",
              "      <th>0</th>\n",
              "      <td>Apollo11</td>\n",
              "      <td>21.55424</td>\n",
              "      <td>0.00000</td>\n",
              "      <td>Eagle (LM-5)</td>\n",
              "      <td>15103</td>\n",
              "      <td>0.0</td>\n",
              "      <td>Columbia (CSM-107]</td>\n",
              "      <td>5560</td>\n",
              "      <td>0.0</td>\n",
              "      <td>20663</td>\n",
              "      <td>0.0</td>\n",
              "    </tr>\n",
              "    <tr>\n",
              "      <th>1</th>\n",
              "      <td>Apollo12</td>\n",
              "      <td>34.34238</td>\n",
              "      <td>12.78814</td>\n",
              "      <td>Intrepid (LM-6)</td>\n",
              "      <td>15235</td>\n",
              "      <td>132.0</td>\n",
              "      <td>Yankee Clipper (CM-100])</td>\n",
              "      <td>5609</td>\n",
              "      <td>49.0</td>\n",
              "      <td>20844</td>\n",
              "      <td>181.0</td>\n",
              "    </tr>\n",
              "    <tr>\n",
              "      <th>2</th>\n",
              "      <td>Apollo14</td>\n",
              "      <td>41.83363</td>\n",
              "      <td>7.49125</td>\n",
              "      <td>Antares (LM-8)</td>\n",
              "      <td>15264</td>\n",
              "      <td>29.0</td>\n",
              "      <td>Kitty Hawk (CM-110)</td>\n",
              "      <td>5758</td>\n",
              "      <td>149.0</td>\n",
              "      <td>21022</td>\n",
              "      <td>178.0</td>\n",
              "    </tr>\n",
              "    <tr>\n",
              "      <th>3</th>\n",
              "      <td>Apollo15</td>\n",
              "      <td>75.39910</td>\n",
              "      <td>33.56547</td>\n",
              "      <td>Falcon (LM-10)</td>\n",
              "      <td>16430</td>\n",
              "      <td>1166.0</td>\n",
              "      <td>Endeavor (CM-112)</td>\n",
              "      <td>5875</td>\n",
              "      <td>117.0</td>\n",
              "      <td>22305</td>\n",
              "      <td>1283.0</td>\n",
              "    </tr>\n",
              "    <tr>\n",
              "      <th>4</th>\n",
              "      <td>Apollo16</td>\n",
              "      <td>92.46262</td>\n",
              "      <td>17.06352</td>\n",
              "      <td>Orion (LM-11)</td>\n",
              "      <td>16445</td>\n",
              "      <td>15.0</td>\n",
              "      <td>Casper (CM-113)</td>\n",
              "      <td>5840</td>\n",
              "      <td>-35.0</td>\n",
              "      <td>22285</td>\n",
              "      <td>-20.0</td>\n",
              "    </tr>\n",
              "    <tr>\n",
              "      <th>5</th>\n",
              "      <td>Apollo17</td>\n",
              "      <td>109.44402</td>\n",
              "      <td>16.98140</td>\n",
              "      <td>Challenger (LM-12)</td>\n",
              "      <td>16456</td>\n",
              "      <td>11.0</td>\n",
              "      <td>America (CM-114)</td>\n",
              "      <td>5960</td>\n",
              "      <td>120.0</td>\n",
              "      <td>22416</td>\n",
              "      <td>131.0</td>\n",
              "    </tr>\n",
              "  </tbody>\n",
              "</table>\n",
              "</div>"
            ],
            "text/plain": [
              "  Mission name  Sample weight (kg)  Weight diff (kg)   Lunar module (LM)  \\\n",
              "0     Apollo11            21.55424           0.00000        Eagle (LM-5)   \n",
              "1     Apollo12            34.34238          12.78814     Intrepid (LM-6)   \n",
              "2     Apollo14            41.83363           7.49125      Antares (LM-8)   \n",
              "3     Apollo15            75.39910          33.56547      Falcon (LM-10)   \n",
              "4     Apollo16            92.46262          17.06352       Orion (LM-11)   \n",
              "5     Apollo17           109.44402          16.98140  Challenger (LM-12)   \n",
              "\n",
              "   LM mass (kg)  LM mass diff (kg)       Command module (CM)  CM mass (kg)  \\\n",
              "0         15103                0.0        Columbia (CSM-107]          5560   \n",
              "1         15235              132.0  Yankee Clipper (CM-100])          5609   \n",
              "2         15264               29.0       Kitty Hawk (CM-110)          5758   \n",
              "3         16430             1166.0         Endeavor (CM-112)          5875   \n",
              "4         16445               15.0           Casper (CM-113)          5840   \n",
              "5         16456               11.0          America (CM-114)          5960   \n",
              "\n",
              "   CM mass diff (kg)  Total weight (kg)  Total weight diff (kg)  \n",
              "0                0.0              20663                     0.0  \n",
              "1               49.0              20844                   181.0  \n",
              "2              149.0              21022                   178.0  \n",
              "3              117.0              22305                  1283.0  \n",
              "4              -35.0              22285                   -20.0  \n",
              "5              120.0              22416                   131.0  "
            ]
          },
          "execution_count": 101,
          "metadata": {},
          "output_type": "execute_result"
        }
      ],
      "source": [
        "# 승무원 영역을 나타내는 'Total weight (kg)'의 아폴로 임무별 중량 차이를 구하는 새로운 컬럼 'Total weight diff'를 missions 데이터프레임에 추가\n",
        "\n",
        "missions['Total weight diff (kg)'] = missions['Total weight (kg)'].diff().fillna(0)\n",
        "missions"
      ]
    },
    {
      "cell_type": "code",
      "execution_count": 102,
      "metadata": {
        "gather": {
          "logged": 1718683927168
        }
      },
      "outputs": [
        {
          "data": {
            "text/html": [
              "<div>\n",
              "<style scoped>\n",
              "    .dataframe tbody tr th:only-of-type {\n",
              "        vertical-align: middle;\n",
              "    }\n",
              "\n",
              "    .dataframe tbody tr th {\n",
              "        vertical-align: top;\n",
              "    }\n",
              "\n",
              "    .dataframe thead th {\n",
              "        text-align: right;\n",
              "    }\n",
              "</style>\n",
              "<table border=\"1\" class=\"dataframe\">\n",
              "  <thead>\n",
              "    <tr style=\"text-align: right;\">\n",
              "      <th></th>\n",
              "      <th>Mission name</th>\n",
              "      <th>Sample weight (kg)</th>\n",
              "      <th>Weight diff (kg)</th>\n",
              "      <th>Lunar module (LM)</th>\n",
              "      <th>LM mass (kg)</th>\n",
              "      <th>LM mass diff (kg)</th>\n",
              "      <th>Command module (CM)</th>\n",
              "      <th>CM mass (kg)</th>\n",
              "      <th>CM mass diff (kg)</th>\n",
              "      <th>Total weight (kg)</th>\n",
              "      <th>Total weight diff (kg)</th>\n",
              "      <th>Crewed area : Payload</th>\n",
              "    </tr>\n",
              "  </thead>\n",
              "  <tbody>\n",
              "    <tr>\n",
              "      <th>0</th>\n",
              "      <td>Apollo11</td>\n",
              "      <td>21.55424</td>\n",
              "      <td>0.00000</td>\n",
              "      <td>Eagle (LM-5)</td>\n",
              "      <td>15103</td>\n",
              "      <td>0.0</td>\n",
              "      <td>Columbia (CSM-107]</td>\n",
              "      <td>5560</td>\n",
              "      <td>0.0</td>\n",
              "      <td>20663</td>\n",
              "      <td>0.0</td>\n",
              "      <td>0.475011</td>\n",
              "    </tr>\n",
              "    <tr>\n",
              "      <th>1</th>\n",
              "      <td>Apollo12</td>\n",
              "      <td>34.34238</td>\n",
              "      <td>12.78814</td>\n",
              "      <td>Intrepid (LM-6)</td>\n",
              "      <td>15235</td>\n",
              "      <td>132.0</td>\n",
              "      <td>Yankee Clipper (CM-100])</td>\n",
              "      <td>5609</td>\n",
              "      <td>49.0</td>\n",
              "      <td>20844</td>\n",
              "      <td>181.0</td>\n",
              "      <td>0.479172</td>\n",
              "    </tr>\n",
              "    <tr>\n",
              "      <th>2</th>\n",
              "      <td>Apollo14</td>\n",
              "      <td>41.83363</td>\n",
              "      <td>7.49125</td>\n",
              "      <td>Antares (LM-8)</td>\n",
              "      <td>15264</td>\n",
              "      <td>29.0</td>\n",
              "      <td>Kitty Hawk (CM-110)</td>\n",
              "      <td>5758</td>\n",
              "      <td>149.0</td>\n",
              "      <td>21022</td>\n",
              "      <td>178.0</td>\n",
              "      <td>0.483264</td>\n",
              "    </tr>\n",
              "    <tr>\n",
              "      <th>3</th>\n",
              "      <td>Apollo15</td>\n",
              "      <td>75.39910</td>\n",
              "      <td>33.56547</td>\n",
              "      <td>Falcon (LM-10)</td>\n",
              "      <td>16430</td>\n",
              "      <td>1166.0</td>\n",
              "      <td>Endeavor (CM-112)</td>\n",
              "      <td>5875</td>\n",
              "      <td>117.0</td>\n",
              "      <td>22305</td>\n",
              "      <td>1283.0</td>\n",
              "      <td>0.512759</td>\n",
              "    </tr>\n",
              "    <tr>\n",
              "      <th>4</th>\n",
              "      <td>Apollo16</td>\n",
              "      <td>92.46262</td>\n",
              "      <td>17.06352</td>\n",
              "      <td>Orion (LM-11)</td>\n",
              "      <td>16445</td>\n",
              "      <td>15.0</td>\n",
              "      <td>Casper (CM-113)</td>\n",
              "      <td>5840</td>\n",
              "      <td>-35.0</td>\n",
              "      <td>22285</td>\n",
              "      <td>-20.0</td>\n",
              "      <td>0.512299</td>\n",
              "    </tr>\n",
              "    <tr>\n",
              "      <th>5</th>\n",
              "      <td>Apollo17</td>\n",
              "      <td>109.44402</td>\n",
              "      <td>16.98140</td>\n",
              "      <td>Challenger (LM-12)</td>\n",
              "      <td>16456</td>\n",
              "      <td>11.0</td>\n",
              "      <td>America (CM-114)</td>\n",
              "      <td>5960</td>\n",
              "      <td>120.0</td>\n",
              "      <td>22416</td>\n",
              "      <td>131.0</td>\n",
              "      <td>0.515310</td>\n",
              "    </tr>\n",
              "  </tbody>\n",
              "</table>\n",
              "</div>"
            ],
            "text/plain": [
              "  Mission name  Sample weight (kg)  Weight diff (kg)   Lunar module (LM)  \\\n",
              "0     Apollo11            21.55424           0.00000        Eagle (LM-5)   \n",
              "1     Apollo12            34.34238          12.78814     Intrepid (LM-6)   \n",
              "2     Apollo14            41.83363           7.49125      Antares (LM-8)   \n",
              "3     Apollo15            75.39910          33.56547      Falcon (LM-10)   \n",
              "4     Apollo16            92.46262          17.06352       Orion (LM-11)   \n",
              "5     Apollo17           109.44402          16.98140  Challenger (LM-12)   \n",
              "\n",
              "   LM mass (kg)  LM mass diff (kg)       Command module (CM)  CM mass (kg)  \\\n",
              "0         15103                0.0        Columbia (CSM-107]          5560   \n",
              "1         15235              132.0  Yankee Clipper (CM-100])          5609   \n",
              "2         15264               29.0       Kitty Hawk (CM-110)          5758   \n",
              "3         16430             1166.0         Endeavor (CM-112)          5875   \n",
              "4         16445               15.0           Casper (CM-113)          5840   \n",
              "5         16456               11.0          America (CM-114)          5960   \n",
              "\n",
              "   CM mass diff (kg)  Total weight (kg)  Total weight diff (kg)  \\\n",
              "0                0.0              20663                     0.0   \n",
              "1               49.0              20844                   181.0   \n",
              "2              149.0              21022                   178.0   \n",
              "3              117.0              22305                  1283.0   \n",
              "4              -35.0              22285                   -20.0   \n",
              "5              120.0              22416                   131.0   \n",
              "\n",
              "   Crewed area : Payload  \n",
              "0               0.475011  \n",
              "1               0.479172  \n",
              "2               0.483264  \n",
              "3               0.512759  \n",
              "4               0.512299  \n",
              "5               0.515310  "
            ]
          },
          "execution_count": 102,
          "metadata": {},
          "output_type": "execute_result"
        }
      ],
      "source": [
        "# 페이로드에서 승무원 영역이 차지하는 비율 구하기 -> 'Crewed area : Payload'\n",
        "\n",
        "saturnVPayload = 43500\n",
        "missions['Crewed area : Payload'] = missions['Total weight (kg)'] / saturnVPayload\n",
        "missions"
      ]
    },
    {
      "cell_type": "code",
      "execution_count": 103,
      "metadata": {
        "gather": {
          "logged": 1718683927317
        }
      },
      "outputs": [
        {
          "data": {
            "text/html": [
              "<div>\n",
              "<style scoped>\n",
              "    .dataframe tbody tr th:only-of-type {\n",
              "        vertical-align: middle;\n",
              "    }\n",
              "\n",
              "    .dataframe tbody tr th {\n",
              "        vertical-align: top;\n",
              "    }\n",
              "\n",
              "    .dataframe thead th {\n",
              "        text-align: right;\n",
              "    }\n",
              "</style>\n",
              "<table border=\"1\" class=\"dataframe\">\n",
              "  <thead>\n",
              "    <tr style=\"text-align: right;\">\n",
              "      <th></th>\n",
              "      <th>Mission name</th>\n",
              "      <th>Sample weight (kg)</th>\n",
              "      <th>Weight diff (kg)</th>\n",
              "      <th>Lunar module (LM)</th>\n",
              "      <th>LM mass (kg)</th>\n",
              "      <th>LM mass diff (kg)</th>\n",
              "      <th>Command module (CM)</th>\n",
              "      <th>CM mass (kg)</th>\n",
              "      <th>CM mass diff (kg)</th>\n",
              "      <th>Total weight (kg)</th>\n",
              "      <th>Total weight diff (kg)</th>\n",
              "      <th>Crewed area : Payload</th>\n",
              "      <th>Sample : Crewed area</th>\n",
              "    </tr>\n",
              "  </thead>\n",
              "  <tbody>\n",
              "    <tr>\n",
              "      <th>0</th>\n",
              "      <td>Apollo11</td>\n",
              "      <td>21.55424</td>\n",
              "      <td>0.00000</td>\n",
              "      <td>Eagle (LM-5)</td>\n",
              "      <td>15103</td>\n",
              "      <td>0.0</td>\n",
              "      <td>Columbia (CSM-107]</td>\n",
              "      <td>5560</td>\n",
              "      <td>0.0</td>\n",
              "      <td>20663</td>\n",
              "      <td>0.0</td>\n",
              "      <td>0.475011</td>\n",
              "      <td>0.001043</td>\n",
              "    </tr>\n",
              "    <tr>\n",
              "      <th>1</th>\n",
              "      <td>Apollo12</td>\n",
              "      <td>34.34238</td>\n",
              "      <td>12.78814</td>\n",
              "      <td>Intrepid (LM-6)</td>\n",
              "      <td>15235</td>\n",
              "      <td>132.0</td>\n",
              "      <td>Yankee Clipper (CM-100])</td>\n",
              "      <td>5609</td>\n",
              "      <td>49.0</td>\n",
              "      <td>20844</td>\n",
              "      <td>181.0</td>\n",
              "      <td>0.479172</td>\n",
              "      <td>0.001648</td>\n",
              "    </tr>\n",
              "    <tr>\n",
              "      <th>2</th>\n",
              "      <td>Apollo14</td>\n",
              "      <td>41.83363</td>\n",
              "      <td>7.49125</td>\n",
              "      <td>Antares (LM-8)</td>\n",
              "      <td>15264</td>\n",
              "      <td>29.0</td>\n",
              "      <td>Kitty Hawk (CM-110)</td>\n",
              "      <td>5758</td>\n",
              "      <td>149.0</td>\n",
              "      <td>21022</td>\n",
              "      <td>178.0</td>\n",
              "      <td>0.483264</td>\n",
              "      <td>0.001990</td>\n",
              "    </tr>\n",
              "    <tr>\n",
              "      <th>3</th>\n",
              "      <td>Apollo15</td>\n",
              "      <td>75.39910</td>\n",
              "      <td>33.56547</td>\n",
              "      <td>Falcon (LM-10)</td>\n",
              "      <td>16430</td>\n",
              "      <td>1166.0</td>\n",
              "      <td>Endeavor (CM-112)</td>\n",
              "      <td>5875</td>\n",
              "      <td>117.0</td>\n",
              "      <td>22305</td>\n",
              "      <td>1283.0</td>\n",
              "      <td>0.512759</td>\n",
              "      <td>0.003380</td>\n",
              "    </tr>\n",
              "    <tr>\n",
              "      <th>4</th>\n",
              "      <td>Apollo16</td>\n",
              "      <td>92.46262</td>\n",
              "      <td>17.06352</td>\n",
              "      <td>Orion (LM-11)</td>\n",
              "      <td>16445</td>\n",
              "      <td>15.0</td>\n",
              "      <td>Casper (CM-113)</td>\n",
              "      <td>5840</td>\n",
              "      <td>-35.0</td>\n",
              "      <td>22285</td>\n",
              "      <td>-20.0</td>\n",
              "      <td>0.512299</td>\n",
              "      <td>0.004149</td>\n",
              "    </tr>\n",
              "    <tr>\n",
              "      <th>5</th>\n",
              "      <td>Apollo17</td>\n",
              "      <td>109.44402</td>\n",
              "      <td>16.98140</td>\n",
              "      <td>Challenger (LM-12)</td>\n",
              "      <td>16456</td>\n",
              "      <td>11.0</td>\n",
              "      <td>America (CM-114)</td>\n",
              "      <td>5960</td>\n",
              "      <td>120.0</td>\n",
              "      <td>22416</td>\n",
              "      <td>131.0</td>\n",
              "      <td>0.515310</td>\n",
              "      <td>0.004882</td>\n",
              "    </tr>\n",
              "  </tbody>\n",
              "</table>\n",
              "</div>"
            ],
            "text/plain": [
              "  Mission name  Sample weight (kg)  Weight diff (kg)   Lunar module (LM)  \\\n",
              "0     Apollo11            21.55424           0.00000        Eagle (LM-5)   \n",
              "1     Apollo12            34.34238          12.78814     Intrepid (LM-6)   \n",
              "2     Apollo14            41.83363           7.49125      Antares (LM-8)   \n",
              "3     Apollo15            75.39910          33.56547      Falcon (LM-10)   \n",
              "4     Apollo16            92.46262          17.06352       Orion (LM-11)   \n",
              "5     Apollo17           109.44402          16.98140  Challenger (LM-12)   \n",
              "\n",
              "   LM mass (kg)  LM mass diff (kg)       Command module (CM)  CM mass (kg)  \\\n",
              "0         15103                0.0        Columbia (CSM-107]          5560   \n",
              "1         15235              132.0  Yankee Clipper (CM-100])          5609   \n",
              "2         15264               29.0       Kitty Hawk (CM-110)          5758   \n",
              "3         16430             1166.0         Endeavor (CM-112)          5875   \n",
              "4         16445               15.0           Casper (CM-113)          5840   \n",
              "5         16456               11.0          America (CM-114)          5960   \n",
              "\n",
              "   CM mass diff (kg)  Total weight (kg)  Total weight diff (kg)  \\\n",
              "0                0.0              20663                     0.0   \n",
              "1               49.0              20844                   181.0   \n",
              "2              149.0              21022                   178.0   \n",
              "3              117.0              22305                  1283.0   \n",
              "4              -35.0              22285                   -20.0   \n",
              "5              120.0              22416                   131.0   \n",
              "\n",
              "   Crewed area : Payload  Sample : Crewed area  \n",
              "0               0.475011              0.001043  \n",
              "1               0.479172              0.001648  \n",
              "2               0.483264              0.001990  \n",
              "3               0.512759              0.003380  \n",
              "4               0.512299              0.004149  \n",
              "5               0.515310              0.004882  "
            ]
          },
          "execution_count": 103,
          "metadata": {},
          "output_type": "execute_result"
        }
      ],
      "source": [
        "# 승무원 영역에서 암석 샘플이 차지하는 비율 구하기 -> 'Sample : Crewed area'\n",
        "\n",
        "missions['Sample : Crewed area'] = missions['Sample weight (kg)'] / missions['Total weight (kg)']\n",
        "missions"
      ]
    },
    {
      "cell_type": "code",
      "execution_count": 105,
      "metadata": {
        "gather": {
          "logged": 1718683927516
        }
      },
      "outputs": [
        {
          "data": {
            "text/html": [
              "<div>\n",
              "<style scoped>\n",
              "    .dataframe tbody tr th:only-of-type {\n",
              "        vertical-align: middle;\n",
              "    }\n",
              "\n",
              "    .dataframe tbody tr th {\n",
              "        vertical-align: top;\n",
              "    }\n",
              "\n",
              "    .dataframe thead th {\n",
              "        text-align: right;\n",
              "    }\n",
              "</style>\n",
              "<table border=\"1\" class=\"dataframe\">\n",
              "  <thead>\n",
              "    <tr style=\"text-align: right;\">\n",
              "      <th></th>\n",
              "      <th>Mission name</th>\n",
              "      <th>Sample weight (kg)</th>\n",
              "      <th>Weight diff (kg)</th>\n",
              "      <th>Lunar module (LM)</th>\n",
              "      <th>LM mass (kg)</th>\n",
              "      <th>LM mass diff (kg)</th>\n",
              "      <th>Command module (CM)</th>\n",
              "      <th>CM mass (kg)</th>\n",
              "      <th>CM mass diff (kg)</th>\n",
              "      <th>Total weight (kg)</th>\n",
              "      <th>Total weight diff (kg)</th>\n",
              "      <th>Crewed area : Payload</th>\n",
              "      <th>Sample : Crewed area</th>\n",
              "      <th>Sample : Payload</th>\n",
              "    </tr>\n",
              "  </thead>\n",
              "  <tbody>\n",
              "    <tr>\n",
              "      <th>0</th>\n",
              "      <td>Apollo11</td>\n",
              "      <td>21.55424</td>\n",
              "      <td>0.00000</td>\n",
              "      <td>Eagle (LM-5)</td>\n",
              "      <td>15103</td>\n",
              "      <td>0.0</td>\n",
              "      <td>Columbia (CSM-107]</td>\n",
              "      <td>5560</td>\n",
              "      <td>0.0</td>\n",
              "      <td>20663</td>\n",
              "      <td>0.0</td>\n",
              "      <td>0.475011</td>\n",
              "      <td>0.001043</td>\n",
              "      <td>0.000495</td>\n",
              "    </tr>\n",
              "    <tr>\n",
              "      <th>1</th>\n",
              "      <td>Apollo12</td>\n",
              "      <td>34.34238</td>\n",
              "      <td>12.78814</td>\n",
              "      <td>Intrepid (LM-6)</td>\n",
              "      <td>15235</td>\n",
              "      <td>132.0</td>\n",
              "      <td>Yankee Clipper (CM-100])</td>\n",
              "      <td>5609</td>\n",
              "      <td>49.0</td>\n",
              "      <td>20844</td>\n",
              "      <td>181.0</td>\n",
              "      <td>0.479172</td>\n",
              "      <td>0.001648</td>\n",
              "      <td>0.000789</td>\n",
              "    </tr>\n",
              "    <tr>\n",
              "      <th>2</th>\n",
              "      <td>Apollo14</td>\n",
              "      <td>41.83363</td>\n",
              "      <td>7.49125</td>\n",
              "      <td>Antares (LM-8)</td>\n",
              "      <td>15264</td>\n",
              "      <td>29.0</td>\n",
              "      <td>Kitty Hawk (CM-110)</td>\n",
              "      <td>5758</td>\n",
              "      <td>149.0</td>\n",
              "      <td>21022</td>\n",
              "      <td>178.0</td>\n",
              "      <td>0.483264</td>\n",
              "      <td>0.001990</td>\n",
              "      <td>0.000962</td>\n",
              "    </tr>\n",
              "    <tr>\n",
              "      <th>3</th>\n",
              "      <td>Apollo15</td>\n",
              "      <td>75.39910</td>\n",
              "      <td>33.56547</td>\n",
              "      <td>Falcon (LM-10)</td>\n",
              "      <td>16430</td>\n",
              "      <td>1166.0</td>\n",
              "      <td>Endeavor (CM-112)</td>\n",
              "      <td>5875</td>\n",
              "      <td>117.0</td>\n",
              "      <td>22305</td>\n",
              "      <td>1283.0</td>\n",
              "      <td>0.512759</td>\n",
              "      <td>0.003380</td>\n",
              "      <td>0.001733</td>\n",
              "    </tr>\n",
              "    <tr>\n",
              "      <th>4</th>\n",
              "      <td>Apollo16</td>\n",
              "      <td>92.46262</td>\n",
              "      <td>17.06352</td>\n",
              "      <td>Orion (LM-11)</td>\n",
              "      <td>16445</td>\n",
              "      <td>15.0</td>\n",
              "      <td>Casper (CM-113)</td>\n",
              "      <td>5840</td>\n",
              "      <td>-35.0</td>\n",
              "      <td>22285</td>\n",
              "      <td>-20.0</td>\n",
              "      <td>0.512299</td>\n",
              "      <td>0.004149</td>\n",
              "      <td>0.002126</td>\n",
              "    </tr>\n",
              "    <tr>\n",
              "      <th>5</th>\n",
              "      <td>Apollo17</td>\n",
              "      <td>109.44402</td>\n",
              "      <td>16.98140</td>\n",
              "      <td>Challenger (LM-12)</td>\n",
              "      <td>16456</td>\n",
              "      <td>11.0</td>\n",
              "      <td>America (CM-114)</td>\n",
              "      <td>5960</td>\n",
              "      <td>120.0</td>\n",
              "      <td>22416</td>\n",
              "      <td>131.0</td>\n",
              "      <td>0.515310</td>\n",
              "      <td>0.004882</td>\n",
              "      <td>0.002516</td>\n",
              "    </tr>\n",
              "  </tbody>\n",
              "</table>\n",
              "</div>"
            ],
            "text/plain": [
              "  Mission name  Sample weight (kg)  Weight diff (kg)   Lunar module (LM)  \\\n",
              "0     Apollo11            21.55424           0.00000        Eagle (LM-5)   \n",
              "1     Apollo12            34.34238          12.78814     Intrepid (LM-6)   \n",
              "2     Apollo14            41.83363           7.49125      Antares (LM-8)   \n",
              "3     Apollo15            75.39910          33.56547      Falcon (LM-10)   \n",
              "4     Apollo16            92.46262          17.06352       Orion (LM-11)   \n",
              "5     Apollo17           109.44402          16.98140  Challenger (LM-12)   \n",
              "\n",
              "   LM mass (kg)  LM mass diff (kg)       Command module (CM)  CM mass (kg)  \\\n",
              "0         15103                0.0        Columbia (CSM-107]          5560   \n",
              "1         15235              132.0  Yankee Clipper (CM-100])          5609   \n",
              "2         15264               29.0       Kitty Hawk (CM-110)          5758   \n",
              "3         16430             1166.0         Endeavor (CM-112)          5875   \n",
              "4         16445               15.0           Casper (CM-113)          5840   \n",
              "5         16456               11.0          America (CM-114)          5960   \n",
              "\n",
              "   CM mass diff (kg)  Total weight (kg)  Total weight diff (kg)  \\\n",
              "0                0.0              20663                     0.0   \n",
              "1               49.0              20844                   181.0   \n",
              "2              149.0              21022                   178.0   \n",
              "3              117.0              22305                  1283.0   \n",
              "4              -35.0              22285                   -20.0   \n",
              "5              120.0              22416                   131.0   \n",
              "\n",
              "   Crewed area : Payload  Sample : Crewed area  Sample : Payload  \n",
              "0               0.475011              0.001043          0.000495  \n",
              "1               0.479172              0.001648          0.000789  \n",
              "2               0.483264              0.001990          0.000962  \n",
              "3               0.512759              0.003380          0.001733  \n",
              "4               0.512299              0.004149          0.002126  \n",
              "5               0.515310              0.004882          0.002516  "
            ]
          },
          "execution_count": 105,
          "metadata": {},
          "output_type": "execute_result"
        }
      ],
      "source": [
        "# 페이로드에서 샘플이 차지하는 비율 구하기 -> 'Sample : Payload'\n",
        "\n",
        "missions['Sample : Payload'] = missions['Sample weight (kg)'] / saturnVPayload\n",
        "missions"
      ]
    },
    {
      "cell_type": "markdown",
      "metadata": {},
      "source": [
        "## artemis_mission 데이터프레임 만들기"
      ]
    },
    {
      "cell_type": "code",
      "execution_count": 116,
      "metadata": {
        "gather": {
          "logged": 1718683927721
        }
      },
      "outputs": [
        {
          "data": {
            "text/html": [
              "<div>\n",
              "<style scoped>\n",
              "    .dataframe tbody tr th:only-of-type {\n",
              "        vertical-align: middle;\n",
              "    }\n",
              "\n",
              "    .dataframe tbody tr th {\n",
              "        vertical-align: top;\n",
              "    }\n",
              "\n",
              "    .dataframe thead th {\n",
              "        text-align: right;\n",
              "    }\n",
              "</style>\n",
              "<table border=\"1\" class=\"dataframe\">\n",
              "  <thead>\n",
              "    <tr style=\"text-align: right;\">\n",
              "      <th></th>\n",
              "      <th>Mission</th>\n",
              "      <th>Total weight (kg)</th>\n",
              "      <th>Payload (kg)</th>\n",
              "    </tr>\n",
              "  </thead>\n",
              "  <tbody>\n",
              "    <tr>\n",
              "      <th>0</th>\n",
              "      <td>artemis1</td>\n",
              "      <td>26520</td>\n",
              "      <td>26988</td>\n",
              "    </tr>\n",
              "    <tr>\n",
              "      <th>1</th>\n",
              "      <td>artemis1b</td>\n",
              "      <td>26520</td>\n",
              "      <td>37965</td>\n",
              "    </tr>\n",
              "    <tr>\n",
              "      <th>2</th>\n",
              "      <td>artemis2</td>\n",
              "      <td>26520</td>\n",
              "      <td>42955</td>\n",
              "    </tr>\n",
              "  </tbody>\n",
              "</table>\n",
              "</div>"
            ],
            "text/plain": [
              "     Mission  Total weight (kg)  Payload (kg)\n",
              "0   artemis1              26520         26988\n",
              "1  artemis1b              26520         37965\n",
              "2   artemis2              26520         42955"
            ]
          },
          "execution_count": 116,
          "metadata": {},
          "output_type": "execute_result"
        }
      ],
      "source": [
        "artemis_crewed_area = 26520\n",
        "\n",
        "artemis_dict = {'Mission' : ['artemis1', 'artemis1b', 'artemis2'],\n",
        "                'Total weight (kg)' : [artemis_crewed_area, artemis_crewed_area, artemis_crewed_area],\n",
        "                'Payload (kg)' : [26988, 37965, 42955]\n",
        "               }\n",
        "\n",
        "#딕셔너리를 데이터 프레임으로 저장하기\n",
        "artemis_mission = pd.DataFrame(artemis_dict)\n",
        "artemis_mission"
      ]
    },
    {
      "cell_type": "code",
      "execution_count": 117,
      "metadata": {
        "gather": {
          "logged": 1718683928021
        }
      },
      "outputs": [
        {
          "data": {
            "text/plain": [
              "Crewed area : Payload    0.496303\n",
              "Sample : Crewed area     0.002849\n",
              "Sample : Payload         0.001437\n",
              "dtype: float64"
            ]
          },
          "execution_count": 117,
          "metadata": {},
          "output_type": "execute_result"
        }
      ],
      "source": [
        "# missions 데이터프레임에서 'Crewed area : Payload', 'Sample : Crewed area', 'Sample : payload' 의 평균값을 구한다.\n",
        "\n",
        "missions[['Crewed area : Payload', 'Sample : Crewed area', 'Sample : Payload']].mean()"
      ]
    },
    {
      "cell_type": "code",
      "execution_count": 118,
      "metadata": {
        "gather": {
          "logged": 1718683928212
        },
        "jupyter": {
          "outputs_hidden": false,
          "source_hidden": false
        },
        "nteract": {
          "transient": {
            "deleting": false
          }
        }
      },
      "outputs": [
        {
          "data": {
            "text/plain": [
              "np.float64(375.03598999999997)"
            ]
          },
          "execution_count": 118,
          "metadata": {},
          "output_type": "execute_result"
        }
      ],
      "source": [
        "# missions 데이터프레임에서 'Sample weight (kg)'의 총합을 구한다.\n",
        "missions['Sample weight (kg)'].sum()"
      ]
    },
    {
      "cell_type": "code",
      "execution_count": 119,
      "metadata": {},
      "outputs": [
        {
          "data": {
            "text/html": [
              "<div>\n",
              "<style scoped>\n",
              "    .dataframe tbody tr th:only-of-type {\n",
              "        vertical-align: middle;\n",
              "    }\n",
              "\n",
              "    .dataframe tbody tr th {\n",
              "        vertical-align: top;\n",
              "    }\n",
              "\n",
              "    .dataframe thead th {\n",
              "        text-align: right;\n",
              "    }\n",
              "</style>\n",
              "<table border=\"1\" class=\"dataframe\">\n",
              "  <thead>\n",
              "    <tr style=\"text-align: right;\">\n",
              "      <th></th>\n",
              "      <th>Mission</th>\n",
              "      <th>Total weight (kg)</th>\n",
              "      <th>Payload (kg)</th>\n",
              "    </tr>\n",
              "  </thead>\n",
              "  <tbody>\n",
              "    <tr>\n",
              "      <th>0</th>\n",
              "      <td>artemis1</td>\n",
              "      <td>26520</td>\n",
              "      <td>26988</td>\n",
              "    </tr>\n",
              "    <tr>\n",
              "      <th>1</th>\n",
              "      <td>artemis1b</td>\n",
              "      <td>26520</td>\n",
              "      <td>37965</td>\n",
              "    </tr>\n",
              "    <tr>\n",
              "      <th>2</th>\n",
              "      <td>artemis2</td>\n",
              "      <td>26520</td>\n",
              "      <td>42955</td>\n",
              "    </tr>\n",
              "  </tbody>\n",
              "</table>\n",
              "</div>"
            ],
            "text/plain": [
              "     Mission  Total weight (kg)  Payload (kg)\n",
              "0   artemis1              26520         26988\n",
              "1  artemis1b              26520         37965\n",
              "2   artemis2              26520         42955"
            ]
          },
          "execution_count": 119,
          "metadata": {},
          "output_type": "execute_result"
        }
      ],
      "source": [
        "artemis_mission"
      ]
    },
    {
      "cell_type": "code",
      "execution_count": 121,
      "metadata": {
        "gather": {
          "logged": 1718683928361
        },
        "jupyter": {
          "outputs_hidden": false,
          "source_hidden": false
        },
        "nteract": {
          "transient": {
            "deleting": false
          }
        }
      },
      "outputs": [
        {
          "data": {
            "text/html": [
              "<div>\n",
              "<style scoped>\n",
              "    .dataframe tbody tr th:only-of-type {\n",
              "        vertical-align: middle;\n",
              "    }\n",
              "\n",
              "    .dataframe tbody tr th {\n",
              "        vertical-align: top;\n",
              "    }\n",
              "\n",
              "    .dataframe thead th {\n",
              "        text-align: right;\n",
              "    }\n",
              "</style>\n",
              "<table border=\"1\" class=\"dataframe\">\n",
              "  <thead>\n",
              "    <tr style=\"text-align: right;\">\n",
              "      <th></th>\n",
              "      <th>Mission</th>\n",
              "      <th>Total weight (kg)</th>\n",
              "      <th>Payload (kg)</th>\n",
              "      <th>Sample weight from total (kg)</th>\n",
              "    </tr>\n",
              "  </thead>\n",
              "  <tbody>\n",
              "    <tr>\n",
              "      <th>0</th>\n",
              "      <td>artemis1</td>\n",
              "      <td>26520</td>\n",
              "      <td>26988</td>\n",
              "      <td>75.549232</td>\n",
              "    </tr>\n",
              "    <tr>\n",
              "      <th>1</th>\n",
              "      <td>artemis1b</td>\n",
              "      <td>26520</td>\n",
              "      <td>37965</td>\n",
              "      <td>75.549232</td>\n",
              "    </tr>\n",
              "    <tr>\n",
              "      <th>2</th>\n",
              "      <td>artemis2</td>\n",
              "      <td>26520</td>\n",
              "      <td>42955</td>\n",
              "      <td>75.549232</td>\n",
              "    </tr>\n",
              "  </tbody>\n",
              "</table>\n",
              "</div>"
            ],
            "text/plain": [
              "     Mission  Total weight (kg)  Payload (kg)  Sample weight from total (kg)\n",
              "0   artemis1              26520         26988                      75.549232\n",
              "1  artemis1b              26520         37965                      75.549232\n",
              "2   artemis2              26520         42955                      75.549232"
            ]
          },
          "execution_count": 121,
          "metadata": {},
          "output_type": "execute_result"
        }
      ],
      "source": [
        "#artemis_missions 데이터 프레임에 'Sample weight from total (kg)' 컬럼을 추가한다.\n",
        "\n",
        "sample_per_crewed_area = missions['Sample : Crewed area'].mean()\n",
        "artemis_mission['Sample weight from total (kg)'] = artemis_mission['Total weight (kg)'] * sample_per_crewed_area\n",
        "artemis_mission"
      ]
    },
    {
      "cell_type": "code",
      "execution_count": 122,
      "metadata": {
        "gather": {
          "logged": 1718683928565
        },
        "jupyter": {
          "outputs_hidden": false,
          "source_hidden": false
        },
        "nteract": {
          "transient": {
            "deleting": false
          }
        }
      },
      "outputs": [
        {
          "data": {
            "text/html": [
              "<div>\n",
              "<style scoped>\n",
              "    .dataframe tbody tr th:only-of-type {\n",
              "        vertical-align: middle;\n",
              "    }\n",
              "\n",
              "    .dataframe tbody tr th {\n",
              "        vertical-align: top;\n",
              "    }\n",
              "\n",
              "    .dataframe thead th {\n",
              "        text-align: right;\n",
              "    }\n",
              "</style>\n",
              "<table border=\"1\" class=\"dataframe\">\n",
              "  <thead>\n",
              "    <tr style=\"text-align: right;\">\n",
              "      <th></th>\n",
              "      <th>Mission</th>\n",
              "      <th>Total weight (kg)</th>\n",
              "      <th>Payload (kg)</th>\n",
              "      <th>Sample weight from total (kg)</th>\n",
              "      <th>Sample weight from payload (kg)</th>\n",
              "    </tr>\n",
              "  </thead>\n",
              "  <tbody>\n",
              "    <tr>\n",
              "      <th>0</th>\n",
              "      <td>artemis1</td>\n",
              "      <td>26520</td>\n",
              "      <td>26988</td>\n",
              "      <td>75.549232</td>\n",
              "      <td>38.779584</td>\n",
              "    </tr>\n",
              "    <tr>\n",
              "      <th>1</th>\n",
              "      <td>artemis1b</td>\n",
              "      <td>26520</td>\n",
              "      <td>37965</td>\n",
              "      <td>75.549232</td>\n",
              "      <td>54.552649</td>\n",
              "    </tr>\n",
              "    <tr>\n",
              "      <th>2</th>\n",
              "      <td>artemis2</td>\n",
              "      <td>26520</td>\n",
              "      <td>42955</td>\n",
              "      <td>75.549232</td>\n",
              "      <td>61.722877</td>\n",
              "    </tr>\n",
              "  </tbody>\n",
              "</table>\n",
              "</div>"
            ],
            "text/plain": [
              "     Mission  Total weight (kg)  Payload (kg)  Sample weight from total (kg)  \\\n",
              "0   artemis1              26520         26988                      75.549232   \n",
              "1  artemis1b              26520         37965                      75.549232   \n",
              "2   artemis2              26520         42955                      75.549232   \n",
              "\n",
              "   Sample weight from payload (kg)  \n",
              "0                        38.779584  \n",
              "1                        54.552649  \n",
              "2                        61.722877  "
            ]
          },
          "execution_count": 122,
          "metadata": {},
          "output_type": "execute_result"
        }
      ],
      "source": [
        "#artemis_mission 데이터프레임에 'Sample weight from payload (kg)' 컬럼을 추가한다.\n",
        "\n",
        "sample_per_payload = missions['Sample : Payload'].mean()\n",
        "artemis_mission['Sample weight from payload (kg)'] = artemis_mission['Payload (kg)'] * sample_per_payload\n",
        "artemis_mission"
      ]
    },
    {
      "cell_type": "code",
      "execution_count": 123,
      "metadata": {
        "gather": {
          "logged": 1718683928731
        },
        "jupyter": {
          "outputs_hidden": false,
          "source_hidden": false
        },
        "nteract": {
          "transient": {
            "deleting": false
          }
        }
      },
      "outputs": [
        {
          "data": {
            "text/html": [
              "<div>\n",
              "<style scoped>\n",
              "    .dataframe tbody tr th:only-of-type {\n",
              "        vertical-align: middle;\n",
              "    }\n",
              "\n",
              "    .dataframe tbody tr th {\n",
              "        vertical-align: top;\n",
              "    }\n",
              "\n",
              "    .dataframe thead th {\n",
              "        text-align: right;\n",
              "    }\n",
              "</style>\n",
              "<table border=\"1\" class=\"dataframe\">\n",
              "  <thead>\n",
              "    <tr style=\"text-align: right;\">\n",
              "      <th></th>\n",
              "      <th>Mission</th>\n",
              "      <th>Total weight (kg)</th>\n",
              "      <th>Payload (kg)</th>\n",
              "      <th>Sample weight from total (kg)</th>\n",
              "      <th>Sample weight from payload (kg)</th>\n",
              "      <th>Estimated sample weight (kg)</th>\n",
              "    </tr>\n",
              "  </thead>\n",
              "  <tbody>\n",
              "    <tr>\n",
              "      <th>0</th>\n",
              "      <td>artemis1</td>\n",
              "      <td>26520</td>\n",
              "      <td>26988</td>\n",
              "      <td>75.549232</td>\n",
              "      <td>38.779584</td>\n",
              "      <td>57.164408</td>\n",
              "    </tr>\n",
              "    <tr>\n",
              "      <th>1</th>\n",
              "      <td>artemis1b</td>\n",
              "      <td>26520</td>\n",
              "      <td>37965</td>\n",
              "      <td>75.549232</td>\n",
              "      <td>54.552649</td>\n",
              "      <td>65.050940</td>\n",
              "    </tr>\n",
              "    <tr>\n",
              "      <th>2</th>\n",
              "      <td>artemis2</td>\n",
              "      <td>26520</td>\n",
              "      <td>42955</td>\n",
              "      <td>75.549232</td>\n",
              "      <td>61.722877</td>\n",
              "      <td>68.636054</td>\n",
              "    </tr>\n",
              "  </tbody>\n",
              "</table>\n",
              "</div>"
            ],
            "text/plain": [
              "     Mission  Total weight (kg)  Payload (kg)  Sample weight from total (kg)  \\\n",
              "0   artemis1              26520         26988                      75.549232   \n",
              "1  artemis1b              26520         37965                      75.549232   \n",
              "2   artemis2              26520         42955                      75.549232   \n",
              "\n",
              "   Sample weight from payload (kg)  Estimated sample weight (kg)  \n",
              "0                        38.779584                     57.164408  \n",
              "1                        54.552649                     65.050940  \n",
              "2                        61.722877                     68.636054  "
            ]
          },
          "execution_count": 123,
          "metadata": {},
          "output_type": "execute_result"
        }
      ],
      "source": [
        "# artemis_mission 데이터프레임에 'Estimated sample weight (kg)' 컬럼을 추가한다.\n",
        "\n",
        "artemis_mission['Estimated sample weight (kg)'] = (artemis_mission['Sample weight from total (kg)'] + artemis_mission['Sample weight from payload (kg)']) / 2\n",
        "artemis_mission"
      ]
    },
    {
      "cell_type": "markdown",
      "metadata": {
        "nteract": {
          "transient": {
            "deleting": false
          }
        }
      },
      "source": [
        "## 아르테미스 임무에서 가져올 암석 종류 구하기"
      ]
    },
    {
      "cell_type": "code",
      "execution_count": 171,
      "metadata": {
        "gather": {
          "logged": 1718683929003
        },
        "jupyter": {
          "outputs_hidden": false,
          "source_hidden": false
        },
        "nteract": {
          "transient": {
            "deleting": false
          }
        }
      },
      "outputs": [
        {
          "data": {
            "text/html": [
              "<div>\n",
              "<style scoped>\n",
              "    .dataframe tbody tr th:only-of-type {\n",
              "        vertical-align: middle;\n",
              "    }\n",
              "\n",
              "    .dataframe tbody tr th {\n",
              "        vertical-align: top;\n",
              "    }\n",
              "\n",
              "    .dataframe thead th {\n",
              "        text-align: right;\n",
              "    }\n",
              "</style>\n",
              "<table border=\"1\" class=\"dataframe\">\n",
              "  <thead>\n",
              "    <tr style=\"text-align: right;\">\n",
              "      <th></th>\n",
              "      <th>ID</th>\n",
              "      <th>Mission</th>\n",
              "      <th>Type</th>\n",
              "      <th>Subtype</th>\n",
              "      <th>Pristine (%)</th>\n",
              "      <th>Weight (kg)</th>\n",
              "      <th>Remaining (kg)</th>\n",
              "    </tr>\n",
              "  </thead>\n",
              "  <tbody>\n",
              "    <tr>\n",
              "      <th>0</th>\n",
              "      <td>10001</td>\n",
              "      <td>Apollo11</td>\n",
              "      <td>Soil</td>\n",
              "      <td>Unsieved</td>\n",
              "      <td>88.36</td>\n",
              "      <td>0.1258</td>\n",
              "      <td>0.111157</td>\n",
              "    </tr>\n",
              "    <tr>\n",
              "      <th>1</th>\n",
              "      <td>10002</td>\n",
              "      <td>Apollo11</td>\n",
              "      <td>Soil</td>\n",
              "      <td>Unsieved</td>\n",
              "      <td>93.73</td>\n",
              "      <td>5.6290</td>\n",
              "      <td>5.276062</td>\n",
              "    </tr>\n",
              "    <tr>\n",
              "      <th>2</th>\n",
              "      <td>10003</td>\n",
              "      <td>Apollo11</td>\n",
              "      <td>Basalt</td>\n",
              "      <td>Ilmenite</td>\n",
              "      <td>65.56</td>\n",
              "      <td>0.2130</td>\n",
              "      <td>0.139643</td>\n",
              "    </tr>\n",
              "    <tr>\n",
              "      <th>3</th>\n",
              "      <td>10004</td>\n",
              "      <td>Apollo11</td>\n",
              "      <td>Core</td>\n",
              "      <td>Unsieved</td>\n",
              "      <td>71.76</td>\n",
              "      <td>0.0448</td>\n",
              "      <td>0.032148</td>\n",
              "    </tr>\n",
              "    <tr>\n",
              "      <th>4</th>\n",
              "      <td>10005</td>\n",
              "      <td>Apollo11</td>\n",
              "      <td>Core</td>\n",
              "      <td>Unsieved</td>\n",
              "      <td>40.31</td>\n",
              "      <td>0.0534</td>\n",
              "      <td>0.021526</td>\n",
              "    </tr>\n",
              "  </tbody>\n",
              "</table>\n",
              "</div>"
            ],
            "text/plain": [
              "      ID   Mission    Type   Subtype  Pristine (%)  Weight (kg)  \\\n",
              "0  10001  Apollo11    Soil  Unsieved         88.36       0.1258   \n",
              "1  10002  Apollo11    Soil  Unsieved         93.73       5.6290   \n",
              "2  10003  Apollo11  Basalt  Ilmenite         65.56       0.2130   \n",
              "3  10004  Apollo11    Core  Unsieved         71.76       0.0448   \n",
              "4  10005  Apollo11    Core  Unsieved         40.31       0.0534   \n",
              "\n",
              "   Remaining (kg)  \n",
              "0        0.111157  \n",
              "1        5.276062  \n",
              "2        0.139643  \n",
              "3        0.032148  \n",
              "4        0.021526  "
            ]
          },
          "execution_count": 171,
          "metadata": {},
          "output_type": "execute_result"
        }
      ],
      "source": [
        "# rock_samples의 5개 정보 확인하기\n",
        "\n",
        "rock_samples.head()"
      ]
    },
    {
      "cell_type": "code",
      "execution_count": 172,
      "metadata": {
        "gather": {
          "logged": 1718683929399
        },
        "jupyter": {
          "outputs_hidden": false,
          "source_hidden": false
        },
        "nteract": {
          "transient": {
            "deleting": false
          }
        }
      },
      "outputs": [
        {
          "data": {
            "text/html": [
              "<div>\n",
              "<style scoped>\n",
              "    .dataframe tbody tr th:only-of-type {\n",
              "        vertical-align: middle;\n",
              "    }\n",
              "\n",
              "    .dataframe tbody tr th {\n",
              "        vertical-align: top;\n",
              "    }\n",
              "\n",
              "    .dataframe thead th {\n",
              "        text-align: right;\n",
              "    }\n",
              "</style>\n",
              "<table border=\"1\" class=\"dataframe\">\n",
              "  <thead>\n",
              "    <tr style=\"text-align: right;\">\n",
              "      <th></th>\n",
              "      <th>ID</th>\n",
              "      <th>Mission</th>\n",
              "      <th>Type</th>\n",
              "      <th>Subtype</th>\n",
              "      <th>Pristine (%)</th>\n",
              "      <th>Weight (kg)</th>\n",
              "      <th>Remaining (kg)</th>\n",
              "    </tr>\n",
              "  </thead>\n",
              "  <tbody>\n",
              "    <tr>\n",
              "      <th>0</th>\n",
              "      <td>10001</td>\n",
              "      <td>Apollo11</td>\n",
              "      <td>Soil</td>\n",
              "      <td>Unsieved</td>\n",
              "      <td>88.36</td>\n",
              "      <td>0.1258</td>\n",
              "      <td>0.111157</td>\n",
              "    </tr>\n",
              "    <tr>\n",
              "      <th>1</th>\n",
              "      <td>10002</td>\n",
              "      <td>Apollo11</td>\n",
              "      <td>Soil</td>\n",
              "      <td>Unsieved</td>\n",
              "      <td>93.73</td>\n",
              "      <td>5.6290</td>\n",
              "      <td>5.276062</td>\n",
              "    </tr>\n",
              "    <tr>\n",
              "      <th>2</th>\n",
              "      <td>10003</td>\n",
              "      <td>Apollo11</td>\n",
              "      <td>Basalt</td>\n",
              "      <td>Ilmenite</td>\n",
              "      <td>65.56</td>\n",
              "      <td>0.2130</td>\n",
              "      <td>0.139643</td>\n",
              "    </tr>\n",
              "    <tr>\n",
              "      <th>3</th>\n",
              "      <td>10004</td>\n",
              "      <td>Apollo11</td>\n",
              "      <td>Core</td>\n",
              "      <td>Unsieved</td>\n",
              "      <td>71.76</td>\n",
              "      <td>0.0448</td>\n",
              "      <td>0.032148</td>\n",
              "    </tr>\n",
              "    <tr>\n",
              "      <th>4</th>\n",
              "      <td>10005</td>\n",
              "      <td>Apollo11</td>\n",
              "      <td>Core</td>\n",
              "      <td>Unsieved</td>\n",
              "      <td>40.31</td>\n",
              "      <td>0.0534</td>\n",
              "      <td>0.021526</td>\n",
              "    </tr>\n",
              "  </tbody>\n",
              "</table>\n",
              "</div>"
            ],
            "text/plain": [
              "      ID   Mission    Type   Subtype  Pristine (%)  Weight (kg)  \\\n",
              "0  10001  Apollo11    Soil  Unsieved         88.36       0.1258   \n",
              "1  10002  Apollo11    Soil  Unsieved         93.73       5.6290   \n",
              "2  10003  Apollo11  Basalt  Ilmenite         65.56       0.2130   \n",
              "3  10004  Apollo11    Core  Unsieved         71.76       0.0448   \n",
              "4  10005  Apollo11    Core  Unsieved         40.31       0.0534   \n",
              "\n",
              "   Remaining (kg)  \n",
              "0        0.111157  \n",
              "1        5.276062  \n",
              "2        0.139643  \n",
              "3        0.032148  \n",
              "4        0.021526  "
            ]
          },
          "execution_count": 172,
          "metadata": {},
          "output_type": "execute_result"
        }
      ],
      "source": [
        "# rock_samples 데이터프레임에 암석샘플의 남은 양을 나타내는 'Remaining (kg)' 컬럼추가\n",
        "\n",
        "rock_samples['Remaining (kg)'] = rock_samples['Weight (kg)'] * rock_samples['Pristine (%)']  / 100\n",
        "\n",
        "rock_samples.head()"
      ]
    },
    {
      "cell_type": "code",
      "execution_count": 173,
      "metadata": {
        "gather": {
          "logged": 1718683929880
        },
        "jupyter": {
          "outputs_hidden": false,
          "source_hidden": false
        },
        "nteract": {
          "transient": {
            "deleting": false
          }
        }
      },
      "outputs": [
        {
          "data": {
            "text/html": [
              "<div>\n",
              "<style scoped>\n",
              "    .dataframe tbody tr th:only-of-type {\n",
              "        vertical-align: middle;\n",
              "    }\n",
              "\n",
              "    .dataframe tbody tr th {\n",
              "        vertical-align: top;\n",
              "    }\n",
              "\n",
              "    .dataframe thead th {\n",
              "        text-align: right;\n",
              "    }\n",
              "</style>\n",
              "<table border=\"1\" class=\"dataframe\">\n",
              "  <thead>\n",
              "    <tr style=\"text-align: right;\">\n",
              "      <th></th>\n",
              "      <th>ID</th>\n",
              "      <th>Pristine (%)</th>\n",
              "      <th>Weight (kg)</th>\n",
              "      <th>Remaining (kg)</th>\n",
              "    </tr>\n",
              "  </thead>\n",
              "  <tbody>\n",
              "    <tr>\n",
              "      <th>count</th>\n",
              "      <td>2229.000000</td>\n",
              "      <td>2229.000000</td>\n",
              "      <td>2229.000000</td>\n",
              "      <td>2229.000000</td>\n",
              "    </tr>\n",
              "    <tr>\n",
              "      <th>mean</th>\n",
              "      <td>52058.432032</td>\n",
              "      <td>84.512764</td>\n",
              "      <td>0.168253</td>\n",
              "      <td>0.138103</td>\n",
              "    </tr>\n",
              "    <tr>\n",
              "      <th>std</th>\n",
              "      <td>26207.651471</td>\n",
              "      <td>22.057299</td>\n",
              "      <td>0.637286</td>\n",
              "      <td>0.525954</td>\n",
              "    </tr>\n",
              "    <tr>\n",
              "      <th>min</th>\n",
              "      <td>10001.000000</td>\n",
              "      <td>0.000000</td>\n",
              "      <td>0.000000</td>\n",
              "      <td>0.000000</td>\n",
              "    </tr>\n",
              "    <tr>\n",
              "      <th>25%</th>\n",
              "      <td>15437.000000</td>\n",
              "      <td>80.010000</td>\n",
              "      <td>0.003000</td>\n",
              "      <td>0.002432</td>\n",
              "    </tr>\n",
              "    <tr>\n",
              "      <th>50%</th>\n",
              "      <td>65527.000000</td>\n",
              "      <td>92.300000</td>\n",
              "      <td>0.010200</td>\n",
              "      <td>0.008530</td>\n",
              "    </tr>\n",
              "    <tr>\n",
              "      <th>75%</th>\n",
              "      <td>72142.000000</td>\n",
              "      <td>98.140000</td>\n",
              "      <td>0.093490</td>\n",
              "      <td>0.078240</td>\n",
              "    </tr>\n",
              "    <tr>\n",
              "      <th>max</th>\n",
              "      <td>79537.000000</td>\n",
              "      <td>180.000000</td>\n",
              "      <td>11.729000</td>\n",
              "      <td>11.169527</td>\n",
              "    </tr>\n",
              "  </tbody>\n",
              "</table>\n",
              "</div>"
            ],
            "text/plain": [
              "                 ID  Pristine (%)  Weight (kg)  Remaining (kg)\n",
              "count   2229.000000   2229.000000  2229.000000     2229.000000\n",
              "mean   52058.432032     84.512764     0.168253        0.138103\n",
              "std    26207.651471     22.057299     0.637286        0.525954\n",
              "min    10001.000000      0.000000     0.000000        0.000000\n",
              "25%    15437.000000     80.010000     0.003000        0.002432\n",
              "50%    65527.000000     92.300000     0.010200        0.008530\n",
              "75%    72142.000000     98.140000     0.093490        0.078240\n",
              "max    79537.000000    180.000000    11.729000       11.169527"
            ]
          },
          "execution_count": 173,
          "metadata": {},
          "output_type": "execute_result"
        }
      ],
      "source": [
        "# rock_samples 수치데이터 요약 통계 확인\n",
        "\n",
        "rock_samples.describe()"
      ]
    },
    {
      "cell_type": "code",
      "execution_count": 174,
      "metadata": {
        "gather": {
          "logged": 1718683930026
        },
        "jupyter": {
          "outputs_hidden": false,
          "source_hidden": false
        },
        "nteract": {
          "transient": {
            "deleting": false
          }
        }
      },
      "outputs": [
        {
          "data": {
            "text/html": [
              "<div>\n",
              "<style scoped>\n",
              "    .dataframe tbody tr th:only-of-type {\n",
              "        vertical-align: middle;\n",
              "    }\n",
              "\n",
              "    .dataframe tbody tr th {\n",
              "        vertical-align: top;\n",
              "    }\n",
              "\n",
              "    .dataframe thead th {\n",
              "        text-align: right;\n",
              "    }\n",
              "</style>\n",
              "<table border=\"1\" class=\"dataframe\">\n",
              "  <thead>\n",
              "    <tr style=\"text-align: right;\">\n",
              "      <th></th>\n",
              "      <th>ID</th>\n",
              "      <th>Mission</th>\n",
              "      <th>Type</th>\n",
              "      <th>Subtype</th>\n",
              "      <th>Pristine (%)</th>\n",
              "      <th>Weight (kg)</th>\n",
              "      <th>Remaining (kg)</th>\n",
              "    </tr>\n",
              "  </thead>\n",
              "  <tbody>\n",
              "    <tr>\n",
              "      <th>1</th>\n",
              "      <td>10002</td>\n",
              "      <td>Apollo11</td>\n",
              "      <td>Soil</td>\n",
              "      <td>Unsieved</td>\n",
              "      <td>93.73</td>\n",
              "      <td>5.6290</td>\n",
              "      <td>5.276062</td>\n",
              "    </tr>\n",
              "    <tr>\n",
              "      <th>2</th>\n",
              "      <td>10003</td>\n",
              "      <td>Apollo11</td>\n",
              "      <td>Basalt</td>\n",
              "      <td>Ilmenite</td>\n",
              "      <td>65.56</td>\n",
              "      <td>0.2130</td>\n",
              "      <td>0.139643</td>\n",
              "    </tr>\n",
              "    <tr>\n",
              "      <th>7</th>\n",
              "      <td>10010</td>\n",
              "      <td>Apollo11</td>\n",
              "      <td>Soil</td>\n",
              "      <td>Unsieved</td>\n",
              "      <td>91.03</td>\n",
              "      <td>0.4910</td>\n",
              "      <td>0.446957</td>\n",
              "    </tr>\n",
              "    <tr>\n",
              "      <th>11</th>\n",
              "      <td>10017</td>\n",
              "      <td>Apollo11</td>\n",
              "      <td>Basalt</td>\n",
              "      <td>Ilmenite</td>\n",
              "      <td>43.71</td>\n",
              "      <td>0.9730</td>\n",
              "      <td>0.425298</td>\n",
              "    </tr>\n",
              "    <tr>\n",
              "      <th>12</th>\n",
              "      <td>10018</td>\n",
              "      <td>Apollo11</td>\n",
              "      <td>Breccia</td>\n",
              "      <td>Regolith</td>\n",
              "      <td>97.71</td>\n",
              "      <td>0.2130</td>\n",
              "      <td>0.208122</td>\n",
              "    </tr>\n",
              "    <tr>\n",
              "      <th>...</th>\n",
              "      <td>...</td>\n",
              "      <td>...</td>\n",
              "      <td>...</td>\n",
              "      <td>...</td>\n",
              "      <td>...</td>\n",
              "      <td>...</td>\n",
              "      <td>...</td>\n",
              "    </tr>\n",
              "    <tr>\n",
              "      <th>2187</th>\n",
              "      <td>79195</td>\n",
              "      <td>Apollo17</td>\n",
              "      <td>Breccia</td>\n",
              "      <td>Fragmental</td>\n",
              "      <td>97.92</td>\n",
              "      <td>0.3685</td>\n",
              "      <td>0.360835</td>\n",
              "    </tr>\n",
              "    <tr>\n",
              "      <th>2189</th>\n",
              "      <td>79215</td>\n",
              "      <td>Apollo17</td>\n",
              "      <td>Crustal</td>\n",
              "      <td>Cataclasite</td>\n",
              "      <td>93.33</td>\n",
              "      <td>0.5538</td>\n",
              "      <td>0.516862</td>\n",
              "    </tr>\n",
              "    <tr>\n",
              "      <th>2200</th>\n",
              "      <td>79241</td>\n",
              "      <td>Apollo17</td>\n",
              "      <td>Soil</td>\n",
              "      <td>&lt;1mm</td>\n",
              "      <td>93.24</td>\n",
              "      <td>0.1743</td>\n",
              "      <td>0.162517</td>\n",
              "    </tr>\n",
              "    <tr>\n",
              "      <th>2206</th>\n",
              "      <td>79261</td>\n",
              "      <td>Apollo17</td>\n",
              "      <td>Soil</td>\n",
              "      <td>&lt;1mm</td>\n",
              "      <td>86.38</td>\n",
              "      <td>0.1878</td>\n",
              "      <td>0.162222</td>\n",
              "    </tr>\n",
              "    <tr>\n",
              "      <th>2212</th>\n",
              "      <td>79511</td>\n",
              "      <td>Apollo17</td>\n",
              "      <td>Soil</td>\n",
              "      <td>&lt;1mm</td>\n",
              "      <td>95.88</td>\n",
              "      <td>0.1792</td>\n",
              "      <td>0.171817</td>\n",
              "    </tr>\n",
              "  </tbody>\n",
              "</table>\n",
              "<p>424 rows × 7 columns</p>\n",
              "</div>"
            ],
            "text/plain": [
              "         ID   Mission     Type      Subtype  Pristine (%)  Weight (kg)  \\\n",
              "1     10002  Apollo11     Soil     Unsieved         93.73       5.6290   \n",
              "2     10003  Apollo11   Basalt     Ilmenite         65.56       0.2130   \n",
              "7     10010  Apollo11     Soil     Unsieved         91.03       0.4910   \n",
              "11    10017  Apollo11   Basalt     Ilmenite         43.71       0.9730   \n",
              "12    10018  Apollo11  Breccia     Regolith         97.71       0.2130   \n",
              "...     ...       ...      ...          ...           ...          ...   \n",
              "2187  79195  Apollo17  Breccia   Fragmental         97.92       0.3685   \n",
              "2189  79215  Apollo17  Crustal  Cataclasite         93.33       0.5538   \n",
              "2200  79241  Apollo17     Soil         <1mm         93.24       0.1743   \n",
              "2206  79261  Apollo17     Soil         <1mm         86.38       0.1878   \n",
              "2212  79511  Apollo17     Soil         <1mm         95.88       0.1792   \n",
              "\n",
              "      Remaining (kg)  \n",
              "1           5.276062  \n",
              "2           0.139643  \n",
              "7           0.446957  \n",
              "11          0.425298  \n",
              "12          0.208122  \n",
              "...              ...  \n",
              "2187        0.360835  \n",
              "2189        0.516862  \n",
              "2200        0.162517  \n",
              "2206        0.162222  \n",
              "2212        0.171817  \n",
              "\n",
              "[424 rows x 7 columns]"
            ]
          },
          "execution_count": 174,
          "metadata": {},
          "output_type": "execute_result"
        }
      ],
      "source": [
        "# rock_samples['Weight (kg)']의 모든 값이 0.16kg 이상 인지 확인\n",
        "\n",
        "over_16_g = rock_samples['Weight (kg)'] >= 0.16\n",
        "rock_samples[over_16_g]"
      ]
    },
    {
      "cell_type": "code",
      "execution_count": 189,
      "metadata": {
        "gather": {
          "logged": 1718683930391
        },
        "jupyter": {
          "outputs_hidden": false,
          "source_hidden": false
        },
        "nteract": {
          "transient": {
            "deleting": false
          }
        }
      },
      "outputs": [
        {
          "data": {
            "text/html": [
              "<div>\n",
              "<style scoped>\n",
              "    .dataframe tbody tr th:only-of-type {\n",
              "        vertical-align: middle;\n",
              "    }\n",
              "\n",
              "    .dataframe tbody tr th {\n",
              "        vertical-align: top;\n",
              "    }\n",
              "\n",
              "    .dataframe thead th {\n",
              "        text-align: right;\n",
              "    }\n",
              "</style>\n",
              "<table border=\"1\" class=\"dataframe\">\n",
              "  <thead>\n",
              "    <tr style=\"text-align: right;\">\n",
              "      <th></th>\n",
              "      <th>ID</th>\n",
              "      <th>Mission</th>\n",
              "      <th>Type</th>\n",
              "      <th>Subtype</th>\n",
              "      <th>Pristine (%)</th>\n",
              "      <th>Weight (kg)</th>\n",
              "      <th>Remaining (kg)</th>\n",
              "    </tr>\n",
              "  </thead>\n",
              "  <tbody>\n",
              "    <tr>\n",
              "      <th>11</th>\n",
              "      <td>10017</td>\n",
              "      <td>Apollo11</td>\n",
              "      <td>Basalt</td>\n",
              "      <td>Ilmenite</td>\n",
              "      <td>43.71</td>\n",
              "      <td>0.9730</td>\n",
              "      <td>0.425298</td>\n",
              "    </tr>\n",
              "    <tr>\n",
              "      <th>14</th>\n",
              "      <td>10020</td>\n",
              "      <td>Apollo11</td>\n",
              "      <td>Basalt</td>\n",
              "      <td>Ilmenite</td>\n",
              "      <td>27.88</td>\n",
              "      <td>0.4250</td>\n",
              "      <td>0.118490</td>\n",
              "    </tr>\n",
              "    <tr>\n",
              "      <th>15</th>\n",
              "      <td>10021</td>\n",
              "      <td>Apollo11</td>\n",
              "      <td>Breccia</td>\n",
              "      <td>Regolith</td>\n",
              "      <td>30.21</td>\n",
              "      <td>0.2500</td>\n",
              "      <td>0.075525</td>\n",
              "    </tr>\n",
              "    <tr>\n",
              "      <th>29</th>\n",
              "      <td>10045</td>\n",
              "      <td>Apollo11</td>\n",
              "      <td>Basalt</td>\n",
              "      <td>Olivine</td>\n",
              "      <td>12.13</td>\n",
              "      <td>0.1850</td>\n",
              "      <td>0.022441</td>\n",
              "    </tr>\n",
              "    <tr>\n",
              "      <th>37</th>\n",
              "      <td>10057</td>\n",
              "      <td>Apollo11</td>\n",
              "      <td>Basalt</td>\n",
              "      <td>Ilmenite</td>\n",
              "      <td>35.15</td>\n",
              "      <td>0.9190</td>\n",
              "      <td>0.323028</td>\n",
              "    </tr>\n",
              "    <tr>\n",
              "      <th>39</th>\n",
              "      <td>10059</td>\n",
              "      <td>Apollo11</td>\n",
              "      <td>Breccia</td>\n",
              "      <td>Regolith</td>\n",
              "      <td>36.94</td>\n",
              "      <td>0.1880</td>\n",
              "      <td>0.069447</td>\n",
              "    </tr>\n",
              "    <tr>\n",
              "      <th>52</th>\n",
              "      <td>10072</td>\n",
              "      <td>Apollo11</td>\n",
              "      <td>Basalt</td>\n",
              "      <td>Ilmenite</td>\n",
              "      <td>15.22</td>\n",
              "      <td>0.4470</td>\n",
              "      <td>0.068033</td>\n",
              "    </tr>\n",
              "    <tr>\n",
              "      <th>59</th>\n",
              "      <td>10086</td>\n",
              "      <td>Apollo11</td>\n",
              "      <td>Soil</td>\n",
              "      <td>Unsieved</td>\n",
              "      <td>0.01</td>\n",
              "      <td>0.8230</td>\n",
              "      <td>0.000082</td>\n",
              "    </tr>\n",
              "    <tr>\n",
              "      <th>68</th>\n",
              "      <td>12002</td>\n",
              "      <td>Apollo12</td>\n",
              "      <td>Basalt</td>\n",
              "      <td>Olivine</td>\n",
              "      <td>49.04</td>\n",
              "      <td>1.5300</td>\n",
              "      <td>0.750312</td>\n",
              "    </tr>\n",
              "    <tr>\n",
              "      <th>69</th>\n",
              "      <td>12003</td>\n",
              "      <td>Apollo12</td>\n",
              "      <td>Soil</td>\n",
              "      <td>Unsieved</td>\n",
              "      <td>28.52</td>\n",
              "      <td>0.3000</td>\n",
              "      <td>0.085560</td>\n",
              "    </tr>\n",
              "    <tr>\n",
              "      <th>72</th>\n",
              "      <td>12006</td>\n",
              "      <td>Apollo12</td>\n",
              "      <td>Basalt</td>\n",
              "      <td>Olivine</td>\n",
              "      <td>0.53</td>\n",
              "      <td>0.2064</td>\n",
              "      <td>0.001094</td>\n",
              "    </tr>\n",
              "    <tr>\n",
              "      <th>94</th>\n",
              "      <td>12028</td>\n",
              "      <td>Apollo12</td>\n",
              "      <td>Core</td>\n",
              "      <td>Unsieved</td>\n",
              "      <td>27.56</td>\n",
              "      <td>0.1896</td>\n",
              "      <td>0.052254</td>\n",
              "    </tr>\n",
              "    <tr>\n",
              "      <th>113</th>\n",
              "      <td>12047</td>\n",
              "      <td>Apollo12</td>\n",
              "      <td>Basalt</td>\n",
              "      <td>Ilmenite</td>\n",
              "      <td>33.70</td>\n",
              "      <td>0.1930</td>\n",
              "      <td>0.065041</td>\n",
              "    </tr>\n",
              "    <tr>\n",
              "      <th>118</th>\n",
              "      <td>12053</td>\n",
              "      <td>Apollo12</td>\n",
              "      <td>Basalt</td>\n",
              "      <td>Pigeonite</td>\n",
              "      <td>46.43</td>\n",
              "      <td>0.8790</td>\n",
              "      <td>0.408120</td>\n",
              "    </tr>\n",
              "    <tr>\n",
              "      <th>120</th>\n",
              "      <td>12055</td>\n",
              "      <td>Apollo12</td>\n",
              "      <td>Basalt</td>\n",
              "      <td>Pigeonite</td>\n",
              "      <td>26.00</td>\n",
              "      <td>0.9120</td>\n",
              "      <td>0.237120</td>\n",
              "    </tr>\n",
              "    <tr>\n",
              "      <th>353</th>\n",
              "      <td>15012</td>\n",
              "      <td>Apollo15</td>\n",
              "      <td>Soil</td>\n",
              "      <td>Unsieved</td>\n",
              "      <td>5.77</td>\n",
              "      <td>0.3122</td>\n",
              "      <td>0.018014</td>\n",
              "    </tr>\n",
              "    <tr>\n",
              "      <th>354</th>\n",
              "      <td>15013</td>\n",
              "      <td>Apollo15</td>\n",
              "      <td>Soil</td>\n",
              "      <td>Unsieved</td>\n",
              "      <td>8.80</td>\n",
              "      <td>0.2962</td>\n",
              "      <td>0.026066</td>\n",
              "    </tr>\n",
              "    <tr>\n",
              "      <th>426</th>\n",
              "      <td>15205</td>\n",
              "      <td>Apollo15</td>\n",
              "      <td>Breccia</td>\n",
              "      <td>Regolith</td>\n",
              "      <td>24.70</td>\n",
              "      <td>0.3373</td>\n",
              "      <td>0.083313</td>\n",
              "    </tr>\n",
              "    <tr>\n",
              "      <th>534</th>\n",
              "      <td>15405</td>\n",
              "      <td>Apollo15</td>\n",
              "      <td>Breccia</td>\n",
              "      <td>ImpactMelt</td>\n",
              "      <td>35.91</td>\n",
              "      <td>0.5131</td>\n",
              "      <td>0.184254</td>\n",
              "    </tr>\n",
              "    <tr>\n",
              "      <th>570</th>\n",
              "      <td>15475</td>\n",
              "      <td>Apollo15</td>\n",
              "      <td>Basalt</td>\n",
              "      <td>Pigeonite</td>\n",
              "      <td>49.60</td>\n",
              "      <td>0.4068</td>\n",
              "      <td>0.201773</td>\n",
              "    </tr>\n",
              "    <tr>\n",
              "      <th>575</th>\n",
              "      <td>15498</td>\n",
              "      <td>Apollo15</td>\n",
              "      <td>Breccia</td>\n",
              "      <td>Regolith</td>\n",
              "      <td>34.11</td>\n",
              "      <td>2.3400</td>\n",
              "      <td>0.798174</td>\n",
              "    </tr>\n",
              "    <tr>\n",
              "      <th>607</th>\n",
              "      <td>15555</td>\n",
              "      <td>Apollo15</td>\n",
              "      <td>Basalt</td>\n",
              "      <td>Olivine</td>\n",
              "      <td>46.61</td>\n",
              "      <td>9.6140</td>\n",
              "      <td>4.481085</td>\n",
              "    </tr>\n",
              "    <tr>\n",
              "      <th>718</th>\n",
              "      <td>60016</td>\n",
              "      <td>Apollo16</td>\n",
              "      <td>Breccia</td>\n",
              "      <td>Fragmental</td>\n",
              "      <td>49.57</td>\n",
              "      <td>4.3070</td>\n",
              "      <td>2.134980</td>\n",
              "    </tr>\n",
              "    <tr>\n",
              "      <th>722</th>\n",
              "      <td>60025</td>\n",
              "      <td>Apollo16</td>\n",
              "      <td>Breccia</td>\n",
              "      <td>Anorthosite</td>\n",
              "      <td>43.61</td>\n",
              "      <td>1.8360</td>\n",
              "      <td>0.800680</td>\n",
              "    </tr>\n",
              "    <tr>\n",
              "      <th>1221</th>\n",
              "      <td>66075</td>\n",
              "      <td>Apollo16</td>\n",
              "      <td>Breccia</td>\n",
              "      <td>Fragmental</td>\n",
              "      <td>32.97</td>\n",
              "      <td>0.3471</td>\n",
              "      <td>0.114439</td>\n",
              "    </tr>\n",
              "    <tr>\n",
              "      <th>1645</th>\n",
              "      <td>71566</td>\n",
              "      <td>Apollo17</td>\n",
              "      <td>Basalt</td>\n",
              "      <td>Ilmenite</td>\n",
              "      <td>45.06</td>\n",
              "      <td>0.4144</td>\n",
              "      <td>0.186729</td>\n",
              "    </tr>\n",
              "    <tr>\n",
              "      <th>2183</th>\n",
              "      <td>79155</td>\n",
              "      <td>Apollo17</td>\n",
              "      <td>Basalt</td>\n",
              "      <td>Ilmenite</td>\n",
              "      <td>25.97</td>\n",
              "      <td>0.3188</td>\n",
              "      <td>0.082792</td>\n",
              "    </tr>\n",
              "  </tbody>\n",
              "</table>\n",
              "</div>"
            ],
            "text/plain": [
              "         ID   Mission     Type      Subtype  Pristine (%)  Weight (kg)  \\\n",
              "11    10017  Apollo11   Basalt     Ilmenite         43.71       0.9730   \n",
              "14    10020  Apollo11   Basalt     Ilmenite         27.88       0.4250   \n",
              "15    10021  Apollo11  Breccia     Regolith         30.21       0.2500   \n",
              "29    10045  Apollo11   Basalt      Olivine         12.13       0.1850   \n",
              "37    10057  Apollo11   Basalt     Ilmenite         35.15       0.9190   \n",
              "39    10059  Apollo11  Breccia     Regolith         36.94       0.1880   \n",
              "52    10072  Apollo11   Basalt     Ilmenite         15.22       0.4470   \n",
              "59    10086  Apollo11     Soil     Unsieved          0.01       0.8230   \n",
              "68    12002  Apollo12   Basalt      Olivine         49.04       1.5300   \n",
              "69    12003  Apollo12     Soil     Unsieved         28.52       0.3000   \n",
              "72    12006  Apollo12   Basalt      Olivine          0.53       0.2064   \n",
              "94    12028  Apollo12     Core     Unsieved         27.56       0.1896   \n",
              "113   12047  Apollo12   Basalt     Ilmenite         33.70       0.1930   \n",
              "118   12053  Apollo12   Basalt    Pigeonite         46.43       0.8790   \n",
              "120   12055  Apollo12   Basalt    Pigeonite         26.00       0.9120   \n",
              "353   15012  Apollo15     Soil     Unsieved          5.77       0.3122   \n",
              "354   15013  Apollo15     Soil     Unsieved          8.80       0.2962   \n",
              "426   15205  Apollo15  Breccia     Regolith         24.70       0.3373   \n",
              "534   15405  Apollo15  Breccia   ImpactMelt         35.91       0.5131   \n",
              "570   15475  Apollo15   Basalt    Pigeonite         49.60       0.4068   \n",
              "575   15498  Apollo15  Breccia     Regolith         34.11       2.3400   \n",
              "607   15555  Apollo15   Basalt      Olivine         46.61       9.6140   \n",
              "718   60016  Apollo16  Breccia   Fragmental         49.57       4.3070   \n",
              "722   60025  Apollo16  Breccia  Anorthosite         43.61       1.8360   \n",
              "1221  66075  Apollo16  Breccia   Fragmental         32.97       0.3471   \n",
              "1645  71566  Apollo17   Basalt     Ilmenite         45.06       0.4144   \n",
              "2183  79155  Apollo17   Basalt     Ilmenite         25.97       0.3188   \n",
              "\n",
              "      Remaining (kg)  \n",
              "11          0.425298  \n",
              "14          0.118490  \n",
              "15          0.075525  \n",
              "29          0.022441  \n",
              "37          0.323028  \n",
              "39          0.069447  \n",
              "52          0.068033  \n",
              "59          0.000082  \n",
              "68          0.750312  \n",
              "69          0.085560  \n",
              "72          0.001094  \n",
              "94          0.052254  \n",
              "113         0.065041  \n",
              "118         0.408120  \n",
              "120         0.237120  \n",
              "353         0.018014  \n",
              "354         0.026066  \n",
              "426         0.083313  \n",
              "534         0.184254  \n",
              "570         0.201773  \n",
              "575         0.798174  \n",
              "607         4.481085  \n",
              "718         2.134980  \n",
              "722         0.800680  \n",
              "1221        0.114439  \n",
              "1645        0.186729  \n",
              "2183        0.082792  "
            ]
          },
          "execution_count": 189,
          "metadata": {},
          "output_type": "execute_result"
        }
      ],
      "source": [
        "# rock_samples['Weight (kg)']이 0.16kg 이상 이면서 rock_samples['Pristine (%)']이 50 이하인지 확인\n",
        "\n",
        "low_samples_indices =  over_16_g & (rock_samples['Pristine (%)'] <= 50)\n",
        "rock_samples[low_samples_indices]"
      ]
    },
    {
      "cell_type": "code",
      "execution_count": 190,
      "metadata": {
        "gather": {
          "logged": 1718683930536
        },
        "jupyter": {
          "outputs_hidden": false,
          "source_hidden": false
        },
        "nteract": {
          "transient": {
            "deleting": false
          }
        }
      },
      "outputs": [
        {
          "data": {
            "text/html": [
              "<div>\n",
              "<style scoped>\n",
              "    .dataframe tbody tr th:only-of-type {\n",
              "        vertical-align: middle;\n",
              "    }\n",
              "\n",
              "    .dataframe tbody tr th {\n",
              "        vertical-align: top;\n",
              "    }\n",
              "\n",
              "    .dataframe thead th {\n",
              "        text-align: right;\n",
              "    }\n",
              "</style>\n",
              "<table border=\"1\" class=\"dataframe\">\n",
              "  <thead>\n",
              "    <tr style=\"text-align: right;\">\n",
              "      <th></th>\n",
              "      <th>ID</th>\n",
              "      <th>Mission</th>\n",
              "      <th>Type</th>\n",
              "      <th>Subtype</th>\n",
              "      <th>Pristine (%)</th>\n",
              "      <th>Weight (kg)</th>\n",
              "      <th>Remaining (kg)</th>\n",
              "    </tr>\n",
              "  </thead>\n",
              "  <tbody>\n",
              "    <tr>\n",
              "      <th>11</th>\n",
              "      <td>10017</td>\n",
              "      <td>Apollo11</td>\n",
              "      <td>Basalt</td>\n",
              "      <td>Ilmenite</td>\n",
              "      <td>43.71</td>\n",
              "      <td>0.9730</td>\n",
              "      <td>0.425298</td>\n",
              "    </tr>\n",
              "    <tr>\n",
              "      <th>14</th>\n",
              "      <td>10020</td>\n",
              "      <td>Apollo11</td>\n",
              "      <td>Basalt</td>\n",
              "      <td>Ilmenite</td>\n",
              "      <td>27.88</td>\n",
              "      <td>0.4250</td>\n",
              "      <td>0.118490</td>\n",
              "    </tr>\n",
              "    <tr>\n",
              "      <th>15</th>\n",
              "      <td>10021</td>\n",
              "      <td>Apollo11</td>\n",
              "      <td>Breccia</td>\n",
              "      <td>Regolith</td>\n",
              "      <td>30.21</td>\n",
              "      <td>0.2500</td>\n",
              "      <td>0.075525</td>\n",
              "    </tr>\n",
              "    <tr>\n",
              "      <th>29</th>\n",
              "      <td>10045</td>\n",
              "      <td>Apollo11</td>\n",
              "      <td>Basalt</td>\n",
              "      <td>Olivine</td>\n",
              "      <td>12.13</td>\n",
              "      <td>0.1850</td>\n",
              "      <td>0.022441</td>\n",
              "    </tr>\n",
              "    <tr>\n",
              "      <th>37</th>\n",
              "      <td>10057</td>\n",
              "      <td>Apollo11</td>\n",
              "      <td>Basalt</td>\n",
              "      <td>Ilmenite</td>\n",
              "      <td>35.15</td>\n",
              "      <td>0.9190</td>\n",
              "      <td>0.323028</td>\n",
              "    </tr>\n",
              "    <tr>\n",
              "      <th>39</th>\n",
              "      <td>10059</td>\n",
              "      <td>Apollo11</td>\n",
              "      <td>Breccia</td>\n",
              "      <td>Regolith</td>\n",
              "      <td>36.94</td>\n",
              "      <td>0.1880</td>\n",
              "      <td>0.069447</td>\n",
              "    </tr>\n",
              "    <tr>\n",
              "      <th>52</th>\n",
              "      <td>10072</td>\n",
              "      <td>Apollo11</td>\n",
              "      <td>Basalt</td>\n",
              "      <td>Ilmenite</td>\n",
              "      <td>15.22</td>\n",
              "      <td>0.4470</td>\n",
              "      <td>0.068033</td>\n",
              "    </tr>\n",
              "    <tr>\n",
              "      <th>59</th>\n",
              "      <td>10086</td>\n",
              "      <td>Apollo11</td>\n",
              "      <td>Soil</td>\n",
              "      <td>Unsieved</td>\n",
              "      <td>0.01</td>\n",
              "      <td>0.8230</td>\n",
              "      <td>0.000082</td>\n",
              "    </tr>\n",
              "    <tr>\n",
              "      <th>68</th>\n",
              "      <td>12002</td>\n",
              "      <td>Apollo12</td>\n",
              "      <td>Basalt</td>\n",
              "      <td>Olivine</td>\n",
              "      <td>49.04</td>\n",
              "      <td>1.5300</td>\n",
              "      <td>0.750312</td>\n",
              "    </tr>\n",
              "    <tr>\n",
              "      <th>69</th>\n",
              "      <td>12003</td>\n",
              "      <td>Apollo12</td>\n",
              "      <td>Soil</td>\n",
              "      <td>Unsieved</td>\n",
              "      <td>28.52</td>\n",
              "      <td>0.3000</td>\n",
              "      <td>0.085560</td>\n",
              "    </tr>\n",
              "    <tr>\n",
              "      <th>72</th>\n",
              "      <td>12006</td>\n",
              "      <td>Apollo12</td>\n",
              "      <td>Basalt</td>\n",
              "      <td>Olivine</td>\n",
              "      <td>0.53</td>\n",
              "      <td>0.2064</td>\n",
              "      <td>0.001094</td>\n",
              "    </tr>\n",
              "    <tr>\n",
              "      <th>94</th>\n",
              "      <td>12028</td>\n",
              "      <td>Apollo12</td>\n",
              "      <td>Core</td>\n",
              "      <td>Unsieved</td>\n",
              "      <td>27.56</td>\n",
              "      <td>0.1896</td>\n",
              "      <td>0.052254</td>\n",
              "    </tr>\n",
              "    <tr>\n",
              "      <th>113</th>\n",
              "      <td>12047</td>\n",
              "      <td>Apollo12</td>\n",
              "      <td>Basalt</td>\n",
              "      <td>Ilmenite</td>\n",
              "      <td>33.70</td>\n",
              "      <td>0.1930</td>\n",
              "      <td>0.065041</td>\n",
              "    </tr>\n",
              "    <tr>\n",
              "      <th>118</th>\n",
              "      <td>12053</td>\n",
              "      <td>Apollo12</td>\n",
              "      <td>Basalt</td>\n",
              "      <td>Pigeonite</td>\n",
              "      <td>46.43</td>\n",
              "      <td>0.8790</td>\n",
              "      <td>0.408120</td>\n",
              "    </tr>\n",
              "    <tr>\n",
              "      <th>120</th>\n",
              "      <td>12055</td>\n",
              "      <td>Apollo12</td>\n",
              "      <td>Basalt</td>\n",
              "      <td>Pigeonite</td>\n",
              "      <td>26.00</td>\n",
              "      <td>0.9120</td>\n",
              "      <td>0.237120</td>\n",
              "    </tr>\n",
              "    <tr>\n",
              "      <th>353</th>\n",
              "      <td>15012</td>\n",
              "      <td>Apollo15</td>\n",
              "      <td>Soil</td>\n",
              "      <td>Unsieved</td>\n",
              "      <td>5.77</td>\n",
              "      <td>0.3122</td>\n",
              "      <td>0.018014</td>\n",
              "    </tr>\n",
              "    <tr>\n",
              "      <th>354</th>\n",
              "      <td>15013</td>\n",
              "      <td>Apollo15</td>\n",
              "      <td>Soil</td>\n",
              "      <td>Unsieved</td>\n",
              "      <td>8.80</td>\n",
              "      <td>0.2962</td>\n",
              "      <td>0.026066</td>\n",
              "    </tr>\n",
              "    <tr>\n",
              "      <th>426</th>\n",
              "      <td>15205</td>\n",
              "      <td>Apollo15</td>\n",
              "      <td>Breccia</td>\n",
              "      <td>Regolith</td>\n",
              "      <td>24.70</td>\n",
              "      <td>0.3373</td>\n",
              "      <td>0.083313</td>\n",
              "    </tr>\n",
              "    <tr>\n",
              "      <th>534</th>\n",
              "      <td>15405</td>\n",
              "      <td>Apollo15</td>\n",
              "      <td>Breccia</td>\n",
              "      <td>ImpactMelt</td>\n",
              "      <td>35.91</td>\n",
              "      <td>0.5131</td>\n",
              "      <td>0.184254</td>\n",
              "    </tr>\n",
              "    <tr>\n",
              "      <th>570</th>\n",
              "      <td>15475</td>\n",
              "      <td>Apollo15</td>\n",
              "      <td>Basalt</td>\n",
              "      <td>Pigeonite</td>\n",
              "      <td>49.60</td>\n",
              "      <td>0.4068</td>\n",
              "      <td>0.201773</td>\n",
              "    </tr>\n",
              "    <tr>\n",
              "      <th>575</th>\n",
              "      <td>15498</td>\n",
              "      <td>Apollo15</td>\n",
              "      <td>Breccia</td>\n",
              "      <td>Regolith</td>\n",
              "      <td>34.11</td>\n",
              "      <td>2.3400</td>\n",
              "      <td>0.798174</td>\n",
              "    </tr>\n",
              "    <tr>\n",
              "      <th>607</th>\n",
              "      <td>15555</td>\n",
              "      <td>Apollo15</td>\n",
              "      <td>Basalt</td>\n",
              "      <td>Olivine</td>\n",
              "      <td>46.61</td>\n",
              "      <td>9.6140</td>\n",
              "      <td>4.481085</td>\n",
              "    </tr>\n",
              "    <tr>\n",
              "      <th>718</th>\n",
              "      <td>60016</td>\n",
              "      <td>Apollo16</td>\n",
              "      <td>Breccia</td>\n",
              "      <td>Fragmental</td>\n",
              "      <td>49.57</td>\n",
              "      <td>4.3070</td>\n",
              "      <td>2.134980</td>\n",
              "    </tr>\n",
              "    <tr>\n",
              "      <th>722</th>\n",
              "      <td>60025</td>\n",
              "      <td>Apollo16</td>\n",
              "      <td>Breccia</td>\n",
              "      <td>Anorthosite</td>\n",
              "      <td>43.61</td>\n",
              "      <td>1.8360</td>\n",
              "      <td>0.800680</td>\n",
              "    </tr>\n",
              "    <tr>\n",
              "      <th>1221</th>\n",
              "      <td>66075</td>\n",
              "      <td>Apollo16</td>\n",
              "      <td>Breccia</td>\n",
              "      <td>Fragmental</td>\n",
              "      <td>32.97</td>\n",
              "      <td>0.3471</td>\n",
              "      <td>0.114439</td>\n",
              "    </tr>\n",
              "    <tr>\n",
              "      <th>1645</th>\n",
              "      <td>71566</td>\n",
              "      <td>Apollo17</td>\n",
              "      <td>Basalt</td>\n",
              "      <td>Ilmenite</td>\n",
              "      <td>45.06</td>\n",
              "      <td>0.4144</td>\n",
              "      <td>0.186729</td>\n",
              "    </tr>\n",
              "    <tr>\n",
              "      <th>2183</th>\n",
              "      <td>79155</td>\n",
              "      <td>Apollo17</td>\n",
              "      <td>Basalt</td>\n",
              "      <td>Ilmenite</td>\n",
              "      <td>25.97</td>\n",
              "      <td>0.3188</td>\n",
              "      <td>0.082792</td>\n",
              "    </tr>\n",
              "  </tbody>\n",
              "</table>\n",
              "</div>"
            ],
            "text/plain": [
              "         ID   Mission     Type      Subtype  Pristine (%)  Weight (kg)  \\\n",
              "11    10017  Apollo11   Basalt     Ilmenite         43.71       0.9730   \n",
              "14    10020  Apollo11   Basalt     Ilmenite         27.88       0.4250   \n",
              "15    10021  Apollo11  Breccia     Regolith         30.21       0.2500   \n",
              "29    10045  Apollo11   Basalt      Olivine         12.13       0.1850   \n",
              "37    10057  Apollo11   Basalt     Ilmenite         35.15       0.9190   \n",
              "39    10059  Apollo11  Breccia     Regolith         36.94       0.1880   \n",
              "52    10072  Apollo11   Basalt     Ilmenite         15.22       0.4470   \n",
              "59    10086  Apollo11     Soil     Unsieved          0.01       0.8230   \n",
              "68    12002  Apollo12   Basalt      Olivine         49.04       1.5300   \n",
              "69    12003  Apollo12     Soil     Unsieved         28.52       0.3000   \n",
              "72    12006  Apollo12   Basalt      Olivine          0.53       0.2064   \n",
              "94    12028  Apollo12     Core     Unsieved         27.56       0.1896   \n",
              "113   12047  Apollo12   Basalt     Ilmenite         33.70       0.1930   \n",
              "118   12053  Apollo12   Basalt    Pigeonite         46.43       0.8790   \n",
              "120   12055  Apollo12   Basalt    Pigeonite         26.00       0.9120   \n",
              "353   15012  Apollo15     Soil     Unsieved          5.77       0.3122   \n",
              "354   15013  Apollo15     Soil     Unsieved          8.80       0.2962   \n",
              "426   15205  Apollo15  Breccia     Regolith         24.70       0.3373   \n",
              "534   15405  Apollo15  Breccia   ImpactMelt         35.91       0.5131   \n",
              "570   15475  Apollo15   Basalt    Pigeonite         49.60       0.4068   \n",
              "575   15498  Apollo15  Breccia     Regolith         34.11       2.3400   \n",
              "607   15555  Apollo15   Basalt      Olivine         46.61       9.6140   \n",
              "718   60016  Apollo16  Breccia   Fragmental         49.57       4.3070   \n",
              "722   60025  Apollo16  Breccia  Anorthosite         43.61       1.8360   \n",
              "1221  66075  Apollo16  Breccia   Fragmental         32.97       0.3471   \n",
              "1645  71566  Apollo17   Basalt     Ilmenite         45.06       0.4144   \n",
              "2183  79155  Apollo17   Basalt     Ilmenite         25.97       0.3188   \n",
              "\n",
              "      Remaining (kg)  \n",
              "11          0.425298  \n",
              "14          0.118490  \n",
              "15          0.075525  \n",
              "29          0.022441  \n",
              "37          0.323028  \n",
              "39          0.069447  \n",
              "52          0.068033  \n",
              "59          0.000082  \n",
              "68          0.750312  \n",
              "69          0.085560  \n",
              "72          0.001094  \n",
              "94          0.052254  \n",
              "113         0.065041  \n",
              "118         0.408120  \n",
              "120         0.237120  \n",
              "353         0.018014  \n",
              "354         0.026066  \n",
              "426         0.083313  \n",
              "534         0.184254  \n",
              "570         0.201773  \n",
              "575         0.798174  \n",
              "607         4.481085  \n",
              "718         2.134980  \n",
              "722         0.800680  \n",
              "1221        0.114439  \n",
              "1645        0.186729  \n",
              "2183        0.082792  "
            ]
          },
          "execution_count": 190,
          "metadata": {},
          "output_type": "execute_result"
        }
      ],
      "source": [
        "#위의 두 조건을 모두 만족하는 행만 추출해서 low_samples라는 데이터 프레임을 만든다.\n",
        "\n",
        "low_samples = pd.DataFrame(rock_samples[low_samples_indices])\n",
        "low_samples"
      ]
    },
    {
      "cell_type": "code",
      "execution_count": 191,
      "metadata": {
        "gather": {
          "logged": 1718683930723
        },
        "jupyter": {
          "outputs_hidden": false,
          "source_hidden": false
        },
        "nteract": {
          "transient": {
            "deleting": false
          }
        }
      },
      "outputs": [
        {
          "name": "stdout",
          "output_type": "stream",
          "text": [
            "<class 'pandas.core.frame.DataFrame'>\n",
            "Index: 27 entries, 11 to 2183\n",
            "Data columns (total 7 columns):\n",
            " #   Column          Non-Null Count  Dtype  \n",
            "---  ------          --------------  -----  \n",
            " 0   ID              27 non-null     int64  \n",
            " 1   Mission         27 non-null     object \n",
            " 2   Type            27 non-null     object \n",
            " 3   Subtype         27 non-null     object \n",
            " 4   Pristine (%)    27 non-null     float64\n",
            " 5   Weight (kg)     27 non-null     float64\n",
            " 6   Remaining (kg)  27 non-null     float64\n",
            "dtypes: float64(3), int64(1), object(3)\n",
            "memory usage: 1.7+ KB\n"
          ]
        }
      ],
      "source": [
        "low_samples.info()"
      ]
    },
    {
      "cell_type": "code",
      "execution_count": 192,
      "metadata": {
        "gather": {
          "logged": 1718683930863
        },
        "jupyter": {
          "outputs_hidden": false,
          "source_hidden": false
        },
        "nteract": {
          "transient": {
            "deleting": false
          }
        }
      },
      "outputs": [
        {
          "data": {
            "text/plain": [
              "Type\n",
              "Basalt     14\n",
              "Breccia     8\n",
              "Soil        4\n",
              "Core        1\n",
              "Name: count, dtype: int64"
            ]
          },
          "execution_count": 192,
          "metadata": {},
          "output_type": "execute_result"
        }
      ],
      "source": [
        "# low_samples 데이터프레임에서 암석유형('Type')별로 개수를 센다.\n",
        "\n",
        "low_samples['Type'].value_counts()"
      ]
    },
    {
      "cell_type": "code",
      "execution_count": 201,
      "metadata": {
        "gather": {
          "logged": 1718683931015
        },
        "jupyter": {
          "outputs_hidden": false,
          "source_hidden": false
        },
        "nteract": {
          "transient": {
            "deleting": false
          }
        }
      },
      "outputs": [
        {
          "data": {
            "text/html": [
              "<div>\n",
              "<style scoped>\n",
              "    .dataframe tbody tr th:only-of-type {\n",
              "        vertical-align: middle;\n",
              "    }\n",
              "\n",
              "    .dataframe tbody tr th {\n",
              "        vertical-align: top;\n",
              "    }\n",
              "\n",
              "    .dataframe thead th {\n",
              "        text-align: right;\n",
              "    }\n",
              "</style>\n",
              "<table border=\"1\" class=\"dataframe\">\n",
              "  <thead>\n",
              "    <tr style=\"text-align: right;\">\n",
              "      <th></th>\n",
              "      <th>ID</th>\n",
              "      <th>Mission</th>\n",
              "      <th>Type</th>\n",
              "      <th>Subtype</th>\n",
              "      <th>Pristine (%)</th>\n",
              "      <th>Weight (kg)</th>\n",
              "      <th>Remaining (kg)</th>\n",
              "    </tr>\n",
              "  </thead>\n",
              "  <tbody>\n",
              "    <tr>\n",
              "      <th>11</th>\n",
              "      <td>10017</td>\n",
              "      <td>Apollo11</td>\n",
              "      <td>Basalt</td>\n",
              "      <td>Ilmenite</td>\n",
              "      <td>43.71</td>\n",
              "      <td>0.9730</td>\n",
              "      <td>0.425298</td>\n",
              "    </tr>\n",
              "    <tr>\n",
              "      <th>14</th>\n",
              "      <td>10020</td>\n",
              "      <td>Apollo11</td>\n",
              "      <td>Basalt</td>\n",
              "      <td>Ilmenite</td>\n",
              "      <td>27.88</td>\n",
              "      <td>0.4250</td>\n",
              "      <td>0.118490</td>\n",
              "    </tr>\n",
              "    <tr>\n",
              "      <th>15</th>\n",
              "      <td>10021</td>\n",
              "      <td>Apollo11</td>\n",
              "      <td>Breccia</td>\n",
              "      <td>Regolith</td>\n",
              "      <td>30.21</td>\n",
              "      <td>0.2500</td>\n",
              "      <td>0.075525</td>\n",
              "    </tr>\n",
              "    <tr>\n",
              "      <th>29</th>\n",
              "      <td>10045</td>\n",
              "      <td>Apollo11</td>\n",
              "      <td>Basalt</td>\n",
              "      <td>Olivine</td>\n",
              "      <td>12.13</td>\n",
              "      <td>0.1850</td>\n",
              "      <td>0.022441</td>\n",
              "    </tr>\n",
              "    <tr>\n",
              "      <th>37</th>\n",
              "      <td>10057</td>\n",
              "      <td>Apollo11</td>\n",
              "      <td>Basalt</td>\n",
              "      <td>Ilmenite</td>\n",
              "      <td>35.15</td>\n",
              "      <td>0.9190</td>\n",
              "      <td>0.323028</td>\n",
              "    </tr>\n",
              "    <tr>\n",
              "      <th>39</th>\n",
              "      <td>10059</td>\n",
              "      <td>Apollo11</td>\n",
              "      <td>Breccia</td>\n",
              "      <td>Regolith</td>\n",
              "      <td>36.94</td>\n",
              "      <td>0.1880</td>\n",
              "      <td>0.069447</td>\n",
              "    </tr>\n",
              "    <tr>\n",
              "      <th>52</th>\n",
              "      <td>10072</td>\n",
              "      <td>Apollo11</td>\n",
              "      <td>Basalt</td>\n",
              "      <td>Ilmenite</td>\n",
              "      <td>15.22</td>\n",
              "      <td>0.4470</td>\n",
              "      <td>0.068033</td>\n",
              "    </tr>\n",
              "    <tr>\n",
              "      <th>68</th>\n",
              "      <td>12002</td>\n",
              "      <td>Apollo12</td>\n",
              "      <td>Basalt</td>\n",
              "      <td>Olivine</td>\n",
              "      <td>49.04</td>\n",
              "      <td>1.5300</td>\n",
              "      <td>0.750312</td>\n",
              "    </tr>\n",
              "    <tr>\n",
              "      <th>72</th>\n",
              "      <td>12006</td>\n",
              "      <td>Apollo12</td>\n",
              "      <td>Basalt</td>\n",
              "      <td>Olivine</td>\n",
              "      <td>0.53</td>\n",
              "      <td>0.2064</td>\n",
              "      <td>0.001094</td>\n",
              "    </tr>\n",
              "    <tr>\n",
              "      <th>113</th>\n",
              "      <td>12047</td>\n",
              "      <td>Apollo12</td>\n",
              "      <td>Basalt</td>\n",
              "      <td>Ilmenite</td>\n",
              "      <td>33.70</td>\n",
              "      <td>0.1930</td>\n",
              "      <td>0.065041</td>\n",
              "    </tr>\n",
              "    <tr>\n",
              "      <th>118</th>\n",
              "      <td>12053</td>\n",
              "      <td>Apollo12</td>\n",
              "      <td>Basalt</td>\n",
              "      <td>Pigeonite</td>\n",
              "      <td>46.43</td>\n",
              "      <td>0.8790</td>\n",
              "      <td>0.408120</td>\n",
              "    </tr>\n",
              "    <tr>\n",
              "      <th>120</th>\n",
              "      <td>12055</td>\n",
              "      <td>Apollo12</td>\n",
              "      <td>Basalt</td>\n",
              "      <td>Pigeonite</td>\n",
              "      <td>26.00</td>\n",
              "      <td>0.9120</td>\n",
              "      <td>0.237120</td>\n",
              "    </tr>\n",
              "    <tr>\n",
              "      <th>426</th>\n",
              "      <td>15205</td>\n",
              "      <td>Apollo15</td>\n",
              "      <td>Breccia</td>\n",
              "      <td>Regolith</td>\n",
              "      <td>24.70</td>\n",
              "      <td>0.3373</td>\n",
              "      <td>0.083313</td>\n",
              "    </tr>\n",
              "    <tr>\n",
              "      <th>534</th>\n",
              "      <td>15405</td>\n",
              "      <td>Apollo15</td>\n",
              "      <td>Breccia</td>\n",
              "      <td>ImpactMelt</td>\n",
              "      <td>35.91</td>\n",
              "      <td>0.5131</td>\n",
              "      <td>0.184254</td>\n",
              "    </tr>\n",
              "    <tr>\n",
              "      <th>570</th>\n",
              "      <td>15475</td>\n",
              "      <td>Apollo15</td>\n",
              "      <td>Basalt</td>\n",
              "      <td>Pigeonite</td>\n",
              "      <td>49.60</td>\n",
              "      <td>0.4068</td>\n",
              "      <td>0.201773</td>\n",
              "    </tr>\n",
              "    <tr>\n",
              "      <th>575</th>\n",
              "      <td>15498</td>\n",
              "      <td>Apollo15</td>\n",
              "      <td>Breccia</td>\n",
              "      <td>Regolith</td>\n",
              "      <td>34.11</td>\n",
              "      <td>2.3400</td>\n",
              "      <td>0.798174</td>\n",
              "    </tr>\n",
              "    <tr>\n",
              "      <th>607</th>\n",
              "      <td>15555</td>\n",
              "      <td>Apollo15</td>\n",
              "      <td>Basalt</td>\n",
              "      <td>Olivine</td>\n",
              "      <td>46.61</td>\n",
              "      <td>9.6140</td>\n",
              "      <td>4.481085</td>\n",
              "    </tr>\n",
              "    <tr>\n",
              "      <th>718</th>\n",
              "      <td>60016</td>\n",
              "      <td>Apollo16</td>\n",
              "      <td>Breccia</td>\n",
              "      <td>Fragmental</td>\n",
              "      <td>49.57</td>\n",
              "      <td>4.3070</td>\n",
              "      <td>2.134980</td>\n",
              "    </tr>\n",
              "    <tr>\n",
              "      <th>722</th>\n",
              "      <td>60025</td>\n",
              "      <td>Apollo16</td>\n",
              "      <td>Breccia</td>\n",
              "      <td>Anorthosite</td>\n",
              "      <td>43.61</td>\n",
              "      <td>1.8360</td>\n",
              "      <td>0.800680</td>\n",
              "    </tr>\n",
              "    <tr>\n",
              "      <th>1221</th>\n",
              "      <td>66075</td>\n",
              "      <td>Apollo16</td>\n",
              "      <td>Breccia</td>\n",
              "      <td>Fragmental</td>\n",
              "      <td>32.97</td>\n",
              "      <td>0.3471</td>\n",
              "      <td>0.114439</td>\n",
              "    </tr>\n",
              "    <tr>\n",
              "      <th>1645</th>\n",
              "      <td>71566</td>\n",
              "      <td>Apollo17</td>\n",
              "      <td>Basalt</td>\n",
              "      <td>Ilmenite</td>\n",
              "      <td>45.06</td>\n",
              "      <td>0.4144</td>\n",
              "      <td>0.186729</td>\n",
              "    </tr>\n",
              "    <tr>\n",
              "      <th>2183</th>\n",
              "      <td>79155</td>\n",
              "      <td>Apollo17</td>\n",
              "      <td>Basalt</td>\n",
              "      <td>Ilmenite</td>\n",
              "      <td>25.97</td>\n",
              "      <td>0.3188</td>\n",
              "      <td>0.082792</td>\n",
              "    </tr>\n",
              "  </tbody>\n",
              "</table>\n",
              "</div>"
            ],
            "text/plain": [
              "         ID   Mission     Type      Subtype  Pristine (%)  Weight (kg)  \\\n",
              "11    10017  Apollo11   Basalt     Ilmenite         43.71       0.9730   \n",
              "14    10020  Apollo11   Basalt     Ilmenite         27.88       0.4250   \n",
              "15    10021  Apollo11  Breccia     Regolith         30.21       0.2500   \n",
              "29    10045  Apollo11   Basalt      Olivine         12.13       0.1850   \n",
              "37    10057  Apollo11   Basalt     Ilmenite         35.15       0.9190   \n",
              "39    10059  Apollo11  Breccia     Regolith         36.94       0.1880   \n",
              "52    10072  Apollo11   Basalt     Ilmenite         15.22       0.4470   \n",
              "68    12002  Apollo12   Basalt      Olivine         49.04       1.5300   \n",
              "72    12006  Apollo12   Basalt      Olivine          0.53       0.2064   \n",
              "113   12047  Apollo12   Basalt     Ilmenite         33.70       0.1930   \n",
              "118   12053  Apollo12   Basalt    Pigeonite         46.43       0.8790   \n",
              "120   12055  Apollo12   Basalt    Pigeonite         26.00       0.9120   \n",
              "426   15205  Apollo15  Breccia     Regolith         24.70       0.3373   \n",
              "534   15405  Apollo15  Breccia   ImpactMelt         35.91       0.5131   \n",
              "570   15475  Apollo15   Basalt    Pigeonite         49.60       0.4068   \n",
              "575   15498  Apollo15  Breccia     Regolith         34.11       2.3400   \n",
              "607   15555  Apollo15   Basalt      Olivine         46.61       9.6140   \n",
              "718   60016  Apollo16  Breccia   Fragmental         49.57       4.3070   \n",
              "722   60025  Apollo16  Breccia  Anorthosite         43.61       1.8360   \n",
              "1221  66075  Apollo16  Breccia   Fragmental         32.97       0.3471   \n",
              "1645  71566  Apollo17   Basalt     Ilmenite         45.06       0.4144   \n",
              "2183  79155  Apollo17   Basalt     Ilmenite         25.97       0.3188   \n",
              "\n",
              "      Remaining (kg)  \n",
              "11          0.425298  \n",
              "14          0.118490  \n",
              "15          0.075525  \n",
              "29          0.022441  \n",
              "37          0.323028  \n",
              "39          0.069447  \n",
              "52          0.068033  \n",
              "68          0.750312  \n",
              "72          0.001094  \n",
              "113         0.065041  \n",
              "118         0.408120  \n",
              "120         0.237120  \n",
              "426         0.083313  \n",
              "534         0.184254  \n",
              "570         0.201773  \n",
              "575         0.798174  \n",
              "607         4.481085  \n",
              "718         2.134980  \n",
              "722         0.800680  \n",
              "1221        0.114439  \n",
              "1645        0.186729  \n",
              "2183        0.082792  "
            ]
          },
          "execution_count": 201,
          "metadata": {},
          "output_type": "execute_result"
        }
      ],
      "source": [
        "#low_samples['Type']의 값이 'Basalt'이거나 'Breccia' 인지 확인 -> isin(리스트)\n",
        "\n",
        "basalt_or_breccia = low_samples['Type'].isin(['Basalt', 'Breccia'])\n",
        "low_samples[basalt_or_breccia]"
      ]
    },
    {
      "cell_type": "code",
      "execution_count": 202,
      "metadata": {
        "gather": {
          "logged": 1718683931182
        },
        "jupyter": {
          "outputs_hidden": false,
          "source_hidden": false
        },
        "nteract": {
          "transient": {
            "deleting": false
          }
        }
      },
      "outputs": [
        {
          "data": {
            "text/html": [
              "<div>\n",
              "<style scoped>\n",
              "    .dataframe tbody tr th:only-of-type {\n",
              "        vertical-align: middle;\n",
              "    }\n",
              "\n",
              "    .dataframe tbody tr th {\n",
              "        vertical-align: top;\n",
              "    }\n",
              "\n",
              "    .dataframe thead th {\n",
              "        text-align: right;\n",
              "    }\n",
              "</style>\n",
              "<table border=\"1\" class=\"dataframe\">\n",
              "  <thead>\n",
              "    <tr style=\"text-align: right;\">\n",
              "      <th></th>\n",
              "      <th>ID</th>\n",
              "      <th>Mission</th>\n",
              "      <th>Type</th>\n",
              "      <th>Subtype</th>\n",
              "      <th>Pristine (%)</th>\n",
              "      <th>Weight (kg)</th>\n",
              "      <th>Remaining (kg)</th>\n",
              "    </tr>\n",
              "  </thead>\n",
              "  <tbody>\n",
              "    <tr>\n",
              "      <th>11</th>\n",
              "      <td>10017</td>\n",
              "      <td>Apollo11</td>\n",
              "      <td>Basalt</td>\n",
              "      <td>Ilmenite</td>\n",
              "      <td>43.71</td>\n",
              "      <td>0.9730</td>\n",
              "      <td>0.425298</td>\n",
              "    </tr>\n",
              "    <tr>\n",
              "      <th>14</th>\n",
              "      <td>10020</td>\n",
              "      <td>Apollo11</td>\n",
              "      <td>Basalt</td>\n",
              "      <td>Ilmenite</td>\n",
              "      <td>27.88</td>\n",
              "      <td>0.4250</td>\n",
              "      <td>0.118490</td>\n",
              "    </tr>\n",
              "    <tr>\n",
              "      <th>15</th>\n",
              "      <td>10021</td>\n",
              "      <td>Apollo11</td>\n",
              "      <td>Breccia</td>\n",
              "      <td>Regolith</td>\n",
              "      <td>30.21</td>\n",
              "      <td>0.2500</td>\n",
              "      <td>0.075525</td>\n",
              "    </tr>\n",
              "    <tr>\n",
              "      <th>29</th>\n",
              "      <td>10045</td>\n",
              "      <td>Apollo11</td>\n",
              "      <td>Basalt</td>\n",
              "      <td>Olivine</td>\n",
              "      <td>12.13</td>\n",
              "      <td>0.1850</td>\n",
              "      <td>0.022441</td>\n",
              "    </tr>\n",
              "    <tr>\n",
              "      <th>37</th>\n",
              "      <td>10057</td>\n",
              "      <td>Apollo11</td>\n",
              "      <td>Basalt</td>\n",
              "      <td>Ilmenite</td>\n",
              "      <td>35.15</td>\n",
              "      <td>0.9190</td>\n",
              "      <td>0.323028</td>\n",
              "    </tr>\n",
              "    <tr>\n",
              "      <th>39</th>\n",
              "      <td>10059</td>\n",
              "      <td>Apollo11</td>\n",
              "      <td>Breccia</td>\n",
              "      <td>Regolith</td>\n",
              "      <td>36.94</td>\n",
              "      <td>0.1880</td>\n",
              "      <td>0.069447</td>\n",
              "    </tr>\n",
              "    <tr>\n",
              "      <th>52</th>\n",
              "      <td>10072</td>\n",
              "      <td>Apollo11</td>\n",
              "      <td>Basalt</td>\n",
              "      <td>Ilmenite</td>\n",
              "      <td>15.22</td>\n",
              "      <td>0.4470</td>\n",
              "      <td>0.068033</td>\n",
              "    </tr>\n",
              "    <tr>\n",
              "      <th>68</th>\n",
              "      <td>12002</td>\n",
              "      <td>Apollo12</td>\n",
              "      <td>Basalt</td>\n",
              "      <td>Olivine</td>\n",
              "      <td>49.04</td>\n",
              "      <td>1.5300</td>\n",
              "      <td>0.750312</td>\n",
              "    </tr>\n",
              "    <tr>\n",
              "      <th>72</th>\n",
              "      <td>12006</td>\n",
              "      <td>Apollo12</td>\n",
              "      <td>Basalt</td>\n",
              "      <td>Olivine</td>\n",
              "      <td>0.53</td>\n",
              "      <td>0.2064</td>\n",
              "      <td>0.001094</td>\n",
              "    </tr>\n",
              "    <tr>\n",
              "      <th>113</th>\n",
              "      <td>12047</td>\n",
              "      <td>Apollo12</td>\n",
              "      <td>Basalt</td>\n",
              "      <td>Ilmenite</td>\n",
              "      <td>33.70</td>\n",
              "      <td>0.1930</td>\n",
              "      <td>0.065041</td>\n",
              "    </tr>\n",
              "    <tr>\n",
              "      <th>118</th>\n",
              "      <td>12053</td>\n",
              "      <td>Apollo12</td>\n",
              "      <td>Basalt</td>\n",
              "      <td>Pigeonite</td>\n",
              "      <td>46.43</td>\n",
              "      <td>0.8790</td>\n",
              "      <td>0.408120</td>\n",
              "    </tr>\n",
              "    <tr>\n",
              "      <th>120</th>\n",
              "      <td>12055</td>\n",
              "      <td>Apollo12</td>\n",
              "      <td>Basalt</td>\n",
              "      <td>Pigeonite</td>\n",
              "      <td>26.00</td>\n",
              "      <td>0.9120</td>\n",
              "      <td>0.237120</td>\n",
              "    </tr>\n",
              "    <tr>\n",
              "      <th>426</th>\n",
              "      <td>15205</td>\n",
              "      <td>Apollo15</td>\n",
              "      <td>Breccia</td>\n",
              "      <td>Regolith</td>\n",
              "      <td>24.70</td>\n",
              "      <td>0.3373</td>\n",
              "      <td>0.083313</td>\n",
              "    </tr>\n",
              "    <tr>\n",
              "      <th>534</th>\n",
              "      <td>15405</td>\n",
              "      <td>Apollo15</td>\n",
              "      <td>Breccia</td>\n",
              "      <td>ImpactMelt</td>\n",
              "      <td>35.91</td>\n",
              "      <td>0.5131</td>\n",
              "      <td>0.184254</td>\n",
              "    </tr>\n",
              "    <tr>\n",
              "      <th>570</th>\n",
              "      <td>15475</td>\n",
              "      <td>Apollo15</td>\n",
              "      <td>Basalt</td>\n",
              "      <td>Pigeonite</td>\n",
              "      <td>49.60</td>\n",
              "      <td>0.4068</td>\n",
              "      <td>0.201773</td>\n",
              "    </tr>\n",
              "    <tr>\n",
              "      <th>575</th>\n",
              "      <td>15498</td>\n",
              "      <td>Apollo15</td>\n",
              "      <td>Breccia</td>\n",
              "      <td>Regolith</td>\n",
              "      <td>34.11</td>\n",
              "      <td>2.3400</td>\n",
              "      <td>0.798174</td>\n",
              "    </tr>\n",
              "    <tr>\n",
              "      <th>607</th>\n",
              "      <td>15555</td>\n",
              "      <td>Apollo15</td>\n",
              "      <td>Basalt</td>\n",
              "      <td>Olivine</td>\n",
              "      <td>46.61</td>\n",
              "      <td>9.6140</td>\n",
              "      <td>4.481085</td>\n",
              "    </tr>\n",
              "    <tr>\n",
              "      <th>718</th>\n",
              "      <td>60016</td>\n",
              "      <td>Apollo16</td>\n",
              "      <td>Breccia</td>\n",
              "      <td>Fragmental</td>\n",
              "      <td>49.57</td>\n",
              "      <td>4.3070</td>\n",
              "      <td>2.134980</td>\n",
              "    </tr>\n",
              "    <tr>\n",
              "      <th>722</th>\n",
              "      <td>60025</td>\n",
              "      <td>Apollo16</td>\n",
              "      <td>Breccia</td>\n",
              "      <td>Anorthosite</td>\n",
              "      <td>43.61</td>\n",
              "      <td>1.8360</td>\n",
              "      <td>0.800680</td>\n",
              "    </tr>\n",
              "    <tr>\n",
              "      <th>1221</th>\n",
              "      <td>66075</td>\n",
              "      <td>Apollo16</td>\n",
              "      <td>Breccia</td>\n",
              "      <td>Fragmental</td>\n",
              "      <td>32.97</td>\n",
              "      <td>0.3471</td>\n",
              "      <td>0.114439</td>\n",
              "    </tr>\n",
              "    <tr>\n",
              "      <th>1645</th>\n",
              "      <td>71566</td>\n",
              "      <td>Apollo17</td>\n",
              "      <td>Basalt</td>\n",
              "      <td>Ilmenite</td>\n",
              "      <td>45.06</td>\n",
              "      <td>0.4144</td>\n",
              "      <td>0.186729</td>\n",
              "    </tr>\n",
              "    <tr>\n",
              "      <th>2183</th>\n",
              "      <td>79155</td>\n",
              "      <td>Apollo17</td>\n",
              "      <td>Basalt</td>\n",
              "      <td>Ilmenite</td>\n",
              "      <td>25.97</td>\n",
              "      <td>0.3188</td>\n",
              "      <td>0.082792</td>\n",
              "    </tr>\n",
              "  </tbody>\n",
              "</table>\n",
              "</div>"
            ],
            "text/plain": [
              "         ID   Mission     Type      Subtype  Pristine (%)  Weight (kg)  \\\n",
              "11    10017  Apollo11   Basalt     Ilmenite         43.71       0.9730   \n",
              "14    10020  Apollo11   Basalt     Ilmenite         27.88       0.4250   \n",
              "15    10021  Apollo11  Breccia     Regolith         30.21       0.2500   \n",
              "29    10045  Apollo11   Basalt      Olivine         12.13       0.1850   \n",
              "37    10057  Apollo11   Basalt     Ilmenite         35.15       0.9190   \n",
              "39    10059  Apollo11  Breccia     Regolith         36.94       0.1880   \n",
              "52    10072  Apollo11   Basalt     Ilmenite         15.22       0.4470   \n",
              "68    12002  Apollo12   Basalt      Olivine         49.04       1.5300   \n",
              "72    12006  Apollo12   Basalt      Olivine          0.53       0.2064   \n",
              "113   12047  Apollo12   Basalt     Ilmenite         33.70       0.1930   \n",
              "118   12053  Apollo12   Basalt    Pigeonite         46.43       0.8790   \n",
              "120   12055  Apollo12   Basalt    Pigeonite         26.00       0.9120   \n",
              "426   15205  Apollo15  Breccia     Regolith         24.70       0.3373   \n",
              "534   15405  Apollo15  Breccia   ImpactMelt         35.91       0.5131   \n",
              "570   15475  Apollo15   Basalt    Pigeonite         49.60       0.4068   \n",
              "575   15498  Apollo15  Breccia     Regolith         34.11       2.3400   \n",
              "607   15555  Apollo15   Basalt      Olivine         46.61       9.6140   \n",
              "718   60016  Apollo16  Breccia   Fragmental         49.57       4.3070   \n",
              "722   60025  Apollo16  Breccia  Anorthosite         43.61       1.8360   \n",
              "1221  66075  Apollo16  Breccia   Fragmental         32.97       0.3471   \n",
              "1645  71566  Apollo17   Basalt     Ilmenite         45.06       0.4144   \n",
              "2183  79155  Apollo17   Basalt     Ilmenite         25.97       0.3188   \n",
              "\n",
              "      Remaining (kg)  \n",
              "11          0.425298  \n",
              "14          0.118490  \n",
              "15          0.075525  \n",
              "29          0.022441  \n",
              "37          0.323028  \n",
              "39          0.069447  \n",
              "52          0.068033  \n",
              "68          0.750312  \n",
              "72          0.001094  \n",
              "113         0.065041  \n",
              "118         0.408120  \n",
              "120         0.237120  \n",
              "426         0.083313  \n",
              "534         0.184254  \n",
              "570         0.201773  \n",
              "575         0.798174  \n",
              "607         4.481085  \n",
              "718         2.134980  \n",
              "722         0.800680  \n",
              "1221        0.114439  \n",
              "1645        0.186729  \n",
              "2183        0.082792  "
            ]
          },
          "execution_count": 202,
          "metadata": {},
          "output_type": "execute_result"
        }
      ],
      "source": [
        "# low_samples['Type'] 의 값이 'Basalt'이거나 'Breccia'인 행만 추출해서 needed_samples 데이터프레임 만들기\n",
        "\n",
        "needed_samples = pd.DataFrame(low_samples[basalt_or_breccia])\n",
        "needed_samples"
      ]
    },
    {
      "cell_type": "code",
      "execution_count": 203,
      "metadata": {
        "gather": {
          "logged": 1718683931320
        },
        "jupyter": {
          "outputs_hidden": false,
          "source_hidden": false
        },
        "nteract": {
          "transient": {
            "deleting": false
          }
        }
      },
      "outputs": [
        {
          "name": "stdout",
          "output_type": "stream",
          "text": [
            "<class 'pandas.core.frame.DataFrame'>\n",
            "Index: 22 entries, 11 to 2183\n",
            "Data columns (total 7 columns):\n",
            " #   Column          Non-Null Count  Dtype  \n",
            "---  ------          --------------  -----  \n",
            " 0   ID              22 non-null     int64  \n",
            " 1   Mission         22 non-null     object \n",
            " 2   Type            22 non-null     object \n",
            " 3   Subtype         22 non-null     object \n",
            " 4   Pristine (%)    22 non-null     float64\n",
            " 5   Weight (kg)     22 non-null     float64\n",
            " 6   Remaining (kg)  22 non-null     float64\n",
            "dtypes: float64(3), int64(1), object(3)\n",
            "memory usage: 1.4+ KB\n"
          ]
        }
      ],
      "source": [
        "# needed_samples 정보확인\n",
        "\n",
        "needed_samples.info()"
      ]
    },
    {
      "cell_type": "code",
      "execution_count": 204,
      "metadata": {
        "gather": {
          "logged": 1718683931459
        },
        "jupyter": {
          "outputs_hidden": false,
          "source_hidden": false
        },
        "nteract": {
          "transient": {
            "deleting": false
          }
        }
      },
      "outputs": [
        {
          "data": {
            "text/plain": [
              "Type\n",
              "Basalt     17.4234\n",
              "Breccia    10.1185\n",
              "Name: Weight (kg), dtype: float64"
            ]
          },
          "execution_count": 204,
          "metadata": {},
          "output_type": "execute_result"
        }
      ],
      "source": [
        "# needed_samples 데이터프레임에서 'Type'으로 groupby해서 암석 샘플의 총중량의 합을 구한다\n",
        "\n",
        "needed_samples.groupby('Type')['Weight (kg)'].sum()"
      ]
    },
    {
      "cell_type": "code",
      "execution_count": 205,
      "metadata": {
        "gather": {
          "logged": 1718683931606
        },
        "jupyter": {
          "outputs_hidden": false,
          "source_hidden": false
        },
        "nteract": {
          "transient": {
            "deleting": false
          }
        }
      },
      "outputs": [
        {
          "data": {
            "text/plain": [
              "Type\n",
              "Basalt      93.14077\n",
              "Breccia    168.88075\n",
              "Core        19.93587\n",
              "Crustal      4.74469\n",
              "Soil        87.58981\n",
              "Special      0.74410\n",
              "Name: Weight (kg), dtype: float64"
            ]
          },
          "execution_count": 205,
          "metadata": {},
          "output_type": "execute_result"
        }
      ],
      "source": [
        "# rock_samples 데이터프레임에서 'Type'으로 groupby 해서 암석 샘플의 중량의 합을 구한다. \n",
        "#           -> 아폴로 임무에서 처음부터 수집이 안된 암석을 구한다.\n",
        "\n",
        "rock_samples.groupby('Type')['Weight (kg)'].sum()"
      ]
    },
    {
      "cell_type": "code",
      "execution_count": 213,
      "metadata": {
        "gather": {
          "logged": 1718683931765
        },
        "jupyter": {
          "outputs_hidden": false,
          "source_hidden": false
        },
        "nteract": {
          "transient": {
            "deleting": false
          }
        }
      },
      "outputs": [
        {
          "data": {
            "text/plain": [
              "0       False\n",
              "1       False\n",
              "2       False\n",
              "3       False\n",
              "4       False\n",
              "        ...  \n",
              "2224    False\n",
              "2225    False\n",
              "2226    False\n",
              "2227    False\n",
              "2228    False\n",
              "Name: Type, Length: 2229, dtype: bool"
            ]
          },
          "execution_count": 213,
          "metadata": {},
          "output_type": "execute_result"
        }
      ],
      "source": [
        "rock_samples['Type'] == 'Crustal'"
      ]
    },
    {
      "cell_type": "code",
      "execution_count": 207,
      "metadata": {
        "gather": {
          "logged": 1718683931927
        },
        "jupyter": {
          "outputs_hidden": false,
          "source_hidden": false
        },
        "nteract": {
          "transient": {
            "deleting": false
          }
        }
      },
      "outputs": [],
      "source": [
        "# rock_samples에서 'Type'이 'Crustal'. 인 행만 추출한다.\n",
        "\n",
        "crustal = rock_samples['Type'] == 'Crustal'"
      ]
    },
    {
      "cell_type": "code",
      "execution_count": 208,
      "metadata": {
        "gather": {
          "logged": 1718683932081
        },
        "jupyter": {
          "outputs_hidden": false,
          "source_hidden": false
        },
        "nteract": {
          "transient": {
            "deleting": false
          }
        }
      },
      "outputs": [
        {
          "data": {
            "text/html": [
              "<div>\n",
              "<style scoped>\n",
              "    .dataframe tbody tr th:only-of-type {\n",
              "        vertical-align: middle;\n",
              "    }\n",
              "\n",
              "    .dataframe tbody tr th {\n",
              "        vertical-align: top;\n",
              "    }\n",
              "\n",
              "    .dataframe thead th {\n",
              "        text-align: right;\n",
              "    }\n",
              "</style>\n",
              "<table border=\"1\" class=\"dataframe\">\n",
              "  <thead>\n",
              "    <tr style=\"text-align: right;\">\n",
              "      <th></th>\n",
              "      <th>ID</th>\n",
              "      <th>Mission</th>\n",
              "      <th>Type</th>\n",
              "      <th>Subtype</th>\n",
              "      <th>Pristine (%)</th>\n",
              "      <th>Weight (kg)</th>\n",
              "      <th>Remaining (kg)</th>\n",
              "    </tr>\n",
              "  </thead>\n",
              "  <tbody>\n",
              "    <tr>\n",
              "      <th>11</th>\n",
              "      <td>10017</td>\n",
              "      <td>Apollo11</td>\n",
              "      <td>Basalt</td>\n",
              "      <td>Ilmenite</td>\n",
              "      <td>43.71</td>\n",
              "      <td>0.97300</td>\n",
              "      <td>0.425298</td>\n",
              "    </tr>\n",
              "    <tr>\n",
              "      <th>14</th>\n",
              "      <td>10020</td>\n",
              "      <td>Apollo11</td>\n",
              "      <td>Basalt</td>\n",
              "      <td>Ilmenite</td>\n",
              "      <td>27.88</td>\n",
              "      <td>0.42500</td>\n",
              "      <td>0.118490</td>\n",
              "    </tr>\n",
              "    <tr>\n",
              "      <th>15</th>\n",
              "      <td>10021</td>\n",
              "      <td>Apollo11</td>\n",
              "      <td>Breccia</td>\n",
              "      <td>Regolith</td>\n",
              "      <td>30.21</td>\n",
              "      <td>0.25000</td>\n",
              "      <td>0.075525</td>\n",
              "    </tr>\n",
              "    <tr>\n",
              "      <th>29</th>\n",
              "      <td>10045</td>\n",
              "      <td>Apollo11</td>\n",
              "      <td>Basalt</td>\n",
              "      <td>Olivine</td>\n",
              "      <td>12.13</td>\n",
              "      <td>0.18500</td>\n",
              "      <td>0.022441</td>\n",
              "    </tr>\n",
              "    <tr>\n",
              "      <th>37</th>\n",
              "      <td>10057</td>\n",
              "      <td>Apollo11</td>\n",
              "      <td>Basalt</td>\n",
              "      <td>Ilmenite</td>\n",
              "      <td>35.15</td>\n",
              "      <td>0.91900</td>\n",
              "      <td>0.323028</td>\n",
              "    </tr>\n",
              "    <tr>\n",
              "      <th>...</th>\n",
              "      <td>...</td>\n",
              "      <td>...</td>\n",
              "      <td>...</td>\n",
              "      <td>...</td>\n",
              "      <td>...</td>\n",
              "      <td>...</td>\n",
              "      <td>...</td>\n",
              "    </tr>\n",
              "    <tr>\n",
              "      <th>2089</th>\n",
              "      <td>78238</td>\n",
              "      <td>Apollo17</td>\n",
              "      <td>Crustal</td>\n",
              "      <td>Norite</td>\n",
              "      <td>86.03</td>\n",
              "      <td>0.00000</td>\n",
              "      <td>0.000000</td>\n",
              "    </tr>\n",
              "    <tr>\n",
              "      <th>2092</th>\n",
              "      <td>78256</td>\n",
              "      <td>Apollo17</td>\n",
              "      <td>Crustal</td>\n",
              "      <td>Pristine</td>\n",
              "      <td>0.00</td>\n",
              "      <td>0.00000</td>\n",
              "      <td>0.000000</td>\n",
              "    </tr>\n",
              "    <tr>\n",
              "      <th>2126</th>\n",
              "      <td>78517</td>\n",
              "      <td>Apollo17</td>\n",
              "      <td>Crustal</td>\n",
              "      <td>Cataclasite</td>\n",
              "      <td>82.97</td>\n",
              "      <td>0.00182</td>\n",
              "      <td>0.001510</td>\n",
              "    </tr>\n",
              "    <tr>\n",
              "      <th>2130</th>\n",
              "      <td>78527</td>\n",
              "      <td>Apollo17</td>\n",
              "      <td>Crustal</td>\n",
              "      <td>Cataclasite</td>\n",
              "      <td>82.05</td>\n",
              "      <td>0.00516</td>\n",
              "      <td>0.004234</td>\n",
              "    </tr>\n",
              "    <tr>\n",
              "      <th>2189</th>\n",
              "      <td>79215</td>\n",
              "      <td>Apollo17</td>\n",
              "      <td>Crustal</td>\n",
              "      <td>Cataclasite</td>\n",
              "      <td>93.33</td>\n",
              "      <td>0.55380</td>\n",
              "      <td>0.516862</td>\n",
              "    </tr>\n",
              "  </tbody>\n",
              "</table>\n",
              "<p>68 rows × 7 columns</p>\n",
              "</div>"
            ],
            "text/plain": [
              "         ID   Mission     Type      Subtype  Pristine (%)  Weight (kg)  \\\n",
              "11    10017  Apollo11   Basalt     Ilmenite         43.71      0.97300   \n",
              "14    10020  Apollo11   Basalt     Ilmenite         27.88      0.42500   \n",
              "15    10021  Apollo11  Breccia     Regolith         30.21      0.25000   \n",
              "29    10045  Apollo11   Basalt      Olivine         12.13      0.18500   \n",
              "37    10057  Apollo11   Basalt     Ilmenite         35.15      0.91900   \n",
              "...     ...       ...      ...          ...           ...          ...   \n",
              "2089  78238  Apollo17  Crustal       Norite         86.03      0.00000   \n",
              "2092  78256  Apollo17  Crustal     Pristine          0.00      0.00000   \n",
              "2126  78517  Apollo17  Crustal  Cataclasite         82.97      0.00182   \n",
              "2130  78527  Apollo17  Crustal  Cataclasite         82.05      0.00516   \n",
              "2189  79215  Apollo17  Crustal  Cataclasite         93.33      0.55380   \n",
              "\n",
              "      Remaining (kg)  \n",
              "11          0.425298  \n",
              "14          0.118490  \n",
              "15          0.075525  \n",
              "29          0.022441  \n",
              "37          0.323028  \n",
              "...              ...  \n",
              "2089        0.000000  \n",
              "2092        0.000000  \n",
              "2126        0.001510  \n",
              "2130        0.004234  \n",
              "2189        0.516862  \n",
              "\n",
              "[68 rows x 7 columns]"
            ]
          },
          "execution_count": 208,
          "metadata": {},
          "output_type": "execute_result"
        }
      ],
      "source": [
        "# needed_samples에 crustal을 추가한다.\n",
        "\n",
        "needed_samples = pd.concat([needed_samples, rock_samples[crustal]])\n",
        "needed_samples"
      ]
    },
    {
      "cell_type": "code",
      "execution_count": 210,
      "metadata": {
        "gather": {
          "logged": 1718683932244
        },
        "jupyter": {
          "outputs_hidden": false,
          "source_hidden": false
        },
        "nteract": {
          "transient": {
            "deleting": false
          }
        }
      },
      "outputs": [
        {
          "name": "stdout",
          "output_type": "stream",
          "text": [
            "<class 'pandas.core.frame.DataFrame'>\n",
            "Index: 68 entries, 11 to 2189\n",
            "Data columns (total 7 columns):\n",
            " #   Column          Non-Null Count  Dtype  \n",
            "---  ------          --------------  -----  \n",
            " 0   ID              68 non-null     int64  \n",
            " 1   Mission         68 non-null     object \n",
            " 2   Type            68 non-null     object \n",
            " 3   Subtype         68 non-null     object \n",
            " 4   Pristine (%)    68 non-null     float64\n",
            " 5   Weight (kg)     68 non-null     float64\n",
            " 6   Remaining (kg)  68 non-null     float64\n",
            "dtypes: float64(3), int64(1), object(3)\n",
            "memory usage: 4.2+ KB\n"
          ]
        }
      ],
      "source": [
        "needed_samples.info()"
      ]
    },
    {
      "cell_type": "code",
      "execution_count": 211,
      "metadata": {
        "gather": {
          "logged": 1718683955389
        },
        "jupyter": {
          "outputs_hidden": false,
          "source_hidden": false
        },
        "nteract": {
          "transient": {
            "deleting": false
          }
        }
      },
      "outputs": [
        {
          "data": {
            "text/plain": [
              "array(['Basalt', 'Breccia', 'Crustal'], dtype=object)"
            ]
          },
          "execution_count": 211,
          "metadata": {},
          "output_type": "execute_result"
        }
      ],
      "source": [
        "needed_samples.Type.unique()"
      ]
    },
    {
      "cell_type": "code",
      "execution_count": 212,
      "metadata": {
        "gather": {
          "logged": 1718683995393
        },
        "jupyter": {
          "outputs_hidden": false,
          "source_hidden": false
        },
        "nteract": {
          "transient": {
            "deleting": false
          }
        }
      },
      "outputs": [
        {
          "data": {
            "text/plain": [
              "array(['Basalt', 'Breccia', 'Crustal'], dtype=object)"
            ]
          },
          "execution_count": 212,
          "metadata": {},
          "output_type": "execute_result"
        }
      ],
      "source": [
        "needed_samples['Type'].unique()"
      ]
    },
    {
      "cell_type": "markdown",
      "metadata": {
        "nteract": {
          "transient": {
            "deleting": false
          }
        }
      },
      "source": [
        "## needed samples overview 만들기"
      ]
    },
    {
      "cell_type": "code",
      "execution_count": 255,
      "metadata": {
        "gather": {
          "logged": 1718685037125
        },
        "jupyter": {
          "outputs_hidden": false,
          "source_hidden": false
        },
        "nteract": {
          "transient": {
            "deleting": false
          }
        }
      },
      "outputs": [
        {
          "data": {
            "text/html": [
              "<div>\n",
              "<style scoped>\n",
              "    .dataframe tbody tr th:only-of-type {\n",
              "        vertical-align: middle;\n",
              "    }\n",
              "\n",
              "    .dataframe tbody tr th {\n",
              "        vertical-align: top;\n",
              "    }\n",
              "\n",
              "    .dataframe thead th {\n",
              "        text-align: right;\n",
              "    }\n",
              "</style>\n",
              "<table border=\"1\" class=\"dataframe\">\n",
              "  <thead>\n",
              "    <tr style=\"text-align: right;\">\n",
              "      <th></th>\n",
              "    </tr>\n",
              "  </thead>\n",
              "  <tbody>\n",
              "  </tbody>\n",
              "</table>\n",
              "</div>"
            ],
            "text/plain": [
              "Empty DataFrame\n",
              "Columns: []\n",
              "Index: []"
            ]
          },
          "execution_count": 255,
          "metadata": {},
          "output_type": "execute_result"
        }
      ],
      "source": [
        "## 아르테미스 임무에 전달할 최종 데이터프레임 needed_samples_overview 만든다.\n",
        "\n",
        "needed_samples_overview = pd.DataFrame()\n",
        "needed_samples_overview"
      ]
    },
    {
      "cell_type": "code",
      "execution_count": 256,
      "metadata": {
        "gather": {
          "logged": 1718685109777
        },
        "jupyter": {
          "outputs_hidden": false,
          "source_hidden": false
        },
        "nteract": {
          "transient": {
            "deleting": false
          }
        }
      },
      "outputs": [
        {
          "data": {
            "text/html": [
              "<div>\n",
              "<style scoped>\n",
              "    .dataframe tbody tr th:only-of-type {\n",
              "        vertical-align: middle;\n",
              "    }\n",
              "\n",
              "    .dataframe tbody tr th {\n",
              "        vertical-align: top;\n",
              "    }\n",
              "\n",
              "    .dataframe thead th {\n",
              "        text-align: right;\n",
              "    }\n",
              "</style>\n",
              "<table border=\"1\" class=\"dataframe\">\n",
              "  <thead>\n",
              "    <tr style=\"text-align: right;\">\n",
              "      <th></th>\n",
              "      <th>Type</th>\n",
              "    </tr>\n",
              "  </thead>\n",
              "  <tbody>\n",
              "    <tr>\n",
              "      <th>0</th>\n",
              "      <td>Basalt</td>\n",
              "    </tr>\n",
              "    <tr>\n",
              "      <th>1</th>\n",
              "      <td>Breccia</td>\n",
              "    </tr>\n",
              "    <tr>\n",
              "      <th>2</th>\n",
              "      <td>Crustal</td>\n",
              "    </tr>\n",
              "  </tbody>\n",
              "</table>\n",
              "</div>"
            ],
            "text/plain": [
              "      Type\n",
              "0   Basalt\n",
              "1  Breccia\n",
              "2  Crustal"
            ]
          },
          "execution_count": 256,
          "metadata": {},
          "output_type": "execute_result"
        }
      ],
      "source": [
        "# needed samples 데이터프레임에서 중복되지 않은 암석유형을 추출한다.\n",
        "\n",
        "needed_samples['Type'].unique()\n",
        "needed_samples_overview['Type'] = needed_samples['Type'].unique()\n",
        "needed_samples_overview"
      ]
    },
    {
      "cell_type": "code",
      "execution_count": 257,
      "metadata": {
        "gather": {
          "logged": 1718685228127
        },
        "jupyter": {
          "outputs_hidden": false,
          "source_hidden": false
        },
        "nteract": {
          "transient": {
            "deleting": false
          }
        }
      },
      "outputs": [
        {
          "data": {
            "text/plain": [
              "Type\n",
              "Basalt     17.42340\n",
              "Breccia    10.11850\n",
              "Crustal     4.74469\n",
              "Name: Weight (kg), dtype: float64"
            ]
          },
          "execution_count": 257,
          "metadata": {},
          "output_type": "execute_result"
        }
      ],
      "source": [
        "# needed_samples 데이터프레임에서 암석유형별('Type') 중량 합을 구한다.\n",
        "\n",
        "needed_samples.groupby('Type')['Weight (kg)'].sum()"
      ]
    },
    {
      "cell_type": "code",
      "execution_count": 258,
      "metadata": {
        "gather": {
          "logged": 1718685364437
        },
        "jupyter": {
          "outputs_hidden": false,
          "source_hidden": false
        },
        "nteract": {
          "transient": {
            "deleting": false
          }
        }
      },
      "outputs": [
        {
          "data": {
            "text/html": [
              "<div>\n",
              "<style scoped>\n",
              "    .dataframe tbody tr th:only-of-type {\n",
              "        vertical-align: middle;\n",
              "    }\n",
              "\n",
              "    .dataframe tbody tr th {\n",
              "        vertical-align: top;\n",
              "    }\n",
              "\n",
              "    .dataframe thead th {\n",
              "        text-align: right;\n",
              "    }\n",
              "</style>\n",
              "<table border=\"1\" class=\"dataframe\">\n",
              "  <thead>\n",
              "    <tr style=\"text-align: right;\">\n",
              "      <th></th>\n",
              "      <th>Type</th>\n",
              "      <th>Weight (kg)</th>\n",
              "    </tr>\n",
              "  </thead>\n",
              "  <tbody>\n",
              "    <tr>\n",
              "      <th>0</th>\n",
              "      <td>Basalt</td>\n",
              "      <td>17.42340</td>\n",
              "    </tr>\n",
              "    <tr>\n",
              "      <th>1</th>\n",
              "      <td>Breccia</td>\n",
              "      <td>10.11850</td>\n",
              "    </tr>\n",
              "    <tr>\n",
              "      <th>2</th>\n",
              "      <td>Crustal</td>\n",
              "      <td>4.74469</td>\n",
              "    </tr>\n",
              "  </tbody>\n",
              "</table>\n",
              "</div>"
            ],
            "text/plain": [
              "      Type  Weight (kg)\n",
              "0   Basalt     17.42340\n",
              "1  Breccia     10.11850\n",
              "2  Crustal      4.74469"
            ]
          },
          "execution_count": 258,
          "metadata": {},
          "output_type": "execute_result"
        }
      ],
      "source": [
        "needed_sample_weight_sum = needed_samples.groupby('Type')['Weight (kg)'].sum().reset_index()\n",
        "needed_sample_weight_sum"
      ]
    },
    {
      "cell_type": "code",
      "execution_count": 259,
      "metadata": {
        "gather": {
          "logged": 1718685506197
        },
        "jupyter": {
          "outputs_hidden": false,
          "source_hidden": false
        },
        "nteract": {
          "transient": {
            "deleting": false
          }
        }
      },
      "outputs": [
        {
          "data": {
            "text/html": [
              "<div>\n",
              "<style scoped>\n",
              "    .dataframe tbody tr th:only-of-type {\n",
              "        vertical-align: middle;\n",
              "    }\n",
              "\n",
              "    .dataframe tbody tr th {\n",
              "        vertical-align: top;\n",
              "    }\n",
              "\n",
              "    .dataframe thead th {\n",
              "        text-align: right;\n",
              "    }\n",
              "</style>\n",
              "<table border=\"1\" class=\"dataframe\">\n",
              "  <thead>\n",
              "    <tr style=\"text-align: right;\">\n",
              "      <th></th>\n",
              "      <th>Type</th>\n",
              "      <th>Weight (kg)</th>\n",
              "    </tr>\n",
              "  </thead>\n",
              "  <tbody>\n",
              "    <tr>\n",
              "      <th>0</th>\n",
              "      <td>Basalt</td>\n",
              "      <td>17.42340</td>\n",
              "    </tr>\n",
              "    <tr>\n",
              "      <th>1</th>\n",
              "      <td>Breccia</td>\n",
              "      <td>10.11850</td>\n",
              "    </tr>\n",
              "    <tr>\n",
              "      <th>2</th>\n",
              "      <td>Crustal</td>\n",
              "      <td>4.74469</td>\n",
              "    </tr>\n",
              "  </tbody>\n",
              "</table>\n",
              "</div>"
            ],
            "text/plain": [
              "      Type  Weight (kg)\n",
              "0   Basalt     17.42340\n",
              "1  Breccia     10.11850\n",
              "2  Crustal      4.74469"
            ]
          },
          "execution_count": 259,
          "metadata": {},
          "output_type": "execute_result"
        }
      ],
      "source": [
        "# 두 데이터프레임을 병합한다.\n",
        "\n",
        "merged = pd.merge(needed_samples_overview, needed_sample_weight_sum, on='Type')\n",
        "needed_samples_overview = merged\n",
        "needed_samples_overview"
      ]
    },
    {
      "cell_type": "code",
      "execution_count": 260,
      "metadata": {
        "gather": {
          "logged": 1718685632691
        },
        "jupyter": {
          "outputs_hidden": false,
          "source_hidden": false
        },
        "nteract": {
          "transient": {
            "deleting": false
          }
        }
      },
      "outputs": [
        {
          "data": {
            "text/html": [
              "<div>\n",
              "<style scoped>\n",
              "    .dataframe tbody tr th:only-of-type {\n",
              "        vertical-align: middle;\n",
              "    }\n",
              "\n",
              "    .dataframe tbody tr th {\n",
              "        vertical-align: top;\n",
              "    }\n",
              "\n",
              "    .dataframe thead th {\n",
              "        text-align: right;\n",
              "    }\n",
              "</style>\n",
              "<table border=\"1\" class=\"dataframe\">\n",
              "  <thead>\n",
              "    <tr style=\"text-align: right;\">\n",
              "      <th></th>\n",
              "      <th>Type</th>\n",
              "      <th>Total weight (kg)</th>\n",
              "    </tr>\n",
              "  </thead>\n",
              "  <tbody>\n",
              "    <tr>\n",
              "      <th>0</th>\n",
              "      <td>Basalt</td>\n",
              "      <td>17.42340</td>\n",
              "    </tr>\n",
              "    <tr>\n",
              "      <th>1</th>\n",
              "      <td>Breccia</td>\n",
              "      <td>10.11850</td>\n",
              "    </tr>\n",
              "    <tr>\n",
              "      <th>2</th>\n",
              "      <td>Crustal</td>\n",
              "      <td>4.74469</td>\n",
              "    </tr>\n",
              "  </tbody>\n",
              "</table>\n",
              "</div>"
            ],
            "text/plain": [
              "      Type  Total weight (kg)\n",
              "0   Basalt           17.42340\n",
              "1  Breccia           10.11850\n",
              "2  Crustal            4.74469"
            ]
          },
          "execution_count": 260,
          "metadata": {},
          "output_type": "execute_result"
        }
      ],
      "source": [
        "# 컬럼명을 변경 'Weight (kg)' -> 'Total weight (kg)'\n",
        "\n",
        "needed_samples_overview.rename(columns={'Weight (kg)': 'Total weight (kg)'}, inplace=True)\n",
        "needed_samples_overview"
      ]
    },
    {
      "cell_type": "code",
      "execution_count": 261,
      "metadata": {
        "gather": {
          "logged": 1718685790983
        },
        "jupyter": {
          "outputs_hidden": false,
          "source_hidden": false
        },
        "nteract": {
          "transient": {
            "deleting": false
          }
        }
      },
      "outputs": [
        {
          "data": {
            "text/html": [
              "<div>\n",
              "<style scoped>\n",
              "    .dataframe tbody tr th:only-of-type {\n",
              "        vertical-align: middle;\n",
              "    }\n",
              "\n",
              "    .dataframe tbody tr th {\n",
              "        vertical-align: top;\n",
              "    }\n",
              "\n",
              "    .dataframe thead th {\n",
              "        text-align: right;\n",
              "    }\n",
              "</style>\n",
              "<table border=\"1\" class=\"dataframe\">\n",
              "  <thead>\n",
              "    <tr style=\"text-align: right;\">\n",
              "      <th></th>\n",
              "      <th>Type</th>\n",
              "      <th>Weight (kg)</th>\n",
              "    </tr>\n",
              "  </thead>\n",
              "  <tbody>\n",
              "    <tr>\n",
              "      <th>0</th>\n",
              "      <td>Basalt</td>\n",
              "      <td>1.244529</td>\n",
              "    </tr>\n",
              "    <tr>\n",
              "      <th>1</th>\n",
              "      <td>Breccia</td>\n",
              "      <td>1.264813</td>\n",
              "    </tr>\n",
              "    <tr>\n",
              "      <th>2</th>\n",
              "      <td>Crustal</td>\n",
              "      <td>0.103145</td>\n",
              "    </tr>\n",
              "  </tbody>\n",
              "</table>\n",
              "</div>"
            ],
            "text/plain": [
              "      Type  Weight (kg)\n",
              "0   Basalt     1.244529\n",
              "1  Breccia     1.264813\n",
              "2  Crustal     0.103145"
            ]
          },
          "execution_count": 261,
          "metadata": {},
          "output_type": "execute_result"
        }
      ],
      "source": [
        "# needed_samples 데이터프레임에서 암석유형별 중량의 평균을 구한다.\n",
        "\n",
        "needed_samples_weight_mean = needed_samples.groupby('Type')['Weight (kg)'].mean().reset_index()\n",
        "needed_samples_weight_mean"
      ]
    },
    {
      "cell_type": "code",
      "execution_count": 262,
      "metadata": {
        "gather": {
          "logged": 1718685883504
        },
        "jupyter": {
          "outputs_hidden": false,
          "source_hidden": false
        },
        "nteract": {
          "transient": {
            "deleting": false
          }
        }
      },
      "outputs": [
        {
          "data": {
            "text/html": [
              "<div>\n",
              "<style scoped>\n",
              "    .dataframe tbody tr th:only-of-type {\n",
              "        vertical-align: middle;\n",
              "    }\n",
              "\n",
              "    .dataframe tbody tr th {\n",
              "        vertical-align: top;\n",
              "    }\n",
              "\n",
              "    .dataframe thead th {\n",
              "        text-align: right;\n",
              "    }\n",
              "</style>\n",
              "<table border=\"1\" class=\"dataframe\">\n",
              "  <thead>\n",
              "    <tr style=\"text-align: right;\">\n",
              "      <th></th>\n",
              "      <th>Type</th>\n",
              "      <th>Total weight (kg)</th>\n",
              "      <th>Weight (kg)</th>\n",
              "    </tr>\n",
              "  </thead>\n",
              "  <tbody>\n",
              "    <tr>\n",
              "      <th>0</th>\n",
              "      <td>Basalt</td>\n",
              "      <td>17.42340</td>\n",
              "      <td>1.244529</td>\n",
              "    </tr>\n",
              "    <tr>\n",
              "      <th>1</th>\n",
              "      <td>Breccia</td>\n",
              "      <td>10.11850</td>\n",
              "      <td>1.264813</td>\n",
              "    </tr>\n",
              "    <tr>\n",
              "      <th>2</th>\n",
              "      <td>Crustal</td>\n",
              "      <td>4.74469</td>\n",
              "      <td>0.103145</td>\n",
              "    </tr>\n",
              "  </tbody>\n",
              "</table>\n",
              "</div>"
            ],
            "text/plain": [
              "      Type  Total weight (kg)  Weight (kg)\n",
              "0   Basalt           17.42340     1.244529\n",
              "1  Breccia           10.11850     1.264813\n",
              "2  Crustal            4.74469     0.103145"
            ]
          },
          "execution_count": 262,
          "metadata": {},
          "output_type": "execute_result"
        }
      ],
      "source": [
        "# 두 데이터프레임을 병합한다.\n",
        "\n",
        "merged = pd.merge(needed_samples_overview, needed_samples_weight_mean, on='Type')\n",
        "needed_samples_overview = merged\n",
        "needed_samples_overview"
      ]
    },
    {
      "cell_type": "code",
      "execution_count": 263,
      "metadata": {
        "gather": {
          "logged": 1718685955093
        },
        "jupyter": {
          "outputs_hidden": false,
          "source_hidden": false
        },
        "nteract": {
          "transient": {
            "deleting": false
          }
        }
      },
      "outputs": [
        {
          "data": {
            "text/html": [
              "<div>\n",
              "<style scoped>\n",
              "    .dataframe tbody tr th:only-of-type {\n",
              "        vertical-align: middle;\n",
              "    }\n",
              "\n",
              "    .dataframe tbody tr th {\n",
              "        vertical-align: top;\n",
              "    }\n",
              "\n",
              "    .dataframe thead th {\n",
              "        text-align: right;\n",
              "    }\n",
              "</style>\n",
              "<table border=\"1\" class=\"dataframe\">\n",
              "  <thead>\n",
              "    <tr style=\"text-align: right;\">\n",
              "      <th></th>\n",
              "      <th>Type</th>\n",
              "      <th>Total weight (kg)</th>\n",
              "      <th>Average weight (kg)</th>\n",
              "    </tr>\n",
              "  </thead>\n",
              "  <tbody>\n",
              "    <tr>\n",
              "      <th>0</th>\n",
              "      <td>Basalt</td>\n",
              "      <td>17.42340</td>\n",
              "      <td>1.244529</td>\n",
              "    </tr>\n",
              "    <tr>\n",
              "      <th>1</th>\n",
              "      <td>Breccia</td>\n",
              "      <td>10.11850</td>\n",
              "      <td>1.264813</td>\n",
              "    </tr>\n",
              "    <tr>\n",
              "      <th>2</th>\n",
              "      <td>Crustal</td>\n",
              "      <td>4.74469</td>\n",
              "      <td>0.103145</td>\n",
              "    </tr>\n",
              "  </tbody>\n",
              "</table>\n",
              "</div>"
            ],
            "text/plain": [
              "      Type  Total weight (kg)  Average weight (kg)\n",
              "0   Basalt           17.42340             1.244529\n",
              "1  Breccia           10.11850             1.264813\n",
              "2  Crustal            4.74469             0.103145"
            ]
          },
          "execution_count": 263,
          "metadata": {},
          "output_type": "execute_result"
        }
      ],
      "source": [
        "# 컬럼명을 변경 'Weight (kg)' -> 'Average weight (kg)'\n",
        "\n",
        "needed_samples_overview.rename(columns={'Weight (kg)': 'Average weight (kg)'}, inplace=True)\n",
        "needed_samples_overview"
      ]
    },
    {
      "cell_type": "code",
      "execution_count": 264,
      "metadata": {
        "gather": {
          "logged": 1718686270585
        },
        "jupyter": {
          "outputs_hidden": false,
          "source_hidden": false
        },
        "nteract": {
          "transient": {
            "deleting": false
          }
        }
      },
      "outputs": [
        {
          "data": {
            "text/html": [
              "<div>\n",
              "<style scoped>\n",
              "    .dataframe tbody tr th:only-of-type {\n",
              "        vertical-align: middle;\n",
              "    }\n",
              "\n",
              "    .dataframe tbody tr th {\n",
              "        vertical-align: top;\n",
              "    }\n",
              "\n",
              "    .dataframe thead th {\n",
              "        text-align: right;\n",
              "    }\n",
              "</style>\n",
              "<table border=\"1\" class=\"dataframe\">\n",
              "  <thead>\n",
              "    <tr style=\"text-align: right;\">\n",
              "      <th></th>\n",
              "      <th>Type</th>\n",
              "      <th>count</th>\n",
              "    </tr>\n",
              "  </thead>\n",
              "  <tbody>\n",
              "    <tr>\n",
              "      <th>0</th>\n",
              "      <td>Breccia</td>\n",
              "      <td>959</td>\n",
              "    </tr>\n",
              "    <tr>\n",
              "      <th>1</th>\n",
              "      <td>Soil</td>\n",
              "      <td>813</td>\n",
              "    </tr>\n",
              "    <tr>\n",
              "      <th>2</th>\n",
              "      <td>Basalt</td>\n",
              "      <td>351</td>\n",
              "    </tr>\n",
              "    <tr>\n",
              "      <th>3</th>\n",
              "      <td>Core</td>\n",
              "      <td>56</td>\n",
              "    </tr>\n",
              "    <tr>\n",
              "      <th>4</th>\n",
              "      <td>Crustal</td>\n",
              "      <td>46</td>\n",
              "    </tr>\n",
              "    <tr>\n",
              "      <th>5</th>\n",
              "      <td>Special</td>\n",
              "      <td>4</td>\n",
              "    </tr>\n",
              "  </tbody>\n",
              "</table>\n",
              "</div>"
            ],
            "text/plain": [
              "      Type  count\n",
              "0  Breccia    959\n",
              "1     Soil    813\n",
              "2   Basalt    351\n",
              "3     Core     56\n",
              "4  Crustal     46\n",
              "5  Special      4"
            ]
          },
          "execution_count": 264,
          "metadata": {},
          "output_type": "execute_result"
        }
      ],
      "source": [
        "# rock_samples 데이터프레임에서 암석유형별('Type') 개수를 구해서 total_rock_count 라는 데이터프레임을 만든다.\n",
        "\n",
        "total_rock_count = rock_samples['Type'].value_counts().reset_index()\n",
        "total_rock_count"
      ]
    },
    {
      "cell_type": "code",
      "execution_count": 265,
      "metadata": {
        "gather": {
          "logged": 1718686309369
        },
        "jupyter": {
          "outputs_hidden": false,
          "source_hidden": false
        },
        "nteract": {
          "transient": {
            "deleting": false
          }
        }
      },
      "outputs": [
        {
          "data": {
            "text/html": [
              "<div>\n",
              "<style scoped>\n",
              "    .dataframe tbody tr th:only-of-type {\n",
              "        vertical-align: middle;\n",
              "    }\n",
              "\n",
              "    .dataframe tbody tr th {\n",
              "        vertical-align: top;\n",
              "    }\n",
              "\n",
              "    .dataframe thead th {\n",
              "        text-align: right;\n",
              "    }\n",
              "</style>\n",
              "<table border=\"1\" class=\"dataframe\">\n",
              "  <thead>\n",
              "    <tr style=\"text-align: right;\">\n",
              "      <th></th>\n",
              "      <th>Type</th>\n",
              "      <th>Total weight (kg)</th>\n",
              "      <th>Average weight (kg)</th>\n",
              "      <th>count</th>\n",
              "    </tr>\n",
              "  </thead>\n",
              "  <tbody>\n",
              "    <tr>\n",
              "      <th>0</th>\n",
              "      <td>Basalt</td>\n",
              "      <td>17.42340</td>\n",
              "      <td>1.244529</td>\n",
              "      <td>351</td>\n",
              "    </tr>\n",
              "    <tr>\n",
              "      <th>1</th>\n",
              "      <td>Breccia</td>\n",
              "      <td>10.11850</td>\n",
              "      <td>1.264813</td>\n",
              "      <td>959</td>\n",
              "    </tr>\n",
              "    <tr>\n",
              "      <th>2</th>\n",
              "      <td>Crustal</td>\n",
              "      <td>4.74469</td>\n",
              "      <td>0.103145</td>\n",
              "      <td>46</td>\n",
              "    </tr>\n",
              "  </tbody>\n",
              "</table>\n",
              "</div>"
            ],
            "text/plain": [
              "      Type  Total weight (kg)  Average weight (kg)  count\n",
              "0   Basalt           17.42340             1.244529    351\n",
              "1  Breccia           10.11850             1.264813    959\n",
              "2  Crustal            4.74469             0.103145     46"
            ]
          },
          "execution_count": 265,
          "metadata": {},
          "output_type": "execute_result"
        }
      ],
      "source": [
        "# 두 데이터프레임을 병합한다.\n",
        "\n",
        "merged = pd.merge(needed_samples_overview, total_rock_count, on='Type')\n",
        "needed_samples_overview = merged\n",
        "needed_samples_overview"
      ]
    },
    {
      "cell_type": "code",
      "execution_count": 266,
      "metadata": {
        "gather": {
          "logged": 1718686425106
        },
        "jupyter": {
          "outputs_hidden": false,
          "source_hidden": false
        },
        "nteract": {
          "transient": {
            "deleting": false
          }
        }
      },
      "outputs": [
        {
          "data": {
            "text/html": [
              "<div>\n",
              "<style scoped>\n",
              "    .dataframe tbody tr th:only-of-type {\n",
              "        vertical-align: middle;\n",
              "    }\n",
              "\n",
              "    .dataframe tbody tr th {\n",
              "        vertical-align: top;\n",
              "    }\n",
              "\n",
              "    .dataframe thead th {\n",
              "        text-align: right;\n",
              "    }\n",
              "</style>\n",
              "<table border=\"1\" class=\"dataframe\">\n",
              "  <thead>\n",
              "    <tr style=\"text-align: right;\">\n",
              "      <th></th>\n",
              "      <th>Type</th>\n",
              "      <th>Total weight (kg)</th>\n",
              "      <th>Average weight (kg)</th>\n",
              "      <th>Number of samples</th>\n",
              "    </tr>\n",
              "  </thead>\n",
              "  <tbody>\n",
              "    <tr>\n",
              "      <th>0</th>\n",
              "      <td>Basalt</td>\n",
              "      <td>17.42340</td>\n",
              "      <td>1.244529</td>\n",
              "      <td>351</td>\n",
              "    </tr>\n",
              "    <tr>\n",
              "      <th>1</th>\n",
              "      <td>Breccia</td>\n",
              "      <td>10.11850</td>\n",
              "      <td>1.264813</td>\n",
              "      <td>959</td>\n",
              "    </tr>\n",
              "    <tr>\n",
              "      <th>2</th>\n",
              "      <td>Crustal</td>\n",
              "      <td>4.74469</td>\n",
              "      <td>0.103145</td>\n",
              "      <td>46</td>\n",
              "    </tr>\n",
              "  </tbody>\n",
              "</table>\n",
              "</div>"
            ],
            "text/plain": [
              "      Type  Total weight (kg)  Average weight (kg)  Number of samples\n",
              "0   Basalt           17.42340             1.244529                351\n",
              "1  Breccia           10.11850             1.264813                959\n",
              "2  Crustal            4.74469             0.103145                 46"
            ]
          },
          "execution_count": 266,
          "metadata": {},
          "output_type": "execute_result"
        }
      ],
      "source": [
        "# 컬럼명을 변경한다. 'ID' -> 'Number of samples'\n",
        "\n",
        "needed_samples_overview.rename(columns={'count' : 'Number of samples'}, inplace=True)\n",
        "needed_samples_overview"
      ]
    },
    {
      "cell_type": "code",
      "execution_count": 267,
      "metadata": {
        "gather": {
          "logged": 1718686527101
        },
        "jupyter": {
          "outputs_hidden": false,
          "source_hidden": false
        },
        "nteract": {
          "transient": {
            "deleting": false
          }
        }
      },
      "outputs": [
        {
          "data": {
            "text/plain": [
              "np.int64(1356)"
            ]
          },
          "execution_count": 267,
          "metadata": {},
          "output_type": "execute_result"
        }
      ],
      "source": [
        "# needed_samples_overview['Number of samples'] 의 총합을 구하고 total_rocks에 할당\n",
        "\n",
        "total_rocks = needed_samples_overview['Number of samples'].sum()\n",
        "total_rocks"
      ]
    },
    {
      "cell_type": "code",
      "execution_count": 269,
      "metadata": {
        "gather": {
          "logged": 1718686635216
        },
        "jupyter": {
          "outputs_hidden": false,
          "source_hidden": false
        },
        "nteract": {
          "transient": {
            "deleting": false
          }
        }
      },
      "outputs": [
        {
          "data": {
            "text/html": [
              "<div>\n",
              "<style scoped>\n",
              "    .dataframe tbody tr th:only-of-type {\n",
              "        vertical-align: middle;\n",
              "    }\n",
              "\n",
              "    .dataframe tbody tr th {\n",
              "        vertical-align: top;\n",
              "    }\n",
              "\n",
              "    .dataframe thead th {\n",
              "        text-align: right;\n",
              "    }\n",
              "</style>\n",
              "<table border=\"1\" class=\"dataframe\">\n",
              "  <thead>\n",
              "    <tr style=\"text-align: right;\">\n",
              "      <th></th>\n",
              "      <th>Type</th>\n",
              "      <th>Total weight (kg)</th>\n",
              "      <th>Average weight (kg)</th>\n",
              "      <th>Number of samples</th>\n",
              "      <th>Percentage of rocks</th>\n",
              "    </tr>\n",
              "  </thead>\n",
              "  <tbody>\n",
              "    <tr>\n",
              "      <th>0</th>\n",
              "      <td>Basalt</td>\n",
              "      <td>17.42340</td>\n",
              "      <td>1.244529</td>\n",
              "      <td>351</td>\n",
              "      <td>0.258850</td>\n",
              "    </tr>\n",
              "    <tr>\n",
              "      <th>1</th>\n",
              "      <td>Breccia</td>\n",
              "      <td>10.11850</td>\n",
              "      <td>1.264813</td>\n",
              "      <td>959</td>\n",
              "      <td>0.707227</td>\n",
              "    </tr>\n",
              "    <tr>\n",
              "      <th>2</th>\n",
              "      <td>Crustal</td>\n",
              "      <td>4.74469</td>\n",
              "      <td>0.103145</td>\n",
              "      <td>46</td>\n",
              "      <td>0.033923</td>\n",
              "    </tr>\n",
              "  </tbody>\n",
              "</table>\n",
              "</div>"
            ],
            "text/plain": [
              "      Type  Total weight (kg)  Average weight (kg)  Number of samples  \\\n",
              "0   Basalt           17.42340             1.244529                351   \n",
              "1  Breccia           10.11850             1.264813                959   \n",
              "2  Crustal            4.74469             0.103145                 46   \n",
              "\n",
              "   Percentage of rocks  \n",
              "0             0.258850  \n",
              "1             0.707227  \n",
              "2             0.033923  "
            ]
          },
          "execution_count": 269,
          "metadata": {},
          "output_type": "execute_result"
        }
      ],
      "source": [
        "# 각 암석유형별로 차지하는 비율을 구해서 'Percentage of rocks'라는 컬럼에 할당한다.\n",
        "needed_samples_overview['Percentage of rocks'] = needed_samples_overview['Number of samples'] / total_rocks\n",
        "needed_samples_overview"
      ]
    },
    {
      "cell_type": "code",
      "execution_count": 270,
      "metadata": {
        "gather": {
          "logged": 1718686674903
        },
        "jupyter": {
          "outputs_hidden": false,
          "source_hidden": false
        },
        "nteract": {
          "transient": {
            "deleting": false
          }
        }
      },
      "outputs": [
        {
          "data": {
            "text/html": [
              "<div>\n",
              "<style scoped>\n",
              "    .dataframe tbody tr th:only-of-type {\n",
              "        vertical-align: middle;\n",
              "    }\n",
              "\n",
              "    .dataframe tbody tr th {\n",
              "        vertical-align: top;\n",
              "    }\n",
              "\n",
              "    .dataframe thead th {\n",
              "        text-align: right;\n",
              "    }\n",
              "</style>\n",
              "<table border=\"1\" class=\"dataframe\">\n",
              "  <thead>\n",
              "    <tr style=\"text-align: right;\">\n",
              "      <th></th>\n",
              "      <th>Mission</th>\n",
              "      <th>Total weight (kg)</th>\n",
              "      <th>Payload (kg)</th>\n",
              "      <th>Sample weight from total (kg)</th>\n",
              "      <th>Sample weight from payload (kg)</th>\n",
              "      <th>Estimated sample weight (kg)</th>\n",
              "    </tr>\n",
              "  </thead>\n",
              "  <tbody>\n",
              "    <tr>\n",
              "      <th>0</th>\n",
              "      <td>artemis1</td>\n",
              "      <td>26520</td>\n",
              "      <td>26988</td>\n",
              "      <td>75.549232</td>\n",
              "      <td>38.779584</td>\n",
              "      <td>57.164408</td>\n",
              "    </tr>\n",
              "    <tr>\n",
              "      <th>1</th>\n",
              "      <td>artemis1b</td>\n",
              "      <td>26520</td>\n",
              "      <td>37965</td>\n",
              "      <td>75.549232</td>\n",
              "      <td>54.552649</td>\n",
              "      <td>65.050940</td>\n",
              "    </tr>\n",
              "    <tr>\n",
              "      <th>2</th>\n",
              "      <td>artemis2</td>\n",
              "      <td>26520</td>\n",
              "      <td>42955</td>\n",
              "      <td>75.549232</td>\n",
              "      <td>61.722877</td>\n",
              "      <td>68.636054</td>\n",
              "    </tr>\n",
              "  </tbody>\n",
              "</table>\n",
              "</div>"
            ],
            "text/plain": [
              "     Mission  Total weight (kg)  Payload (kg)  Sample weight from total (kg)  \\\n",
              "0   artemis1              26520         26988                      75.549232   \n",
              "1  artemis1b              26520         37965                      75.549232   \n",
              "2   artemis2              26520         42955                      75.549232   \n",
              "\n",
              "   Sample weight from payload (kg)  Estimated sample weight (kg)  \n",
              "0                        38.779584                     57.164408  \n",
              "1                        54.552649                     65.050940  \n",
              "2                        61.722877                     68.636054  "
            ]
          },
          "execution_count": 270,
          "metadata": {},
          "output_type": "execute_result"
        }
      ],
      "source": [
        "artemis_mission"
      ]
    },
    {
      "cell_type": "code",
      "execution_count": 272,
      "metadata": {
        "gather": {
          "logged": 1718686817437
        },
        "jupyter": {
          "outputs_hidden": false,
          "source_hidden": false
        },
        "nteract": {
          "transient": {
            "deleting": false
          }
        }
      },
      "outputs": [
        {
          "data": {
            "text/plain": [
              "np.float64(63.61713411579792)"
            ]
          },
          "execution_count": 272,
          "metadata": {},
          "output_type": "execute_result"
        }
      ],
      "source": [
        "# artemis_mission['Estimated sample weight (kg)']의 평균을 구해서 Artemis 달탐사의 에상 암석 중량을 구한다.\n",
        "\n",
        "estimated_sample_weight_mean = artemis_mission['Estimated sample weight (kg)'].mean()\n",
        "estimated_sample_weight_mean"
      ]
    },
    {
      "cell_type": "code",
      "execution_count": 274,
      "metadata": {
        "gather": {
          "logged": 1718686970547
        },
        "jupyter": {
          "outputs_hidden": false,
          "source_hidden": false
        },
        "nteract": {
          "transient": {
            "deleting": false
          }
        }
      },
      "outputs": [
        {
          "data": {
            "text/html": [
              "<div>\n",
              "<style scoped>\n",
              "    .dataframe tbody tr th:only-of-type {\n",
              "        vertical-align: middle;\n",
              "    }\n",
              "\n",
              "    .dataframe tbody tr th {\n",
              "        vertical-align: top;\n",
              "    }\n",
              "\n",
              "    .dataframe thead th {\n",
              "        text-align: right;\n",
              "    }\n",
              "</style>\n",
              "<table border=\"1\" class=\"dataframe\">\n",
              "  <thead>\n",
              "    <tr style=\"text-align: right;\">\n",
              "      <th></th>\n",
              "      <th>Type</th>\n",
              "      <th>Total weight (kg)</th>\n",
              "      <th>Average weight (kg)</th>\n",
              "      <th>Number of samples</th>\n",
              "      <th>Percentage of rocks</th>\n",
              "      <th>Weight to collect</th>\n",
              "    </tr>\n",
              "  </thead>\n",
              "  <tbody>\n",
              "    <tr>\n",
              "      <th>0</th>\n",
              "      <td>Basalt</td>\n",
              "      <td>17.42340</td>\n",
              "      <td>1.244529</td>\n",
              "      <td>351</td>\n",
              "      <td>0.258850</td>\n",
              "      <td>16.467267</td>\n",
              "    </tr>\n",
              "    <tr>\n",
              "      <th>1</th>\n",
              "      <td>Breccia</td>\n",
              "      <td>10.11850</td>\n",
              "      <td>1.264813</td>\n",
              "      <td>959</td>\n",
              "      <td>0.707227</td>\n",
              "      <td>44.991764</td>\n",
              "    </tr>\n",
              "    <tr>\n",
              "      <th>2</th>\n",
              "      <td>Crustal</td>\n",
              "      <td>4.74469</td>\n",
              "      <td>0.103145</td>\n",
              "      <td>46</td>\n",
              "      <td>0.033923</td>\n",
              "      <td>2.158103</td>\n",
              "    </tr>\n",
              "  </tbody>\n",
              "</table>\n",
              "</div>"
            ],
            "text/plain": [
              "      Type  Total weight (kg)  Average weight (kg)  Number of samples  \\\n",
              "0   Basalt           17.42340             1.244529                351   \n",
              "1  Breccia           10.11850             1.264813                959   \n",
              "2  Crustal            4.74469             0.103145                 46   \n",
              "\n",
              "   Percentage of rocks  Weight to collect  \n",
              "0             0.258850          16.467267  \n",
              "1             0.707227          44.991764  \n",
              "2             0.033923           2.158103  "
            ]
          },
          "execution_count": 274,
          "metadata": {},
          "output_type": "execute_result"
        }
      ],
      "source": [
        "# needed_samples_overview['Weight to collect'] 컬럼을 만든다.\n",
        "\n",
        "needed_samples_overview['Weight to collect'] = needed_samples_overview['Percentage of rocks'] * estimated_sample_weight_mean\n",
        "needed_samples_overview"
      ]
    },
    {
      "cell_type": "code",
      "execution_count": 275,
      "metadata": {
        "gather": {
          "logged": 1718687100407
        },
        "jupyter": {
          "outputs_hidden": false,
          "source_hidden": false
        },
        "nteract": {
          "transient": {
            "deleting": false
          }
        }
      },
      "outputs": [
        {
          "data": {
            "text/html": [
              "<div>\n",
              "<style scoped>\n",
              "    .dataframe tbody tr th:only-of-type {\n",
              "        vertical-align: middle;\n",
              "    }\n",
              "\n",
              "    .dataframe tbody tr th {\n",
              "        vertical-align: top;\n",
              "    }\n",
              "\n",
              "    .dataframe thead th {\n",
              "        text-align: right;\n",
              "    }\n",
              "</style>\n",
              "<table border=\"1\" class=\"dataframe\">\n",
              "  <thead>\n",
              "    <tr style=\"text-align: right;\">\n",
              "      <th></th>\n",
              "      <th>Type</th>\n",
              "      <th>Total weight (kg)</th>\n",
              "      <th>Average weight (kg)</th>\n",
              "      <th>Number of samples</th>\n",
              "      <th>Percentage of rocks</th>\n",
              "      <th>Weight to collect</th>\n",
              "      <th>Rocks to collect</th>\n",
              "    </tr>\n",
              "  </thead>\n",
              "  <tbody>\n",
              "    <tr>\n",
              "      <th>0</th>\n",
              "      <td>Basalt</td>\n",
              "      <td>17.42340</td>\n",
              "      <td>1.244529</td>\n",
              "      <td>351</td>\n",
              "      <td>0.258850</td>\n",
              "      <td>16.467267</td>\n",
              "      <td>13.231731</td>\n",
              "    </tr>\n",
              "    <tr>\n",
              "      <th>1</th>\n",
              "      <td>Breccia</td>\n",
              "      <td>10.11850</td>\n",
              "      <td>1.264813</td>\n",
              "      <td>959</td>\n",
              "      <td>0.707227</td>\n",
              "      <td>44.991764</td>\n",
              "      <td>35.571884</td>\n",
              "    </tr>\n",
              "    <tr>\n",
              "      <th>2</th>\n",
              "      <td>Crustal</td>\n",
              "      <td>4.74469</td>\n",
              "      <td>0.103145</td>\n",
              "      <td>46</td>\n",
              "      <td>0.033923</td>\n",
              "      <td>2.158103</td>\n",
              "      <td>20.922917</td>\n",
              "    </tr>\n",
              "  </tbody>\n",
              "</table>\n",
              "</div>"
            ],
            "text/plain": [
              "      Type  Total weight (kg)  Average weight (kg)  Number of samples  \\\n",
              "0   Basalt           17.42340             1.244529                351   \n",
              "1  Breccia           10.11850             1.264813                959   \n",
              "2  Crustal            4.74469             0.103145                 46   \n",
              "\n",
              "   Percentage of rocks  Weight to collect  Rocks to collect  \n",
              "0             0.258850          16.467267         13.231731  \n",
              "1             0.707227          44.991764         35.571884  \n",
              "2             0.033923           2.158103         20.922917  "
            ]
          },
          "execution_count": 275,
          "metadata": {},
          "output_type": "execute_result"
        }
      ],
      "source": [
        "# 수집할 각각의 암석 개수를 알려준다.\n",
        "\n",
        "needed_samples_overview['Rocks to collect'] = needed_samples_overview['Weight to collect'] / needed_samples_overview['Average weight (kg)']\n",
        "needed_samples_overview"
      ]
    },
    {
      "cell_type": "code",
      "execution_count": 280,
      "metadata": {},
      "outputs": [
        {
          "name": "stdout",
          "output_type": "stream",
          "text": [
            "==================================================\n",
            "Basalt -> 13.2317 samples, 16.4673 kg\n",
            "Breccia -> 35.5719 samples, 44.9918 kg\n",
            "Crustal -> 20.9229 samples, 2.1581 kg\n"
          ]
        }
      ],
      "source": [
        "print('='*50)\n",
        "print('Mission Overview')\n",
        "print('='*50)\n",
        "\n",
        "for type_, count, weight in needed_samples_overview[['Type', 'Rocks to collect', 'Weight to collect']].values:\n",
        "    print(f'{type_} -> {count:.4f} samples, {weight:.4f} kg')\n",
        "    "
      ]
    },
    {
      "cell_type": "code",
      "execution_count": null,
      "metadata": {},
      "outputs": [],
      "source": []
    }
  ],
  "metadata": {
    "kernel_info": {
      "name": "python3"
    },
    "kernelspec": {
      "display_name": "Python 3",
      "language": "python",
      "name": "python3"
    },
    "language_info": {
      "codemirror_mode": {
        "name": "ipython",
        "version": 3
      },
      "file_extension": ".py",
      "mimetype": "text/x-python",
      "name": "python",
      "nbconvert_exporter": "python",
      "pygments_lexer": "ipython3",
      "version": "3.12.7"
    },
    "microsoft": {
      "host": {
        "AzureML": {
          "notebookHasBeenCompleted": true
        }
      }
    },
    "nteract": {
      "version": "nteract-front-end@1.0.0"
    }
  },
  "nbformat": 4,
  "nbformat_minor": 2
}

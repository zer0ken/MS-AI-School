{
 "cells": [
  {
   "cell_type": "markdown",
   "metadata": {},
   "source": [
    "# 🍎 과일 값 계산"
   ]
  },
  {
   "cell_type": "markdown",
   "metadata": {},
   "source": [
    "### 💠 역전파 노드"
   ]
  },
  {
   "cell_type": "code",
   "execution_count": 1,
   "metadata": {},
   "outputs": [],
   "source": [
    "class MulLayer:\n",
    "    def __init__(self):\n",
    "        self.x = None\n",
    "        self.y = None\n",
    "    \n",
    "    def forward(self, x, y):\n",
    "        self.x = x\n",
    "        self.y = y\n",
    "        return x * y\n",
    "    \n",
    "    def backward(self, dout):\n",
    "        \"\"\"\n",
    "        out = x * y, dout = out의 기울기\n",
    "        \n",
    "        dx를 구하기 위해\n",
    "            1. out을 x에 대해 편미분 -> y\n",
    "            2. 1.의 값에 dout을 곱함 -> dout * y\n",
    "        \n",
    "        dy도 대칭적으로 같은 방법을 사용\n",
    "        \"\"\"\n",
    "        dx = dout * self.y\n",
    "        dy = dout * self.x\n",
    "        return dx, dy"
   ]
  },
  {
   "cell_type": "code",
   "execution_count": 2,
   "metadata": {},
   "outputs": [],
   "source": [
    "class AddLayer:\n",
    "    def __init__(self):\n",
    "        self.x = None\n",
    "        self.y = None\n",
    "    \n",
    "    def forward(self, x, y):\n",
    "        self.x = x\n",
    "        self.y = y\n",
    "        return x + y\n",
    "    \n",
    "    def backward(self, dout):\n",
    "        \"\"\"\n",
    "        out = x + y, dout = out의 기울기\n",
    "        \n",
    "        dx를 구하기 위해\n",
    "            1. out을 x에 대해 편미분 -> 1\n",
    "            2. 1.의 값에 dout을 곱함 -> dout * 1\n",
    "        \n",
    "        dy도 대칭적으로 같은 방법을 사용\n",
    "        \"\"\"\n",
    "        dx = dout * 1\n",
    "        dy = dout * 1\n",
    "        return dx, dy"
   ]
  },
  {
   "cell_type": "markdown",
   "metadata": {},
   "source": [
    "### 🍎 사과 값 계산\n",
    "\n",
    "영수증에 찍힌 총 지출과 세율을 알 때, 사과 하나의 가격을 추측해봅시다."
   ]
  },
  {
   "cell_type": "code",
   "execution_count": 127,
   "metadata": {},
   "outputs": [
    {
     "name": "stdout",
     "output_type": "stream",
     "text": [
      "추측한 총 지출액\t: 220.00\n",
      "실제 총 지출액\t\t: 221.00\n",
      "\n",
      "=== 역전파 ===\n",
      "error=1.00\n",
      "=> d_apples=1.10\n",
      "   d_tax=200.00\n",
      "   => d_apple=2.20\n",
      "      d_count=110.00\n",
      "\n",
      "조정한 총 지출액\t: 220.48\n"
     ]
    }
   ],
   "source": [
    "\"\"\"\n",
    "총 지출액 = apple * apple_count * tax\n",
    "                  ^             ^\n",
    "                  layer1        layer2\n",
    "\"\"\"\n",
    "total = 221 # 총 지출액\n",
    "\n",
    "apple = 100\n",
    "count = 2\n",
    "tax = 1.1\n",
    "# ^ 우선 이정도겠지~ 하고 적당히 설정\n",
    "\n",
    "layer1 = MulLayer()\n",
    "layer2 = MulLayer()\n",
    "\n",
    "# 순전파\n",
    "apples = layer1.forward(apple, count)\n",
    "pred = layer2.forward(apples, tax)\n",
    "print(f'추측한 총 지출액\\t: {pred:.2f}')\n",
    "print(f'실제 총 지출액\\t\\t: {total:.2f}')\n",
    "\n",
    "\n",
    "# 역전파\n",
    "error = total - pred\n",
    "d_apples, d_tax = layer2.backward(error)\n",
    "d_apple, d_count = layer1.backward(d_apples)\n",
    "print(\n",
    "    f'\\n=== 역전파 ===\\n'\n",
    "    f'{error=:.2f}\\n'\n",
    "    f'=> {d_apples=:.2f}\\n'\n",
    "    f'   {d_tax=:.2f}\\n'\n",
    "    f'   => {d_apple=:.2f}\\n'\n",
    "    f'      {d_count=:.2f}\\n'\n",
    ")\n",
    "\n",
    "# 0.1배 하여 사과의 가격에 반영\n",
    "apple = apple + d_apple * 0.1\n",
    "apples = layer1.forward(apple, count)\n",
    "pred = layer2.forward(apples, tax)\n",
    "print(f'조정한 총 지출액\\t: {pred:.2f}')"
   ]
  },
  {
   "cell_type": "markdown",
   "metadata": {},
   "source": [
    "### 🍊 그럼... 오렌지도 같이?\n",
    "~~탕~탕~ 후루! 후루!~~"
   ]
  },
  {
   "cell_type": "code",
   "execution_count": 128,
   "metadata": {},
   "outputs": [
    {
     "name": "stdout",
     "output_type": "stream",
     "text": [
      "추측한 총 지출액\t: 715.00\n",
      "실제 총 지출액\t\t: 716.00\n",
      "\n",
      "# 역전파\n",
      "\t\terror=1.00\n",
      "d_tax=650.00\td_apples_and_oranges=1.10\n",
      "\t\td_apples=1.10\t\td_oranges=1.10\n",
      "d_apple=2.20\td_apple_count=110.00\td_orange=3.30\td_orange_count=165.00\n",
      "\n",
      "조정한 총 지출액\t: 716.57\n"
     ]
    }
   ],
   "source": [
    "\"\"\"\n",
    "apples = apple * apple_count\n",
    "               ^\n",
    "               layer1\n",
    "\n",
    "oranges = orange * orange_count\n",
    "                 ^\n",
    "                 layer2\n",
    "\n",
    "총 지출액 = (apples + oranges) * tax\n",
    "                    ^          ^\n",
    "                    layer3     layer4\n",
    "\"\"\"\n",
    "total = 716\n",
    "apple = 100\n",
    "apple_count = 2\n",
    "orange = 150\n",
    "orange_count = 3\n",
    "tax = 1.1\n",
    "# ^ 우선 이정도겠지~ 하고 적당히 설정\n",
    "\n",
    "layer1 = MulLayer()\n",
    "layer2 = MulLayer()\n",
    "layer3 = AddLayer()\n",
    "layer4 = MulLayer()\n",
    "\n",
    "# 순전파\n",
    "apples = layer1.forward(apple, apple_count)\n",
    "oranges = layer2.forward(orange, orange_count)\n",
    "apples_and_oranges = layer3.forward(apples, oranges)\n",
    "pred = layer4.forward(apples_and_oranges, tax)\n",
    "print(f'추측한 총 지출액\\t: {pred:.2f}')\n",
    "print(f'실제 총 지출액\\t\\t: {total:.2f}')\n",
    "\n",
    "\n",
    "# 역전파\n",
    "error = total - pred\n",
    "d_apples_and_oranges, d_tax = layer4.backward(error)\n",
    "d_apples, d_oranges = layer3.backward(d_apples_and_oranges)\n",
    "d_orange, d_orange_count = layer2.backward(d_oranges)\n",
    "d_apple, d_apple_count = layer1.backward(d_apples)\n",
    "\n",
    "print(\n",
    "    f'\\n# 역전파\\n'\n",
    "    f'\\t\\t{error=:.2f}\\n'\n",
    "    f'{d_tax=:.2f}\\t{d_apples_and_oranges=:.2f}\\n'\n",
    "    f'\\t\\t{d_apples=:.2f}\\t\\t{d_oranges=:.2f}\\n'\n",
    "    f'{d_apple=:.2f}\\t{d_apple_count=:.2f}\\t{d_orange=:.2f}\\t{d_orange_count=:.2f}\\n'\n",
    ")\n",
    "\n",
    "# 0.1배 하여 과일 가격에 반영\n",
    "apple = apple + d_apple * 0.1\n",
    "orange = orange + d_orange * 0.1\n",
    "\n",
    "apples = layer1.forward(apple, apple_count)\n",
    "oranges = layer2.forward(orange, orange_count)\n",
    "apples_and_oranges = layer3.forward(apples, oranges)\n",
    "pred = layer4.forward(apples_and_oranges, tax)\n",
    "print(f'조정한 총 지출액\\t: {pred:.2f}')"
   ]
  }
 ],
 "metadata": {
  "kernelspec": {
   "display_name": ".venv",
   "language": "python",
   "name": "python3"
  },
  "language_info": {
   "codemirror_mode": {
    "name": "ipython",
    "version": 3
   },
   "file_extension": ".py",
   "mimetype": "text/x-python",
   "name": "python",
   "nbconvert_exporter": "python",
   "pygments_lexer": "ipython3",
   "version": "3.12.7"
  }
 },
 "nbformat": 4,
 "nbformat_minor": 2
}

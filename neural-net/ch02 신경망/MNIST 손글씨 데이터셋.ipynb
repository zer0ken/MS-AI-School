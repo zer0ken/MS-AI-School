{
 "cells": [
  {
   "cell_type": "markdown",
   "metadata": {},
   "source": [
    "# ✍️ MNIST 손글씨 데이터셋"
   ]
  },
  {
   "cell_type": "markdown",
   "metadata": {},
   "source": [
    "### 📥 Import"
   ]
  },
  {
   "cell_type": "code",
   "execution_count": 108,
   "metadata": {},
   "outputs": [
    {
     "name": "stdout",
     "output_type": "stream",
     "text": [
      "현재 작업 디렉토리: \"g:\\zer0ken\\ms-ai-school\\neural-net\\ch02 신경망\"\n"
     ]
    }
   ],
   "source": [
    "import numpy as np\n",
    "import pickle\n",
    "import sys\n",
    "import os\n",
    "\n",
    "from PIL import Image\n",
    "import matplotlib.pyplot as plt\n",
    "\n",
    "# Thanks to **dhaitz**!\n",
    "plt.style.use('https://github.com/dhaitz/matplotlib-stylesheets/raw/master/pitayasmoothie-dark.mplstyle')\n",
    "\n",
    "# 한글폰트 설정\n",
    "import matplotlib as mpl\n",
    "mpl.rc('font', family='D2Coding')\n",
    "mpl.rcParams['axes.unicode_minus'] = False\n",
    "\n",
    "current_dir = os.getcwd()\n",
    "parent_dir = os.path.dirname(current_dir)\n",
    "sys.path.append(parent_dir)\n",
    "print(f'현재 작업 디렉토리: \"{os.getcwd()}\"')\n",
    "\n",
    "from common.functions import *\n",
    "from dataset.mnist import load_mnist"
   ]
  },
  {
   "cell_type": "markdown",
   "metadata": {},
   "source": [
    "### 🪧 공통 함수\n",
    "- `get_data()`\n",
    "  - 데이터셋에서 데이터를 불러옵니다.\n",
    "- `init_network()`\n",
    "  - 가중치 정보를 불러옵니다.\n",
    "- `predict(network, x)`\n",
    "  - `x`에 가중치, 활성함수 등을 순서대로 적용해서 계산한 y를 반환합니다."
   ]
  },
  {
   "cell_type": "code",
   "execution_count": 113,
   "metadata": {},
   "outputs": [],
   "source": [
    "def show_img(img, label=None):\n",
    "    plt.imshow(img, cmap='gray')\n",
    "    plt.axis('off')\n",
    "    plt.title(label=label)\n",
    "    plt.show()"
   ]
  },
  {
   "cell_type": "code",
   "execution_count": 112,
   "metadata": {},
   "outputs": [],
   "source": [
    "def init_network():\n",
    "    # 현재 디렉토리에서부터 가중치 파일까지의 상대 경로를 정확히 입력해야 합니다.\n",
    "    weight_file = 'data/sample_weight.pkl'\n",
    "    \n",
    "    with open(weight_file, 'rb') as f:\n",
    "        network = pickle.load(f)\n",
    "        \n",
    "    return network"
   ]
  },
  {
   "cell_type": "code",
   "execution_count": 91,
   "metadata": {},
   "outputs": [],
   "source": [
    "def predict(network, x):\n",
    "    W1, W2, W3 = network['W1'], network['W2'], network['W3']\n",
    "    b1, b2, b3 = network['b1'], network['b2'], network['b3']\n",
    "\n",
    "    a1 = np.dot(x, W1) + b1\n",
    "    z1 = sigmoid(a1)\n",
    "    a2 = np.dot(z1, W2) + b2\n",
    "    z2 = sigmoid(a2)\n",
    "    a3 = np.dot(z2, W3) + b3\n",
    "    y = softmax(a3)\n",
    "    \n",
    "    return y"
   ]
  },
  {
   "cell_type": "markdown",
   "metadata": {},
   "source": [
    "### ❓예측해보기"
   ]
  },
  {
   "cell_type": "code",
   "execution_count": 144,
   "metadata": {},
   "outputs": [
    {
     "name": "stdout",
     "output_type": "stream",
     "text": [
      "#0: 예측 = 7, 실제 = 7\n",
      "#1: 예측 = 2, 실제 = 2\n",
      "#2: 예측 = 1, 실제 = 1\n",
      "#3: 예측 = 0, 실제 = 0\n",
      "#4: 예측 = 4, 실제 = 4\n",
      "...\n",
      "정확도: 0.9352, 실행 시간: 0.1510초\n"
     ]
    }
   ],
   "source": [
    "import time\n",
    "\n",
    "(_, _), (x, t) = load_mnist(normalize=True, flatten=True, one_hot_label=False)\n",
    "network = init_network()\n",
    "accurate = 0\n",
    "inaccurate = []\n",
    "\n",
    "start = time.time()\n",
    "for i in range(len(x)):\n",
    "    y = predict(network, x[i])\n",
    "    pred = np.argmax(y)\n",
    "    \n",
    "    if pred == t[i]:\n",
    "        accurate += 1\n",
    "    else:\n",
    "        inaccurate.append((i, pred))\n",
    "    \n",
    "    if i < 5:\n",
    "        print(f'#{i}: 예측 = {pred}, 실제 = {t[i]}')\n",
    "time_diff = time.time() - start\n",
    "\n",
    "print(f'...\\n정확도: {accurate / len(x):.4f}, 실행 시간: {time_diff:.4f}초')"
   ]
  },
  {
   "cell_type": "markdown",
   "metadata": {},
   "source": [
    "### 📚 배치 단위로 예측해보기"
   ]
  },
  {
   "cell_type": "code",
   "execution_count": null,
   "metadata": {},
   "outputs": [
    {
     "name": "stdout",
     "output_type": "stream",
     "text": [
      "Batch 0: 96 / 100 accurate\n",
      "Batch 1: 98 / 100 accurate\n",
      "Batch 2: 93 / 100 accurate\n",
      "Batch 3: 90 / 100 accurate\n",
      "Batch 4: 94 / 100 accurate\n",
      "...\n",
      "정확도: 0.9352, 실행 시간: 0.0174초\n"
     ]
    }
   ],
   "source": [
    "import time\n",
    "\n",
    "(_, _), (x, t) = load_mnist(normalize=True, flatten=True, one_hot_label=False)\n",
    "network = init_network()\n",
    "accurate = 0\n",
    "inaccurate = []\n",
    "batch_size = 100\n",
    "\n",
    "start = time.time()\n",
    "for batch, i in enumerate(range(0, len(x), batch_size)):\n",
    "    y = predict(network, x[i:i+batch_size])\n",
    "    pred = np.argmax(y, axis=1)\n",
    "    batch_accurate = np.sum(pred == t[i:i+batch_size])\n",
    "    \n",
    "    accurate += batch_accurate\n",
    "    inaccurate.extend(\n",
    "        list(zip(\n",
    "            map(int, np.arange(i, i + batch_size)[pred != t[i:i+batch_size]]),\n",
    "            map(int, pred[pred != t[i:i+batch_size]])\n",
    "        ))\n",
    "    )\n",
    "    \n",
    "    if batch < 5:\n",
    "        print(f'Batch {batch}: {batch_accurate} / {batch_size} accurate')\n",
    "\n",
    "time_diff = time.time() - start\n",
    "\n",
    "print(f'...\\n정확도: {accurate / len(x):.4f}, 실행 시간: {time_diff:.4f}초')"
   ]
  },
  {
   "cell_type": "markdown",
   "metadata": {},
   "source": [
    "### 잘못 예측된 데이터"
   ]
  },
  {
   "cell_type": "code",
   "execution_count": 147,
   "metadata": {},
   "outputs": [
    {
     "name": "stdout",
     "output_type": "stream",
     "text": [
      "\u001b[1;31mType:\u001b[0m        list\n",
      "\u001b[1;31mString form:\u001b[0m [(8, 6), (33, 6), (66, 2), (92, 4), (124, 4), (149, 9), (217, 5), (233, 7), (241, 8), (245, 5), ( <...> 9905, 9), (9925, 2), (9940, 0), (9941, 6), (9943, 5), (9944, 9), (9970, 3), (9982, 2), (9986, 8)]\n",
      "\u001b[1;31mLength:\u001b[0m      648\n",
      "\u001b[1;31mDocstring:\u001b[0m  \n",
      "Built-in mutable sequence.\n",
      "\n",
      "If no argument is given, the constructor creates a new empty list.\n",
      "The argument must be an iterable if specified."
     ]
    }
   ],
   "source": [
    "# 잘못 예측된 데이터의 인덱스와 예측 결과를 튜플로 묶어 저장한 리스트\n",
    "inaccurate?"
   ]
  },
  {
   "cell_type": "code",
   "execution_count": 148,
   "metadata": {},
   "outputs": [
    {
     "data": {
      "image/png": "[encoded data removed]",
      "text/plain": [
       "<Figure size 640x480 with 1 Axes>"
      ]
     },
     "metadata": {},
     "output_type": "display_data"
    },
    {
     "data": {
      "image/png": "[encoded data removed]",
      "text/plain": [
       "<Figure size 640x480 with 1 Axes>"
      ]
     },
     "metadata": {},
     "output_type": "display_data"
    },
    {
     "data": {
      "image/png": "[encoded data removed]",
      "text/plain": [
       "<Figure size 640x480 with 1 Axes>"
      ]
     },
     "metadata": {},
     "output_type": "display_data"
    }
   ],
   "source": [
    "(_, _), (x, t) = load_mnist(flatten=False)\n",
    "for i, pred in inaccurate[:3]:\n",
    "    show_img(x[i], f'#{i} - 예측: {pred} / 실제: {t[i]}')"
   ]
  }
 ],
 "metadata": {
  "kernelspec": {
   "display_name": ".venv",
   "language": "python",
   "name": "python3"
  },
  "language_info": {
   "codemirror_mode": {
    "name": "ipython",
    "version": 3
   },
   "file_extension": ".py",
   "mimetype": "text/x-python",
   "name": "python",
   "nbconvert_exporter": "python",
   "pygments_lexer": "ipython3",
   "version": "3.12.7"
  }
 },
 "nbformat": 4,
 "nbformat_minor": 2
}

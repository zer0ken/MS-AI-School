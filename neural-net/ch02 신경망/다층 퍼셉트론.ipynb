{
 "cells": [
  {
   "cell_type": "markdown",
   "metadata": {},
   "source": [
    "# 🗍 다층 퍼셉트론\n",
    "MLP; Multi-Layer Perceptron."
   ]
  },
  {
   "cell_type": "markdown",
   "metadata": {},
   "source": [
    "### 📥 Import"
   ]
  },
  {
   "cell_type": "code",
   "execution_count": 1,
   "metadata": {},
   "outputs": [
    {
     "name": "stdout",
     "output_type": "stream",
     "text": [
      "현재 작업 디렉토리: \"g:\\zer0ken\\ms-ai-school\\neural-net\\ch02 신경망\"\n"
     ]
    }
   ],
   "source": [
    "import numpy as np\n",
    "import sys\n",
    "import os\n",
    "\n",
    "current_dir = os.getcwd()\n",
    "parent_dir = os.path.dirname(current_dir)\n",
    "sys.path.append(parent_dir)\n",
    "print(f'현재 작업 디렉토리: \"{os.getcwd()}\"')\n",
    "\n",
    "from common.functions import *\n",
    "from dataset.mnist import load_mnist"
   ]
  },
  {
   "cell_type": "markdown",
   "metadata": {},
   "source": [
    "### 📝 입력층 → 1층"
   ]
  },
  {
   "cell_type": "code",
   "execution_count": 3,
   "metadata": {},
   "outputs": [
    {
     "name": "stdout",
     "output_type": "stream",
     "text": [
      "X = [1.  0.5]\n",
      "W1 = [[0.1 0.3 0.5]\n",
      " [0.2 0.4 0.6]]\n",
      "B1 = [0.1 0.2 0.3]\n",
      "A1 = X * W1 + B1 \n",
      "   = [0.3 0.7 1.1]\n"
     ]
    }
   ],
   "source": [
    "X = np.array([1.0, 0.5])\n",
    "W1 = np.array([[0.1, 0.3, 0.5], [0.2, 0.4, 0.6]])\n",
    "B1 = np.array([0.1, 0.2, 0.3])\n",
    "\n",
    "print(f'X = {X}')\n",
    "print(f'W1 = {W1}')\n",
    "print(f'B1 = {B1}')\n",
    "\n",
    "A1 = np.dot(X, W1) + B1\n",
    "print(f'A1 = X * W1 + B1 \\n   = {A1}')"
   ]
  },
  {
   "cell_type": "code",
   "execution_count": 4,
   "metadata": {},
   "outputs": [
    {
     "name": "stdout",
     "output_type": "stream",
     "text": [
      "Z1 = sig(A1)\n",
      "   = sig([0.3 0.7 1.1])\n",
      "   = [0.57444252 0.66818777 0.75026011]\n"
     ]
    }
   ],
   "source": [
    "Z1 = sigmoid(A1)\n",
    "print(f'Z1 = sig(A1)\\n   = sig({A1})\\n   = {Z1}')"
   ]
  },
  {
   "cell_type": "markdown",
   "metadata": {},
   "source": [
    "### 1️⃣ 1층 → 2층"
   ]
  },
  {
   "cell_type": "code",
   "execution_count": 5,
   "metadata": {},
   "outputs": [
    {
     "name": "stdout",
     "output_type": "stream",
     "text": [
      "Z1 = [0.57444252 0.66818777 0.75026011]\n",
      "W2 = [[0.1 0.4]\n",
      " [0.2 0.5]\n",
      " [0.3 0.6]]\n",
      "B2 = [0.1 0.2]\n",
      "A2 = Z1 * W2 + B2 \n",
      "   = [0.51615984 1.21402696]\n"
     ]
    }
   ],
   "source": [
    "W2 = np.array([[0.1, 0.4], [0.2, 0.5], [0.3, 0.6]])\n",
    "B2 = np.array([0.1, 0.2])\n",
    "\n",
    "print(f'Z1 = {Z1}')\n",
    "print(f'W2 = {W2}')\n",
    "print(f'B2 = {B2}')\n",
    "\n",
    "A2 = np.dot(Z1, W2) + B2\n",
    "print(f'A2 = Z1 * W2 + B2 \\n   = {A2}')"
   ]
  },
  {
   "cell_type": "code",
   "execution_count": 6,
   "metadata": {},
   "outputs": [
    {
     "name": "stdout",
     "output_type": "stream",
     "text": [
      "Z2 = sig(A2)\n",
      "   = sig([0.51615984 1.21402696])\n",
      "   = [0.62624937 0.7710107 ]\n"
     ]
    }
   ],
   "source": [
    "Z2 = sigmoid(A2)\n",
    "print(f'Z2 = sig(A2)\\n   = sig({A2})\\n   = {Z2}')"
   ]
  },
  {
   "cell_type": "markdown",
   "metadata": {},
   "source": [
    "### 2️⃣ 2층 → 3층"
   ]
  },
  {
   "cell_type": "code",
   "execution_count": 7,
   "metadata": {},
   "outputs": [
    {
     "name": "stdout",
     "output_type": "stream",
     "text": [
      "Z2 = [0.62624937 0.7710107 ]\n",
      "W3 = [[0.2 0.5]\n",
      " [0.3 0.6]]\n",
      "B3 = [0.1 0.2]\n",
      "A3 = Z2 * W3 + B3 \n",
      "   = [0.45655308 0.9757311 ]\n"
     ]
    }
   ],
   "source": [
    "W3 = np.array([[0.2, 0.5], [0.3, 0.6]])\n",
    "B3 = np.array([0.1, 0.2])\n",
    "\n",
    "print(f'Z2 = {Z2}')\n",
    "print(f'W3 = {W3}')\n",
    "print(f'B3 = {B3}')\n",
    "\n",
    "A3 = np.dot(Z2, W3) + B3\n",
    "print(f'A3 = Z2 * W3 + B3 \\n   = {A3}')"
   ]
  },
  {
   "cell_type": "markdown",
   "metadata": {},
   "source": [
    "### 🖨️ 3층 → 출력층"
   ]
  },
  {
   "cell_type": "code",
   "execution_count": 9,
   "metadata": {},
   "outputs": [
    {
     "name": "stdout",
     "output_type": "stream",
     "text": [
      "Y = softmax(A3)\n",
      "   = softmax([0.45655308 0.9757311 ])\n",
      "   = [0.37304446 0.62695554]\n"
     ]
    }
   ],
   "source": [
    "Y = softmax(A3)\n",
    "print(f'Y = softmax(A3)\\n   = softmax({A3})\\n   = {Y}')"
   ]
  }
 ],
 "metadata": {
  "kernelspec": {
   "display_name": ".venv",
   "language": "python",
   "name": "python3"
  },
  "language_info": {
   "codemirror_mode": {
    "name": "ipython",
    "version": 3
   },
   "file_extension": ".py",
   "mimetype": "text/x-python",
   "name": "python",
   "nbconvert_exporter": "python",
   "pygments_lexer": "ipython3",
   "version": "3.12.7"
  }
 },
 "nbformat": 4,
 "nbformat_minor": 2
}

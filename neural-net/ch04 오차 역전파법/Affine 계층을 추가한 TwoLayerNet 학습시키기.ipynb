{
 "cells": [
  {
   "cell_type": "markdown",
   "metadata": {},
   "source": [
    "# ✌️ Affine 계층을 추가한 TwoLayerNet 학습시키기"
   ]
  },
  {
   "cell_type": "markdown",
   "metadata": {},
   "source": [
    "### 📥 Import"
   ]
  },
  {
   "cell_type": "code",
   "execution_count": 2,
   "metadata": {},
   "outputs": [
    {
     "name": "stdout",
     "output_type": "stream",
     "text": [
      "현재 작업 디렉토리: \"g:\\zer0ken\\ms-ai-school\\neural-net\\ch04 오차 역전파법\"\n"
     ]
    }
   ],
   "source": [
    "import os\n",
    "import sys\n",
    "import numpy as np\n",
    "import matplotlib.pyplot as plt\n",
    "\n",
    "# Thanks to **dhaitz**!\n",
    "plt.style.use('https://github.com/dhaitz/matplotlib-stylesheets/raw/master/pitayasmoothie-dark.mplstyle')\n",
    "\n",
    "# 한글폰트 설정\n",
    "import matplotlib as mpl\n",
    "mpl.rc('font', family='D2Coding')\n",
    "mpl.rcParams['axes.unicode_minus'] = False\n",
    "\n",
    "current_dir = os.getcwd()\n",
    "parent_dir = os.path.dirname(current_dir)\n",
    "sys.path.append(parent_dir)\n",
    "print(f'현재 작업 디렉토리: \"{os.getcwd()}\"')\n",
    "\n",
    "from common.functions import *\n",
    "from common.gradient import numerical_gradient\n",
    "from common.layers import *\n",
    "from dataset.mnist import load_mnist"
   ]
  },
  {
   "cell_type": "markdown",
   "metadata": {},
   "source": [
    "### 🧵 신경망"
   ]
  },
  {
   "cell_type": "code",
   "execution_count": 3,
   "metadata": {},
   "outputs": [],
   "source": [
    "class TwoLayerNet:\n",
    "    def __init__(self, input_size=784, hidden_size=50, output_size=10, std=0.01):\n",
    "        self.params = {\n",
    "            'W1': std * np.random.randn(input_size, hidden_size),\n",
    "            'b1': np.zeros(hidden_size),\n",
    "            'W2': std * np.random.randn(hidden_size, output_size),\n",
    "            'b2': np.zeros(output_size),\n",
    "        }\n",
    "        \n",
    "        self.layers = {\n",
    "            'Affine 1': Affine(self.params['W1'], self.params['b1']),\n",
    "            'ReLU 1': Relu(),\n",
    "            'Affine 2': Affine(self.params['W2'], self.params['b2'])\n",
    "        }\n",
    "        self.output_layer = SoftmaxWithLoss()\n",
    "    \n",
    "    def predict(self, x):\n",
    "        for layer in self.layers.values():\n",
    "            x = layer.forward(x)\n",
    "        return x\n",
    "    \n",
    "    def loss(self, x, y_true):\n",
    "        y_pred = self.predict(x)\n",
    "        return self.output_layer.forward(y_pred, y_true)\n",
    "    \n",
    "    def accuracy(self, x, y_true):\n",
    "        y_pred = self.predict(x)\n",
    "        y_pred = np.argmax(y_pred, axis=1)\n",
    "        \n",
    "        if y_true.ndim != 1:\n",
    "            y_true = np.argmax(y_true, axis=1)\n",
    "        \n",
    "        accuracy = np.sum(y_pred == y_true) / float(x.shape[0])\n",
    "        return accuracy\n",
    "\n",
    "    def numerical_gradient(self, x, y_true):\n",
    "        loss_W = lambda W: self.loss(x, y_true)\n",
    "        \n",
    "        grads = {\n",
    "            'W1': numerical_gradient(loss_W, self.params['W1']),\n",
    "            'b1': numerical_gradient(loss_W, self.params['b1']),\n",
    "            'W2': numerical_gradient(loss_W, self.params['W2']),\n",
    "            'b2': numerical_gradient(loss_W, self.params['b2'])\n",
    "        }\n",
    "        return grads\n",
    "\n",
    "    def gradient(self, x, y_true):\n",
    "        self.loss(x, y_true)\n",
    "        \n",
    "        dout = 1\n",
    "        dout = self.output_layer.backward(dout)\n",
    "        for layer in list(self.layers.values())[::-1]:\n",
    "            dout = layer.backward(dout)\n",
    "        \n",
    "        grads = {\n",
    "            'W1': self.layers['Affine 1'].dW,\n",
    "            'b1': self.layers['Affine 1'].db,\n",
    "            'W2': self.layers['Affine 2'].dW,\n",
    "            'b2': self.layers['Affine 2'].db\n",
    "        }\n",
    "        return grads"
   ]
  },
  {
   "cell_type": "markdown",
   "metadata": {},
   "source": [
    "### ✍️ MNIST 데이터셋으로 학습"
   ]
  },
  {
   "cell_type": "code",
   "execution_count": 4,
   "metadata": {},
   "outputs": [
    {
     "name": "stdout",
     "output_type": "stream",
     "text": [
      "# 29400 | train_acc=0.999133 | test_acc= 0.981000 >>> 0.981500\r"
     ]
    },
    {
     "data": {
      "image/png": "[encoded data removed]",
      "text/plain": [
       "<Figure size 640x480 with 1 Axes>"
      ]
     },
     "metadata": {},
     "output_type": "display_data"
    }
   ],
   "source": [
    "(x_train, t_train), (x_test, t_test) = load_mnist(normalize=True, one_hot_label=True)\n",
    "\n",
    "iters_num = 30000\n",
    "train_size = x_train.shape[0]\n",
    "batch_size = 100\n",
    "learning_rate = 0.1\n",
    "hidden_size = 350\n",
    "\n",
    "network = TwoLayerNet(hidden_size=hidden_size)\n",
    "\n",
    "train_loss_list = []\n",
    "train_acc_list = []\n",
    "test_acc_list = []\n",
    "\n",
    "iter_per_epoch = max(train_size / batch_size, 1)\n",
    "last_test_acc = 0.0\n",
    "\n",
    "for i in range(iters_num):\n",
    "    batch_mask = np.random.choice(train_size, batch_size)\n",
    "    x_batch = x_train[batch_mask]\n",
    "    t_batch = t_train[batch_mask]\n",
    "    \n",
    "    grad = network.gradient(x_batch, t_batch)\n",
    "    \n",
    "    for key in ('W1', 'b1', 'W2', 'b2'):\n",
    "        network.params[key] -= learning_rate * grad[key]\n",
    "        \n",
    "    loss = network. loss(x_batch, t_batch)\n",
    "    train_loss_list.append(loss)\n",
    "    \n",
    "    if i % iter_per_epoch == 0:\n",
    "        train_acc = network.accuracy(x_train, t_train)\n",
    "        test_acc = network.accuracy(x_test, t_test)\n",
    "        train_acc_list.append(train_acc)\n",
    "        test_acc_list.append(test_acc)\n",
    "        print(f'#{i:-6d} | {train_acc=:.6f} | test_acc= {last_test_acc:.6f} >>> {test_acc:.6f}', end='\\r')\n",
    "        last_test_acc = test_acc\n",
    "\n",
    "x = np.arange(len(train_acc_list))\n",
    "plt.plot(x, train_acc_list, label='train acc', linestyle='--')\n",
    "plt.plot(x, test_acc_list, label='test acc',)\n",
    "plt.xlabel(\"epochs\")\n",
    "plt.ylabel(\"accuracy\")\n",
    "plt.ylim(0, 1.0)\n",
    "plt.legend(loc='lower right')\n",
    "plt.title('Affine 계층을 추가한 TwoLayerNet 학습 결과')\n",
    "plt.show()"
   ]
  }
 ],
 "metadata": {
  "kernelspec": {
   "display_name": ".venv",
   "language": "python",
   "name": "python3"
  },
  "language_info": {
   "codemirror_mode": {
    "name": "ipython",
    "version": 3
   },
   "file_extension": ".py",
   "mimetype": "text/x-python",
   "name": "python",
   "nbconvert_exporter": "python",
   "pygments_lexer": "ipython3",
   "version": "3.12.7"
  }
 },
 "nbformat": 4,
 "nbformat_minor": 2
}
